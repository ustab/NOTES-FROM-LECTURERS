{
  "nbformat": 4,
  "nbformat_minor": 0,
  "metadata": {
    "colab": {
      "name": "Untitled96.ipynb",
      "provenance": [],
      "authorship_tag": "ABX9TyPk7CZTWkJLk1WoCJl0q53c",
      "include_colab_link": true
    },
    "kernelspec": {
      "name": "python3",
      "display_name": "Python 3"
    },
    "language_info": {
      "name": "python"
    }
  },
  "cells": [
    {
      "cell_type": "markdown",
      "metadata": {
        "id": "view-in-github",
        "colab_type": "text"
      },
      "source": [
        "<a href=\"https://colab.research.google.com/github/ustab/NOTES-FROM-LECTURERS/blob/main/Untitled96.ipynb\" target=\"_parent\"><img src=\"https://colab.research.google.com/assets/colab-badge.svg\" alt=\"Open In Colab\"/></a>"
      ]
    },
    {
      "cell_type": "code",
      "execution_count": 6,
      "metadata": {
        "colab": {
          "base_uri": "https://localhost:8080/"
        },
        "id": "op2Pf9NrMTys",
        "outputId": "586ccca7-f179-418a-d8f4-2c0e573435a0"
      },
      "outputs": [
        {
          "output_type": "stream",
          "name": "stdout",
          "text": [
            "{(4, 'd'), (3, 'c'), (1, 'a'), (2, 'b')}\n"
          ]
        }
      ],
      "source": [
        "#ZIP FONKSIYONU\n",
        "liste1=[1,2,3,4]\n",
        "liste2=[\"a\",\"b\",\"c\",\"d\"]\n",
        "liste3=set(zip(liste1,liste2))\n",
        "print(liste3)"
      ]
    },
    {
      "cell_type": "code",
      "source": [
        "liste1=[1,2,3,4]\n",
        "liste2=[\"a\",\"b\",\"c\",\"d\"]\n",
        "liste3=set(zip(liste2,liste2))\n",
        "print(liste3)"
      ],
      "metadata": {
        "colab": {
          "base_uri": "https://localhost:8080/"
        },
        "id": "R5RkIPNIQmoF",
        "outputId": "c5275862-98ff-4c3b-8b0d-2243d2517351"
      },
      "execution_count": 7,
      "outputs": [
        {
          "output_type": "stream",
          "name": "stdout",
          "text": [
            "{('c', 'c'), ('d', 'd'), ('b', 'b'), ('a', 'a')}\n"
          ]
        }
      ]
    },
    {
      "cell_type": "code",
      "source": [
        "liste1=[1,2,3,4]\n",
        "liste2=[\"a\",\"b\",\"c\",\"d\"]\n",
        "liste3=set(zip(liste1,liste1))\n",
        "print(liste3)"
      ],
      "metadata": {
        "colab": {
          "base_uri": "https://localhost:8080/"
        },
        "id": "_Uw1M6qKPf2M",
        "outputId": "e071634e-c5da-4c95-dfc6-97f60d678f85"
      },
      "execution_count": 8,
      "outputs": [
        {
          "output_type": "stream",
          "name": "stdout",
          "text": [
            "{(3, 3), (4, 4), (1, 1), (2, 2)}\n"
          ]
        }
      ]
    },
    {
      "cell_type": "code",
      "source": [
        "liste1=[2,3,4,*_]\n",
        "liste2=[\"a\",\"b\",\"c\",\"d\"]\n",
        "liste3=set(zip(liste1,liste2))\n",
        "print(liste3)"
      ],
      "metadata": {
        "colab": {
          "base_uri": "https://localhost:8080/"
        },
        "id": "Ve2_jEcBQwub",
        "outputId": "47face07-b842-490a-b10e-3fb3a28e84fc"
      },
      "execution_count": 27,
      "outputs": [
        {
          "output_type": "stream",
          "name": "stdout",
          "text": [
            "{(2, 'a'), (3, 'b'), (4, 'c')}\n"
          ]
        }
      ]
    },
    {
      "cell_type": "code",
      "source": [
        "#zipleme olurken en az elemani olan listeye gore eslestirme yapilir. eleman bitince diger listelerle zipleme biter\n",
        "liste1=tuple(\"python\")\n",
        "liste2=[1,2,3,4]\n",
        "liste3=[\"A\",\"B\",\"C\"]\n",
        "liste4=tuple(zip(liste1,liste2,liste3))\n",
        "print(liste4)\n"
      ],
      "metadata": {
        "colab": {
          "base_uri": "https://localhost:8080/"
        },
        "id": "LLDZfX2CTOip",
        "outputId": "64e1d454-98ca-4f68-def5-55fba14b796b"
      },
      "execution_count": 31,
      "outputs": [
        {
          "output_type": "stream",
          "name": "stdout",
          "text": [
            "(('p', 1, 'A'), ('y', 2, 'B'), ('t', 3, 'C'))\n"
          ]
        }
      ]
    },
    {
      "cell_type": "code",
      "source": [
        "from functools import reduce\n",
        "liste=[2,4,6,9]\n",
        "def toplama(x,y):\n",
        "  return x + y\n",
        "def carpma(x,y):\n",
        "  return x*y\n",
        "sonuc1 = reduce(toplama, liste)\n",
        "print(sonuc1)\n",
        "sonuc2=reduce(carpma,liste)\n",
        "print(sonuc2)"
      ],
      "metadata": {
        "colab": {
          "base_uri": "https://localhost:8080/"
        },
        "id": "S6vp3B_uUnSW",
        "outputId": "9922bc4d-868b-4dd6-d4f5-5950e37a59bf"
      },
      "execution_count": 34,
      "outputs": [
        {
          "output_type": "stream",
          "name": "stdout",
          "text": [
            "21\n",
            "432\n"
          ]
        }
      ]
    },
    {
      "cell_type": "code",
      "source": [
        "from functools import reduce\n",
        "liste=[2,4,6,9]\n",
        "sonuc1 = reduce(lambda x,y:x+y, liste)\n",
        "print(sonuc1)\n",
        "sonuc2=reduce(lambda x,y:x*y,liste)\n",
        "print(sonuc2)"
      ],
      "metadata": {
        "colab": {
          "base_uri": "https://localhost:8080/"
        },
        "id": "sPVe53TnXz3N",
        "outputId": "0642789d-ee49-4ca7-d497-865460e25c1c"
      },
      "execution_count": 40,
      "outputs": [
        {
          "output_type": "stream",
          "name": "stdout",
          "text": [
            "21\n",
            "432\n"
          ]
        }
      ]
    },
    {
      "cell_type": "code",
      "source": [
        "from functools import reduce\n",
        "from math import gcd\n",
        "liste=[2,4,6,9,10]#ebob(a,b)ekok(a,b)=a*b ekok(a,b)=a*b/ebob(a,b)\n",
        "def ekok(x,y):\n",
        "  return int(x*y)/gcd(x,y)\n",
        "ekoke= reduce(ekok,liste)\n",
        "print(ekoke)\n"
      ],
      "metadata": {
        "id": "zJNb7r92ZgRm"
      },
      "execution_count": null,
      "outputs": []
    },
    {
      "cell_type": "code",
      "source": [
        "#TAS KAGIT MAKAS OYUNU\n",
        "def tasmakas(x,y):\n",
        "  kume={x,y}\n",
        "  if x==y:\n",
        "     return x\n",
        "  elif kume=={\"tas\",\"makas\"}:\n",
        "     return \"tas\"\n",
        "  elif kume=={\"tas\",\"kagit\"}:\n",
        "     return \"kagit\"\n",
        "  elif kume=={\"makas\",\"kagit\"}:\n",
        "     return \"makas\"\n",
        "liste=[\"tas\",\"kagit\",\"makas\",\"tas\",\"kagit\",\"makas\",\"tas\",\"kagit\",\"makas\",\"tas\"]\n",
        "sonuc=reduce(tasmakas, liste )\n",
        "print(sonuc)"
      ],
      "metadata": {
        "colab": {
          "base_uri": "https://localhost:8080/"
        },
        "id": "7eJ2A3vHDP_P",
        "outputId": "db5fd943-a316-4099-91de-c7142cd36453"
      },
      "execution_count": 12,
      "outputs": [
        {
          "output_type": "stream",
          "name": "stdout",
          "text": [
            "tas\n"
          ]
        }
      ]
    },
    {
      "cell_type": "code",
      "source": [
        "#SCOPE KAVRAMI\n"
      ],
      "metadata": {
        "id": "Esm622HBJRor"
      },
      "execution_count": null,
      "outputs": []
    }
  ]
}