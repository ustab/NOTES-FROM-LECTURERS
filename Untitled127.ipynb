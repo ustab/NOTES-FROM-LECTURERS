{
  "cells": [
    {
      "cell_type": "markdown",
      "metadata": {
        "id": "view-in-github",
        "colab_type": "text"
      },
      "source": [
        "<a href=\"https://colab.research.google.com/github/ustab/NOTES-FROM-LECTURERS/blob/main/Untitled127.ipynb\" target=\"_parent\"><img src=\"https://colab.research.google.com/assets/colab-badge.svg\" alt=\"Open In Colab\"/></a>"
      ]
    },
    {
      "cell_type": "code",
      "execution_count": null,
      "metadata": {
        "id": "VvD1M_kuvJw7"
      },
      "outputs": [],
      "source": [
        ""
      ]
    },
    {
      "cell_type": "markdown",
      "metadata": {
        "id": "bGbugFrlvKm-"
      },
      "source": [
        "dict(), list(), tuple(), set(), len(), frozenset(), zip()ve .filter(function, iterable)enumerate(iterable)"
      ]
    },
    {
      "cell_type": "code",
      "execution_count": null,
      "metadata": {
        "colab": {
          "base_uri": "https://localhost:8080/"
        },
        "id": "QcofXCD-xznD",
        "outputId": "27ab7a52-6f17-49be-a2d9-365f878f2bfa"
      },
      "outputs": [
        {
          "name": "stdout",
          "output_type": "stream",
          "text": [
            "0 1 1 2 3 5 8 13 21 34 55 89 \n"
          ]
        }
      ],
      "source": [
        " def fib(n):    # write Fibonacci series up to n\n",
        "...     \"\"\"Print a Fibonacci series up to n.\"\"\"\n",
        "...     a, b = 0, 1\n",
        "...     while a < n:\n",
        "...         print(a, end=' ')\n",
        "...         a, b = b, a+b\n",
        "...     print()\n",
        "fib(100)"
      ]
    },
    {
      "cell_type": "code",
      "execution_count": null,
      "metadata": {
        "colab": {
          "base_uri": "https://localhost:8080/"
        },
        "id": "9H3ZVb0z1STG",
        "outputId": "c5aade16-1892-46e6-c497-adf1f916a5f8"
      },
      "outputs": [
        {
          "name": "stdout",
          "output_type": "stream",
          "text": [
            "01123581321345589144233377610987159725844181676510946177112865746368750251213931964183178115142298320401346269\n"
          ]
        }
      ],
      "source": [
        "\n",
        "'''\n",
        "def fib(n): \n",
        "...     a, b = 0, 1\n",
        "...     while a < n:\n",
        "...         print(a, end=' ')\n",
        "...         a, b = b, a+b\n",
        "...     print()\n",
        "'''\n",
        "def fonk(n):\n",
        "    a, b=0, 1\n",
        "    while a<n:\n",
        "          print(a, end='')\n",
        "          a,b=b, a+b\n",
        "    print()\n",
        "    \n",
        "fonk(1999989)\n",
        "\n",
        "    "
      ]
    },
    {
      "cell_type": "code",
      "execution_count": null,
      "metadata": {
        "colab": {
          "base_uri": "https://localhost:8080/"
        },
        "id": "C1Qw3Lwe6ED9",
        "outputId": "d8bd636b-317c-4b6d-c994-5c128325031e"
      },
      "outputs": [
        {
          "name": "stdout",
          "output_type": "stream",
          "text": [
            "12\n"
          ]
        }
      ],
      "source": [
        "def my_function(a,b):\n",
        "    area = a*b\n",
        "    print(area)\n",
        "    \n",
        "my_function(3,4)"
      ]
    },
    {
      "cell_type": "code",
      "execution_count": null,
      "metadata": {
        "id": "vlz-HGXm8lsX"
      },
      "outputs": [],
      "source": [
        "def get_initialname(name):\n",
        "    initial_name=name[0:1]\n",
        "Fname=input(\"first name giriniz:\")\n",
        "\n",
        "name1_initial=get_initialname(name)\n",
        "\n",
        "name=input(\"last name giriniz:\")\n",
        "\n",
        "name2_initial=get_initialname(name)\n",
        "\n",
        "print(\"your initials:\", name_initial + name_initial)"
      ]
    },
    {
      "cell_type": "code",
      "execution_count": null,
      "metadata": {
        "id": "aheCMNDHAz6N"
      },
      "outputs": [],
      "source": [
        ""
      ]
    },
    {
      "cell_type": "code",
      "execution_count": null,
      "metadata": {
        "id": "B6vrpmyyA26L"
      },
      "outputs": [],
      "source": [
        ""
      ]
    },
    {
      "cell_type": "code",
      "execution_count": null,
      "metadata": {
        "colab": {
          "base_uri": "https://localhost:8080/"
        },
        "id": "QB04hxTdA3IU",
        "outputId": "8af56188-50ad-4ace-8a93-d13d7e179266"
      },
      "outputs": [
        {
          "name": "stdout",
          "output_type": "stream",
          "text": [
            "enter your first name:bu\n",
            "enter your last name:bu\n",
            "your initials are:bubu\n"
          ]
        }
      ],
      "source": [
        "def get_initial(name):\n",
        "      initial=name[0:2]\n",
        "      return initial\n",
        "first_name=input('enter your first name:')\n",
        "first_name_initial=get_initial(first_name)\n",
        "last_name=input('enter your last name:')\n",
        "last_name_initial=get_initial(last_name)\n",
        "print('your initials are:'+ first_name_initial +\n",
        "      last_name_initial)\n",
        "        "
      ]
    },
    {
      "cell_type": "code",
      "execution_count": null,
      "metadata": {
        "colab": {
          "base_uri": "https://localhost:8080/"
        },
        "id": "mgBU2iCyESjW",
        "outputId": "71d1a1c4-a0e7-4049-c1ee-358102091ed0"
      },
      "outputs": [
        {
          "name": "stdout",
          "output_type": "stream",
          "text": [
            "enter your first name:bu\n",
            "enter your last name:bu\n",
            "your initials are:BUBU\n"
          ]
        }
      ],
      "source": [
        "def get_initial(name):\n",
        "      initial=name[0:2].upper()\n",
        "      return initial\n",
        "first_name=input('enter your first name:')\n",
        "first_name_initial=get_initial(first_name)\n",
        "last_name=input('enter your last name:')\n",
        "last_name_initial=get_initial(last_name)\n",
        "print('your initials are:'+ first_name_initial +\n",
        "      last_name_initial)"
      ]
    },
    {
      "cell_type": "code",
      "execution_count": null,
      "metadata": {
        "colab": {
          "base_uri": "https://localhost:8080/"
        },
        "id": "kF9TCnD0EghU",
        "outputId": "48275ec6-242b-4ba5-c86e-061a17b01c5e"
      },
      "outputs": [
        {
          "name": "stdout",
          "output_type": "stream",
          "text": [
            "enter your first name:bu\n",
            "enter your last name:bu\n",
            "your initials are:BuBu\n"
          ]
        }
      ],
      "source": [
        "def get_initial(name):\n",
        "      initial=name[0:2].capitalize()\n",
        "      return initial\n",
        "first_name=input('enter your first name:')\n",
        "first_name_initial=get_initial(first_name)\n",
        "last_name=input('enter your last name:')\n",
        "last_name_initial=get_initial(last_name)\n",
        "print('your initials are:'+ first_name_initial +\n",
        "      last_name_initial)"
      ]
    },
    {
      "cell_type": "code",
      "execution_count": null,
      "metadata": {
        "colab": {
          "base_uri": "https://localhost:8080/"
        },
        "id": "uN-GjNPSEvjG",
        "outputId": "8a9353a6-3db2-446c-e3b0-e4164d268833"
      },
      "outputs": [
        {
          "name": "stdout",
          "output_type": "stream",
          "text": [
            "enter your first name:bur\n",
            "enter your last name:bur\n",
            "your initials are:BURBUR\n"
          ]
        }
      ],
      "source": [
        "def get_initial(name):\n",
        "      initial=name[0:3].capitalize().upper()\n",
        "      return initial\n",
        "first_name=input('enter your first name:')\n",
        "first_name_initial=get_initial(first_name)\n",
        "last_name=input('enter your last name:')\n",
        "last_name_initial=get_initial(last_name)\n",
        "print('your initials are:'+ first_name_initial +\n",
        "      last_name_initial)"
      ]
    },
    {
      "cell_type": "code",
      "execution_count": null,
      "metadata": {
        "colab": {
          "background_save": true,
          "base_uri": "https://localhost:8080/"
        },
        "id": "ZotboWn8He4_",
        "outputId": "f323560d-152a-4347-ac39-7a0370d2d213"
      },
      "outputs": [
        {
          "name": "stdout",
          "output_type": "stream",
          "text": [
            "burhan istedigin zaman\n",
            "2022-04-17 15:33:25.481734\n",
            "\n",
            "0 \n",
            "1 \n",
            "2 \n",
            "3 \n",
            "4 \n",
            "5 \n",
            "6 \n",
            "7 \n",
            "8 \n",
            "9 \n",
            "burhan istedigin zaman\n",
            "2022-04-17 15:33:25.488656\n",
            "\n"
          ]
        }
      ],
      "source": [
        "import datetime\n",
        "firstname='burhanettin'\n",
        "print('burhan istedigin zaman')\n",
        "print(datetime.datetime.now())\n",
        "print()\n",
        "for i in range(10):\n",
        "    print(i, end=\" \")\n",
        "print('burhan istedigin zaman')\n",
        "print(datetime.datetime.now())\n",
        "print() "
      ]
    },
    {
      "cell_type": "code",
      "source": [
        "my_var = 'outer variable'\n",
        "\n",
        "def func_var(): \n",
        "\tmy_var= 'inner variable'\n",
        "\tprint(my_var) \n",
        "\n",
        "func_var() \n",
        "print(my_var)"
      ],
      "metadata": {
        "colab": {
          "base_uri": "https://localhost:8080/"
        },
        "id": "MVE7ITGAfDWM",
        "outputId": "b7797fce-693b-4f59-e632-1f9f7fde7c4b"
      },
      "execution_count": null,
      "outputs": [
        {
          "output_type": "stream",
          "name": "stdout",
          "text": [
            "inner variable\n",
            "outer variable\n"
          ]
        }
      ]
    },
    {
      "cell_type": "code",
      "source": [
        "text = \"I am the global one\"\n",
        " \n",
        "def global_func():\n",
        "    print(text)  # we can use 'text' in a function\n",
        "                 # because it's a global variable\n",
        "\n",
        "global_func()  # 'I am the global one' will be printed\n",
        "print(text)  # it can also be printed outside of the function\n",
        " \n",
        "text = \"The globals are valid everywhere \"\n",
        " \n",
        "global_func()  # we changed the value of 'text'\n",
        "# 'The globals are valid everywhere' will be printed\n",
        " \n",
        "def local_func():\n",
        "    local_text = \"I am the local one\"\n",
        "    print(local_text)  # local_text is a local variable\n",
        "\n",
        "local_func()  # 'I am the local one' will be printed as expected\n",
        " \n",
        "#print(local_text)  # NameError will be raised\n",
        "# because we can't use local variable outside of its function"
      ],
      "metadata": {
        "colab": {
          "base_uri": "https://localhost:8080/"
        },
        "id": "0ZUO7zfgghLv",
        "outputId": "53e1d0db-93d0-49fe-cb4b-752947b251de"
      },
      "execution_count": null,
      "outputs": [
        {
          "output_type": "stream",
          "name": "stdout",
          "text": [
            "I am the global one\n",
            "I am the global one\n",
            "The globals are valid everywhere \n",
            "I am the local one\n"
          ]
        }
      ]
    },
    {
      "cell_type": "code",
      "source": [
        "variable = \"global\"\n",
        "\n",
        "def func_outer():\n",
        "    variable = \"enclosing outer local\"\n",
        "    def func_inner():\n",
        "        variable = \"enclosing inner local\"\n",
        "        def func_local():\n",
        "            variable = \"local\"\n",
        "            print(variable)\n",
        "        func_local()\n",
        "    func_inner()\n",
        " \n",
        "func_outer()  # prints 'local' defined in the innermost function\n",
        "print(variable)  # 'global' level variable holds its value"
      ],
      "metadata": {
        "colab": {
          "base_uri": "https://localhost:8080/"
        },
        "id": "R78lWDbUiL5v",
        "outputId": "b5a9bba4-607b-425b-c6c9-5c6d486c4032"
      },
      "execution_count": null,
      "outputs": [
        {
          "output_type": "stream",
          "name": "stdout",
          "text": [
            "local\n",
            "global\n"
          ]
        }
      ]
    },
    {
      "cell_type": "code",
      "source": [
        "count = 9\n",
        "\n",
        "def print_global():\n",
        "    print(count)\n",
        " \n",
        "print_global()\n",
        " \n",
        "def counter():\n",
        "    print(count) \n",
        "count += 1  # we're trying to change its value\n",
        " \n",
        "print()  # just empty line\n",
        "counter() "
      ],
      "metadata": {
        "colab": {
          "base_uri": "https://localhost:8080/"
        },
        "id": "8d6Z4y1-jl-g",
        "outputId": "4105256e-d773-4d4d-ad76-b9bbf094974f"
      },
      "execution_count": null,
      "outputs": [
        {
          "output_type": "stream",
          "name": "stdout",
          "text": [
            "9\n",
            "\n",
            "10\n"
          ]
        }
      ]
    },
    {
      "cell_type": "code",
      "source": [
        "count = 1\n",
        "\n",
        "def counter():\n",
        "    global count  # we've changed its scope\n",
        "    print(count)  # it's global anymore\n",
        "    count += 1\n",
        " \n",
        "counter() \n",
        "counter()\n",
        "counter()"
      ],
      "metadata": {
        "colab": {
          "base_uri": "https://localhost:8080/"
        },
        "id": "xas_xJ_5ldSD",
        "outputId": "75e70e40-659a-41b7-f302-3de1dbbb32bb"
      },
      "execution_count": null,
      "outputs": [
        {
          "output_type": "stream",
          "name": "stdout",
          "text": [
            "1\n",
            "2\n",
            "3\n"
          ]
        }
      ]
    },
    {
      "cell_type": "code",
      "source": [
        "def func_enclosing1():\n",
        "    x = 'outer variable'\n",
        "    def func_enclosing2():\n",
        "        x = 'inner variable'\n",
        "        print(\"inner:\", x)\n",
        "    func_enclosing2()\n",
        "    print(\"outer:\", x)\n",
        "\n",
        "func_enclosing1() "
      ],
      "metadata": {
        "colab": {
          "base_uri": "https://localhost:8080/"
        },
        "id": "hGJAXTI7lyX8",
        "outputId": "0fbed2b5-ac36-42e4-8170-96d914be01c6"
      },
      "execution_count": null,
      "outputs": [
        {
          "output_type": "stream",
          "name": "stdout",
          "text": [
            "inner: inner variable\n",
            "outer: outer variable\n"
          ]
        }
      ]
    },
    {
      "cell_type": "code",
      "source": [
        "def enclosing_func1():\n",
        "    x = 'outer variable'\n",
        "    def enclosing_func2():\n",
        "        nonlocal x  # its inner-value can be used in the outer scope\n",
        "        x = 'inner variable'\n",
        "        print(\"inner:\", x)\n",
        "    enclosing_func2()\n",
        "    print(\"outer:\", x)\n",
        "\n",
        "enclosing_func1() \n"
      ],
      "metadata": {
        "colab": {
          "base_uri": "https://localhost:8080/"
        },
        "id": "a2GyuXrAnJIR",
        "outputId": "ffe5856f-6f15-4039-fac2-d624b542e91c"
      },
      "execution_count": null,
      "outputs": [
        {
          "output_type": "stream",
          "name": "stdout",
          "text": [
            "inner: inner variable\n",
            "outer: inner variable\n"
          ]
        }
      ]
    },
    {
      "cell_type": "code",
      "source": [
        "x = 15\n",
        "def my_function():  # fix me!\n",
        "    x=15\n",
        "    x += 10 \n",
        "    print(x)\n",
        "#my_function() \n",
        " "
      ],
      "metadata": {
        "id": "wU4NvqQApeSm"
      },
      "execution_count": null,
      "outputs": []
    },
    {
      "cell_type": "code",
      "source": [
        "count = 1\n",
        "\n",
        "def counter():\n",
        "    global count\n",
        "    count += 1\n",
        "    print(count)  \n",
        "\n",
        "counter() "
      ],
      "metadata": {
        "colab": {
          "base_uri": "https://localhost:8080/"
        },
        "id": "E3nOlZPcvDiz",
        "outputId": "ff8b9ae6-b48f-4c62-ebe2-284135eccbad"
      },
      "execution_count": null,
      "outputs": [
        {
          "output_type": "stream",
          "name": "stdout",
          "text": [
            "2\n"
          ]
        }
      ]
    },
    {
      "cell_type": "code",
      "source": [
        "def myfunc1():\n",
        "  x = \"hi\"\n",
        "  def myfunc2():\n",
        "    nonlocal x\n",
        "    x = \"hello\"\n",
        "  myfunc2() \n",
        "  return x\n",
        "\n",
        "print(myfunc1())"
      ],
      "metadata": {
        "colab": {
          "base_uri": "https://localhost:8080/"
        },
        "id": "cd81qx5gwSwo",
        "outputId": "3efb583a-0d4e-4947-fe70-130980ae23fe"
      },
      "execution_count": null,
      "outputs": [
        {
          "output_type": "stream",
          "name": "stdout",
          "text": [
            "hello\n"
          ]
        }
      ]
    },
    {
      "cell_type": "code",
      "source": [
        "def outer():\n",
        "    x = \"previous\"\n",
        "    def inner():\n",
        "        x = \"later\"\n",
        "        print(\"inner:\", x)\n",
        "    x=\"later\"\n",
        "    inner()\n",
        "    print(\"outer:\", x)\n",
        "  "
      ],
      "metadata": {
        "id": "cpoPHZTG09M-"
      },
      "execution_count": null,
      "outputs": []
    },
    {
      "cell_type": "code",
      "source": [
        "lambda x: 'odd' if x % 2 != 0 else 'even'"
      ],
      "metadata": {
        "colab": {
          "base_uri": "https://localhost:8080/"
        },
        "id": "we74V-xF53tm",
        "outputId": "abbe177b-319e-4393-b16d-83ccc763593f"
      },
      "execution_count": null,
      "outputs": [
        {
          "output_type": "execute_result",
          "data": {
            "text/plain": [
              "<function __main__.<lambda>>"
            ]
          },
          "metadata": {},
          "execution_count": 87
        }
      ]
    },
    {
      "cell_type": "code",
      "source": [
        "print((lambda x: x**2)(2))\n",
        "\n",
        "print((lambda x, y: (x+y)/2)(3, 5))  # takes two int, returns mean of them\n",
        "\n",
        "average = (lambda x, y: (x+y)/2)(3, 5) \n",
        "print(average)\n",
        "\n",
        "average = lambda x, y: (x+y)/2\n",
        "print(average(3, 5))  # we call\n"
      ],
      "metadata": {
        "id": "Z5qIWMjO7BFl"
      },
      "execution_count": null,
      "outputs": []
    },
    {
      "cell_type": "code",
      "source": [
        "echo_word = (lambda word1, echo:word1*echo)\n",
        "echo_word('hello', 3)"
      ],
      "metadata": {
        "colab": {
          "base_uri": "https://localhost:8080/",
          "height": 35
        },
        "id": "6kKu4ty3-yc-",
        "outputId": "7cc46e62-55ac-44f9-b7f2-9d8997ef59f7"
      },
      "execution_count": null,
      "outputs": [
        {
          "output_type": "execute_result",
          "data": {
            "text/plain": [
              "'hellohellohello'"
            ],
            "application/vnd.google.colaboratory.intrinsic+json": {
              "type": "string"
            }
          },
          "metadata": {},
          "execution_count": 103
        }
      ]
    },
    {
      "cell_type": "code",
      "source": [
        "#Chapter 3Lambda functions and error-handling\n",
        "\n",
        "\n",
        "#Writing a lambda function you already know\n",
        "# Define echo_word as a lambda function: echo_word\n",
        "echo_word = (lambda word1, echo: word1 * echo)\n",
        "\n",
        "# Call echo_word: result\n",
        "result = echo_word('hey', 5)\n",
        "\n",
        "# Print result\n",
        "print(result)\n",
        "\n",
        "#Map() and lambda functions\n",
        "# Create a list of strings: spells\n",
        "spells = ['protego', 'accio', 'expecto patronum', 'legilimens']\n",
        "\n",
        "# Use map() to apply a lambda function over spells: shout_spells\n",
        "shout_spells = map(lambda item: item + '!!!', spells)\n",
        "\n",
        "# Convert shout_spells to a list: shout_spells_list\n",
        "shout_spells_list = list(shout_spells)\n",
        "\n",
        "# Convert shout_spells into a list and print it\n",
        "print(shout_spells_list)\n",
        "\n",
        "#Filter() and lambda functions\n",
        "# Create a list of strings: fellowship\n",
        "fellowship = ['frodo', 'samwise', 'merry', 'aragorn', 'legolas', 'boromir', 'gimli']\n",
        "\n",
        "# Use filter() to apply a lambda function over fellowship: result\n",
        "result = filter(lambda member: len(member) > 6, fellowship)\n",
        "\n",
        "# Convert result to a list: result_list\n",
        "result_list = list(result)\n",
        "\n",
        "# Convert result into a list and print it\n",
        "print(result_list)\n",
        "\n",
        "#Reduce() and lambda functions\n",
        "# Import reduce from functools\n",
        "from functools import reduce\n",
        "\n",
        "# Create a list of strings: stark\n",
        "stark = ['robb', 'sansa', 'arya', 'eddard', 'jon']\n",
        "\n",
        "# Use reduce() to apply a lambda function over stark: result\n",
        "result = reduce(lambda item1, item2: item1 + item2, stark)\n",
        "\n",
        "# Print the result\n",
        "print(result)\n",
        "\n",
        "#Error handling with try-except\n",
        "# Define shout_echo\n",
        "def shout_echo(word1, echo=1):\n",
        "    \"\"\"Concatenate echo copies of word1 and three\n",
        "    exclamation marks at the end of the string.\"\"\"\n",
        "\n",
        "    # Initialize empty strings: echo_word, shout_words\n",
        "    echo_word = ''\n",
        "    shout_words = ''\n",
        "\n",
        "    # Add exception handling with try-except\n",
        "    try:\n",
        "        # Concatenate echo copies of word1 using *: echo_word\n",
        "        echo_word = word1 * echo\n",
        "\n",
        "        # Concatenate '!!!' to echo_word: shout_words\n",
        "        shout_words = echo_word + '!!!'\n",
        "    except:\n",
        "        # Print error message\n",
        "        print(\"word1 must be a string and echo must be an integer.\")\n",
        "\n",
        "    # Return shout_words\n",
        "    return shout_words\n",
        "\n",
        "# Call shout_echo\n",
        "shout_echo(\"particle\", echo=\"accelerator\")\n",
        "\n",
        "\n",
        "#Error handling by raising an error\n",
        "# Define shout_echo\n",
        "def shout_echo(word1, echo=1):\n",
        "    \"\"\"Concatenate echo copies of word1 and three\n",
        "    exclamation marks at the end of the string.\"\"\"\n",
        "\n",
        "    # Raise an error with raise\n",
        "    if echo < 0:\n",
        "        raise ValueError('echo must be greater than 0')\n",
        "\n",
        "    # Concatenate echo copies of word1 using *: echo_word\n",
        "    echo_word = word1 * echo\n",
        "\n",
        "    # Concatenate '!!!' to echo_word: shout_word\n",
        "    shout_word = echo_word + '!!!'\n",
        "\n",
        "    # Return shout_word\n",
        "    return shout_word\n",
        "\n",
        "# Call shout_echo\n",
        "shout_echo(\"particle\", echo=5)\n",
        "\n",
        "#Bringing it all together (1)\n",
        "# Select retweets from the Twitter DataFrame: result\n",
        "result = filter(lambda x: x[0:2] == 'RT', tweets_df['text'])\n",
        "\n",
        "# Create list from filter object result: res_list\n",
        "res_list = list(result)\n",
        "\n",
        "# Print all retweets in res_list\n",
        "for tweet in res_list:\n",
        "    print(tweet)\n",
        "\n",
        "#Bringing it all together (2)\n",
        "# Define count_entries()\n",
        "def count_entries(df, col_name='lang'):\n",
        "    \"\"\"Return a dictionary with counts of\n",
        "    occurrences as value for each key.\"\"\"\n",
        "\n",
        "    # Initialize an empty dictionary: cols_count\n",
        "    cols_count = {}\n",
        "\n",
        "    # Add try block\n",
        "    try:\n",
        "        # Extract column from DataFrame: col\n",
        "        col = df[col_name]\n",
        "        \n",
        "        # Iterate over the column in dataframe\n",
        "        for entry in col:\n",
        "    \n",
        "            # If entry is in cols_count, add 1\n",
        "            if entry in cols_count.keys():\n",
        "                cols_count[entry] += 1\n",
        "            # Else add the entry to cols_count, set the value to 1\n",
        "            else:\n",
        "                cols_count[entry] = 1\n",
        "    \n",
        "        # Return the cols_count dictionary\n",
        "        return cols_count\n",
        "\n",
        "    # Add except block\n",
        "    except:\n",
        "        print('The DataFrame does not have a ' + col_name + ' column.')\n",
        "\n",
        "# Call count_entries(): result1\n",
        "result1 = count_entries(tweets_df, 'lang')\n",
        "\n",
        "# Print result1\n",
        "print(result1)\n",
        "\n",
        "# Call count_entries(): result2\n",
        "result2 = count_entries(tweets_df, 'lang1')\n",
        "\n",
        "#Bringing it all together (3)\n",
        "# Define count_entries()\n",
        "def count_entries(df, col_name='lang'):\n",
        "    \"\"\"Return a dictionary with counts of\n",
        "    occurrences as value for each key.\"\"\"\n",
        "    \n",
        "    # Raise a ValueError if col_name is NOT in DataFrame\n",
        "    if col_name not in df.columns:\n",
        "        raise ValueError('The DataFrame does not have a ' + col_name + ' column.')\n",
        "\n",
        "    # Initialize an empty dictionary: cols_count\n",
        "    cols_count = {}\n",
        "    \n",
        "    # Extract column from DataFrame: col\n",
        "    col = df[col_name]\n",
        "    \n",
        "    # Iterate over the column in DataFrame\n",
        "    for entry in col:\n",
        "\n",
        "        # If entry is in cols_count, add 1\n",
        "        if entry in cols_count.keys():\n",
        "            cols_count[entry] += 1\n",
        "            # Else add the entry to cols_count, set the value to 1\n",
        "        else:\n",
        "            cols_count[entry] = 1\n",
        "        \n",
        "        # Return the cols_count dictionary\n",
        "    return cols_count\n",
        "\n",
        "# Call count_entries(): result1\n",
        "result1 = count_entries(tweets_df, 'lang')\n",
        "\n",
        "# Print result1\n",
        "print(result1)"
      ],
      "metadata": {
        "id": "RvmPZIlz7y2i"
      },
      "execution_count": null,
      "outputs": []
    },
    {
      "cell_type": "code",
      "source": [
        "iterable = [1, 2, 3, 4, 5]\n",
        "map(lambda x:x**2, iterable)\n",
        "result = map(lambda x:x**2, iterable)\n",
        "print(type(result))  # it's a map type\n",
        "\n",
        "print(list(result))  # we've converted it to list type to print\n",
        "\n",
        "print(list(map(lambda x:x**2, iterable)))  # you can print directly"
      ],
      "metadata": {
        "colab": {
          "base_uri": "https://localhost:8080/"
        },
        "id": "M7-Bj3w2C-Ct",
        "outputId": "c407854f-bb4c-4435-d0f8-de535e2fc870"
      },
      "execution_count": null,
      "outputs": [
        {
          "output_type": "stream",
          "name": "stdout",
          "text": [
            "<class 'map'>\n",
            "[1, 4, 9, 16, 25]\n",
            "[1, 4, 9, 16, 25]\n"
          ]
        }
      ]
    },
    {
      "cell_type": "code",
      "source": [
        "def square(n):   # at least two additional lines of code\n",
        "    return n**2  \n",
        "  \n",
        "iterable = [1, 2, 3, 4, 5]\n",
        "print(list(map(square, iterable)))"
      ],
      "metadata": {
        "colab": {
          "base_uri": "https://localhost:8080/"
        },
        "id": "4g8EXOghD94o",
        "outputId": "78bc2b70-0efd-4dca-a848-8fcb03ac22ae"
      },
      "execution_count": null,
      "outputs": [
        {
          "output_type": "stream",
          "name": "stdout",
          "text": [
            "[1, 4, 9, 16, 25]\n"
          ]
        }
      ]
    },
    {
      "cell_type": "code",
      "source": [
        "letter1 = ['o', 's', 't', 't']\n",
        "letter2 = ['n', 'i', 'e', 'w']\n",
        "letter3 = ['e', 'x', 'n', 'o']\n",
        "numbers =list(map(lambda x, y, z: x+y+z, letter1, letter2, letter3))\n",
        "\n",
        "print(numbers)"
      ],
      "metadata": {
        "colab": {
          "base_uri": "https://localhost:8080/"
        },
        "id": "SRtlbREaEk44",
        "outputId": "383fd3dc-c65c-4937-ea06-fb2cabcd2e58"
      },
      "execution_count": null,
      "outputs": [
        {
          "output_type": "stream",
          "name": "stdout",
          "text": [
            "['one', 'six', 'ten', 'two']\n"
          ]
        }
      ]
    },
    {
      "cell_type": "code",
      "source": [
        "number_list = [1, 2, 3, 4, 5]\n",
        "\n",
        "result = list(map(lambda x :x*3,number_list))\n",
        "print(result)"
      ],
      "metadata": {
        "colab": {
          "base_uri": "https://localhost:8080/"
        },
        "id": "s7XNJkFHFGzq",
        "outputId": "4aa6addb-3565-49a9-eb4f-4cb68f222ff0"
      },
      "execution_count": null,
      "outputs": [
        {
          "output_type": "stream",
          "name": "stdout",
          "text": [
            "[3, 6, 9, 12, 15]\n"
          ]
        }
      ]
    },
    {
      "cell_type": "markdown",
      "metadata": {
        "id": "266IRbvZ1dpF"
      },
      "source": [
        "# New Section"
      ]
    }
  ],
  "metadata": {
    "colab": {
      "name": "Untitled127.ipynb",
      "provenance": [],
      "authorship_tag": "ABX9TyNmYM+OeqerYoUGBxMs7eSS",
      "include_colab_link": true
    },
    "kernelspec": {
      "display_name": "Python 3",
      "name": "python3"
    },
    "language_info": {
      "name": "python"
    }
  },
  "nbformat": 4,
  "nbformat_minor": 0
}