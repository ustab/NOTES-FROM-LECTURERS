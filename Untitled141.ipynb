{
  "nbformat": 4,
  "nbformat_minor": 0,
  "metadata": {
    "colab": {
      "name": "Untitled141.ipynb",
      "private_outputs": true,
      "provenance": [],
      "authorship_tag": "ABX9TyN7FSDOMtkzrScT7ja69/E6",
      "include_colab_link": true
    },
    "kernelspec": {
      "name": "python3",
      "display_name": "Python 3"
    },
    "language_info": {
      "name": "python"
    }
  },
  "cells": [
    {
      "cell_type": "markdown",
      "metadata": {
        "id": "view-in-github",
        "colab_type": "text"
      },
      "source": [
        "<a href=\"https://colab.research.google.com/github/ustab/NOTES-FROM-LECTURERS/blob/main/Untitled141.ipynb\" target=\"_parent\"><img src=\"https://colab.research.google.com/assets/colab-badge.svg\" alt=\"Open In Colab\"/></a>"
      ]
    },
    {
      "cell_type": "code",
      "execution_count": null,
      "metadata": {
        "id": "UW5hf11mAZtB"
      },
      "outputs": [],
      "source": [
        "import numpy as np\n",
        "a = np.arange(6).reshape((3, 2))\n",
        "a=np.arange(6)\n",
        "print(a)\n",
        "a=np.arange(6).reshape((3,2))\n",
        "print(a)"
      ]
    },
    {
      "cell_type": "code",
      "source": [
        "a = np.zeros((10, 2))\n",
        "print(a)"
      ],
      "metadata": {
        "id": "H2Z2ErQSK1Pd"
      },
      "execution_count": null,
      "outputs": []
    },
    {
      "cell_type": "code",
      "source": [
        "a = np.arange(6).reshape((2,3))\n",
        "a"
      ],
      "metadata": {
        "id": "5I1kbV6tK9vt"
      },
      "execution_count": null,
      "outputs": []
    },
    {
      "cell_type": "code",
      "source": [
        "b=np.arange(20).reshape(4,5)\n",
        "b"
      ],
      "metadata": {
        "id": "XnYD3xCvMRiR"
      },
      "execution_count": null,
      "outputs": []
    },
    {
      "cell_type": "code",
      "source": [
        "b=np.arange(20).reshape(10,2)\n",
        "b"
      ],
      "metadata": {
        "id": "k_vzt-Y6Mqzs"
      },
      "execution_count": null,
      "outputs": []
    },
    {
      "cell_type": "code",
      "source": [
        "b=np.arange(20).reshape(4,5)\n",
        "b"
      ],
      "metadata": {
        "id": "an8uAESkM5zO"
      },
      "execution_count": null,
      "outputs": []
    },
    {
      "cell_type": "code",
      "source": [
        "a = np.array([[1,2,3], [4,5,6]])\n",
        "print(a)#burda iki satir var birincisi [1,2,3], ikincisi[4,5,6]\n",
        "np.reshape(a, 6)#iki listeye a yi concatenate yapti\n",
        "print(np.reshape(a,6))#reshape bir nevi add fonksiyonunu icra ediyor elemanlarin arkasina a yi ekliyor\n",
        "#a=array([1, 2, 3, 4, 5, 6])\n",
        "#np.reshape(a, 6, order='F')\n",
        "#a=array([1, 4, 2, 5, 3, 6])"
      ],
      "metadata": {
        "id": "A5gUCXjUNXp1"
      },
      "execution_count": null,
      "outputs": []
    },
    {
      "cell_type": "code",
      "source": [
        "a = np.array([[1,2,3], [4,5,6]])\n",
        "np.reshape(a, 6)#zaten listede olan bir elemanin eklenmesi isteniyor order false bunu yok gibi kabul ettiriyor. peki true olursa ne olur bunu\n",
        "#asagidaki ornekte gorelim\n",
        "#array([1, 2, 3, 4, 5, 6])\n",
        "np.reshape(a, 6, order='F')\n",
        "#array([1, 4, 2, 5, 3, 6])"
      ],
      "metadata": {
        "id": "MwokxRD9Oxth"
      },
      "execution_count": null,
      "outputs": []
    },
    {
      "cell_type": "code",
      "source": [
        "a = np.array([[1,2,3], [4,5,6]])\n",
        "np.reshape(a, 6)#zaten listede olan bir elemanin eklenmesi isteniyor order false bunu yok gibi kabul ettiriyor. peki true olursa ne olur .\n",
        "#array([1, 2, 3, 4, 5, 6])\n",
        "np.reshape(a, 6, order='F')\n",
        "#array([1, 4, 2, 5, 3, 6])"
      ],
      "metadata": {
        "id": "62Av1O1_PjHo"
      },
      "execution_count": null,
      "outputs": []
    },
    {
      "cell_type": "code",
      "source": [
        "x = np.array([[1, 2, 3], [4, 5, 6]])\n",
        "print(x)#birincisi satir ikincisi sutun\n",
        "print(np.ravel(x))#ravel anahtar kelimesi hepsini tek satir seklinde degistirdi\n",
        "x = np.array([[1, 2, 3], [4, 5, 6]]).reshape(3,2)#reshape calisti ve dizini degistirdi\n",
        "x"
      ],
      "metadata": {
        "id": "7BFOyX4QQ01t"
      },
      "execution_count": null,
      "outputs": []
    },
    {
      "cell_type": "code",
      "source": [
        ""
      ],
      "metadata": {
        "id": "hkdRk3xFR28E"
      },
      "execution_count": null,
      "outputs": []
    },
    {
      "cell_type": "markdown",
      "source": [
        "ma.concatenate\n",
        "Giriş maskelerini koruyan birleştirme işlevi.\n",
        "\n",
        "array_split\n",
        "Bir diziyi eşit veya eşite yakın boyutta birden çok alt diziye ayırın.\n",
        "\n",
        "split\n",
        "Diziyi, eşit boyuttaki birden çok alt dizi listesine bölün.\n",
        "\n",
        "hsplit\n",
        "Diziyi yatay olarak birden çok alt diziye ayırın (sütun bazında).\n",
        "\n",
        "vsplit\n",
        "Diziyi dikey olarak birden çok alt diziye ayırın (satır bazında).\n",
        "\n",
        "dsplit\n",
        "Diziyi 3. eksen (derinlik) boyunca birden çok alt diziye ayırın.\n",
        "\n",
        "stack\n",
        "Bir dizi diziyi yeni bir eksen boyunca istifleyin.\n",
        "\n",
        "block\n",
        "Bloklardan dizileri birleştirin.\n",
        "\n",
        "hstack\n",
        "Dizileri yatay olarak sıralayın (sütun şeklinde).\n",
        "\n",
        "vstack\n",
        "Dizileri dikey olarak (satır bazında) sırayla istifleyin.\n",
        "\n",
        "dstack\n",
        "Dizileri sıra derinliğine göre (üçüncü boyut boyunca) istifleyin.\n",
        "\n",
        "column_stack\n",
        "1 boyutlu dizileri, 2 boyutlu bir diziye sütunlar halinde yığınlayın."
      ],
      "metadata": {
        "id": "yPb_U59vS9rV"
      }
    },
    {
      "cell_type": "code",
      "source": [
        ""
      ],
      "metadata": {
        "id": "X0EyWwOVYjBc"
      },
      "execution_count": null,
      "outputs": []
    },
    {
      "cell_type": "code",
      "source": [
        ""
      ],
      "metadata": {
        "id": "CII7wn7LYka6"
      },
      "execution_count": null,
      "outputs": []
    },
    {
      "cell_type": "code",
      "source": [
        "#ma.concatenate\n",
        "a = np.array([[1, 2], [3, 4]])\n",
        "b = np.array([[5, 6]])\n",
        "np.concatenate((a, b), axis=0)\n",
        "\n",
        "#array([[1, 2],\n",
        "      # [3, 4],\n",
        "      # [5, 6]])\n",
        "#np.concatenate((a, b.T), axis=1)\n",
        "\n",
        "\n",
        "#array([[1, 2, 5],\n",
        "      # [3, 4, 6]])\n",
        "#np.concatenate((a, b), axis=None)\n",
        "#array([1, 2, 3, 4, 5, 6])"
      ],
      "metadata": {
        "id": "jc8WgRsxTDiZ"
      },
      "execution_count": null,
      "outputs": []
    },
    {
      "cell_type": "code",
      "source": [
        "#a = np.array([[1 , 2, 3, 4], [5, 6, 7, 8], [9, 10, 11, 12]])\n",
        "#Dizideki 5'ten küçük tüm değerleri kolayca yazdırabilirsiniz.\n",
        "\n",
        "print(a[a!=5])\n"
      ],
      "metadata": {
        "id": "qYQOhL2SYl-h"
      },
      "execution_count": null,
      "outputs": []
    },
    {
      "cell_type": "code",
      "source": [
        "#divisible_by_2 = a[a%2==1]\n",
        "print(divisible_by_2)\n",
        "#divisible_by_2=a[a%3==0]\n",
        "print(divisible_by_2)\n",
        "#divisible_by_2=a[a%3!=0]\n",
        "print(divisible_by_2)"
      ],
      "metadata": {
        "id": "woCRtKnKcTcP"
      },
      "execution_count": null,
      "outputs": []
    },
    {
      "cell_type": "code",
      "source": [
        "c = a[(a <= 12) & (a > 5)]\n",
        "print(c)"
      ],
      "metadata": {
        "id": "rgkub88heCoR"
      },
      "execution_count": null,
      "outputs": []
    },
    {
      "cell_type": "code",
      "source": [
        "arr1a = np.array([5,  6,  7,  8,  9, 10])\n",
        "arr1 = a[0:8]\n",
        "arr1"
      ],
      "metadata": {
        "id": "uUchDZuAeU-T"
      },
      "execution_count": null,
      "outputs": []
    }
  ]
}