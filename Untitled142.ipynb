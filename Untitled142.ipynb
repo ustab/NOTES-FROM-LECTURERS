{
  "nbformat": 4,
  "nbformat_minor": 0,
  "metadata": {
    "colab": {
      "name": "Untitled142.ipynb",
      "private_outputs": true,
      "provenance": [],
      "authorship_tag": "ABX9TyNhjELUYwHo79B//asmZm6/",
      "include_colab_link": true
    },
    "kernelspec": {
      "name": "python3",
      "display_name": "Python 3"
    },
    "language_info": {
      "name": "python"
    }
  },
  "cells": [
    {
      "cell_type": "markdown",
      "metadata": {
        "id": "view-in-github",
        "colab_type": "text"
      },
      "source": [
        "<a href=\"https://colab.research.google.com/github/ustab/NOTES-FROM-LECTURERS/blob/main/Untitled142.ipynb\" target=\"_parent\"><img src=\"https://colab.research.google.com/assets/colab-badge.svg\" alt=\"Open In Colab\"/></a>"
      ]
    },
    {
      "cell_type": "code",
      "execution_count": null,
      "metadata": {
        "id": "ExwYsnowfs3h"
      },
      "outputs": [],
      "source": [
        "import numpy as np\n",
        "a=[5,  6,  7,  8,  9, 10]\n",
        "arr1a = np.array([5,  6,  7,  8,  9, 10])\n",
        "arr1 = a[0:3]\n",
        "arr1"
      ]
    },
    {
      "cell_type": "code",
      "source": [
        "a=[5,  6,  7,  8,  9, 10]\n",
        "arr1a = np.array([5,  6,  7,  8,  9, 10])\n",
        "#arr1 = a[0:]\n",
        "#arr1\n",
        "arr2=a[1:]\n",
        "arr2\n",
        "#arr3 = a[-3:6]\n",
        "#arr3"
      ],
      "metadata": {
        "id": "bLDVIsOGgQVH"
      },
      "execution_count": null,
      "outputs": []
    }
  ]
}