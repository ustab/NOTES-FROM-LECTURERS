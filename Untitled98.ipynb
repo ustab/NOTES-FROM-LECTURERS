{
  "nbformat": 4,
  "nbformat_minor": 0,
  "metadata": {
    "colab": {
      "name": "Untitled98.ipynb",
      "provenance": [],
      "authorship_tag": "ABX9TyOSdoSzZrjRXVj6wzJ6Qfpo",
      "include_colab_link": true
    },
    "kernelspec": {
      "name": "python3",
      "display_name": "Python 3"
    },
    "language_info": {
      "name": "python"
    }
  },
  "cells": [
    {
      "cell_type": "markdown",
      "metadata": {
        "id": "view-in-github",
        "colab_type": "text"
      },
      "source": [
        "<a href=\"https://colab.research.google.com/github/ustab/NOTES-FROM-LECTURERS/blob/main/Untitled98.ipynb\" target=\"_parent\"><img src=\"https://colab.research.google.com/assets/colab-badge.svg\" alt=\"Open In Colab\"/></a>"
      ]
    },
    {
      "cell_type": "code",
      "execution_count": 5,
      "metadata": {
        "colab": {
          "base_uri": "https://localhost:8080/"
        },
        "id": "B-RNw2yXACM5",
        "outputId": "cc5df312-d469-4e0f-cec3-2464e77d51db"
      },
      "outputs": [
        {
          "output_type": "stream",
          "name": "stdout",
          "text": [
            "{'sari', 'mavi', 'yesil', 'iyah'}\n"
          ]
        }
      ],
      "source": [
        "liste1={\"iyah\",\"eyaz\",\"kari\",\"zavi\",\"esil\",\"siyah\",\"beyaz\",\"sari\",\"mavi\",\"yesil\"}\n",
        "liste2={\"siyah\",\"eyaz\",\"kari\",\"zavi\",\"esil\",\"siyah\",\"beyaz\"}\n",
        "print(liste1.difference(liste2))"
      ]
    },
    {
      "cell_type": "code",
      "source": [
        "#in ile icerdeki kelimeyi print ile sorgulayalim \n",
        "print(\"simsiyah\" in liste1)\n",
        "print(\"iyah\" in liste1)"
      ],
      "metadata": {
        "colab": {
          "base_uri": "https://localhost:8080/"
        },
        "id": "sEvOUmoODu-Q",
        "outputId": "9b1c88ad-65da-4e99-8a14-47547aecf9fa"
      },
      "execution_count": 7,
      "outputs": [
        {
          "output_type": "stream",
          "name": "stdout",
          "text": [
            "False\n",
            "True\n"
          ]
        }
      ]
    },
    {
      "cell_type": "code",
      "source": [
        "liste1={\"iyah\",\"eyaz\",\"kari\",\"zavi\",\"esil\",\"siyah\",\"beyaz\",\"sari\",\"mavi\",\"yesil\"}\n",
        "liste2={\"simsiyah\",\"bembeyaz\",\"kari\",\"zavi\",\"esil\",\"siyah\",\"beyaz\"}\n",
        "print(liste2.difference(liste1))"
      ],
      "metadata": {
        "colab": {
          "base_uri": "https://localhost:8080/"
        },
        "id": "v3LmAA-4Amux",
        "outputId": "e9ec993a-f70c-4280-f0d9-c4c714ab201a"
      },
      "execution_count": 4,
      "outputs": [
        {
          "output_type": "stream",
          "name": "stdout",
          "text": [
            "{'bembeyaz', 'simsiyah'}\n"
          ]
        }
      ]
    },
    {
      "cell_type": "code",
      "source": [
        "liste1={\"iyah\",\"eyaz\",\"kari\",\"zavi\",\"esil\",\"siyah\",\"beyaz\",\"sari\",\"mavi\",\"yesil\"}\n",
        "liste2={\"simsiyah\",\"bembeyaz\",\"kari\",\"zavi\",\"esil\",\"siyah\",\"beyaz\"}\n",
        "print(\"lacivert\" in liste1.union(liste2))\n",
        "liste1={\"iyah\",\"eyaz\",\"kari\",\"zavi\",\"esil\",\"siyah\",\"beyaz\",\"sari\",\"mavi\",\"yesil\"}\n",
        "liste2={\"simsiyah\",\"bembeyaz\",\"kari\",\"zavi\",\"esil\",\"siyah\",\"beyaz\",\"lacivert\"}\n",
        "print(\"lacivert\" in liste1.union(liste2))"
      ],
      "metadata": {
        "colab": {
          "base_uri": "https://localhost:8080/"
        },
        "id": "VKbGXwevEf1J",
        "outputId": "bb86602c-b538-45f4-baf9-3fb01b2774e7"
      },
      "execution_count": 9,
      "outputs": [
        {
          "output_type": "stream",
          "name": "stdout",
          "text": [
            "False\n",
            "True\n"
          ]
        }
      ]
    },
    {
      "cell_type": "code",
      "source": [
        "liste1=[]\n",
        "liste1=list()\n",
        "liste3=()\n",
        "liste3=tuple()\n",
        "liste3=set()\n",
        "liste3={} # dict olup bos liste olmaz\n"
      ],
      "metadata": {
        "id": "Sq7LyviTFM5x"
      },
      "execution_count": null,
      "outputs": []
    },
    {
      "cell_type": "code",
      "source": [
        "# BU BIR SET OLUP HER ELEMANDAN BIR KEZ YAZDIRDI, TEKRAR EDENLERI BIR KEZ ALDI\n",
        "python=set(\"PYTHO  NYPT, \\n' ,1,2,3,3,4,4,4,4,5,6\")\n",
        "print(python)"
      ],
      "metadata": {
        "id": "rEww2oxQIcJW"
      },
      "execution_count": null,
      "outputs": []
    },
    {
      "cell_type": "code",
      "source": [
        "#liste1={\"iyah\",\"eyaz\",\"kari\",\"zavi\",\"esil\",\"siyah\",\"beyaz\",\"sari\",\"mavi\",\"yesil\"}\n",
        "#liste2={\"simsiyah\",\"bembeyaz\",\"kari\",\"zavi\",\"esil\",\"siyah\",\"beyaz\"}"
      ],
      "metadata": {
        "id": "cvZNjkI-Idlp"
      },
      "execution_count": null,
      "outputs": []
    },
    {
      "cell_type": "code",
      "source": [
        ""
      ],
      "metadata": {
        "id": "2nBalrpxGVWu"
      },
      "execution_count": 34,
      "outputs": []
    }
  ]
}