{
  "nbformat": 4,
  "nbformat_minor": 0,
  "metadata": {
    "colab": {
      "name": "Untitled90.ipynb",
      "provenance": [],
      "authorship_tag": "ABX9TyMF5nNOSdz9kGg0JIi5doLA",
      "include_colab_link": true
    },
    "kernelspec": {
      "name": "python3",
      "display_name": "Python 3"
    },
    "language_info": {
      "name": "python"
    }
  },
  "cells": [
    {
      "cell_type": "markdown",
      "metadata": {
        "id": "view-in-github",
        "colab_type": "text"
      },
      "source": [
        "<a href=\"https://colab.research.google.com/github/ustab/NOTES-FROM-LECTURERS/blob/main/Untitled90.ipynb\" target=\"_parent\"><img src=\"https://colab.research.google.com/assets/colab-badge.svg\" alt=\"Open In Colab\"/></a>"
      ]
    },
    {
      "cell_type": "code",
      "execution_count": 4,
      "metadata": {
        "colab": {
          "base_uri": "https://localhost:8080/"
        },
        "id": "8TCKH1mpCu_4",
        "outputId": "2a25a208-df9d-4802-d362-49311dbf2fb1"
      },
      "outputs": [
        {
          "output_type": "stream",
          "name": "stdout",
          "text": [
            "Say: How are you!\n",
            "\n",
            "thank you, what about you\n"
          ]
        }
      ],
      "source": [
        "print('Say: How are you!')\n",
        "print()\n",
        "print('thank you, what about you', )"
      ]
    },
    {
      "cell_type": "code",
      "source": [
        "print('nasilsin', 1234)"
      ],
      "metadata": {
        "colab": {
          "base_uri": "https://localhost:8080/"
        },
        "id": "ZaCL4JKZHVZw",
        "outputId": "ddf23da4-703c-47c2-83f1-638ce8103bcd"
      },
      "execution_count": 5,
      "outputs": [
        {
          "output_type": "stream",
          "name": "stdout",
          "text": [
            "nasilsin 1234\n"
          ]
        }
      ]
    },
    {
      "cell_type": "code",
      "source": [
        "print('heh', 1987)"
      ],
      "metadata": {
        "colab": {
          "base_uri": "https://localhost:8080/"
        },
        "id": "yilqYQflHbDv",
        "outputId": "36e91aef-653e-4fd9-89e0-77a1b15d7eb3"
      },
      "execution_count": 7,
      "outputs": [
        {
          "output_type": "stream",
          "name": "stdout",
          "text": [
            "heh 1987\n"
          ]
        }
      ]
    },
    {
      "cell_type": "code",
      "source": [
        "#urunlerde %20 indirim olacak\n",
        "urunler=[[\" ayakkabi\",150],[\" pantolon\",120],[\"gomlek\",120],[\" ceket\",200]]\n",
        "def indirim_yap(i):\n",
        "    urun,fiyat=i[0],i[1]\n",
        "    fiyat=fiyat*8/10\n",
        "    return[urun, fiyat]\n",
        "sonuc=list(map(indirim_yap, urunler))\n",
        "print(sonuc)\n"
      ],
      "metadata": {
        "colab": {
          "base_uri": "https://localhost:8080/"
        },
        "id": "psEqnyp0imgq",
        "outputId": "4a166c73-0034-4b64-ecd1-a89d43d82828"
      },
      "execution_count": 10,
      "outputs": [
        {
          "output_type": "stream",
          "name": "stdout",
          "text": [
            "[[' ayakkabi', 120.0], [' pantolon', 96.0], ['gomlek', 96.0], [' ceket', 160.0]]\n"
          ]
        }
      ]
    },
    {
      "cell_type": "code",
      "source": [
        "heh=\"number\"\n",
        "hee=123\n",
        "print(heh, hee, 1234)"
      ],
      "metadata": {
        "id": "0xPNc_xcSlp0"
      },
      "execution_count": null,
      "outputs": []
    },
    {
      "cell_type": "code",
      "source": [
        "isimler=[\"AHMET\",\"AYSE\",\"ONUR\",\"HUSEYIN\"]\n",
        "isimler2=list(map(lambda i:i.capitalize(),isimler))\n",
        "print(isimler2)"
      ],
      "metadata": {
        "colab": {
          "base_uri": "https://localhost:8080/"
        },
        "id": "hv1qEymKm_Mh",
        "outputId": "addd5152-7ff3-4f04-9476-4012121dbe4b"
      },
      "execution_count": 18,
      "outputs": [
        {
          "output_type": "stream",
          "name": "stdout",
          "text": [
            "['Ahmet', 'Ayse', 'Onur', 'Huseyin']\n"
          ]
        }
      ]
    },
    {
      "cell_type": "code",
      "source": [
        "#FILTER FONKSIYONU\n",
        "liste=[1,2,3,5,6,8,11,17,123,101]\n",
        "def cift_mi(i):\n",
        "  if i%2==0:\n",
        "      return True\n",
        "  return False\n",
        "ciftler=list(filter(cift_mi,liste))\n",
        "print(ciftler)"
      ],
      "metadata": {
        "colab": {
          "base_uri": "https://localhost:8080/"
        },
        "id": "XeKhjBpupqZh",
        "outputId": "56768388-4df9-4feb-f30c-6f0b2005e67e"
      },
      "execution_count": 19,
      "outputs": [
        {
          "output_type": "stream",
          "name": "stdout",
          "text": [
            "[2, 6, 8]\n"
          ]
        }
      ]
    },
    {
      "cell_type": "code",
      "source": [
        "liste=[1,2,3,5,6,8,11,17,123,101]\n",
        "def tek_mi(i):\n",
        "  if  i%2==1:\n",
        "      return True\n",
        "  return False\n",
        "tekler=list(filter(tek_mi,liste))\n",
        "print(tekler)"
      ],
      "metadata": {
        "colab": {
          "base_uri": "https://localhost:8080/"
        },
        "id": "xI3aQs-jrAF8",
        "outputId": "79d67c24-75d4-4ec9-8143-e1a601a417db"
      },
      "execution_count": 22,
      "outputs": [
        {
          "output_type": "stream",
          "name": "stdout",
          "text": [
            "[1, 3, 5, 11, 17, 123, 101]\n"
          ]
        }
      ]
    },
    {
      "cell_type": "code",
      "source": [
        "liste=[1,2,3,4,5,6,7,8,9,12,13,14,15,16,17,18,19,20,21,23,24,25,26,27,28]\n",
        "def cift_mi(i): \n",
        " if not i%2!=0:\n",
        "   return True\n",
        "   return False\n",
        "ciftler = list(filter(cift_mi, liste))\n",
        "print(ciftler)"
      ],
      "metadata": {
        "colab": {
          "base_uri": "https://localhost:8080/"
        },
        "id": "m9ofRDXyryDN",
        "outputId": "53fee05c-0841-4b17-d802-1eedcf48792b"
      },
      "execution_count": 50,
      "outputs": [
        {
          "output_type": "stream",
          "name": "stdout",
          "text": [
            "[2, 4, 6, 8, 12, 14, 16, 18, 20, 24, 26, 28]\n"
          ]
        }
      ]
    },
    {
      "cell_type": "code",
      "source": [
        "#iki basamakli olan sayilari alsin\n",
        "liste=[1,2,3,4,5,6,7,8,9,12,13,14,15,16,17,18,19,20,21,23,24,25,26,27,28]\n",
        "def ikibasamak(i): \n",
        " if  i >= 10 and i<100:\n",
        "   return True\n",
        "   return False\n",
        "ikibasamakli = list(filter(ikibasamak, liste))\n",
        "print(ikibasamakli)"
      ],
      "metadata": {
        "colab": {
          "base_uri": "https://localhost:8080/"
        },
        "id": "d5rMfRwuxid5",
        "outputId": "20d11b2d-f77e-4e4e-a9a1-eeb09b6109e6"
      },
      "execution_count": 51,
      "outputs": [
        {
          "output_type": "stream",
          "name": "stdout",
          "text": [
            "[12, 13, 14, 15, 16, 17, 18, 19, 20, 21, 23, 24, 25, 26, 27, 28]\n"
          ]
        }
      ]
    },
    {
      "cell_type": "code",
      "source": [
        "# tek basamakli sayilari alsin\n",
        "liste=[1,2,3,4,5,6,7,8,9,12,13,14,15,16,17,18,19,20,21,23,24,25,26,27,28,100,120,276,234,488,256]\n",
        "def tekbasamak(i): \n",
        "  if i < 10:\n",
        "   return True\n",
        "   return False\n",
        "tekbasamakli = list(filter(tekbasamak, liste))\n",
        "print(tekbasamakli)"
      ],
      "metadata": {
        "colab": {
          "base_uri": "https://localhost:8080/"
        },
        "id": "C4Ugw_h1yV2e",
        "outputId": "e8e134c5-969d-4c61-e15b-08c2df8978a0"
      },
      "execution_count": 53,
      "outputs": [
        {
          "output_type": "stream",
          "name": "stdout",
          "text": [
            "[1, 2, 3, 4, 5, 6, 7, 8, 9]\n"
          ]
        }
      ]
    },
    {
      "cell_type": "code",
      "source": [
        "# uc basamakli sayilari alsin\n",
        "liste=[1,2,3,4,5,6,7,8,9,12,13,14,15,16,17,18,19,20,21,23,24,25,26,27,28,100,120,276,234,488,256]\n",
        "def ucbasamak(i): \n",
        "  if i >= 100:\n",
        "   return True\n",
        "   return False\n",
        "ucbasamakli = list(filter(ucbasamak, liste))\n",
        "print(ucbasamakli)"
      ],
      "metadata": {
        "colab": {
          "base_uri": "https://localhost:8080/"
        },
        "id": "yujV_ovHzJck",
        "outputId": "28471437-27fb-4590-d311-a42d6758b7cd"
      },
      "execution_count": 54,
      "outputs": [
        {
          "output_type": "stream",
          "name": "stdout",
          "text": [
            "[100, 120, 276, 234, 488, 256]\n"
          ]
        }
      ]
    },
    {
      "cell_type": "code",
      "source": [
        "# 15 den buyuk sayilari alsin\n",
        "liste=[1,2,3,4,5,6,7,8,9,12,13,14,15,16,17,18,19,20,21,23,24,25,26,27,28,100,120,276,234,488,256]\n",
        "def onbesdenbuyuk(i): \n",
        "  if i >15:\n",
        "   return True\n",
        "   return False\n",
        "onbesdenbuyuk = list(filter(onbesdenbuyuk, liste))\n",
        "print(onbesdenbuyuk)"
      ],
      "metadata": {
        "colab": {
          "base_uri": "https://localhost:8080/"
        },
        "id": "fQ_YDWyVzj2M",
        "outputId": "dfa818b1-2a51-4c04-a7bc-fc6b18c752ed"
      },
      "execution_count": 55,
      "outputs": [
        {
          "output_type": "stream",
          "name": "stdout",
          "text": [
            "[16, 17, 18, 19, 20, 21, 23, 24, 25, 26, 27, 28, 100, 120, 276, 234, 488, 256]\n"
          ]
        }
      ]
    },
    {
      "cell_type": "code",
      "source": [
        "# cift sayilari alsin\n",
        "liste=[1,2,3,4,5,6,7,8,9,10,12,13,14,15,16,17,18,19,20,21,23,24,25,26,27,28,100,120,276,234,488,256]\n",
        "ciftler=list(filter(lambda i: i%2==0, liste))\n",
        "print(ciftler)\n",
        "#birbasamakdan fazla olanlar\n",
        "birdenfazla=list(filter(lambda i: i>=10, liste))\n",
        "print(birdenfazla)\n"
      ],
      "metadata": {
        "colab": {
          "base_uri": "https://localhost:8080/"
        },
        "id": "PC345GH2nyHI",
        "outputId": "1700a3bd-c3b2-4fbc-fd39-7fd09c991ebc"
      },
      "execution_count": 57,
      "outputs": [
        {
          "output_type": "stream",
          "name": "stdout",
          "text": [
            "[2, 4, 6, 8, 10, 12, 14, 16, 18, 20, 24, 26, 28, 100, 120, 276, 234, 488, 256]\n",
            "[10, 12, 13, 14, 15, 16, 17, 18, 19, 20, 21, 23, 24, 25, 26, 27, 28, 100, 120, 276, 234, 488, 256]\n"
          ]
        }
      ]
    },
    {
      "cell_type": "code",
      "source": [
        ""
      ],
      "metadata": {
        "id": "ubvtgrmb2z3e"
      },
      "execution_count": null,
      "outputs": []
    }
  ]
}