{
  "nbformat": 4,
  "nbformat_minor": 0,
  "metadata": {
    "colab": {
      "name": "Untitled128.ipynb",
      "provenance": [],
      "authorship_tag": "ABX9TyPsBkJM+mcr/ZMciGt9QVYY",
      "include_colab_link": true
    },
    "kernelspec": {
      "name": "python3",
      "display_name": "Python 3"
    },
    "language_info": {
      "name": "python"
    }
  },
  "cells": [
    {
      "cell_type": "markdown",
      "metadata": {
        "id": "view-in-github",
        "colab_type": "text"
      },
      "source": [
        "<a href=\"https://colab.research.google.com/github/ustab/NOTES-FROM-LECTURERS/blob/main/Untitled128.ipynb\" target=\"_parent\"><img src=\"https://colab.research.google.com/assets/colab-badge.svg\" alt=\"Open In Colab\"/></a>"
      ]
    },
    {
      "cell_type": "code",
      "execution_count": 7,
      "metadata": {
        "colab": {
          "base_uri": "https://localhost:8080/"
        },
        "id": "h0dWAs9zHMml",
        "outputId": "7c9468ee-c673-40d4-f157-9c72b8567ff3"
      },
      "outputs": [
        {
          "output_type": "stream",
          "name": "stdout",
          "text": [
            "<class 'list'>\n",
            "Even numbers are : [0, 2, 4, 6, 8, 10, 12, 14, 16]\n",
            "odd numbers are: [1, 3, 5, 7, 9, 11, 13, 15]\n"
          ]
        }
      ],
      "source": [
        "first_ten = [0, 1, 2, 3, 4, 5, 6, 7, 8, 9,10,11,12,13,14,15,16] \n",
        "  \n",
        "even = list(filter(lambda x:x%2==0, first_ten))\n",
        "odd=list(filter(lambda x:x%2!=0, first_ten)) \n",
        "print(type(even))  # it's 'filter' type, \n",
        "                   # in order to print the result,\n",
        "                   # we'd better convert it into the list type\n",
        "\n",
        "print('Even numbers are :',even)\n",
        "print('odd numbers are:', odd)"
      ]
    },
    {
      "cell_type": "code",
      "source": [
        "vowel_list = ['a', 'e', 'i', 'o', 'u']\n",
        "first_ten = ['a', 'b', 'c', 'd', 'e', 'f', 'g', 'h', 'i', 'j']\n",
        "  \n",
        "vowels = filter(lambda x: True if x in vowel_list else False, first_ten) \n",
        "\n",
        "print('Vowels are :', list(vowels))"
      ],
      "metadata": {
        "colab": {
          "base_uri": "https://localhost:8080/"
        },
        "id": "3rbMjC9GJah9",
        "outputId": "0906f9a0-df20-4763-fd29-e541eb1bc9c0"
      },
      "execution_count": 8,
      "outputs": [
        {
          "output_type": "stream",
          "name": "stdout",
          "text": [
            "Vowels are : ['a', 'e', 'i']\n"
          ]
        }
      ]
    },
    {
      "cell_type": "code",
      "source": [
        "number_list = [1, 2, 3, 4, 5, 6, 7, 8, 9, 10]\n",
        "\n",
        "result1 = list(filter(lambda x: x < 6, number_list))\n",
        "result2=list(filter(lambda x: x >= 6, number_list)) \n",
        "print(result1)\n",
        "print(result2)"
      ],
      "metadata": {
        "colab": {
          "base_uri": "https://localhost:8080/"
        },
        "id": "0tiaVgwiJ_n2",
        "outputId": "c8f6b7b9-fd50-4a88-cd6e-a9aa394a15fb"
      },
      "execution_count": 11,
      "outputs": [
        {
          "output_type": "stream",
          "name": "stdout",
          "text": [
            "[1, 2, 3, 4, 5]\n",
            "[6, 7, 8, 9, 10]\n"
          ]
        }
      ]
    },
    {
      "cell_type": "code",
      "source": [
        "def modular_function(n):\n",
        "    print(lambda x: x ** n)\n",
        "    \n",
        "power_of_2=modular_function(2) # first sub-function derived from def\n",
        "power_of_3=modular_function(3)  # second sub-function derived from def=poer_of_4+modular_function(4)  # third sub-function derived from def\n",
        "power_of_4=modular_function(4)\n",
        "\n",
        "print(power_of_2(2)) #2 to the power of 2\n",
        "\n",
        "\n",
        "\n",
        "\n"
      ],
      "metadata": {
        "id": "Jtuhl2uKLdZ8"
      },
      "execution_count": null,
      "outputs": []
    },
    {
      "cell_type": "code",
      "source": [
        "def repeater(n):\n",
        "    return lambda x: x * n\n",
        "    \n",
        "repeat_2_times = repeater(2)  # repeats 2 times\n",
        "repeat_3_times = repeater(3)  # repeats 3 times\n",
        "repeat_4_times = repeater(4)  # repeats 4 times\n",
        "\n",
        "print(repeat_2_times('alex '))\n",
        "print(repeat_3_times('lara '))\n",
        "print(repeat_4_times('linda '))"
      ],
      "metadata": {
        "colab": {
          "base_uri": "https://localhost:8080/"
        },
        "id": "QgF2Iy45PUfO",
        "outputId": "df3ee462-7082-4cf3-be99-d998df213a93"
      },
      "execution_count": 26,
      "outputs": [
        {
          "output_type": "stream",
          "name": "stdout",
          "text": [
            "alex alex \n",
            "lara lara lara \n",
            "linda linda linda linda \n"
          ]
        }
      ]
    },
    {
      "cell_type": "code",
      "source": [
        "def modular_function(n):\n",
        "    return lambda x: x ** n\n",
        "\n",
        "power_of_3 = modular_function(3)\n",
        "print(power_of_3(5))\n",
        "print((lambda x: x**3)(5))\n",
        "multiply = lambda x: x * 4\n",
        "add = lambda x, y: x + y\n",
        "print(add(multiply(10), 5))\n",
        "square = lambda x:x**2\n",
        "print(square(5))\n",
        "\n",
        "number_list=[1, 2, 3, 4, 5]\n",
        "result= list(map(lambda x:x**2,number_list))\n",
        "print(result)"
      ],
      "metadata": {
        "colab": {
          "base_uri": "https://localhost:8080/"
        },
        "id": "p54EQpKpNSEP",
        "outputId": "437f044c-eb09-43e9-e053-368b15890d77"
      },
      "execution_count": 33,
      "outputs": [
        {
          "output_type": "stream",
          "name": "stdout",
          "text": [
            "125\n",
            "125\n",
            "45\n",
            "25\n",
            "[1, 4, 9, 16, 25]\n"
          ]
        }
      ]
    },
    {
      "cell_type": "code",
      "source": [
        "number_list=[1, 2, 3, 4, 5, 6, 7, 8, 9, 10]\n",
        "\n",
        "result= list(filter(lambda x:x % 2!=0,number_list)) \n",
        "print(result)  "
      ],
      "metadata": {
        "colab": {
          "base_uri": "https://localhost:8080/"
        },
        "id": "MQ1HeIz_V8GP",
        "outputId": "6b9c8a47-e55d-4d37-9999-2cdc64efbbbf"
      },
      "execution_count": 38,
      "outputs": [
        {
          "output_type": "stream",
          "name": "stdout",
          "text": [
            "[1, 3, 5, 7, 9]\n"
          ]
        }
      ]
    },
    {
      "cell_type": "code",
      "source": [
        "def sum_double(x, y):\n",
        "    if x==y:\n",
        "      print((x+y)*2)\n",
        "    else:\n",
        "        print(x+y)\n",
        "sum_double(3,3)"
      ],
      "metadata": {
        "colab": {
          "base_uri": "https://localhost:8080/"
        },
        "id": "jz2VD9bFYL8I",
        "outputId": "ec9f400e-d0b4-4bf7-bfe0-39893faf80d3"
      },
      "execution_count": 40,
      "outputs": [
        {
          "output_type": "stream",
          "name": "stdout",
          "text": [
            "12\n"
          ]
        }
      ]
    },
    {
      "cell_type": "code",
      "source": [
        "def parrot_trouble(talking=1 or 0 , hour=range(22)):\n",
        "  if talking == 1 and (hour < 6 or hour > 21):\n",
        "    return True\n",
        "    if True:\n",
        "     print('we are in trouble')\n",
        "  else:\n",
        "    return False\n",
        "    if False:\n",
        "     print('we are in safe')\n",
        "parrot_trouble(1, 4)\n",
        "\n"
      ],
      "metadata": {
        "colab": {
          "base_uri": "https://localhost:8080/"
        },
        "id": "TN2z0i32ZqNc",
        "outputId": "da66dd18-3817-4390-9744-d2d8bc8a1466"
      },
      "execution_count": 71,
      "outputs": [
        {
          "output_type": "execute_result",
          "data": {
            "text/plain": [
              "True"
            ]
          },
          "metadata": {},
          "execution_count": 71
        }
      ]
    },
    {
      "cell_type": "code",
      "source": [
        "\"\"\"Define a function to take a word and return negative meaning.\n",
        "Given a word, return a new word where \"not \" has been added to the front. However, if the word already begins with \"not\", return the string unchanged.\n",
        "For example:\n",
        "Test\tResult\n",
        "print(not_string('sugar'))\n",
        "not sugar\n",
        "print(not_string('x'))\n",
        "not x\n",
        "print(not_string('not bad'))\n",
        "not bad\"\"\"\n",
        "\n",
        "def not_string(word):\n",
        "    if word.startswith(\"not\"):\n",
        "        return(word)\n",
        "    else:\n",
        "        return \"not \" + word\n",
        "print(not_string('not merve'))\n",
        "\n",
        "\n",
        "Asgnmt_Les1_Assignment - 4 (Is it a Prime Number?).py\n",
        "\"\"\"Task : Write a program that takes a number from the user and prints the result to check if it is a prime number.\n",
        "The examples of the desired output are as follows :\n",
        "input →  19 ⇉ output : 19 is a prime number\n",
        "input →  10 ⇉ output : 10 is not a prime number\"\"\"\n",
        "x = int(input(\"Enter a number to check whether it is Prime number or not: \"))\n",
        "divider = 0\n",
        "for i in range(2,x):\n",
        "    if x % i == 0:\n",
        "        divider += 1\n",
        "        break\n",
        "if divider == 0:\n",
        "    print(f\"{x} is a prime number\")\n",
        "else:\n",
        "    print(f\"{x} is not a prime number\")\n",
        "\n",
        "\n",
        "Asgnmt_Les1_Assignment - 5 (Fibonacci Numbers).py\n",
        "\"\"\"Task : Create a list consisting of Fibonacci numbers from 1 to 55 using control flow statements.\n",
        "The desired output is like :\n",
        "fibonacci →  [1, 1, 2, 3, 5, 8, 13, 21, 34, 55]\"\"\"\n",
        "a, b = 1, 1\n",
        "list_fib = []\n",
        "while a <= 55:\n",
        "    list_fib.append(a)\n",
        "    a, b = b, a + b\n",
        "print(list_fib)\n",
        "Asgnmt_Les1_Assignment - 6 (Prime Numbers).py\n",
        "\"\"\"Task : Print the prime numbers which are between 1 to entered limit number (n).\n",
        "You can use a nested for loop.\n",
        "Collect all these numbers into a list\n",
        "The desired output for n=100 :\n",
        "[2, 3, 5, 7, 11, 13, 17, 19, 23, 29, 31, 37, 41, 43, 47, 53, 59,\n",
        "61, 67, 71, 73, 79, 83, 89, 97]\"\"\"\n",
        "\n",
        "\n",
        "def main(n):\n",
        "    list_prime = []\n",
        "    for i in range(2, n+1):\n",
        "        divider = 0\n",
        "        for x in range(2, i):\n",
        "            if not i % x:\n",
        "                divider += 1\n",
        "                break\n",
        "        if not divider:\n",
        "            list_prime.append(i)\n",
        "    print(list_prime)\n",
        "\n",
        "\n",
        "n = int(input(\"Enter an end number : \"))\n",
        "main(n)\n",
        "\n",
        "\n",
        "Asgnmt_Les1_Assignment - 7 (FizzBuzz).py\n",
        "\"\"\"Task : Print the FizzBuzz numbers.\n",
        "FizzBuzz is a famous code challenge used in interviews to test basic programming skills. It's time to write your own \\\n",
        "implementation.\n",
        "Print numbers from 1 to 100 inclusively following these instructions:\n",
        "if a number is multiple of 3, print \"Fizz\" instead of this number,\n",
        "if a number is multiple of 5, print \"Buzz\" instead of this number,\n",
        "for numbers that are multiples of both 3 and 5, print \"FizzBuzz\",\n",
        "print the rest of the numbers unchanged.\n",
        "Output each value on a separate line.\"\"\"\n",
        "\n",
        "for i in range(1,101):\n",
        "    if not i % 15:\n",
        "        i = \"FizzBuzz\"\n",
        "    elif not i % 5:\n",
        "        i = \"Buzz\"\n",
        "    elif not i % 3:\n",
        "        i = \"Fizz\"\n",
        "    print(i, sep=\"\\n\")\n",
        "\n",
        "\n",
        "Asgnmt_Les1_Assignment - 8 (Leap Year).py\n",
        "\"\"\"Task:\n",
        "Find out if a given year is a \"leap\" year.\n",
        "In the Gregorian calendar, three criteria must be taken into account to identify leap years:\n",
        "The year must be evenly divisible by 4;\n",
        "If the year can also be evenly divided by 100, it is not a leap year; unless...\n",
        "The year is also evenly divisible by 400. Then it is a leap year.\n",
        "According to these rules, the years 2000 and 2400 are leap years, while 1800, 1900, 2100, 2200, 2300, and 2500 are not\n",
        " the leap years.\n",
        "Write a Python program that prints such as \"2020 is a leap year\" if the given year by the user is a leap year, prints\n",
        "such as \"2019 is not a leap year\" otherwise.\"\"\"\n",
        "\n",
        "year = int(input(\"Please enter a year: \"))\n",
        "if not year % 400 or (not year % 4 and year % 100):\n",
        "    print(f\"{year} is a leap year\")\n",
        "else:\n",
        "    print(f\"{year} is not a leap year\")def not_string(word):\n"
      ],
      "metadata": {
        "id": "7bQjq02Zf7P7"
      },
      "execution_count": null,
      "outputs": []
    },
    {
      "cell_type": "code",
      "source": [
        "import earth.europe.kosovo  # importing with naming package, subpackage and module\n",
        "\n",
        "earth.europe.kosovo.a_function()  # we want to access a function defined in kosovo module"
      ],
      "metadata": {
        "id": "WbfHSeGzf8qH"
      },
      "execution_count": null,
      "outputs": []
    },
    {
      "cell_type": "code",
      "source": [
        ""
      ],
      "metadata": {
        "id": "NhwTyhQMFFo7"
      },
      "execution_count": null,
      "outputs": []
    },
    {
      "cell_type": "code",
      "source": [
        "if a >= 999 :\n",
        "    print(a ** 0) "
      ],
      "metadata": {
        "colab": {
          "base_uri": "https://localhost:8080/",
          "height": 183
        },
        "id": "43FktzNhwoVb",
        "outputId": "9259e485-f3bb-49c7-f090-359b6617d8fa"
      },
      "execution_count": 1,
      "outputs": [
        {
          "output_type": "error",
          "ename": "NameError",
          "evalue": "ignored",
          "traceback": [
            "\u001b[0;31m---------------------------------------------------------------------------\u001b[0m",
            "\u001b[0;31mNameError\u001b[0m                                 Traceback (most recent call last)",
            "\u001b[0;32m<ipython-input-1-aaa70477a5e7>\u001b[0m in \u001b[0;36m<module>\u001b[0;34m()\u001b[0m\n\u001b[0;32m----> 1\u001b[0;31m \u001b[0;32mif\u001b[0m \u001b[0ma\u001b[0m \u001b[0;34m>=\u001b[0m \u001b[0;36m999\u001b[0m \u001b[0;34m:\u001b[0m\u001b[0;34m\u001b[0m\u001b[0;34m\u001b[0m\u001b[0m\n\u001b[0m\u001b[1;32m      2\u001b[0m     \u001b[0mprint\u001b[0m\u001b[0;34m(\u001b[0m\u001b[0ma\u001b[0m \u001b[0;34m**\u001b[0m \u001b[0;36m0\u001b[0m\u001b[0;34m)\u001b[0m\u001b[0;34m\u001b[0m\u001b[0;34m\u001b[0m\u001b[0m\n",
            "\u001b[0;31mNameError\u001b[0m: name 'a' is not defined"
          ]
        }
      ]
    },
    {
      "cell_type": "code",
      "source": [
        "998*2"
      ],
      "metadata": {
        "colab": {
          "base_uri": "https://localhost:8080/"
        },
        "id": "Hr1RNlaHw-T-",
        "outputId": "c7f52632-441e-4043-c701-ee64684e750f"
      },
      "execution_count": 8,
      "outputs": [
        {
          "output_type": "execute_result",
          "data": {
            "text/plain": [
              "1996"
            ]
          },
          "metadata": {},
          "execution_count": 8
        }
      ]
    },
    {
      "cell_type": "code",
      "source": [
        " if b > max:\n",
        "  max = b\n",
        "    print(max)\n",
        "  max = a"
      ],
      "metadata": {
        "colab": {
          "base_uri": "https://localhost:8080/",
          "height": 131
        },
        "id": "hOQpCk1ayjPD",
        "outputId": "9f981a65-3e58-4a73-853a-e7d7880d848c"
      },
      "execution_count": 12,
      "outputs": [
        {
          "output_type": "error",
          "ename": "IndentationError",
          "evalue": "ignored",
          "traceback": [
            "\u001b[0;36m  File \u001b[0;32m\"<ipython-input-12-982d3d196ab2>\"\u001b[0;36m, line \u001b[0;32m3\u001b[0m\n\u001b[0;31m    print(max)\u001b[0m\n\u001b[0m    ^\u001b[0m\n\u001b[0;31mIndentationError\u001b[0m\u001b[0;31m:\u001b[0m unexpected indent\n"
          ]
        }
      ]
    },
    {
      "cell_type": "code",
      "source": [
        "i =0\n",
        "number=int(input('Please enter a number: '))\n",
        "while i < number:\n",
        "    print(i**2)\n",
        "    i+=1"
      ],
      "metadata": {
        "colab": {
          "base_uri": "https://localhost:8080/"
        },
        "id": "C4HFnFp35ZyR",
        "outputId": "7af67568-04fa-48b9-af73-403a284c7d2c"
      },
      "execution_count": 17,
      "outputs": [
        {
          "output_type": "stream",
          "name": "stdout",
          "text": [
            "Please enter a number: 3\n",
            "0\n",
            "1\n",
            "4\n"
          ]
        }
      ]
    },
    {
      "cell_type": "code",
      "source": [
        "fishes.txt='''Orca is a kind of Dolphin.\n",
        "Blue Whale is the largest animal known on earth.\n",
        "Sharks are the sister group to the Rays (batoids).\n",
        "The Tuna Fish can weigh up to 260 kg.\n",
        "Squid and Octopus are in the same class'''\n",
        "my_file = open('fishes.txt')\n",
        "for line in my_file:\n",
        "  print(my_file.readlines)\n",
        "my_file.close()"
      ],
      "metadata": {
        "colab": {
          "base_uri": "https://localhost:8080/",
          "height": 305
        },
        "id": "CoqqpiUJ1FxE",
        "outputId": "9f64dae3-b495-449e-c358-c3c228cec65a"
      },
      "execution_count": 5,
      "outputs": [
        {
          "output_type": "stream",
          "name": "stderr",
          "text": [
            "ERROR:root:An unexpected error occurred while tokenizing input\n",
            "The following traceback may be corrupted or invalid\n",
            "The error message is: ('EOF in multi-line string', (1, 39))\n",
            "\n"
          ]
        },
        {
          "output_type": "error",
          "ename": "NameError",
          "evalue": "ignored",
          "traceback": [
            "\u001b[0;31m---------------------------------------------------------------------------\u001b[0m",
            "\u001b[0;31mNameError\u001b[0m                                 Traceback (most recent call last)",
            "\u001b[0;32m<ipython-input-5-473555811b37>\u001b[0m in \u001b[0;36m<module>\u001b[0;34m()\u001b[0m\n\u001b[1;32m      3\u001b[0m \u001b[0mSharks\u001b[0m \u001b[0mare\u001b[0m \u001b[0mthe\u001b[0m \u001b[0msister\u001b[0m \u001b[0mgroup\u001b[0m \u001b[0mto\u001b[0m \u001b[0mthe\u001b[0m \u001b[0mRays\u001b[0m \u001b[0;34m(\u001b[0m\u001b[0mbatoids\u001b[0m\u001b[0;34m)\u001b[0m\u001b[0;34m.\u001b[0m\u001b[0;34m\u001b[0m\u001b[0;34m\u001b[0m\u001b[0m\n\u001b[1;32m      4\u001b[0m \u001b[0mThe\u001b[0m \u001b[0mTuna\u001b[0m \u001b[0mFish\u001b[0m \u001b[0mcan\u001b[0m \u001b[0mweigh\u001b[0m \u001b[0mup\u001b[0m \u001b[0mto\u001b[0m \u001b[0;36m260\u001b[0m \u001b[0mkg\u001b[0m\u001b[0;34m.\u001b[0m\u001b[0;34m\u001b[0m\u001b[0;34m\u001b[0m\u001b[0m\n\u001b[0;32m----> 5\u001b[0;31m Squid and Octopus are in the same class'''\n\u001b[0m\u001b[1;32m      6\u001b[0m \u001b[0mmy_file\u001b[0m \u001b[0;34m=\u001b[0m \u001b[0mopen\u001b[0m\u001b[0;34m(\u001b[0m\u001b[0;34m'fishes.txt'\u001b[0m\u001b[0;34m)\u001b[0m\u001b[0;34m\u001b[0m\u001b[0;34m\u001b[0m\u001b[0m\n\u001b[1;32m      7\u001b[0m \u001b[0;32mfor\u001b[0m \u001b[0mline\u001b[0m \u001b[0;32min\u001b[0m \u001b[0mmy_file\u001b[0m\u001b[0;34m:\u001b[0m\u001b[0;34m\u001b[0m\u001b[0;34m\u001b[0m\u001b[0m\n",
            "\u001b[0;31mNameError\u001b[0m: name 'fishes' is not defined"
          ]
        }
      ]
    },
    {
      "cell_type": "code",
      "source": [
        "my_file = open(\"fishes.txt\", \"r\")\n",
        "\n",
        "print(my_file.readlines())"
      ],
      "metadata": {
        "colab": {
          "base_uri": "https://localhost:8080/",
          "height": 201
        },
        "id": "nkqwyNWI97Gz",
        "outputId": "e09d57f6-8710-4346-88d2-741d2e171dbc"
      },
      "execution_count": 7,
      "outputs": [
        {
          "output_type": "error",
          "ename": "FileNotFoundError",
          "evalue": "ignored",
          "traceback": [
            "\u001b[0;31m---------------------------------------------------------------------------\u001b[0m",
            "\u001b[0;31mFileNotFoundError\u001b[0m                         Traceback (most recent call last)",
            "\u001b[0;32m<ipython-input-7-b5b5e5d02509>\u001b[0m in \u001b[0;36m<module>\u001b[0;34m()\u001b[0m\n\u001b[0;32m----> 1\u001b[0;31m \u001b[0mmy_file\u001b[0m \u001b[0;34m=\u001b[0m \u001b[0mopen\u001b[0m\u001b[0;34m(\u001b[0m\u001b[0;34m\"fishes.txt\"\u001b[0m\u001b[0;34m,\u001b[0m \u001b[0;34m\"r\"\u001b[0m\u001b[0;34m)\u001b[0m\u001b[0;34m\u001b[0m\u001b[0;34m\u001b[0m\u001b[0m\n\u001b[0m\u001b[1;32m      2\u001b[0m \u001b[0;34m\u001b[0m\u001b[0m\n\u001b[1;32m      3\u001b[0m \u001b[0mprint\u001b[0m\u001b[0;34m(\u001b[0m\u001b[0mmy_file\u001b[0m\u001b[0;34m.\u001b[0m\u001b[0mreadlines\u001b[0m\u001b[0;34m(\u001b[0m\u001b[0;34m)\u001b[0m\u001b[0;34m)\u001b[0m\u001b[0;34m\u001b[0m\u001b[0;34m\u001b[0m\u001b[0m\n",
            "\u001b[0;31mFileNotFoundError\u001b[0m: [Errno 2] No such file or directory: 'fishes.txt'"
          ]
        }
      ]
    },
    {
      "cell_type": "code",
      "source": [
        "i = 4\n",
        "\n",
        "while i < 8:\n",
        "    print(i)\n",
        "    i += 1"
      ],
      "metadata": {
        "id": "wKU6yKYR6SZg"
      },
      "execution_count": null,
      "outputs": []
    }
  ]
}