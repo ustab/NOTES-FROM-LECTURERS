{
  "nbformat": 4,
  "nbformat_minor": 0,
  "metadata": {
    "colab": {
      "name": "Untitled88.ipynb",
      "provenance": [],
      "authorship_tag": "ABX9TyML2iCT0xTRbwLas5pulBGC",
      "include_colab_link": true
    },
    "kernelspec": {
      "name": "python3",
      "display_name": "Python 3"
    },
    "language_info": {
      "name": "python"
    }
  },
  "cells": [
    {
      "cell_type": "markdown",
      "metadata": {
        "id": "view-in-github",
        "colab_type": "text"
      },
      "source": [
        "<a href=\"https://colab.research.google.com/github/ustab/NOTES-FROM-LECTURERS/blob/main/Untitled88.ipynb\" target=\"_parent\"><img src=\"https://colab.research.google.com/assets/colab-badge.svg\" alt=\"Open In Colab\"/></a>"
      ]
    },
    {
      "cell_type": "code",
      "execution_count": null,
      "metadata": {
        "id": "pfQg917qqktx",
        "colab": {
          "base_uri": "https://localhost:8080/"
        },
        "outputId": "24d09474-ab05-453c-983b-fa87606e33ff"
      },
      "outputs": [
        {
          "output_type": "stream",
          "name": "stdout",
          "text": [
            "how many time s should I say 'i love you5\n",
            "I love you\n",
            "I love you\n",
            "I love you\n",
            "I love you\n",
            "I love you\n"
          ]
        }
      ],
      "source": [
        "times=int(input(\"how many time s should I say 'i love you\"))\n",
        "for i in range(times):\n",
        "  print('I love you')"
      ]
    },
    {
      "cell_type": "code",
      "source": [
        ""
      ],
      "metadata": {
        "id": "LLOOh54jChdL"
      },
      "execution_count": null,
      "outputs": []
    },
    {
      "cell_type": "code",
      "source": [
        ""
      ],
      "metadata": {
        "id": "jRsmX0qXGvpZ"
      },
      "execution_count": null,
      "outputs": []
    },
    {
      "cell_type": "markdown",
      "source": [
        "This time, write a code block that asks the user a\n",
        "number between 1 and 10 then puts that number into the\n",
        "multiplication table"
      ],
      "metadata": {
        "id": "K6bfrRROCmh9"
      }
    },
    {
      "cell_type": "code",
      "source": [
        "number=int(input(\"1-10\"))\n",
        "for i in range(11):\n",
        "   print('{}x{}='.format(number,i), number*i)\n"
      ],
      "metadata": {
        "colab": {
          "base_uri": "https://localhost:8080/"
        },
        "id": "0Z-_xYzmC10H",
        "outputId": "51cd087a-4846-4934-9416-98537881a5c6"
      },
      "execution_count": null,
      "outputs": [
        {
          "output_type": "stream",
          "name": "stdout",
          "text": [
            "1-105\n",
            "5x0= 0\n",
            "5x1= 5\n",
            "5x2= 10\n",
            "5x3= 15\n",
            "5x4= 20\n",
            "5x5= 25\n",
            "5x6= 30\n",
            "5x7= 35\n",
            "5x8= 40\n",
            "5x9= 45\n",
            "5x10= 50\n"
          ]
        }
      ]
    },
    {
      "cell_type": "code",
      "source": [
        "b=tuple(range(11))\n",
        "print(b)"
      ],
      "metadata": {
        "colab": {
          "base_uri": "https://localhost:8080/"
        },
        "id": "0DamDkk9GU6k",
        "outputId": "f108de2d-ccf9-453d-e61b-fbaa0efb437d"
      },
      "execution_count": null,
      "outputs": [
        {
          "output_type": "stream",
          "name": "stdout",
          "text": [
            "(0, 1, 2, 3, 4, 5, 6, 7, 8, 9, 10)\n"
          ]
        }
      ]
    },
    {
      "cell_type": "code",
      "source": [
        "b=list(range(11))\n",
        "print(b)"
      ],
      "metadata": {
        "colab": {
          "base_uri": "https://localhost:8080/"
        },
        "id": "_4rL290sGx4x",
        "outputId": "a79c976b-b49d-4ffb-fb9f-71f36c61f1eb"
      },
      "execution_count": null,
      "outputs": [
        {
          "output_type": "stream",
          "name": "stdout",
          "text": [
            "[0, 1, 2, 3, 4, 5, 6, 7, 8, 9, 10]\n"
          ]
        }
      ]
    },
    {
      "cell_type": "code",
      "source": [
        "renkler=[\"siyah\",\"beyaz\",\"sari\",\"mavi\",\"yesil\"]\n",
        "print(renkler[3:])"
      ],
      "metadata": {
        "colab": {
          "base_uri": "https://localhost:8080/"
        },
        "id": "696-V63rPWH0",
        "outputId": "e5745c9d-9077-4d59-d52d-fb69e5cebb81"
      },
      "execution_count": 1,
      "outputs": [
        {
          "output_type": "stream",
          "name": "stdout",
          "text": [
            "['mavi', 'yesil']\n"
          ]
        }
      ]
    },
    {
      "cell_type": "code",
      "source": [
        "print(renkler[::2])"
      ],
      "metadata": {
        "colab": {
          "base_uri": "https://localhost:8080/"
        },
        "id": "mD1jYrsmpvEK",
        "outputId": "2b3f6769-6903-420f-8ddf-a79b1c2c7f04"
      },
      "execution_count": 4,
      "outputs": [
        {
          "output_type": "stream",
          "name": "stdout",
          "text": [
            "['siyah', 'sari', 'yesil']\n"
          ]
        }
      ]
    },
    {
      "cell_type": "code",
      "source": [
        "renkler=[\"siyah\",\"beyaz\",\"sari\",\"mavi\",\"yesil\"]\n",
        "renkler.insert(0,\"gray\")\n",
        "#print(renkler)\n",
        "renkler.remove(\"sari\")\n",
        "print(renkler)"
      ],
      "metadata": {
        "colab": {
          "base_uri": "https://localhost:8080/"
        },
        "id": "zshCsdCDqH94",
        "outputId": "23ccbe4c-3ab8-4be8-8c1b-7e8be467815f"
      },
      "execution_count": 15,
      "outputs": [
        {
          "output_type": "stream",
          "name": "stdout",
          "text": [
            "['gray', 'siyah', 'beyaz', 'mavi', 'yesil']\n"
          ]
        }
      ]
    },
    {
      "cell_type": "code",
      "source": [
        "renkler2=[\"iyah\",\"eyaz\",\"ari\",\"avi\",\"esil\"]\n",
        "#renkler.insert(0,\"gray\")\n",
        "#print(renkler)\n",
        "renkler=[\"siyah\",\"beyaz\",\"sari\",\"mavi\",\"yesil\"]\n",
        "renkler.append(renkler2)\n",
        "print(renkler)\n",
        "renkler.remove(renkler2)\n",
        "renkler.extend(renkler2)#liste2 bire eklenir\n",
        "print(renkler)\n",
        "silinen=renkler.pop()#silinmis olan ogeyi gosterir\n",
        "print(silinen)\n",
        "print(renkler)\n",
        "renkler.reverse()#bundan sonraki print listeyi tersinden yazdirir\n",
        "print(renkler)\n"
      ],
      "metadata": {
        "colab": {
          "base_uri": "https://localhost:8080/"
        },
        "id": "I-N_N-QOriJq",
        "outputId": "aa7c537f-3362-48bb-c110-7646edb019f3"
      },
      "execution_count": 29,
      "outputs": [
        {
          "output_type": "stream",
          "name": "stdout",
          "text": [
            "['siyah', 'beyaz', 'sari', 'mavi', 'yesil', ['iyah', 'eyaz', 'ari', 'avi', 'esil']]\n",
            "['siyah', 'beyaz', 'sari', 'mavi', 'yesil', 'iyah', 'eyaz', 'ari', 'avi', 'esil']\n",
            "esil\n",
            "['siyah', 'beyaz', 'sari', 'mavi', 'yesil', 'iyah', 'eyaz', 'ari', 'avi']\n",
            "['avi', 'ari', 'eyaz', 'iyah', 'yesil', 'mavi', 'sari', 'beyaz', 'siyah']\n"
          ]
        }
      ]
    },
    {
      "cell_type": "code",
      "source": [
        "from typing import Reversible\n",
        "renkler=[\"iyah\",\"eyaz\",\"ari\",\"avi\",\"esil\"]\n",
        "renkler.sort()\n",
        "\n",
        "print(renkler)\n",
        "print(renkler)\n",
        "renkler.reverse()\n",
        "print(renkler)\n",
        "renkler.sort()\n",
        "print(renkler)\n",
        "renkler.sort(reverse=True)\n",
        "print(renkler)\n",
        "renkler.reverse()\n",
        "print(renkler)\n",
        "renkler.sort(reverse=True)\n",
        "print(renkler)\n",
        "renkler.sort(reverse=True)\n",
        "print(renkler)"
      ],
      "metadata": {
        "colab": {
          "base_uri": "https://localhost:8080/"
        },
        "id": "Mgllly5zvhGn",
        "outputId": "223549b5-8d10-470b-9907-a89d32ee6f7d"
      },
      "execution_count": 16,
      "outputs": [
        {
          "output_type": "stream",
          "name": "stdout",
          "text": [
            "['ari', 'avi', 'esil', 'eyaz', 'iyah']\n",
            "['ari', 'avi', 'esil', 'eyaz', 'iyah']\n",
            "['iyah', 'eyaz', 'esil', 'avi', 'ari']\n",
            "['ari', 'avi', 'esil', 'eyaz', 'iyah']\n",
            "['iyah', 'eyaz', 'esil', 'avi', 'ari']\n",
            "['ari', 'avi', 'esil', 'eyaz', 'iyah']\n",
            "['iyah', 'eyaz', 'esil', 'avi', 'ari']\n",
            "['iyah', 'eyaz', 'esil', 'avi', 'ari']\n"
          ]
        }
      ]
    },
    {
      "cell_type": "code",
      "source": [
        "renkler=[\"iyah\",\"eyaz\",\"kari\",\"zavi\",\"esil\",\"siyah\",\"beyaz\",\"sari\",\"mavi\",\"yesil\"]\n",
        "sayilar=[1,2,3,4,5,6,7,9,5]\n",
        "print(max(sayilar))\n",
        "print(min(sayilar))\n",
        "print(max(renkler))#alfebetik olarak en ileride olani gorulur\n",
        "print(min(renkler))#alfebetik olarak en beride olani gorulur"
      ],
      "metadata": {
        "colab": {
          "base_uri": "https://localhost:8080/"
        },
        "id": "P2dijGK6kXLB",
        "outputId": "3514b376-64c6-4b4a-bfea-f7a9bf9012b4"
      },
      "execution_count": 25,
      "outputs": [
        {
          "output_type": "stream",
          "name": "stdout",
          "text": [
            "9\n",
            "1\n",
            "zavi\n",
            "beyaz\n"
          ]
        }
      ]
    },
    {
      "cell_type": "code",
      "source": [
        "def mean(mean):\n",
        "  mean = sum(sayilar)/len(sayilar)\n",
        "renkler=[\"iyah\",\"eyaz\",\"kari\",\"zavi\",\"esil\",\"siyah\",\"beyaz\",\"sari\",\"mavi\",\"yesil\"]\n",
        "sayilar=[1,2,3,4,5,6,7,9,5]\n",
        "lensayilar=len(sayilar)\n",
        "print(lensayilar)\n",
        "print(sum(sayilar))\n",
        "print(max(sayilar))\n",
        "mean=(lambda i:sum(sayilar)/len(sayilar), sayilar)\n",
        "print(mean)\n",
        "print(list(mean))\n"
      ],
      "metadata": {
        "colab": {
          "base_uri": "https://localhost:8080/"
        },
        "id": "eKD9psO6loAQ",
        "outputId": "50fd5b8c-48ad-45b3-c92c-19c3fa733c57"
      },
      "execution_count": 53,
      "outputs": [
        {
          "output_type": "stream",
          "name": "stdout",
          "text": [
            "9\n",
            "42\n",
            "9\n",
            "(<function <lambda> at 0x7f9fd98aedd0>, [1, 2, 3, 4, 5, 6, 7, 9, 5])\n",
            "[<function <lambda> at 0x7f9fd98aedd0>, [1, 2, 3, 4, 5, 6, 7, 9, 5]]\n"
          ]
        }
      ]
    },
    {
      "cell_type": "code",
      "source": [
        "renkler=[\"iyah\",\"eyaz\",\"kari\",\"zavi\",\"esil\",\"siyah\",\"beyaz\",\"sari\",\"mavi\",\"yesil\"]\n",
        "print(\"kirmizi\" in renkler)\n",
        "print(\"iyah\" and \"mavi\" in renkler)\n",
        "print( (\"zavi\" or \"mavi\") and \"sekari\" in renkler)"
      ],
      "metadata": {
        "colab": {
          "base_uri": "https://localhost:8080/"
        },
        "id": "iJlYtnEpp1va",
        "outputId": "d249d5f9-f634-4340-bc50-35398a38de47"
      },
      "execution_count": 50,
      "outputs": [
        {
          "output_type": "stream",
          "name": "stdout",
          "text": [
            "False\n",
            "True\n",
            "False\n"
          ]
        }
      ]
    },
    {
      "cell_type": "code",
      "source": [
        "liste=[\"iyah\",\"eyaz\",\"kari\",\"zavi\",\"esil\",\"siyah\",\"beyaz\",\"sari\",\"mavi\",\"yesil\"]\n",
        "stringliste=\"  \".join(liste)\n",
        "print(type(stringliste))\n",
        "print(liste)\n",
        "print(stringliste)\n"
      ],
      "metadata": {
        "colab": {
          "base_uri": "https://localhost:8080/"
        },
        "id": "KszUsy5Oq6-Y",
        "outputId": "882f9a55-ff01-42e8-8978-0af97f75ca56"
      },
      "execution_count": 58,
      "outputs": [
        {
          "output_type": "stream",
          "name": "stdout",
          "text": [
            "<class 'str'>\n",
            "['iyah', 'eyaz', 'kari', 'zavi', 'esil', 'siyah', 'beyaz', 'sari', 'mavi', 'yesil']\n",
            "iyah  eyaz  kari  zavi  esil  siyah  beyaz  sari  mavi  yesil\n"
          ]
        }
      ]
    },
    {
      "cell_type": "code",
      "source": [
        "for i in renkler:\n",
        "  print(i, end=\" \")"
      ],
      "metadata": {
        "colab": {
          "base_uri": "https://localhost:8080/"
        },
        "id": "NrUf6MXbopZK",
        "outputId": "b651e532-1974-4a6b-e52b-308a19fe7ec8"
      },
      "execution_count": 35,
      "outputs": [
        {
          "output_type": "stream",
          "name": "stdout",
          "text": [
            "iyah eyaz kari zavi esil siyah beyaz sari mavi yesil "
          ]
        }
      ]
    },
    {
      "cell_type": "code",
      "source": [
        "liste=[\"iyah\",\"eyaz\",\"kari\",\"zavi\",\"esil\",\"siyah\",\"beyaz\",\"sari\",\"mavi\",\"yesil\"]\n",
        "print(stringliste)\n"
      ],
      "metadata": {
        "colab": {
          "base_uri": "https://localhost:8080/"
        },
        "id": "1SvA7QQdusBD",
        "outputId": "0431b4d2-70d3-4a22-be94-64023b9e2131"
      },
      "execution_count": 68,
      "outputs": [
        {
          "output_type": "stream",
          "name": "stdout",
          "text": [
            "iyah  eyaz  kari  zavi  esil  siyah  beyaz  sari  mavi  yesil\n"
          ]
        }
      ]
    },
    {
      "cell_type": "code",
      "source": [
        "liste=[\"iyah\",\"eyaz\",\"kari\",\"zavi\",\"esil\",\"siyah\",\"beyaz\",\"sari\",\"mavi\",\"yesil\"]\n",
        "liste2=stringliste.split(\"...\")\n",
        "print(liste2)\n"
      ],
      "metadata": {
        "colab": {
          "base_uri": "https://localhost:8080/"
        },
        "id": "iArRJ1A2wVtc",
        "outputId": "10889f73-071d-46a3-de28-2929465cdbd4"
      },
      "execution_count": 72,
      "outputs": [
        {
          "output_type": "stream",
          "name": "stdout",
          "text": [
            "['iyah  eyaz  kari  zavi  esil  siyah  beyaz  sari  mavi  yesil']\n"
          ]
        }
      ]
    },
    {
      "cell_type": "code",
      "source": [
        "#istedigim harfi silerek bolebilirim(split ile)  \n",
        "\n",
        "liste=[\"zaiyah\",\"eyzaz\",\"kari\",\"zavi\",\"esil\",\"siyah\",\"beyaz\",\"sari\",\"mavi\",\"yesil\"]\n",
        "stringliste2=stringliste.split('a')\n",
        "print(stringliste2)\n",
        "stringliste2=stringliste.split('e')\n",
        "print(stringliste2)"
      ],
      "metadata": {
        "colab": {
          "base_uri": "https://localhost:8080/"
        },
        "id": "wWG3Zj7Yw0Or",
        "outputId": "81d49eb4-a083-4030-cc09-eee0895b248e"
      },
      "execution_count": 84,
      "outputs": [
        {
          "output_type": "stream",
          "name": "stdout",
          "text": [
            "['iy', 'h  ey', 'z  k', 'ri  z', 'vi  esil  siy', 'h  bey', 'z  s', 'ri  m', 'vi  yesil']\n",
            "['iyah  ', 'yaz  kari  zavi  ', 'sil  siyah  b', 'yaz  sari  mavi  y', 'sil']\n"
          ]
        }
      ]
    },
    {
      "cell_type": "code",
      "source": [
        ""
      ],
      "metadata": {
        "id": "BaTPbIchzEzb"
      },
      "execution_count": null,
      "outputs": []
    },
    {
      "cell_type": "code",
      "source": [
        " "
      ],
      "metadata": {
        "id": "xZbKHR7WxVqV"
      },
      "execution_count": null,
      "outputs": []
    },
    {
      "cell_type": "code",
      "source": [
        "print(list(enumerate(renkler, start=0)))\n",
        "print(list(enumerate(renkler, start=4)))"
      ],
      "metadata": {
        "colab": {
          "base_uri": "https://localhost:8080/"
        },
        "id": "tuG02yWJo1pS",
        "outputId": "eb67a0d8-8cd1-4ec1-edc6-87b94402bc6e"
      },
      "execution_count": 42,
      "outputs": [
        {
          "output_type": "stream",
          "name": "stdout",
          "text": [
            "[(0, 'iyah'), (1, 'eyaz'), (2, 'kari'), (3, 'zavi'), (4, 'esil'), (5, 'siyah'), (6, 'beyaz'), (7, 'sari'), (8, 'mavi'), (9, 'yesil')]\n",
            "[(4, 'iyah'), (5, 'eyaz'), (6, 'kari'), (7, 'zavi'), (8, 'esil'), (9, 'siyah'), (10, 'beyaz'), (11, 'sari'), (12, 'mavi'), (13, 'yesil')]\n"
          ]
        }
      ]
    },
    {
      "cell_type": "code",
      "source": [
        "#bu ana  kadar listenin orjinali degisti.egerki listeyi gecici olarak degistirip orjinalini bozmak istemiyorsak \n",
        "#sorted fonksiyonu ile soyle yapacaz;\n",
        "renkler=[\"iyah\",\"eyaz\",\"ari\",\"avi\",\"esil\"]#bu orjinal listemiz olsun. uzerinde caliscam ama orjinalini bozmayacagim\n",
        "liste2=sorted(renkler)\n",
        "print(liste2)\n"
      ],
      "metadata": {
        "colab": {
          "base_uri": "https://localhost:8080/"
        },
        "id": "rrSlDGSaiPXy",
        "outputId": "45a7a63f-1945-4f99-9c81-cefecd53769f"
      },
      "execution_count": 18,
      "outputs": [
        {
          "output_type": "stream",
          "name": "stdout",
          "text": [
            "['ari', 'avi', 'esil', 'eyaz', 'iyah']\n"
          ]
        }
      ]
    },
    {
      "cell_type": "code",
      "source": [
        "b=set(range(11))\n",
        "print(b)"
      ],
      "metadata": {
        "colab": {
          "base_uri": "https://localhost:8080/"
        },
        "id": "cERUvkg_KS9D",
        "outputId": "987cd354-c010-4439-bdcc-7bcab215d178"
      },
      "execution_count": null,
      "outputs": [
        {
          "output_type": "stream",
          "name": "stdout",
          "text": [
            "{0, 1, 2, 3, 4, 5, 6, 7, 8, 9, 10}\n"
          ]
        }
      ]
    },
    {
      "cell_type": "code",
      "source": [
        "a=set(range(0,10))\n",
        "print(a)"
      ],
      "metadata": {
        "colab": {
          "base_uri": "https://localhost:8080/"
        },
        "id": "4xXReZrvKXWx",
        "outputId": "53f19ba2-2109-4f24-d7f4-5a7f884f958f"
      },
      "execution_count": null,
      "outputs": [
        {
          "output_type": "stream",
          "name": "stdout",
          "text": [
            "{0, 1, 2, 3, 4, 5, 6, 7, 8, 9}\n"
          ]
        }
      ]
    },
    {
      "cell_type": "code",
      "source": [
        "a=tuple(range(0,10))\n",
        "print(a)"
      ],
      "metadata": {
        "colab": {
          "base_uri": "https://localhost:8080/"
        },
        "id": "k2HuuVsGUkZ5",
        "outputId": "f92a1008-5b24-4219-83c0-8fb571abfcaa"
      },
      "execution_count": null,
      "outputs": [
        {
          "output_type": "stream",
          "name": "stdout",
          "text": [
            "(0, 1, 2, 3, 4, 5, 6, 7, 8, 9)\n"
          ]
        }
      ]
    },
    {
      "cell_type": "code",
      "source": [
        "print(*range(0,10))"
      ],
      "metadata": {
        "colab": {
          "base_uri": "https://localhost:8080/"
        },
        "id": "T8_0eY8hUwk3",
        "outputId": "1acde9ef-145e-4e96-e19c-6aab85fd8a75"
      },
      "execution_count": null,
      "outputs": [
        {
          "output_type": "stream",
          "name": "stdout",
          "text": [
            "0 1 2 3 4 5 6 7 8 9\n"
          ]
        }
      ]
    },
    {
      "cell_type": "code",
      "source": [
        "print(*range(0,10))"
      ],
      "metadata": {
        "colab": {
          "base_uri": "https://localhost:8080/"
        },
        "id": "gAfQebUBVJLv",
        "outputId": "80bd426f-c89e-4726-ca4d-0d3b5852afd1"
      },
      "execution_count": null,
      "outputs": [
        {
          "output_type": "stream",
          "name": "stdout",
          "text": [
            "0 3 6 9\n"
          ]
        }
      ]
    },
    {
      "cell_type": "code",
      "source": [
        "print((*'''expressioncanalsobeusedto\n",
        "separatetheotheriterableobjectsSuch'''.split(\" \\n\")))"
      ],
      "metadata": {
        "colab": {
          "base_uri": "https://localhost:8080/"
        },
        "id": "8hC8oW-JVb1y",
        "outputId": "efa45641-07df-448d-acca-4b157ccd446e"
      },
      "execution_count": null,
      "outputs": [
        {
          "output_type": "stream",
          "name": "stdout",
          "text": [
            "expressioncanalsobeusedto\n",
            "separatetheotheriterableobjectsSuch\n"
          ]
        }
      ]
    },
    {
      "cell_type": "code",
      "source": [
        "print(*range(10,0,-2))"
      ],
      "metadata": {
        "colab": {
          "base_uri": "https://localhost:8080/"
        },
        "id": "2R_QR7AoXQwm",
        "outputId": "ec87bb7f-7112-4c5a-b617-5347893e4b6e"
      },
      "execution_count": null,
      "outputs": [
        {
          "output_type": "stream",
          "name": "stdout",
          "text": [
            "10 8 6 4 2\n"
          ]
        }
      ]
    },
    {
      "cell_type": "code",
      "source": [
        "text=['one','two','three','four', 'five']\n",
        "numbers=[1,2,3,4,5]\n",
        "for x,y in zip(text, numbers):\n",
        "  print(x, ':' ,y)"
      ],
      "metadata": {
        "colab": {
          "base_uri": "https://localhost:8080/"
        },
        "id": "dvmlu6zwXeR_",
        "outputId": "b2d9df5a-f07c-4fcd-e8c7-51299db651cb"
      },
      "execution_count": null,
      "outputs": [
        {
          "output_type": "stream",
          "name": "stdout",
          "text": [
            "one : 1\n",
            "two : 2\n",
            "three : 3\n",
            "four : 4\n",
            "five : 5\n"
          ]
        }
      ]
    },
    {
      "cell_type": "code",
      "source": [
        "odd=[]\n",
        "even=[]\n",
        "numbers=int(input(\"1....10\")\n",
        "for i in range(10):\n",
        "     if i% 2==0:\n",
        "       even.append(i)\n",
        "     else:\n",
        "       odd.append(i)\n",
        "print(even)\n",
        "print(odd)"
      ],
      "metadata": {
        "colab": {
          "base_uri": "https://localhost:8080/",
          "height": 135
        },
        "id": "hXQSy_YNZ6e8",
        "outputId": "c934a4d8-1b45-4e00-b8a1-a29ca7dd0a9f"
      },
      "execution_count": null,
      "outputs": [
        {
          "output_type": "error",
          "ename": "SyntaxError",
          "evalue": "ignored",
          "traceback": [
            "\u001b[0;36m  File \u001b[0;32m\"<ipython-input-57-03edad5f0242>\"\u001b[0;36m, line \u001b[0;32m4\u001b[0m\n\u001b[0;31m    for i in range(10):\u001b[0m\n\u001b[0m                      ^\u001b[0m\n\u001b[0;31mSyntaxError\u001b[0m\u001b[0;31m:\u001b[0m invalid syntax\n"
          ]
        }
      ]
    }
  ]
}