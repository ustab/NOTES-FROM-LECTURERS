{
  "nbformat": 4,
  "nbformat_minor": 0,
  "metadata": {
    "colab": {
      "name": "Untitled104.ipynb",
      "provenance": [],
      "authorship_tag": "ABX9TyMjUsKrZSC0VT/kEwFC9eP6",
      "include_colab_link": true
    },
    "kernelspec": {
      "name": "python3",
      "display_name": "Python 3"
    },
    "language_info": {
      "name": "python"
    }
  },
  "cells": [
    {
      "cell_type": "markdown",
      "metadata": {
        "id": "view-in-github",
        "colab_type": "text"
      },
      "source": [
        "<a href=\"https://colab.research.google.com/github/ustab/NOTES-FROM-LECTURERS/blob/main/Untitled104.ipynb\" target=\"_parent\"><img src=\"https://colab.research.google.com/assets/colab-badge.svg\" alt=\"Open In Colab\"/></a>"
      ]
    },
    {
      "cell_type": "code",
      "execution_count": 21,
      "metadata": {
        "colab": {
          "base_uri": "https://localhost:8080/"
        },
        "id": "lMLNpH3jXfFC",
        "outputId": "4ceedf65-215e-4ba1-9c77-1b85d6eb36b7"
      },
      "outputs": [
        {
          "output_type": "stream",
          "name": "stdout",
          "text": [
            "FizzBuzz= [15, ['FizzBuzz'], 45, 60, 75, 90]\n",
            "Fiz= [3, 6, 9, 12, 18, 21, 24, 27, 33, 36, 39, 42, 48, 51, 54, 57, 63, 66, 69, 72, 78, 81, 84, 87, 93, 96, 99]\n",
            "Buzz= [5, 10, 20, 25, 35, 40, 50, 55, 65, 70, 80, 85, 95]\n",
            "liste= [1, 2, 3, 4, 5, 6, 7, 8, 9, 10, 11, 12, 13, 14, 15, 16, 17, 18, 19, 20, 21, 22, 23, 24, 25, 26, 27, 28, 29, 30, 31, 32, 33, 34, 35, 36, 37, 38, 39, 40, 41, 42, 43, 44, 45, 46, 47, 48, 49, 50, 51, 52, 53, 54, 55, 56, 57, 58, 59, 60, 61, 62, 63, 64, 65, 66, 67, 68, 69, 70, 71, 72, 73, 74, 75, 76, 77, 78, 79, 80, 81, 82, 83, 84, 85, 86, 87, 88, 89, 90, 91, 92, 93, 94, 95, 96, 97, 98, 99]\n"
          ]
        }
      ],
      "source": [
        "FizzBuzz=[]\n",
        "Fizz=[]\n",
        "Buzz=[]\n",
        "for i in range(1,100):\n",
        "    if i % 3 == 0 and i % 5 == 0:\n",
        "        FizzBuzz.append(i)\n",
        "        continue\n",
        "    elif i % 3 == 0:\n",
        "        Fizz.append(i)\n",
        "        continue \n",
        "    elif i % 5 == 0:\n",
        "        Buzz.append(i)\n",
        "\n",
        "FizzBuzz[1]=[\"FizzBuzz\"]      \n",
        "print(\"FizzBuzz=\", f\"{FizzBuzz}\")\n",
        "print(\"Fiz=\", f\"{Fizz}\")\n",
        "print(\"Buzz=\", f\"{Buzz}\")\n",
        "print(\"liste=\",list(range(1,100)))"
      ]
    },
    {
      "cell_type": "code",
      "source": [
        "\n",
        "\n",
        "\n"
      ],
      "metadata": {
        "id": "CD8yBPLEY_Yv"
      },
      "execution_count": null,
      "outputs": []
    }
  ]
}