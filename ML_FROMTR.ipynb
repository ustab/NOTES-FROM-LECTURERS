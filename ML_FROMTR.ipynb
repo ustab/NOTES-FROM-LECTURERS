{
  "nbformat": 4,
  "nbformat_minor": 0,
  "metadata": {
    "colab": {
      "name": "ML FROMTR.ipynb",
      "private_outputs": true,
      "provenance": [],
      "authorship_tag": "ABX9TyPt9wximmH3I9kVz+auWcuI",
      "include_colab_link": true
    },
    "kernelspec": {
      "name": "python3",
      "display_name": "Python 3"
    },
    "language_info": {
      "name": "python"
    }
  },
  "cells": [
    {
      "cell_type": "markdown",
      "metadata": {
        "id": "view-in-github",
        "colab_type": "text"
      },
      "source": [
        "<a href=\"https://colab.research.google.com/github/ustab/NOTES-FROM-LECTURERS/blob/main/ML_FROMTR.ipynb\" target=\"_parent\"><img src=\"https://colab.research.google.com/assets/colab-badge.svg\" alt=\"Open In Colab\"/></a>"
      ]
    },
    {
      "cell_type": "code",
      "execution_count": null,
      "metadata": {
        "id": "QXvzuS748Z0X"
      },
      "outputs": [],
      "source": [
        " import pandas as pd"
      ]
    },
    {
      "cell_type": "code",
      "source": [
        "df_train=pd.read_csv('/content/train.csv')\n",
        "df_test=pd.read_csv('/content/test.csv')\n"
      ],
      "metadata": {
        "id": "IZi5CtnODeAI"
      },
      "execution_count": null,
      "outputs": []
    },
    {
      "cell_type": "code",
      "source": [
        "df_train.head()"
      ],
      "metadata": {
        "id": "RuoBv94cEEJU"
      },
      "execution_count": null,
      "outputs": []
    },
    {
      "cell_type": "code",
      "source": [
        "df_train.set_index(\"Id\", inplace=True)"
      ],
      "metadata": {
        "id": "gdSmqQy8EQ-e"
      },
      "execution_count": null,
      "outputs": []
    },
    {
      "cell_type": "code",
      "source": [
        "df_train.head()"
      ],
      "metadata": {
        "id": "owlaQwktFBts"
      },
      "execution_count": null,
      "outputs": []
    },
    {
      "cell_type": "code",
      "source": [
        "df_test.set_index(\"Id\", inplace=True)"
      ],
      "metadata": {
        "id": "yavd6YhMFOgb"
      },
      "execution_count": null,
      "outputs": []
    },
    {
      "cell_type": "code",
      "source": [
        "df_test.head()"
      ],
      "metadata": {
        "id": "clu8lW-sFlTU"
      },
      "execution_count": null,
      "outputs": []
    },
    {
      "cell_type": "code",
      "source": [
        "df_train.shape"
      ],
      "metadata": {
        "id": "8AQYThwnFu52"
      },
      "execution_count": null,
      "outputs": []
    },
    {
      "cell_type": "code",
      "source": [
        "df_test.shape"
      ],
      "metadata": {
        "id": "6j4PvjAcF2fj"
      },
      "execution_count": null,
      "outputs": []
    },
    {
      "cell_type": "code",
      "source": [
        "df_train.columns"
      ],
      "metadata": {
        "id": "XxUX2tHZF9Ol"
      },
      "execution_count": null,
      "outputs": []
    },
    {
      "cell_type": "code",
      "source": [
        "df_test.columns#sale price kolonu burda yok, cunku hedef degerimiz odur"
      ],
      "metadata": {
        "id": "bLCdG7ysGAWI"
      },
      "execution_count": null,
      "outputs": []
    },
    {
      "cell_type": "code",
      "source": [
        "df_train.dtypes"
      ],
      "metadata": {
        "id": "Yhi2FVTrGn-Z"
      },
      "execution_count": null,
      "outputs": []
    },
    {
      "cell_type": "code",
      "source": [
        "df_train.isnull().sum()"
      ],
      "metadata": {
        "id": "a0E2WHOiGNaK"
      },
      "execution_count": null,
      "outputs": []
    },
    {
      "cell_type": "code",
      "source": [
        "cols_with_null=df_train.isnull().sum().sort_values(ascending=False)"
      ],
      "metadata": {
        "id": "YloC9nl6HMqP"
      },
      "execution_count": null,
      "outputs": []
    },
    {
      "cell_type": "code",
      "source": [
        "cols_with_null.head(20)"
      ],
      "metadata": {
        "id": "ocax1Z5GH_U4"
      },
      "execution_count": null,
      "outputs": []
    },
    {
      "cell_type": "code",
      "source": [
        "df_train.isnull().sum().sum()"
      ],
      "metadata": {
        "id": "eDJcpjyWJHsF"
      },
      "execution_count": null,
      "outputs": []
    },
    {
      "cell_type": "code",
      "source": [
        "df_train.info()"
      ],
      "metadata": {
        "id": "d_zeg0tfJLjp"
      },
      "execution_count": null,
      "outputs": []
    },
    {
      "cell_type": "code",
      "source": [
        "df_train['SalePrice'].isnull().sum()"
      ],
      "metadata": {
        "id": "EHFNxiZ_JUhm"
      },
      "execution_count": null,
      "outputs": []
    },
    {
      "cell_type": "code",
      "source": [
        "#cok fazla eksik sutun olanlari veri setinden ayirmaliyiz"
      ],
      "metadata": {
        "id": "Ity7hrP3JUd6"
      },
      "execution_count": null,
      "outputs": []
    },
    {
      "cell_type": "code",
      "source": [
        "cols_to_drop=(cols_with_null.head(6).index).tolist()"
      ],
      "metadata": {
        "id": "5tJezQurJUaP"
      },
      "execution_count": null,
      "outputs": []
    },
    {
      "cell_type": "code",
      "source": [
        "cols_to_drop"
      ],
      "metadata": {
        "id": "A71d78BYL4lW"
      },
      "execution_count": null,
      "outputs": []
    },
    {
      "cell_type": "code",
      "source": [
        "df_train.drop(cols_to_drop, axis=1, inplace=True)"
      ],
      "metadata": {
        "id": "vYRogXmyMMVC"
      },
      "execution_count": null,
      "outputs": []
    },
    {
      "cell_type": "code",
      "source": [
        "df_test.drop(cols_to_drop, axis=1, inplace=True)"
      ],
      "metadata": {
        "id": "xv-ufRWiMesd"
      },
      "execution_count": null,
      "outputs": []
    },
    {
      "cell_type": "code",
      "source": [
        "df_train.shape"
      ],
      "metadata": {
        "id": "tOvnRgSLMkH9"
      },
      "execution_count": null,
      "outputs": []
    },
    {
      "cell_type": "code",
      "source": [
        "df_test.shape"
      ],
      "metadata": {
        "id": "8ooYCF56Mv1b"
      },
      "execution_count": null,
      "outputs": []
    },
    {
      "cell_type": "code",
      "source": [
        "df_train.describe().T"
      ],
      "metadata": {
        "id": "ZeI2cPpKNGT5"
      },
      "execution_count": null,
      "outputs": []
    },
    {
      "cell_type": "code",
      "source": [
        "y=df_train.SalePrice #bu sutunu hedef olarak ayiriyorum "
      ],
      "metadata": {
        "id": "VfmL5LHhOOAz"
      },
      "execution_count": null,
      "outputs": []
    },
    {
      "cell_type": "code",
      "source": [
        "X=df_train.drop(['SalePrice'], axis=1)"
      ],
      "metadata": {
        "id": "E_5C1iO2P2Ex"
      },
      "execution_count": null,
      "outputs": []
    },
    {
      "cell_type": "code",
      "source": [
        "from sklearn.model_selection import train_test_split"
      ],
      "metadata": {
        "id": "ILodoEc8Sk81"
      },
      "execution_count": null,
      "outputs": []
    },
    {
      "cell_type": "code",
      "source": [
        "X_train, X_val, y_train, y_val=train_test_split(X, y, train_size=0.8, random_state=0)"
      ],
      "metadata": {
        "id": "avYuyOtuS4fE"
      },
      "execution_count": null,
      "outputs": []
    },
    {
      "cell_type": "code",
      "source": [
        "categorical_cols=[cname for cname in X_train.columns if X_train[cname].nunique()<10 and X_train[cname].dtype==\"object\"]"
      ],
      "metadata": {
        "id": "6Hjl-KSaUIV6"
      },
      "execution_count": null,
      "outputs": []
    },
    {
      "cell_type": "markdown",
      "source": [
        "kategori coksa modele zarar verir dogal olarak 10 dan az kategorisi olanlari ve obje tipi olanlari seciyoruz"
      ],
      "metadata": {
        "id": "Cl1Yl063YgCM"
      }
    },
    {
      "cell_type": "code",
      "source": [
        "len(categorical_cols)"
      ],
      "metadata": {
        "id": "t9JHIXjsZb4Z"
      },
      "execution_count": null,
      "outputs": []
    },
    {
      "cell_type": "code",
      "source": [
        "numerical_cols=[cname for cname in X_train.columns if X_train[cname].dtype in [\"int64\", \"float64\"]]"
      ],
      "metadata": {
        "id": "jG_y2FTrae-O"
      },
      "execution_count": null,
      "outputs": []
    },
    {
      "cell_type": "code",
      "source": [
        "len(numerical_cols)"
      ],
      "metadata": {
        "id": "E6ejcd8Ra80u"
      },
      "execution_count": null,
      "outputs": []
    },
    {
      "cell_type": "code",
      "source": [
        "#4 sutunda 10 dan fazla kategori oldugundan onlari da setten cikaralim\n",
        "#toplam 74 sutundan 70 ini sectik kalan 4 u atiyoruz"
      ],
      "metadata": {
        "id": "phdjWsVKb51b"
      },
      "execution_count": null,
      "outputs": []
    },
    {
      "cell_type": "code",
      "source": [
        "my_cols=categorical_cols+numerical_cols"
      ],
      "metadata": {
        "id": "IWBYA1XQcJ4z"
      },
      "execution_count": null,
      "outputs": []
    },
    {
      "cell_type": "code",
      "source": [
        "X_train=X_train[my_cols]\n",
        "X_val=X_val[my_cols]\n",
        "X_test=df_test[my_cols]"
      ],
      "metadata": {
        "id": "2ppv3ly5cbpz"
      },
      "execution_count": null,
      "outputs": []
    },
    {
      "cell_type": "markdown",
      "source": [
        "pipeline adimlari birbirine baglar"
      ],
      "metadata": {
        "id": "uA2f90h_dI0R"
      }
    },
    {
      "cell_type": "code",
      "source": [
        "from sklearn.pipeline import Pipeline\n",
        "from sklearn.impute import SimpleImputer\n",
        "from sklearn.preprocessing import StandardScaler\n",
        "from sklearn.preprocessing import OneHotEncoder"
      ],
      "metadata": {
        "id": "dzC-ZZT4dOt2"
      },
      "execution_count": null,
      "outputs": []
    },
    {
      "cell_type": "code",
      "source": [
        "numerical_transformer = Pipeline(steps=[(\"imputer_num\", SimpleImputer(strategy=\"median\")),\n",
        "                                        (\"scaler\", StandardScaler())])"
      ],
      "metadata": {
        "id": "SxMThCkMdcmi"
      },
      "execution_count": null,
      "outputs": []
    },
    {
      "cell_type": "code",
      "source": [
        "#simdi olcekleme yapacagiz, standard scaler ile"
      ],
      "metadata": {
        "id": "2hXRrr59euN7"
      },
      "execution_count": null,
      "outputs": []
    },
    {
      "cell_type": "code",
      "source": [
        "categorical_transformer=Pipeline(steps=[\n",
        "    (\"imputer_cal\", SimpleImputer(strategy=\"most_frequent\")),\n",
        "    (\"onehot\", OneHotEncoder(handle_unknown=\"ignore\"))\n",
        "]# pipeline ile adimlari tek tek belirliyoruz"
      ],
      "metadata": {
        "id": "He1uczmEfF4n"
      },
      "execution_count": null,
      "outputs": []
    },
    {
      "cell_type": "code",
      "source": [
        "from sklearn.compose import ColumnTransformer"
      ],
      "metadata": {
        "id": "vGDInwZbhSFq"
      },
      "execution_count": null,
      "outputs": []
    },
    {
      "cell_type": "code",
      "source": [
        "preprocessor=ColumnTransformer(transformer=[(\"num\", numerical_transformer, numerical_cols),\n",
        "  (\"cat\", categorical_transformer, categorical_cols)                                          \n",
        "                                            ])"
      ],
      "metadata": {
        "id": "uN6UMDPbhkD7"
      },
      "execution_count": null,
      "outputs": []
    },
    {
      "cell_type": "markdown",
      "source": [
        "borulari dosedik simdi model kurma asamasindayiz"
      ],
      "metadata": {
        "id": "Jy1p7SUYixtk"
      }
    }
  ]
}