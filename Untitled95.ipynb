{
  "nbformat": 4,
  "nbformat_minor": 0,
  "metadata": {
    "colab": {
      "name": "Untitled95.ipynb",
      "provenance": [],
      "authorship_tag": "ABX9TyPia6aSGUUGH9IJH3BvSrsM",
      "include_colab_link": true
    },
    "kernelspec": {
      "name": "python3",
      "display_name": "Python 3"
    },
    "language_info": {
      "name": "python"
    }
  },
  "cells": [
    {
      "cell_type": "markdown",
      "metadata": {
        "id": "view-in-github",
        "colab_type": "text"
      },
      "source": [
        "<a href=\"https://colab.research.google.com/github/ustab/NOTES-FROM-LECTURERS/blob/main/Untitled95.ipynb\" target=\"_parent\"><img src=\"https://colab.research.google.com/assets/colab-badge.svg\" alt=\"Open In Colab\"/></a>"
      ]
    },
    {
      "cell_type": "code",
      "execution_count": 4,
      "metadata": {
        "colab": {
          "base_uri": "https://localhost:8080/"
        },
        "id": "Je6TVaKv44Ot",
        "outputId": "6b3f5c7a-e637-45d6-8b73-c6856298a257"
      },
      "outputs": [
        {
          "output_type": "stream",
          "name": "stdout",
          "text": [
            "['defter']\n"
          ]
        }
      ],
      "source": [
        "#er ile bitenler\n",
        "kelimeler=[\"ayna\", \"ahmet\",\"ana\",\"kalem\",\"defter\",\"pense\", \"sandalye\", \"basamak\"]\n",
        "ailebaslayan=list(filter(lambda i: i.endswith(\"er\"), kelimeler))\n",
        "print(ailebaslayan)"
      ]
    },
    {
      "cell_type": "code",
      "source": [
        "#icinde sa gecenler\n",
        "kelimeler=[\"ayna\", \"ahmet\",\"ana\",\"kalem\",\"defter\",\"pense\", \"sandalye\", \"basamak\"]\n",
        "agecenler=list(filter(lambda i: \"sa\" in i, kelimeler))\n",
        "print(agecenler)"
      ],
      "metadata": {
        "colab": {
          "base_uri": "https://localhost:8080/"
        },
        "id": "mDE2vp9b5Yh-",
        "outputId": "9afc28ce-943d-45cb-e039-c3d47816b48d"
      },
      "execution_count": 8,
      "outputs": [
        {
          "output_type": "stream",
          "name": "stdout",
          "text": [
            "['sandalye', 'basamak']\n"
          ]
        }
      ]
    },
    {
      "cell_type": "code",
      "source": [
        "#palindrom olmayan kelimeler\n",
        "kelimeler=[\"ayna\", \"ahmet\",\"ana\",\"kalem\",\"defter\",\"pense\", \"sandalye\", \"basamak\"]\n",
        "palindrom=list(filter(lambda i:i!=i[::-1], kelimeler))\n",
        "print(palindrom)"
      ],
      "metadata": {
        "colab": {
          "base_uri": "https://localhost:8080/"
        },
        "id": "aS2KOXEm7KNW",
        "outputId": "56933872-ed9f-4054-ecfa-82abfbd95644"
      },
      "execution_count": 10,
      "outputs": [
        {
          "output_type": "stream",
          "name": "stdout",
          "text": [
            "['ayna', 'ahmet', 'kalem', 'defter', 'pense', 'sandalye', 'basamak']\n"
          ]
        }
      ]
    },
    {
      "cell_type": "code",
      "source": [
        "#palindrom olan kelimeler\n",
        "kelimeler=[\"ayna\", \"ahmet\",\"ana\",\"kalem\",\"defter\",\"pense\", \"sandalye\", \"basamak\"]\n",
        "palindrom=list(filter(lambda i: i==i[::-1], kelimeler))\n",
        "print(palindrom)"
      ],
      "metadata": {
        "colab": {
          "base_uri": "https://localhost:8080/"
        },
        "id": "jbR3fGT-8OE2",
        "outputId": "5897364e-ba25-4919-8903-434995502fde"
      },
      "execution_count": 15,
      "outputs": [
        {
          "output_type": "stream",
          "name": "stdout",
          "text": [
            "['ana']\n"
          ]
        }
      ]
    },
    {
      "cell_type": "code",
      "source": [
        "#isinstance fonksiyonu veri tipine gore secim yaptiriyor, string, int veya tuple gibi"
      ],
      "metadata": {
        "id": "ODSiv9gg_dmK"
      },
      "execution_count": null,
      "outputs": []
    },
    {
      "cell_type": "code",
      "source": [
        "liste=[1,2,(1,2,3),True,\"string\",\"ornek\",{1,2,4}]\n",
        "stringler=list(filter(lambda i: isinstance(i,str) , liste))\n",
        "print(stringler)"
      ],
      "metadata": {
        "colab": {
          "base_uri": "https://localhost:8080/"
        },
        "id": "SGAH6g3c9hMA",
        "outputId": "fff9eb04-56d5-4c5b-a284-1db4276915a3"
      },
      "execution_count": 25,
      "outputs": [
        {
          "output_type": "stream",
          "name": "stdout",
          "text": [
            "['string', 'ornek']\n"
          ]
        }
      ]
    },
    {
      "cell_type": "code",
      "source": [
        ""
      ],
      "metadata": {
        "id": "9Ls0DegUBQ_z"
      },
      "execution_count": null,
      "outputs": []
    },
    {
      "cell_type": "code",
      "source": [
        "#SET OLAN VERILERI AYIR\n",
        "liste=[1,2,(1,2,3),True,\"string\",\"ornek\",{1,2,4}]\n",
        "SETler=list(filter(lambda i: isinstance(i,set) , liste))\n",
        "print(SETler)\n"
      ],
      "metadata": {
        "colab": {
          "base_uri": "https://localhost:8080/"
        },
        "id": "4ajKgy1iACtv",
        "outputId": "0878ef92-b4cc-4a42-e487-dcbef8f5429b"
      },
      "execution_count": 26,
      "outputs": [
        {
          "output_type": "stream",
          "name": "stdout",
          "text": [
            "[{1, 2, 4}]\n"
          ]
        }
      ]
    },
    {
      "cell_type": "code",
      "source": [
        "#a ile baslayanlar\n",
        "liste=[{\"ad\":\"ahmet\",\"yas\":20},{\"ad\":\"hasan\",\"yas\":25},{\"ad\":\"huso\",\"yas\":42},{\"ad\":\"sami\",\"yas\":52}]\n",
        "ailebaslayanlar=list(filter(lambda i: i[\"ad\"].startswith(\"a\"),liste))\n",
        "print(ailebaslayanlar)"
      ],
      "metadata": {
        "colab": {
          "base_uri": "https://localhost:8080/"
        },
        "id": "dX1T1p1L9ZAO",
        "outputId": "4975c271-0e35-48bf-d506-0ed53a84c17b"
      },
      "execution_count": 32,
      "outputs": [
        {
          "output_type": "stream",
          "name": "stdout",
          "text": [
            "[{'ad': 'ahmet', 'yas': 20}]\n"
          ]
        }
      ]
    },
    {
      "cell_type": "code",
      "source": [
        "#adinin icinde h bulunanlar\n",
        "liste=[{\"ad\":\"ahmet\",\"yas\":20},{\"ad\":\"hasan\",\"yas\":25},{\"ad\":\"huso\",\"yas\":42},{\"ad\":\"sami\",\"yas\":52}]\n",
        "hbulunanlar=list(filter(lambda i:\"h\" in i[\"ad\"],liste))\n",
        "print(hbulunanlar)"
      ],
      "metadata": {
        "colab": {
          "base_uri": "https://localhost:8080/"
        },
        "id": "Uf_5O-E7E-pB",
        "outputId": "6165e612-c15d-4651-8516-eadd27ad185a"
      },
      "execution_count": 33,
      "outputs": [
        {
          "output_type": "stream",
          "name": "stdout",
          "text": [
            "[{'ad': 'ahmet', 'yas': 20}, {'ad': 'hasan', 'yas': 25}, {'ad': 'huso', 'yas': 42}]\n"
          ]
        }
      ]
    },
    {
      "cell_type": "code",
      "source": [
        "#adi mi ile bitenler\n",
        "liste=[{\"ad\":\"ahmet\",\"yas\":20},{\"ad\":\"hasan\",\"yas\":25},{\"ad\":\"huso\",\"yas\":42},{\"ad\":\"sami\",\"yas\":52}]\n",
        "miilebitenler=list(filter(lambda i: i[\"ad\"].endswith(\"mi\"), liste))\n",
        "print(miilebitenler)"
      ],
      "metadata": {
        "colab": {
          "base_uri": "https://localhost:8080/"
        },
        "id": "oC2ZMA_dFuPE",
        "outputId": "34eb29f8-60ee-4dbe-fc24-f01c56338845"
      },
      "execution_count": 34,
      "outputs": [
        {
          "output_type": "stream",
          "name": "stdout",
          "text": [
            "[{'ad': 'sami', 'yas': 52}]\n"
          ]
        }
      ]
    },
    {
      "cell_type": "code",
      "source": [
        "#yasi 40 dan buyuk olanlar\n",
        "liste=[{\"ad\":\"ahmet\",\"yas\":20},{\"ad\":\"hasan\",\"yas\":25},{\"ad\":\"huso\",\"yas\":42},{\"ad\":\"sami\",\"yas\":52}]\n",
        "kirkdanbuyukler=list(filter(lambda i: i[\"yas\"]>=40, liste))\n",
        "print(kirkdanbuyukler)"
      ],
      "metadata": {
        "colab": {
          "base_uri": "https://localhost:8080/"
        },
        "id": "_7_DfisXGbll",
        "outputId": "dfa70dcc-cbdb-4ab1-ef3d-e90e89c1037e"
      },
      "execution_count": 38,
      "outputs": [
        {
          "output_type": "stream",
          "name": "stdout",
          "text": [
            "[{'ad': 'huso', 'yas': 42}, {'ad': 'sami', 'yas': 52}]\n"
          ]
        }
      ]
    },
    {
      "cell_type": "code",
      "source": [
        "#yasi 30 dan kucuk olanlar\n",
        "liste=[{\"ad\":\"ahmet\",\"yas\":20},{\"ad\":\"hasan\",\"yas\":25},{\"ad\":\"huso\",\"yas\":42},{\"ad\":\"sami\",\"yas\":52}]\n",
        "kucukolanlar=list(filter(lambda i: i[\"yas\"]<=30, liste))\n",
        "print(kucukolanlar)"
      ],
      "metadata": {
        "colab": {
          "base_uri": "https://localhost:8080/"
        },
        "id": "4IIAXtOgIAEb",
        "outputId": "32b7678d-60b9-4297-8ba5-78310b3947f0"
      },
      "execution_count": 39,
      "outputs": [
        {
          "output_type": "stream",
          "name": "stdout",
          "text": [
            "[{'ad': 'ahmet', 'yas': 20}, {'ad': 'hasan', 'yas': 25}]\n"
          ]
        }
      ]
    }
  ]
}