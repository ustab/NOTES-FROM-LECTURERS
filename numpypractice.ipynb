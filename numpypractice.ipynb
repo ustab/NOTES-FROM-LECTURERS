{
  "nbformat": 4,
  "nbformat_minor": 0,
  "metadata": {
    "colab": {
      "name": "numpypractice.ipynb",
      "private_outputs": true,
      "provenance": [],
      "authorship_tag": "ABX9TyMjSpjpT2aRs+Micy4PSDFP",
      "include_colab_link": true
    },
    "kernelspec": {
      "name": "python3",
      "display_name": "Python 3"
    },
    "language_info": {
      "name": "python"
    },
    "accelerator": "GPU"
  },
  "cells": [
    {
      "cell_type": "markdown",
      "metadata": {
        "id": "view-in-github",
        "colab_type": "text"
      },
      "source": [
        "<a href=\"https://colab.research.google.com/github/ustab/NOTES-FROM-LECTURERS/blob/main/numpypractice.ipynb\" target=\"_parent\"><img src=\"https://colab.research.google.com/assets/colab-badge.svg\" alt=\"Open In Colab\"/></a>"
      ]
    },
    {
      "cell_type": "code",
      "execution_count": null,
      "metadata": {
        "id": "SvfxfuGPqe9E"
      },
      "outputs": [],
      "source": [
        ""
      ]
    },
    {
      "cell_type": "markdown",
      "source": [
        "numpy choice func"
      ],
      "metadata": {
        "id": "ijDBRzAvqkzb"
      }
    },
    {
      "cell_type": "code",
      "source": [
        "''''\n",
        "her değerin 3, 5, 7 veya 9 olması gereken 100 değer içeren 1 boyutlu bir dizi oluşturun.\n",
        "\n",
        "Değerin 3 olma olasılığı 0,1 olarak ayarlanmıştır.\n",
        "\n",
        "Değerin 5 olma olasılığı 0,3 olarak ayarlanmıştır.\n",
        "\n",
        "Değerin 7 olma olasılığı 0,6 olarak ayarlanmıştır.\n",
        "\n",
        "Değerin 9 olma olasılığı 0 olarak ayarlanmıştır.\n",
        "'''\n",
        "\n",
        "from numpy import random\n",
        "\n",
        "x = random.choice([3, 5, 7, 9], p=[0.1, 0.3, 0.6, 0.0], size=(100))\n",
        "\n",
        "print(x)#secilecek  degerlerin olasiligini da belirleyebiliriz."
      ],
      "metadata": {
        "id": "cK3UspVOqqLJ"
      },
      "execution_count": null,
      "outputs": []
    },
    {
      "cell_type": "code",
      "source": [
        "from numpy import random\n",
        "import numpy as np\n",
        "\n",
        "arr = np.array([1, 2, 3, 4, 5])\n",
        "\n",
        "random.shuffle(arr)\n",
        "\n",
        "print(arr)#shuffle original array i degistirir.her defasinda degisik bir siralama yaptirir."
      ],
      "metadata": {
        "id": "IBw9Wd3NrQgS"
      },
      "execution_count": null,
      "outputs": []
    },
    {
      "cell_type": "code",
      "source": [
        "from numpy import random\n",
        "import numpy as np\n",
        "\n",
        "arr = np.array([1, 2, 3, 4, 5])\n",
        "\n",
        "print(random.permutation(arr))#bu da shuffle fonk u gibi listeyi degistirir ama ondan farki orjinal \n",
        "#listeye dokunmaz. shuffle da orjinal liste de degisiyordu. burda yeni lidte olusur.\n"
      ],
      "metadata": {
        "id": "Vq7GnVKzs5Vi"
      },
      "execution_count": null,
      "outputs": []
    },
    {
      "cell_type": "markdown",
      "source": [
        "seaborn is  amodul uses matplot for driving plot graps"
      ],
      "metadata": {
        "id": "l2rXNRK5uH2y"
      }
    },
    {
      "cell_type": "code",
      "source": [
        "import seaborn as sns\n",
        "import matplotlib.pyplot as plt"
      ],
      "metadata": {
        "id": "CXTBqU1NuThO"
      },
      "execution_count": null,
      "outputs": []
    },
    {
      "cell_type": "markdown",
      "source": [
        "plotting displot"
      ],
      "metadata": {
        "id": "nlvCJmPmvtNj"
      }
    },
    {
      "cell_type": "code",
      "source": [
        "import matplotlib.pyplot as plt\n",
        "import seaborn as sns\n",
        "sns.distplot([0, 1, 2, 3, 4, 5])\n",
        "plt.show()"
      ],
      "metadata": {
        "id": "ckOYyEW8vwHD"
      },
      "execution_count": null,
      "outputs": []
    },
    {
      "cell_type": "code",
      "source": [
        ""
      ],
      "metadata": {
        "id": "fk2ndok3uf1s"
      },
      "execution_count": null,
      "outputs": []
    },
    {
      "cell_type": "markdown",
      "source": [
        ""
      ],
      "metadata": {
        "id": "JyR0tUIuuHv5"
      }
    },
    {
      "cell_type": "code",
      "source": [
        "import matplotlib.pyplot as plt\n",
        "import seaborn as sns\n",
        "\n",
        "sns.distplot([0, 1, 2, 3, 4, 5], hist=0)#histogramsiz visualization\n",
        "\n",
        "plt.show()#histogram olmadan cizim"
      ],
      "metadata": {
        "id": "WnFb0aXTtxYI"
      },
      "execution_count": null,
      "outputs": []
    },
    {
      "cell_type": "code",
      "source": [
        "from numpy import random\n",
        "\n",
        "x = random.normal(size=(2, 3))\n",
        "\n",
        "print(x)#her defsinda farkli dagilim sonucu cikar cunku olay random"
      ],
      "metadata": {
        "id": "8dCepwYgrFxH"
      },
      "execution_count": null,
      "outputs": []
    },
    {
      "cell_type": "code",
      "source": [
        "#1'de ortalama ve 2 standart sapma ile 2x3 boyutunda rastgele bir normal dağılım oluşturun:\n",
        "#loc=mean, scale=std, size=sample\n",
        "from numpy import random\n",
        "x = random.normal(loc=1, scale=2, size=(2, 3))\n",
        "\n",
        "print(x)#mean 1 ve std 2 olacak sekilde ne kadar cesit dagilim varsa herbirini random olarak getirir."
      ],
      "metadata": {
        "id": "d49PdiatyD33"
      },
      "execution_count": null,
      "outputs": []
    },
    {
      "cell_type": "code",
      "source": [
        "from numpy import random\n",
        "x = random.binomial(n=10, p=0.5, size=10)\n",
        "print(x)#discreate dagilimdir uc elemani vardir, n=deneme sayisi, ihtimalin gerceklesme olasiligi\n",
        "#size=deneme sayisi"
      ],
      "metadata": {
        "id": "2QVnuSycyznm"
      },
      "execution_count": null,
      "outputs": []
    },
    {
      "cell_type": "markdown",
      "source": [
        "Poisson Dağılımı\n",
        "Poisson Dağılımı, Ayrık Bir Dağılımdır .\n",
        "\n",
        "Belirli bir zamanda bir olayın kaç kez olabileceğini tahmin eder. Örneğin, günde iki kez yemek yiyen bir kişinin üç kez yemek yeme olasılığı nedir?\n",
        "\n",
        "İki parametresi vardır:\n",
        "\n",
        "lam- görülme oranı veya bilinen sayıda, örneğin yukarıdaki problem için 2.\n",
        "\n",
        "size- Döndürülen dizinin şekli."
      ],
      "metadata": {
        "id": "HWF9FGon0iRB"
      }
    },
    {
      "cell_type": "code",
      "source": [
        "#oluşum 2 için rastgele bir 1x10 dağılımı oluşturun:\n",
        "\n",
        "from numpy import random\n",
        "\n",
        "x = random.poisson(lam=2, size=10)\n",
        "\n",
        "print(x)"
      ],
      "metadata": {
        "id": "CAlyaKnx0Nbd"
      },
      "execution_count": null,
      "outputs": []
    },
    {
      "cell_type": "code",
      "source": [
        "from numpy import random\n",
        "import matplotlib.pyplot as plt\n",
        "import seaborn as sns\n",
        "\n",
        "sns.distplot(random.poisson(lam=2, size=1000), kde=1)\n",
        "\n",
        "plt.show()"
      ],
      "metadata": {
        "id": "2N1GkrhU09Yn"
      },
      "execution_count": null,
      "outputs": []
    },
    {
      "cell_type": "code",
      "source": [
        "#2x3 tek tip dağıtım örneği oluşturun:\n",
        "\n",
        "from numpy import random\n",
        "\n",
        "x = random.uniform(size=(2, 3))\n",
        "\n",
        "print(x)"
      ],
      "metadata": {
        "id": "qYstdpre1RLk"
      },
      "execution_count": null,
      "outputs": []
    },
    {
      "cell_type": "code",
      "source": [
        "from numpy import random\n",
        "import matplotlib.pyplot as plt\n",
        "import seaborn as sns\n",
        "\n",
        "sns.distplot(random.uniform(size=1000), hist=True)\n",
        "\n",
        "plt.show()"
      ],
      "metadata": {
        "id": "OvxAQv1E1igb"
      },
      "execution_count": null,
      "outputs": []
    },
    {
      "cell_type": "markdown",
      "source": [
        "Lojistik Dağıtım\n",
        "Büyümeyi tanımlamak için Lojistik Dağıtım kullanılır.\n",
        "\n",
        "Lojistik regresyonda, sinir ağlarında vb. makine öğreniminde yaygın olarak kullanılır.\n",
        "\n",
        "Üç parametresi vardır:\n",
        "\n",
        "loc- yani, zirvenin olduğu yer. Varsayılan 0.\n",
        "\n",
        "scale- standart sapma, dağılımın düzlüğü. Varsayılan 1.\n",
        "\n",
        "size- Döndürülen dizinin şekli."
      ],
      "metadata": {
        "id": "BHXuP_R92CsD"
      }
    },
    {
      "cell_type": "code",
      "source": [
        "#Ortalama 1 ve stddev 2.0 olan bir lojistik dağılımdan 2x3 örnekler çizin:\n",
        "\n",
        "from numpy import random\n",
        "import seaborn as sns\n",
        "\n",
        "x = random.logistic(loc=1, scale=2, size=(2, 3))\n",
        "\n",
        "print(x)\n",
        "sns.distplot(random.logistic(loc=1, scale=2, size=(2, 3)),hist=False);"
      ],
      "metadata": {
        "id": "uv4zrhoZ2F9P"
      },
      "execution_count": null,
      "outputs": []
    },
    {
      "cell_type": "markdown",
      "source": [
        "Lojistik ve Normal Dağılım Arasındaki Fark\n",
        "Her iki dağılım da neredeyse aynıdır, ancak lojistik dağılımın kuyrukların altında daha fazla alanı vardır. yani. Ortalamadan uzak bir olayın daha fazla olma olasılığını temsil eder.\n",
        "\n",
        "Daha yüksek ölçek değeri (standart sapma) için normal ve lojistik dağılımlar, tepe noktası dışında neredeyse aynıdır.\n",
        "\n"
      ],
      "metadata": {
        "id": "I-j3NibZ3bHK"
      }
    },
    {
      "cell_type": "code",
      "source": [
        "from numpy import random\n",
        "import matplotlib.pyplot as plt\n",
        "import seaborn as sns\n",
        "\n",
        "sns.distplot(random.normal(scale=2, size=1000), hist=False, label='normal');\n",
        "sns.distplot(random.logistic(size=1000), hist=False, label='logistic');\n",
        "plt.show()"
      ],
      "metadata": {
        "id": "oTb2_u4N3d9a"
      },
      "execution_count": null,
      "outputs": []
    }
  ]
}