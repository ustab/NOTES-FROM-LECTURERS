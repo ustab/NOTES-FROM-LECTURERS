{
  "nbformat": 4,
  "nbformat_minor": 0,
  "metadata": {
    "colab": {
      "name": "Untitled121.ipynb",
      "provenance": [],
      "authorship_tag": "ABX9TyMw/7QeLHIW6gzEWqykx9kf",
      "include_colab_link": true
    },
    "kernelspec": {
      "name": "python3",
      "display_name": "Python 3"
    },
    "language_info": {
      "name": "python"
    }
  },
  "cells": [
    {
      "cell_type": "markdown",
      "metadata": {
        "id": "view-in-github",
        "colab_type": "text"
      },
      "source": [
        "<a href=\"https://colab.research.google.com/github/ustab/NOTES-FROM-LECTURERS/blob/main/Untitled121.ipynb\" target=\"_parent\"><img src=\"https://colab.research.google.com/assets/colab-badge.svg\" alt=\"Open In Colab\"/></a>"
      ]
    },
    {
      "cell_type": "markdown",
      "source": [
        ""
      ],
      "metadata": {
        "id": "ugB-lbhcDdEt"
      }
    },
    {
      "cell_type": "markdown",
      "source": [
        "DONGULER"
      ],
      "metadata": {
        "id": "N9J0CcuqDaCr"
      }
    },
    {
      "cell_type": "code",
      "execution_count": 13,
      "metadata": {
        "colab": {
          "base_uri": "https://localhost:8080/"
        },
        "id": "RZ0x051SDX4u",
        "outputId": "29c33219-de16-427a-fa5c-034baaff597c"
      },
      "outputs": [
        {
          "output_type": "stream",
          "name": "stdout",
          "text": [
            "ali zeynep mahir 0  512  3  5  6  -8  9  ['sumeyye', 'meryem']\n",
            "['emre', 'yunus']\n",
            "['akif', 'mehmet', 'burak']\n"
          ]
        }
      ],
      "source": [
        "isimler=[\"ali\",\"zeynep\",\"mahir\"]\n",
        "sayilar=[0,512,3,5,6,-8,9]\n",
        "odevgruplari=[\n",
        "              [\"sumeyye\",\"meryem\"],\n",
        "              [\"emre\",\"yunus\"],\n",
        "              [\"akif\",\"mehmet\",\"burak\"]\n",
        "              ]\n",
        "for isim in isimler:\n",
        "   print(isim, end=\" \")\n",
        "  \n",
        "for sayi in sayilar:\n",
        "  print(sayi, end=\"  \")\n",
        "\n",
        "for odevgurubu in odevgruplari:\n",
        "  print(odevgurubu)"
      ]
    },
    {
      "cell_type": "code",
      "source": [
        "isimler=[\"ali\",\"zeynep\",[\"mahir\",\"hasan\",\"ismail\"],\"huseyin\"]\n",
        "sayilar=[0,512,3,5,6,-8,9]\n",
        "odevgruplari=[\n",
        "              [\"sumeyye\",\"meryem\"],\n",
        "              [\"emre\",\"yunus\"],\n",
        "              [\"akif\",\"mehmet\",\"burak\"]\n",
        "              ]\n",
        "for isim in isimler:\n",
        "  for ekisim in isim:\n",
        "    print(ekisim, sep=\"-\") "
      ],
      "metadata": {
        "colab": {
          "base_uri": "https://localhost:8080/"
        },
        "id": "e0ivG_TtH0wM",
        "outputId": "3440bb6c-c5c1-4c62-e815-d2a72f1da089"
      },
      "execution_count": 28,
      "outputs": [
        {
          "output_type": "stream",
          "name": "stdout",
          "text": [
            "a\n",
            "l\n",
            "i\n",
            "z\n",
            "e\n",
            "y\n",
            "n\n",
            "e\n",
            "p\n",
            "mahir\n",
            "hasan\n",
            "ismail\n",
            "h\n",
            "u\n",
            "s\n",
            "e\n",
            "y\n",
            "i\n",
            "n\n"
          ]
        }
      ]
    },
    {
      "cell_type": "code",
      "source": [
        "isimler=[\"ali\",\"zeynep\",[\"mahir\",\"hasan\",\"ismail\"],\"huseyin\"]\n",
        "sayilar=[0,512,3,5,6,-8,9]\n",
        "odevgruplari=[\n",
        "              [\"sumeyye\",\"meryem\"],\n",
        "              [\"emre\",\"yunus\"],\n",
        "              [\"akif\",\"mehmet\",\"burak\"]\n",
        "              ]\n",
        "for odevgurubu in odevgruplari:\n",
        "  for isim in odevgurubu:\n",
        "    print(isim, end=\", \") "
      ],
      "metadata": {
        "colab": {
          "base_uri": "https://localhost:8080/"
        },
        "id": "2H2woyf_LKHx",
        "outputId": "45d73339-b10a-47b7-f424-dea455de371a"
      },
      "execution_count": 39,
      "outputs": [
        {
          "output_type": "stream",
          "name": "stdout",
          "text": [
            "sumeyye, meryem, emre, yunus, akif, mehmet, burak, "
          ]
        }
      ]
    },
    {
      "cell_type": "code",
      "source": [
        "sayilar=[-1,-2,-3,0,512,3,5,-5, 6,-8,9]\n",
        "for sayi in sayilar:\n",
        "   if sayi <= 0:\n",
        "    continue #sarta bagli denk geldigi sayiyi haric tutatr atlayip devam eder\n",
        "   if sayi >=0:#sifirdan buyuk olanlari yazdirmaya basladi ancak asagidaki printin\n",
        "   #etkisi ile -5 degerine geldiginde donguyu durdurdu.\n",
        "    print(sayi, end=\",\")\n",
        "   if sayi < 0:\n",
        "     break\n",
        "\n",
        "  "
      ],
      "metadata": {
        "colab": {
          "base_uri": "https://localhost:8080/"
        },
        "id": "QFp7JbvcNQgf",
        "outputId": "e95a3619-bf65-4c84-d9dc-60f34abf426c"
      },
      "execution_count": 57,
      "outputs": [
        {
          "output_type": "stream",
          "name": "stdout",
          "text": [
            "5123569"
          ]
        }
      ]
    },
    {
      "cell_type": "markdown",
      "source": [
        "HATALAR"
      ],
      "metadata": {
        "id": "44QIW1vqTC4j"
      }
    },
    {
      "cell_type": "code",
      "source": [
        "#NameError prin gibi.\n",
        "#TypeError\n",
        "#ZeroDivisionError\n"
      ],
      "metadata": {
        "id": "9joDJYYiROet"
      },
      "execution_count": null,
      "outputs": []
    },
    {
      "cell_type": "code",
      "source": [
        ""
      ],
      "metadata": {
        "id": "GLvyOAOKVWqg"
      },
      "execution_count": null,
      "outputs": []
    },
    {
      "cell_type": "markdown",
      "source": [
        "PARAMETRE VE RETURN\n"
      ],
      "metadata": {
        "id": "RdVBpM-TVR7c"
      }
    },
    {
      "cell_type": "code",
      "source": [
        "#INDIRIMLI FIYAT FONKSIYONU\n",
        "def indirim(etiket, oran):\n",
        "  hammadde=etiket-iscilik\n",
        "  hammadde*=1-oran/100\n",
        "  sonfiyat=hammadde+iscilik\n",
        "  return sonfiyat   \n",
        "print(round(indirim(571, 12)))\n"
      ],
      "metadata": {
        "colab": {
          "base_uri": "https://localhost:8080/"
        },
        "id": "jTnRTEGOVXe0",
        "outputId": "6b3a4361-874f-42c7-cfb6-e017014241c8"
      },
      "execution_count": 72,
      "outputs": [
        {
          "output_type": "stream",
          "name": "stdout",
          "text": [
            "511\n"
          ]
        }
      ]
    },
    {
      "cell_type": "code",
      "source": [
        "#INDIRIMLI FIYAT FONKSIYONU\n",
        "def indirim(etiket, oran,iscilik,parabirimi):#kac parametre varsa sonuna kadar oyle girilecek\n",
        "  hammadde=etiket-iscilik\n",
        "  hammadde*=1-oran/100\n",
        "  sonfiyat=hammadde+iscilik\n",
        "  return sonfiyat,parabirimi \n",
        "print(indirim(4532, 7.6, 20, \"TL\"))"
      ],
      "metadata": {
        "colab": {
          "base_uri": "https://localhost:8080/"
        },
        "id": "ImOC8iy8Zmni",
        "outputId": "a74c3a36-89f5-4896-87c5-7316cd02c151"
      },
      "execution_count": 83,
      "outputs": [
        {
          "output_type": "stream",
          "name": "stdout",
          "text": [
            "(4189.088000000001, 'TL')\n"
          ]
        }
      ]
    },
    {
      "cell_type": "markdown",
      "source": [
        "STRING METOTLARI\n"
      ],
      "metadata": {
        "id": "ovB3QLjldu7R"
      }
    },
    {
      "cell_type": "code",
      "source": [
        "a=\"merhaba arkadaslar\"\n",
        "b=\"GUNAYDIN\"\n",
        "c=\"nasilsiniz?\"\n",
        "#lower()\n",
        "#upper()\n",
        "print(a.upper())\n",
        "#title()\n",
        "print(a.title())\n",
        "#split()bolerek liste yapar\n",
        "print(a.split())#bosluklardan boler.parentez icine harf yzarsak harfin oldugu yerden boler\n",
        "print(a.split(\"a\"))\n",
        "print(a.split(\"l\"))\n",
        "#join()splitin tersi yasanir\n",
        "adress=[\"serdivan\",\"sakarya\",\"turkiye\"]\n",
        "cumle=\" \".join(adress)#bunun anlami adres listesinin elemanlarini araya bosluk koyarak birlestir\n",
        "#yalnizca bosluk degil ne istersek yazabiliriz\n",
        "print(cumle)\n",
        "\" DENEMEDIR\".join(cumle)\n",
        "print(adress)\n",
        "#strip()\n",
        "#replace()\n",
        "#find()\n",
        "#format()\n",
        "#isalpha()\n",
        "#isnumeric()\n",
        "#isalnum()"
      ],
      "metadata": {
        "colab": {
          "base_uri": "https://localhost:8080/"
        },
        "id": "ekBgzc_ddy_u",
        "outputId": "bb2d0ae7-8759-434f-a8ed-4fd8417eefe8"
      },
      "execution_count": 111,
      "outputs": [
        {
          "output_type": "stream",
          "name": "stdout",
          "text": [
            "MERHABA ARKADASLAR\n",
            "Merhaba Arkadaslar\n",
            "['merhaba', 'arkadaslar']\n",
            "['merh', 'b', ' ', 'rk', 'd', 'sl', 'r']\n",
            "['merhaba arkadas', 'ar']\n",
            "serdivan sakarya turkiye\n",
            "['serdivan', 'sakarya', 'turkiye']\n"
          ]
        }
      ]
    },
    {
      "cell_type": "code",
      "source": [
        "#join()splitin tersi yasanir\n",
        "adress=[\"serdivan\",\"sakarya\",\"turkiye\"]\n",
        "cumle=\" \".join(adress)#bunun anlami adres listesinin elemanlarini araya bosluk koyarak birlestir\n",
        "#yalnizca bosluk degil ne istersek yazabiliriz\n",
        "print(cumle)\n",
        "\"  DENEMEDIR  \".join(adress)"
      ],
      "metadata": {
        "colab": {
          "base_uri": "https://localhost:8080/",
          "height": 53
        },
        "id": "B_ivMaW9q7Kj",
        "outputId": "cb0b705f-ba9f-4df8-b391-010f61a0d41f"
      },
      "execution_count": 107,
      "outputs": [
        {
          "output_type": "stream",
          "name": "stdout",
          "text": [
            "serdivan sakarya turkiye\n"
          ]
        },
        {
          "output_type": "execute_result",
          "data": {
            "text/plain": [
              "'serdivan  DENEMEDIR  sakarya  DENEMEDIR  turkiye'"
            ],
            "application/vnd.google.colaboratory.intrinsic+json": {
              "type": "string"
            }
          },
          "metadata": {},
          "execution_count": 107
        }
      ]
    },
    {
      "cell_type": "code",
      "source": [
        "a=\"merhaba arkadaslar\"\n",
        "b=\"GUNAYDIN\"\n",
        "c=\"nasilsiniz?\"\n",
        "#print(a.join(b))\n",
        "#strip()temizleme isi yapar\n",
        "a=\"    adem     \"\n",
        "b=a.strip()# a daki bosluklari temizler\n",
        "print(b)#duz bir adem ciktisi alinir\n",
        "a=\"   adem zengin   \"#aradaki bosluga dokunmaz bas ve sondaki bosluk gider\n",
        "b=a.strip()\n",
        "print(b)\n",
        "a=\"...adem zengin...\"\n",
        "b=a.strip(\".\")#noktalari temizle dedim\n",
        "print(b)\n",
        "a=\"nn.,,,.***adem zengin***.,,,n\"#en distan ve bastan basliyor\n",
        "b=a.strip(\".\").strip(\",\").strip(\".\").strip(\"*\").strip(\"n\")\n",
        "print(b)\n",
        "a=\"adem zengin\"\n",
        "b=a.strip(\"a\").strip(\"n\").strip(\"i\")\n",
        "print(b)\n",
        "#replace(),#metin icinde yalnis yazilan karakteri duzeltir\n",
        "a=\"kirikkale\"\n",
        "a=a.replace(\"kirik\",\"saglam\")\n",
        "print(a)\n",
        "a='''Lorem ipsum dolor sit amet, consectetur adipiscing elit, sed do eiusmod tempor incididunt ut labore et dolore magna aliqua. Ut enim ad minim veniam, quis nostrud exercitation ullamco laboris nisi ut aliquip ex ea commodo consequat. Duis aute irure dolor in reprehenderit in voluptate velit esse cillum dolore eu fugiat nulla pariatur. Excepteur sint occaecat cupidatat non proident, sunt in culpa qui officia deserunt mollit anim id est laborum.The core functionality is provided by the lorem-ipsum npm package The core functionality is provided by the lorem-ipsum npm package The core functionality is provided by the lorem-ipsum npm package The core functionality is provided by the lorem-ipsum npm package'''\n",
        "b=a.replace(\"a\", \"BUDANEYLAA\").split()\n",
        "print(b)\n",
        "\n",
        "a='''Lorem ipsum dolor sit amet, consectetur adipiscing elit, sed do eiusmod tempor incididunt ut labore et dolore magna aliqua. Ut enim ad minim veniam, quis nostrud exercitation ullamco laboris nisi ut aliquip ex ea commodo consequat. Duis aute irure dolor in reprehenderit in voluptate velit esse cillum dolore eu fugiat nulla pariatur. Excepteur sint occaecat cupidatat non proident, sunt in culpa qui officia deserunt mollit anim id est laborum.The core functionality is provided by the lorem-ipsum npm package The core functionality is provided by the lorem-ipsum npm package The core functionality is provided by the lorem-ipsum npm package The core functionality is provided by the lorem-ipsum npm package'''\n",
        "print(len(a))\n",
        "print(a.split()) #dokumanin tamamini liste haline getirdik\n",
        "print(len(a))\n",
        "\n",
        "#find()\n",
        "print(a.find(\"lorem\"))\n",
        "for lorem in a:\n",
        "  print(lorem, end=\"\")\n",
        "print(a[487])\n",
        "\n",
        "#format()#standart sablon var.ornegin ogrenci..puan aldi mesala\n",
        "cikti=\"ogrenci {} puan aldi.\"\n",
        "puan=60\n",
        "print(cikti.format(puan))\n",
        "print(\"ogrenci  {} puan aldi\".format(60))\n",
        "\n",
        "#isalpha()#tamamen harflerden olan stringe True yanitini verir\n",
        "b=\"GUNAY354DIN\"\n",
        "print(b.isalpha())\n",
        "#isnumeric()#tamamen rakamlarsa True verir\n",
        "sayi=\"34567849\"\n",
        "if sayi.isnumeric():\n",
        "  print(sayi.isnumeric())\n",
        "\n",
        "#isalnum()#ikisinin birlesimidir.yani harfler ve rakamlar beraber olmali\n"
      ],
      "metadata": {
        "colab": {
          "base_uri": "https://localhost:8080/"
        },
        "id": "N0d4w1TXrm9r",
        "outputId": "04185007-45ac-4362-be44-e90d5733f6ac"
      },
      "execution_count": 184,
      "outputs": [
        {
          "output_type": "stream",
          "name": "stdout",
          "text": [
            "adem\n",
            "adem zengin\n",
            "adem zengin\n",
            ".,,,.***adem zengin***.,,,\n",
            "dem zeng\n",
            "saglamkale\n",
            "['Lorem', 'ipsum', 'dolor', 'sit', 'BUDANEYLAAmet,', 'consectetur', 'BUDANEYLAAdipiscing', 'elit,', 'sed', 'do', 'eiusmod', 'tempor', 'incididunt', 'ut', 'lBUDANEYLAAbore', 'et', 'dolore', 'mBUDANEYLAAgnBUDANEYLAA', 'BUDANEYLAAliquBUDANEYLAA.', 'Ut', 'enim', 'BUDANEYLAAd', 'minim', 'veniBUDANEYLAAm,', 'quis', 'nostrud', 'exercitBUDANEYLAAtion', 'ullBUDANEYLAAmco', 'lBUDANEYLAAboris', 'nisi', 'ut', 'BUDANEYLAAliquip', 'ex', 'eBUDANEYLAA', 'commodo', 'consequBUDANEYLAAt.', 'Duis', 'BUDANEYLAAute', 'irure', 'dolor', 'in', 'reprehenderit', 'in', 'voluptBUDANEYLAAte', 'velit', 'esse', 'cillum', 'dolore', 'eu', 'fugiBUDANEYLAAt', 'nullBUDANEYLAA', 'pBUDANEYLAAriBUDANEYLAAtur.', 'Excepteur', 'sint', 'occBUDANEYLAAecBUDANEYLAAt', 'cupidBUDANEYLAAtBUDANEYLAAt', 'non', 'proident,', 'sunt', 'in', 'culpBUDANEYLAA', 'qui', 'officiBUDANEYLAA', 'deserunt', 'mollit', 'BUDANEYLAAnim', 'id', 'est', 'lBUDANEYLAAborum.The', 'core', 'functionBUDANEYLAAlity', 'is', 'provided', 'by', 'the', 'lorem-ipsum', 'npm', 'pBUDANEYLAAckBUDANEYLAAge', 'The', 'core', 'functionBUDANEYLAAlity', 'is', 'provided', 'by', 'the', 'lorem-ipsum', 'npm', 'pBUDANEYLAAckBUDANEYLAAge', 'The', 'core', 'functionBUDANEYLAAlity', 'is', 'provided', 'by', 'the', 'lorem-ipsum', 'npm', 'pBUDANEYLAAckBUDANEYLAAge', 'The', 'core', 'functionBUDANEYLAAlity', 'is', 'provided', 'by', 'the', 'lorem-ipsum', 'npm', 'pBUDANEYLAAckBUDANEYLAAge']\n",
            "708\n",
            "['Lorem', 'ipsum', 'dolor', 'sit', 'amet,', 'consectetur', 'adipiscing', 'elit,', 'sed', 'do', 'eiusmod', 'tempor', 'incididunt', 'ut', 'labore', 'et', 'dolore', 'magna', 'aliqua.', 'Ut', 'enim', 'ad', 'minim', 'veniam,', 'quis', 'nostrud', 'exercitation', 'ullamco', 'laboris', 'nisi', 'ut', 'aliquip', 'ex', 'ea', 'commodo', 'consequat.', 'Duis', 'aute', 'irure', 'dolor', 'in', 'reprehenderit', 'in', 'voluptate', 'velit', 'esse', 'cillum', 'dolore', 'eu', 'fugiat', 'nulla', 'pariatur.', 'Excepteur', 'sint', 'occaecat', 'cupidatat', 'non', 'proident,', 'sunt', 'in', 'culpa', 'qui', 'officia', 'deserunt', 'mollit', 'anim', 'id', 'est', 'laborum.The', 'core', 'functionality', 'is', 'provided', 'by', 'the', 'lorem-ipsum', 'npm', 'package', 'The', 'core', 'functionality', 'is', 'provided', 'by', 'the', 'lorem-ipsum', 'npm', 'package', 'The', 'core', 'functionality', 'is', 'provided', 'by', 'the', 'lorem-ipsum', 'npm', 'package', 'The', 'core', 'functionality', 'is', 'provided', 'by', 'the', 'lorem-ipsum', 'npm', 'package']\n",
            "708\n",
            "487\n",
            "Lorem ipsum dolor sit amet, consectetur adipiscing elit, sed do eiusmod tempor incididunt ut labore et dolore magna aliqua. Ut enim ad minim veniam, quis nostrud exercitation ullamco laboris nisi ut aliquip ex ea commodo consequat. Duis aute irure dolor in reprehenderit in voluptate velit esse cillum dolore eu fugiat nulla pariatur. Excepteur sint occaecat cupidatat non proident, sunt in culpa qui officia deserunt mollit anim id est laborum.The core functionality is provided by the lorem-ipsum npm package The core functionality is provided by the lorem-ipsum npm package The core functionality is provided by the lorem-ipsum npm package The core functionality is provided by the lorem-ipsum npm packagel\n",
            "ogrenci 60 puan aldi.\n",
            "ogrenci  60 puan aldi\n",
            "False\n",
            "True\n"
          ]
        }
      ]
    }
  ]
}