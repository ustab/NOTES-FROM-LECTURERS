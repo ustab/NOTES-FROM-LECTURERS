{
  "cells": [
    {
      "cell_type": "markdown",
      "metadata": {
        "id": "view-in-github",
        "colab_type": "text"
      },
      "source": [
        "<a href=\"https://colab.research.google.com/github/ustab/NOTES-FROM-LECTURERS/blob/main/DAwPy_S2_(Numpy_Concat_Split_Indexing_Selection_Operations)_%C4%B0lknur.ipynb\" target=\"_parent\"><img src=\"https://colab.research.google.com/assets/colab-badge.svg\" alt=\"Open In Colab\"/></a>"
      ]
    },
    {
      "cell_type": "markdown",
      "metadata": {
        "id": "yWnHJ1KUEOrl"
      },
      "source": [
        "___\n",
        "\n",
        "<p style=\"text-align: center;\"><img src=\"https://docs.google.com/uc?id=1lY0Uj5R04yMY3-ZppPWxqCr5pvBLYPnV\" class=\"img-fluid\" \n",
        "alt=\"CLRSWY\"></p>\n",
        "\n",
        "## <p style=\"background-color:#FDFEFE; font-family:newtimeroman; color:#9d4f8c; font-size:100%; text-align:center; border-radius:10px 10px;\">WAY TO REINVENT YOURSELF</p>\n",
        "\n",
        "___"
      ]
    },
    {
      "cell_type": "markdown",
      "metadata": {
        "id": "Ln9cMGpJEOrq"
      },
      "source": [
        "<img src=https://i.ibb.co/8NdjfdZ/Num-Py-logo.png width=\"700\" height=\"200\">\n",
        "\n",
        "## <p style=\"background-color:#FDFEFE; font-family:newtimeroman; color:#060108; font-size:200%; text-align:center; border-radius:10px 10px;\">Data Analysis with Python</p>\n",
        "\n",
        "## <p style=\"background-color:#FDFEFE; font-family:newtimeroman; color:#060108; font-size:150%; text-align:center; border-radius:10px 10px;\">Session - 02</p>\n",
        "\n",
        "## <p style=\"background-color:#FDFEFE; font-family:newtimeroman; color:#4d77cf; font-size:150%; text-align:center; border-radius:10px 10px;\">Numpy Arrays - Part - 02</p>"
      ]
    },
    {
      "cell_type": "markdown",
      "metadata": {
        "id": "l274WtXU9LOQ"
      },
      "source": [
        "<a id=\"toc\"></a>\n",
        "\n",
        "## <p style=\"background-color:#9d4f8c; font-family:newtimeroman; color:#FFF9ED; font-size:175%; text-align:center; border-radius:10px 10px;\">Content</p>\n",
        "\n",
        "* [IMPORTING LIBRARIES NEEDED IN THIS NOTEBOOK](#0)\n",
        "* [CONCATENATION OF THE ARRAYS](#00)\n",
        "    * [2D Matrix](#00.1)\n",
        "* [SPLITTING OF THE ARRAYS](#000)\n",
        "    * [2D Matrix](#000.1)\n",
        "* [SORTING OF THE ARRAYS](#0000)\n",
        "    * [2D Matrix](#0000.1)\n",
        "* [NUMPY INDEXING & SELECTION](#1)\n",
        "    * [Bracket Indexing & Selection](#1.1)\n",
        "    * [Indexing a 2D Array (Matrices)](#1.2)\n",
        "    * [Slicing a 2D Array (Matrices)](#1.3)\n",
        "    * [Fancy Indexing](#1.4)\n",
        "    * [Using Basic Index & Fancy Index Together](#1.5)\n",
        "    * [Using Basic Slicing & Fancy Index Together](#1.6)\n",
        "    * [More Indexing Help](#1.7)\n",
        "* [SELECTION ON A CONDITION](#2)\n",
        "* [BROADCASTING](#3)\n",
        "* [NUMPY OPERATIONS](#4)\n",
        "    * [Arithmetic Operations](#4.1)\n",
        "    * [Universal Array Functions](#4.2)\n",
        "    * [Statistical Calculations](#4.3)\n",
        "* [OFFICIAL TUTORIAL](#5)\n",
        "* [THE END OF THE SESSION-02](#6)"
      ]
    },
    {
      "cell_type": "markdown",
      "metadata": {
        "id": "YZQZBOq59LOQ"
      },
      "source": [
        "## <p style=\"background-color:#9d4f8c; font-family:newtimeroman; color:#FFF9ED; font-size:175%; text-align:center; border-radius:10px 10px;\">Importing Libraries Needed in This Notebook</p>\n",
        "\n",
        "<a id=\"0\"></a>\n",
        "<a href=\"#toc\" class=\"btn btn-primary btn-sm\" role=\"button\" aria-pressed=\"true\" \n",
        "style=\"color:blue; background-color:#dfa8e4\" data-toggle=\"popover\">Content</a>\n",
        "\n",
        "Once you've installed NumPy you can import it as a library:\n",
        "\n",
        "**``NOTE:``** For installation instructions, please refer to the notebook at SESSION-01 (Numpy Part-01)"
      ]
    },
    {
      "cell_type": "code",
      "execution_count": null,
      "metadata": {
        "id": "_ZYb4URA9LOR"
      },
      "outputs": [],
      "source": [
        "import numpy as np"
      ]
    },
    {
      "cell_type": "markdown",
      "metadata": {
        "id": "2BHTaXDJ9LOS"
      },
      "source": [
        "**REMINDER**<br>\n",
        "NumPy or Numeric Python is a package for computation on homogenous n-dimensional arrays. In numpy dimensions are called as axes.\n",
        "\n",
        "**Why do we need NumPy?**\n",
        "\n",
        "A question arises that why do we need NumPy when python lists are already there. The answer to it is we cannot perform operations on all the elements of two list directly. For example, we cannot multiply two lists directly we will have to do it element-wise. This is where the role of NumPy comes into play."
      ]
    },
    {
      "cell_type": "markdown",
      "metadata": {
        "id": "ml5EZG6H9LOS"
      },
      "source": [
        "## <p style=\"background-color:#9d4f8c; font-family:newtimeroman; color:#FFF9ED; font-size:175%; text-align:center; border-radius:10px 10px;\">Concatenation of the Arrays</p>\n",
        "\n",
        "<a id=\"00\"></a>\n",
        "<a href=\"#toc\" class=\"btn btn-primary btn-sm\" role=\"button\" aria-pressed=\"true\" \n",
        "style=\"color:blue; background-color:#dfa8e4\" data-toggle=\"popover\">Content</a>\n",
        "\n",
        "In this lecture we will first discuss how to concatenate, split and sort the arrays.\n",
        "\n",
        "**``concatenate((a1, a2, ...), axis=0, out=None)``**"
      ]
    },
    {
      "cell_type": "code",
      "execution_count": null,
      "metadata": {
        "id": "hwtUjIXe9LOT"
      },
      "outputs": [],
      "source": [
        "x = np.array([1, 2, 3])\n",
        "y = np.array([4, 5, 6])\n",
        "z = np.array([7, 8, 9])"
      ]
    },
    {
      "cell_type": "code",
      "execution_count": null,
      "metadata": {
        "id": "bGHtPPJn9LOU",
        "outputId": "ca9105ab-26b6-4b4a-e93f-b240fbd76699"
      },
      "outputs": [
        {
          "data": {
            "text/plain": [
              "array([1, 2, 3, 4, 5, 6])"
            ]
          },
          "execution_count": 3,
          "metadata": {},
          "output_type": "execute_result"
        }
      ],
      "source": [
        "np.concatenate([x,y])  # tek boyutlu iki veya daha fazla array'i arka arkaya birleştirir."
      ]
    },
    {
      "cell_type": "code",
      "execution_count": null,
      "metadata": {
        "id": "FEsR92mq9LOV",
        "outputId": "edb9eef6-e21c-45fe-fa32-1fb570cdb4af"
      },
      "outputs": [
        {
          "data": {
            "text/plain": [
              "array([1, 2, 3, 4, 5, 6, 7, 8, 9])"
            ]
          },
          "execution_count": 5,
          "metadata": {},
          "output_type": "execute_result"
        }
      ],
      "source": [
        "np.concatenate([x, y, z], axis=0)  # default axis değeri 0'dır. Yani tek boyutlularda axis=0 boyunca birleştirir."
      ]
    },
    {
      "cell_type": "code",
      "execution_count": null,
      "metadata": {
        "id": "Y1hMjAQd9LOV",
        "outputId": "84fc02a8-2da2-4f90-e16f-97a71493573b"
      },
      "outputs": [
        {
          "ename": "AxisError",
          "evalue": "axis 1 is out of bounds for array of dimension 1",
          "output_type": "error",
          "traceback": [
            "\u001b[1;31m---------------------------------------------------------------------------\u001b[0m",
            "\u001b[1;31mAxisError\u001b[0m                                 Traceback (most recent call last)",
            "\u001b[1;32m~\\AppData\\Local\\Temp/ipykernel_14668/2803430815.py\u001b[0m in \u001b[0;36m<module>\u001b[1;34m\u001b[0m\n\u001b[1;32m----> 1\u001b[1;33m \u001b[0mnp\u001b[0m\u001b[1;33m.\u001b[0m\u001b[0mconcatenate\u001b[0m\u001b[1;33m(\u001b[0m\u001b[1;33m[\u001b[0m\u001b[0mx\u001b[0m\u001b[1;33m,\u001b[0m \u001b[0my\u001b[0m\u001b[1;33m,\u001b[0m \u001b[0mz\u001b[0m\u001b[1;33m]\u001b[0m\u001b[1;33m,\u001b[0m \u001b[0maxis\u001b[0m\u001b[1;33m=\u001b[0m\u001b[1;36m1\u001b[0m\u001b[1;33m)\u001b[0m\u001b[1;33m\u001b[0m\u001b[1;33m\u001b[0m\u001b[0m\n\u001b[0m",
            "\u001b[1;32m<__array_function__ internals>\u001b[0m in \u001b[0;36mconcatenate\u001b[1;34m(*args, **kwargs)\u001b[0m\n",
            "\u001b[1;31mAxisError\u001b[0m: axis 1 is out of bounds for array of dimension 1"
          ]
        }
      ],
      "source": [
        "np.concatenate([x, y, z], axis=1)  # tek boyutlu arraylerde axis=1 olduğu zaman hata verir."
      ]
    },
    {
      "cell_type": "code",
      "execution_count": null,
      "metadata": {
        "id": "1wA2cfxp9LOV",
        "outputId": "f07d8451-3442-477b-ba34-eb867355bc88"
      },
      "outputs": [
        {
          "data": {
            "text/plain": [
              "array([[1, 2, 3],\n",
              "       [4, 5, 6],\n",
              "       [7, 8, 9]])"
            ]
          },
          "execution_count": 182,
          "metadata": {},
          "output_type": "execute_result"
        }
      ],
      "source": [
        "np.concatenate([x.reshape(1,3), y.reshape(1,3), z.reshape(1,3)], axis=0)  # arraylere reshape() ile boyut kazandırırsam bu şekilde çalışır."
      ]
    },
    {
      "cell_type": "code",
      "execution_count": null,
      "metadata": {
        "id": "UiTHG7PB9LOW",
        "outputId": "76a1afc8-251f-4122-e6e6-4388014c97b5"
      },
      "outputs": [
        {
          "data": {
            "text/plain": [
              "array([array([[1, 2, 3],\n",
              "              [4, 5, 6]]), array([[ 7,  8,  9],\n",
              "                                  [10, 11, 12],\n",
              "                                  [13, 14, 15]]), array([7, 8, 9])],\n",
              "      dtype=object)"
            ]
          },
          "execution_count": 98,
          "metadata": {},
          "output_type": "execute_result"
        }
      ],
      "source": [
        "# ikinci yol:\n",
        "\n",
        "np.concatenate([[x, y, z]], axis=0)  # x,y,z 'yi ikinci bir köşeli parantez içine alarak axis=0(satırlar boyunca )da birleştirme yapabiliriz."
      ]
    },
    {
      "cell_type": "code",
      "execution_count": null,
      "metadata": {
        "id": "kA1ZPo5O9LOW",
        "outputId": "67f10978-d2ed-445f-8357-ad4bf2fc800b"
      },
      "outputs": [
        {
          "data": {
            "text/plain": [
              "array([[1, 2, 3],\n",
              "       [4, 5, 6],\n",
              "       [7, 8, 9]])"
            ]
          },
          "execution_count": 12,
          "metadata": {},
          "output_type": "execute_result"
        }
      ],
      "source": [
        "# 3. yol\n",
        "np.concatenate([x, y, z], axis=0).reshape(3,3)  # tek boyutlu birleştirdiğimiz arrayin şeklini değiştirerek de axis=0 boyunca birleştirme yapmış oluruz."
      ]
    },
    {
      "cell_type": "code",
      "execution_count": null,
      "metadata": {
        "id": "sZnOC7wT9LOW",
        "outputId": "7439ecf2-77da-484a-ba8d-af6a486b5a0c"
      },
      "outputs": [
        {
          "data": {
            "text/plain": [
              "[[array([1, 2, 3]), array([4, 5, 6]), array([7, 8, 9])]]"
            ]
          },
          "execution_count": 19,
          "metadata": {},
          "output_type": "execute_result"
        }
      ],
      "source": [
        "[[x,y,z]]"
      ]
    },
    {
      "cell_type": "markdown",
      "metadata": {
        "id": "ppscpk9B9LOX"
      },
      "source": [
        "### <p style=\"background-color:#9d4f8c; font-family:newtimeroman; color:#FFF9ED; font-size:150%; text-align:LEFT; border-radius:10px 10px;\">2d Matrix</p>\n",
        "\n",
        "<a id=\"00.1\"></a>\n",
        "<a href=\"#toc\" class=\"btn btn-primary btn-sm\" role=\"button\" aria-pressed=\"true\" \n",
        "style=\"color:blue; background-color:#dfa8e4\" data-toggle=\"popover\">Content</a>"
      ]
    },
    {
      "cell_type": "code",
      "execution_count": null,
      "metadata": {
        "id": "thbwIO279LOX",
        "outputId": "bb9e26af-0395-4dc3-85d3-78eb94a3ed22"
      },
      "outputs": [
        {
          "data": {
            "text/plain": [
              "(array([[1, 2, 3],\n",
              "        [4, 5, 6]]),\n",
              " array([[ 7,  8,  9],\n",
              "        [10, 11, 12],\n",
              "        [13, 14, 15]]))"
            ]
          },
          "execution_count": 99,
          "metadata": {},
          "output_type": "execute_result"
        }
      ],
      "source": [
        "# iki boyutlu arraylerde concatenate yapabilmek için birleştirilecek arraylerin satır veya sütun sayıları eşit olmalı.\n",
        "# Satır bazında (axis=0) birleştirme yapılacak ise sütun sayıları eşit olmalı.\n",
        "# Sütun bazında (axis=1) birleştirme yapılacak ise satır sayıları eşit olmalı.\n",
        "x = np.array([[1, 2, 3], [4, 5, 6]])  # 2 rows, 3 columns\n",
        "y = np.array([[7, 8, 9], [10, 11, 12], [13, 14, 15]])  # 3 rows, 3 columns\n",
        "x,y"
      ]
    },
    {
      "cell_type": "code",
      "execution_count": null,
      "metadata": {
        "id": "gAXj4jo_9LOX",
        "outputId": "66aeba62-0f36-4ec1-c2d0-4a5e90ca363f"
      },
      "outputs": [
        {
          "data": {
            "text/plain": [
              "array([[ 1,  2,  3],\n",
              "       [ 4,  5,  6],\n",
              "       [ 7,  8,  9],\n",
              "       [10, 11, 12],\n",
              "       [13, 14, 15]])"
            ]
          },
          "execution_count": 27,
          "metadata": {},
          "output_type": "execute_result"
        }
      ],
      "source": [
        "#Ör: axis=0 bazında birleştirme yapıldığında sütun sayıları eşit ise birleştirmeyi yapar ve hata vermez.\n",
        "np.concatenate([x,y], axis=0)"
      ]
    },
    {
      "cell_type": "code",
      "execution_count": null,
      "metadata": {
        "id": "teRMbe0Z9LOX",
        "outputId": "f4f49dc6-17b1-4f9a-f5f4-64b908858970"
      },
      "outputs": [
        {
          "ename": "ValueError",
          "evalue": "all the input array dimensions for the concatenation axis must match exactly, but along dimension 0, the array at index 0 has size 2 and the array at index 1 has size 3",
          "output_type": "error",
          "traceback": [
            "\u001b[1;31m---------------------------------------------------------------------------\u001b[0m",
            "\u001b[1;31mValueError\u001b[0m                                Traceback (most recent call last)",
            "\u001b[1;32m~\\AppData\\Local\\Temp/ipykernel_14668/141728534.py\u001b[0m in \u001b[0;36m<module>\u001b[1;34m\u001b[0m\n\u001b[1;32m----> 1\u001b[1;33m \u001b[0mnp\u001b[0m\u001b[1;33m.\u001b[0m\u001b[0mconcatenate\u001b[0m\u001b[1;33m(\u001b[0m\u001b[1;33m[\u001b[0m\u001b[0mx\u001b[0m\u001b[1;33m,\u001b[0m\u001b[0my\u001b[0m\u001b[1;33m]\u001b[0m\u001b[1;33m,\u001b[0m \u001b[0maxis\u001b[0m\u001b[1;33m=\u001b[0m\u001b[1;36m1\u001b[0m\u001b[1;33m)\u001b[0m\u001b[1;33m\u001b[0m\u001b[1;33m\u001b[0m\u001b[0m\n\u001b[0m",
            "\u001b[1;32m<__array_function__ internals>\u001b[0m in \u001b[0;36mconcatenate\u001b[1;34m(*args, **kwargs)\u001b[0m\n",
            "\u001b[1;31mValueError\u001b[0m: all the input array dimensions for the concatenation axis must match exactly, but along dimension 0, the array at index 0 has size 2 and the array at index 1 has size 3"
          ]
        }
      ],
      "source": [
        "# Ör: axis=1 bazında birleştirme yapıldığında satır sayıları eşit dğilse birleştirmeyi yapamaz ve hata verir.\n",
        "\n",
        "np.concatenate([x,y], axis=1)"
      ]
    },
    {
      "cell_type": "code",
      "execution_count": null,
      "metadata": {
        "id": "QWmDrYOx9LOX"
      },
      "outputs": [],
      "source": [
        "a = np.random.randint(10, size = (2, 3))\n",
        "b = np.random.randint(10, size = (2, 3))"
      ]
    },
    {
      "cell_type": "code",
      "execution_count": null,
      "metadata": {
        "id": "EroFwsGa9LOY",
        "outputId": "77393c80-276b-4653-d577-62862aff6af7"
      },
      "outputs": [
        {
          "data": {
            "text/plain": [
              "(array([[8, 5, 1],\n",
              "        [5, 3, 0]]),\n",
              " array([[7, 8, 2],\n",
              "        [1, 9, 5]]))"
            ]
          },
          "execution_count": 14,
          "metadata": {},
          "output_type": "execute_result"
        }
      ],
      "source": [
        "a, b"
      ]
    },
    {
      "cell_type": "code",
      "execution_count": null,
      "metadata": {
        "id": "WffemY8h9LOY",
        "outputId": "00cab76f-9ba2-4089-b5d0-ddadb116ccda"
      },
      "outputs": [
        {
          "data": {
            "text/plain": [
              "array([[8, 5, 1],\n",
              "       [5, 3, 0],\n",
              "       [7, 8, 2],\n",
              "       [1, 9, 5]])"
            ]
          },
          "execution_count": 17,
          "metadata": {},
          "output_type": "execute_result"
        }
      ],
      "source": [
        "np.concatenate([a,b], axis=0)  # 2,3 'lük iki arrayi axis=0 bazında birleştirince 4,3'lük bir array oluşur."
      ]
    },
    {
      "cell_type": "code",
      "execution_count": null,
      "metadata": {
        "id": "I03dL45R9LOY",
        "outputId": "358afc98-82c2-44d8-fff2-6785f0b01ea8"
      },
      "outputs": [
        {
          "data": {
            "text/plain": [
              "array([[8, 5, 1, 7, 8, 2],\n",
              "       [5, 3, 0, 1, 9, 5]])"
            ]
          },
          "execution_count": 18,
          "metadata": {},
          "output_type": "execute_result"
        }
      ],
      "source": [
        "np.concatenate([a,b], axis=1)  # 2,3 'lük iki arrayi axis=1 bazında birleştirince 2,6'lık bir array oluşur."
      ]
    },
    {
      "cell_type": "markdown",
      "metadata": {
        "id": "N6atOjc59LOY"
      },
      "source": [
        "## <p style=\"background-color:#9d4f8c; font-family:newtimeroman; color:#FFF9ED; font-size:175%; text-align:center; border-radius:10px 10px;\">Splitting of the Arrays</p>\n",
        "\n",
        "<a id=\"000\"></a>\n",
        "<a href=\"#toc\" class=\"btn btn-primary btn-sm\" role=\"button\" aria-pressed=\"true\" \n",
        "style=\"color:blue; background-color:#dfa8e4\" data-toggle=\"popover\">Content</a>\n",
        "\n",
        "**``np.split(ary, indices_or_sections, axis=0)``**"
      ]
    },
    {
      "cell_type": "code",
      "execution_count": null,
      "metadata": {
        "id": "J2UKGfTp9LOY",
        "outputId": "63939f45-f5e9-4aa0-ec48-0b7135315939"
      },
      "outputs": [
        {
          "data": {
            "text/plain": [
              "array([ 1,  2,  3, 99, 99,  3,  2,  1])"
            ]
          },
          "execution_count": 20,
          "metadata": {},
          "output_type": "execute_result"
        }
      ],
      "source": [
        "x = np.array([1,2,3,99,99,3,2,1])\n",
        "x"
      ]
    },
    {
      "cell_type": "code",
      "execution_count": null,
      "metadata": {
        "id": "uD9aXiwU9LOY"
      },
      "outputs": [],
      "source": [
        "# np.split() fonksiyonu ile bir arrayi belirttiğiniz şekilde parçalara bölebilirsiniz.\n",
        "\n",
        "np.split(x, [3,5])  # 0:3, 3:5, 5:  şeklinde böldü"
      ]
    },
    {
      "cell_type": "code",
      "execution_count": null,
      "metadata": {
        "id": "uZ3_JdOM9LOY",
        "outputId": "795c8e29-a145-49b1-cc59-3f8e2a292f4f"
      },
      "outputs": [
        {
          "data": {
            "text/plain": [
              "(array([1, 2, 3]), array([99, 99]), array([3, 2, 1]))"
            ]
          },
          "execution_count": 22,
          "metadata": {},
          "output_type": "execute_result"
        }
      ],
      "source": [
        "a,b,c = np.split(x, [3,5])  # 0:3, 3:5, 5:  şeklinde böldüğümüz parçaları yeni birer değişkene atadık.\n",
        "a,b,c"
      ]
    },
    {
      "cell_type": "code",
      "execution_count": null,
      "metadata": {
        "id": "chNF8bh19LOZ",
        "outputId": "59168215-db3b-440b-effb-0490cdd47eb2"
      },
      "outputs": [
        {
          "data": {
            "text/plain": [
              "[array([ 1,  2,  3, 99]), array([99,  3,  2,  1])]"
            ]
          },
          "execution_count": 25,
          "metadata": {},
          "output_type": "execute_result"
        }
      ],
      "source": [
        "np.split(x, [4])  # 0:4, 4:, şeklinde iki parçaya böldü."
      ]
    },
    {
      "cell_type": "code",
      "execution_count": null,
      "metadata": {
        "id": "c8hqNwns9LOZ",
        "outputId": "0d2cee3b-68e5-4ccf-db18-2dfe35db1b1e"
      },
      "outputs": [
        {
          "data": {
            "text/plain": [
              "[array([1, 2]), array([ 3, 99]), array([99,  3]), array([2, 1])]"
            ]
          },
          "execution_count": 24,
          "metadata": {},
          "output_type": "execute_result"
        }
      ],
      "source": [
        "np.split(x, 4)  # index numarasını köşeli parantez içinde vermezsek 4 eşit parçaya böler.\n",
        "# Ancak bu durumda array eleman sayısının 4'e bölünebilen bir sayı olması gerekir."
      ]
    },
    {
      "cell_type": "code",
      "execution_count": null,
      "metadata": {
        "id": "NDFLOwjg9LOZ"
      },
      "outputs": [],
      "source": [
        ""
      ]
    },
    {
      "cell_type": "markdown",
      "metadata": {
        "id": "8z0TTGiL9LOZ"
      },
      "source": [
        "The number of the elements ``should be divisible`` by 4, otherwise raises an error. If the argument (here is 4) is not enclosed by square brackets, then it means dividing into 4 pieces."
      ]
    },
    {
      "cell_type": "markdown",
      "metadata": {
        "id": "5iM1CzcL9LOZ"
      },
      "source": [
        "### <p style=\"background-color:#9d4f8c; font-family:newtimeroman; color:#FFF9ED; font-size:150%; text-align:LEFT; border-radius:10px 10px;\">2d Matrix</p>\n",
        "\n",
        "<a id=\"000.1\"></a>\n",
        "<a href=\"#toc\" class=\"btn btn-primary btn-sm\" role=\"button\" aria-pressed=\"true\" \n",
        "style=\"color:blue; background-color:#dfa8e4\" data-toggle=\"popover\">Content</a>"
      ]
    },
    {
      "cell_type": "code",
      "execution_count": null,
      "metadata": {
        "id": "azoUd5ZV9LOZ",
        "outputId": "9c364bd1-571c-41a7-998b-5636a9c95f69"
      },
      "outputs": [
        {
          "data": {
            "text/plain": [
              "array([[ 0,  1,  2,  3],\n",
              "       [ 4,  5,  6,  7],\n",
              "       [ 8,  9, 10, 11],\n",
              "       [12, 13, 14, 15],\n",
              "       [16, 17, 18, 19]])"
            ]
          },
          "execution_count": 33,
          "metadata": {},
          "output_type": "execute_result"
        }
      ],
      "source": [
        "m = np.arange(20).reshape(5,4)\n",
        "m"
      ]
    },
    {
      "cell_type": "code",
      "execution_count": null,
      "metadata": {
        "id": "2LZolX1H9LOZ",
        "outputId": "17881832-11b7-4a93-c5a0-1522913f34ca"
      },
      "outputs": [
        {
          "data": {
            "text/plain": [
              "[array([[0, 1, 2, 3]]),\n",
              " array([[ 4,  5,  6,  7],\n",
              "        [ 8,  9, 10, 11]]),\n",
              " array([[12, 13, 14, 15],\n",
              "        [16, 17, 18, 19]])]"
            ]
          },
          "execution_count": 35,
          "metadata": {},
          "output_type": "execute_result"
        }
      ],
      "source": [
        "# İki boyutlu arraylerde split işlemi yapılırken indexlerde birlikte axis'in de belirtilmesi gerekir.\n",
        "\n",
        "np.split(m, [1,3], axis = 0)  # axis=0 --> satırlar boyunca :1, 1:3:, 3:, şeklinde üç parçaya böldük."
      ]
    },
    {
      "cell_type": "code",
      "execution_count": null,
      "metadata": {
        "id": "y1PfLd099LOZ",
        "outputId": "3698766d-8de1-4e6a-b117-d2b3321c5b3b"
      },
      "outputs": [
        {
          "data": {
            "text/plain": [
              "[array([[0, 1, 2, 3]]),\n",
              " array([[4, 5, 6, 7]]),\n",
              " array([[ 8,  9, 10, 11]]),\n",
              " array([[12, 13, 14, 15]]),\n",
              " array([[16, 17, 18, 19]])]"
            ]
          },
          "execution_count": 36,
          "metadata": {},
          "output_type": "execute_result"
        }
      ],
      "source": [
        "np.split(m, 5, axis = 0)  # axis=0 --> satırlar boyunca 5 eşit parçaya böldük."
      ]
    },
    {
      "cell_type": "code",
      "execution_count": null,
      "metadata": {
        "id": "S-6dRayf9LOZ",
        "outputId": "2ae85130-dcf6-4a09-a9c2-f53681ed4a58"
      },
      "outputs": [
        {
          "data": {
            "text/plain": [
              "[array([[ 0],\n",
              "        [ 4],\n",
              "        [ 8],\n",
              "        [12],\n",
              "        [16]]),\n",
              " array([[ 1,  2],\n",
              "        [ 5,  6],\n",
              "        [ 9, 10],\n",
              "        [13, 14],\n",
              "        [17, 18]]),\n",
              " array([[ 3],\n",
              "        [ 7],\n",
              "        [11],\n",
              "        [15],\n",
              "        [19]])]"
            ]
          },
          "execution_count": 37,
          "metadata": {},
          "output_type": "execute_result"
        }
      ],
      "source": [
        "np.split(m, [1,3], axis = 1)  axis=1 --> sütunlar boyunca :1, 1:3:, 3:, şeklinde üç parçaya böldük."
      ]
    },
    {
      "cell_type": "code",
      "execution_count": null,
      "metadata": {
        "id": "0BVdqkr-9LOZ",
        "outputId": "3adf6c8e-b5ab-442a-bcc6-6afac13135ff"
      },
      "outputs": [
        {
          "data": {
            "text/plain": [
              "[array([[ 0,  1,  2,  3],\n",
              "        [ 4,  5,  6,  7],\n",
              "        [ 8,  9, 10, 11]]),\n",
              " array([[12, 13, 14, 15],\n",
              "        [16, 17, 18, 19]])]"
            ]
          },
          "execution_count": 38,
          "metadata": {},
          "output_type": "execute_result"
        }
      ],
      "source": [
        "np.vsplit(m,[3])  # vertical split ile satırlar boyunca(axis=0 gibi) :3, 3: şeklinde iki parçaya böldük."
      ]
    },
    {
      "cell_type": "code",
      "execution_count": null,
      "metadata": {
        "id": "Z1rKuTPi9LOa",
        "outputId": "504a7795-f988-4c94-9da2-88724efde112"
      },
      "outputs": [
        {
          "data": {
            "text/plain": [
              "[array([[ 0,  1,  2],\n",
              "        [ 4,  5,  6],\n",
              "        [ 8,  9, 10],\n",
              "        [12, 13, 14],\n",
              "        [16, 17, 18]]),\n",
              " array([[ 3],\n",
              "        [ 7],\n",
              "        [11],\n",
              "        [15],\n",
              "        [19]])]"
            ]
          },
          "execution_count": 39,
          "metadata": {},
          "output_type": "execute_result"
        }
      ],
      "source": [
        "np.hsplit(m,[3])  # horizontal split ile sütunlar boyunca (axis=1 gibi) :3,3: şeklinde iki parçaya böldük."
      ]
    },
    {
      "cell_type": "code",
      "execution_count": null,
      "metadata": {
        "id": "1bMrPRnl9LOa"
      },
      "outputs": [],
      "source": [
        ""
      ]
    },
    {
      "cell_type": "markdown",
      "metadata": {
        "id": "kPXjMpDO9LOa"
      },
      "source": [
        "## <p style=\"background-color:#9d4f8c; font-family:newtimeroman; color:#FFF9ED; font-size:175%; text-align:center; border-radius:10px 10px;\">Sorting of the Arrays</p>\n",
        "\n",
        "<a id=\"0000\"></a>\n",
        "<a href=\"#toc\" class=\"btn btn-primary btn-sm\" role=\"button\" aria-pressed=\"true\" \n",
        "style=\"color:blue; background-color:#dfa8e4\" data-toggle=\"popover\">Content</a>"
      ]
    },
    {
      "cell_type": "code",
      "execution_count": null,
      "metadata": {
        "id": "1EoZMt559LOa"
      },
      "outputs": [],
      "source": [
        "v = np.array([2,1,4,3,5,8,1])"
      ]
    },
    {
      "cell_type": "code",
      "execution_count": null,
      "metadata": {
        "id": "qv2dkCnz9LOa",
        "outputId": "70f0b1b8-b9a1-4e6c-bbd8-e6a0d9b236da"
      },
      "outputs": [
        {
          "data": {
            "text/plain": [
              "array([1, 1, 2, 3, 4, 5, 8])"
            ]
          },
          "execution_count": 42,
          "metadata": {},
          "output_type": "execute_result"
        }
      ],
      "source": [
        "np.sort(v)  # sıralanmış bir array verir ancak orjinalini değiştirmez."
      ]
    },
    {
      "cell_type": "code",
      "execution_count": null,
      "metadata": {
        "id": "jM3R5A7Q9LOa",
        "outputId": "524a83cf-f0ea-4612-cb9f-bc61e61515f5"
      },
      "outputs": [
        {
          "data": {
            "text/plain": [
              "array([2, 1, 4, 3, 5, 8, 1])"
            ]
          },
          "execution_count": 43,
          "metadata": {},
          "output_type": "execute_result"
        }
      ],
      "source": [
        "v"
      ]
    },
    {
      "cell_type": "code",
      "execution_count": null,
      "metadata": {
        "id": "Cr-OqAyP9LOa"
      },
      "outputs": [],
      "source": [
        "v.sort()  # bu şekilde kullanıldığında hem sıralar hem de orjinalinde bu değişikliği yapar."
      ]
    },
    {
      "cell_type": "code",
      "execution_count": null,
      "metadata": {
        "id": "1rXdY05w9LOb",
        "outputId": "4728c6de-6a97-431c-8d81-62dc600ff047"
      },
      "outputs": [
        {
          "data": {
            "text/plain": [
              "array([1, 1, 2, 3, 4, 5, 8])"
            ]
          },
          "execution_count": 45,
          "metadata": {},
          "output_type": "execute_result"
        }
      ],
      "source": [
        "v"
      ]
    },
    {
      "cell_type": "markdown",
      "metadata": {
        "id": "TjtkRMJU9LOb"
      },
      "source": [
        "### <p style=\"background-color:#9d4f8c; font-family:newtimeroman; color:#FFF9ED; font-size:150%; text-align:LEFT; border-radius:10px 10px;\">2d Matrix</p>\n",
        "\n",
        "<a id=\"0000.1\"></a>\n",
        "<a href=\"#toc\" class=\"btn btn-primary btn-sm\" role=\"button\" aria-pressed=\"true\" \n",
        "style=\"color:blue; background-color:#dfa8e4\" data-toggle=\"popover\">Content</a>"
      ]
    },
    {
      "cell_type": "code",
      "execution_count": null,
      "metadata": {
        "id": "ee_LQSQi9LOb",
        "outputId": "119bb34e-98b8-4aa5-922a-3c5196f5eabd"
      },
      "outputs": [
        {
          "data": {
            "text/plain": [
              "array([[24, 86, 69],\n",
              "       [61, 61, 18],\n",
              "       [11, 19, 95]])"
            ]
          },
          "execution_count": 46,
          "metadata": {},
          "output_type": "execute_result"
        }
      ],
      "source": [
        "twoD = np.random.randint(5, 100, (3,3))\n",
        "twoD"
      ]
    },
    {
      "cell_type": "code",
      "execution_count": null,
      "metadata": {
        "id": "zQRPrPIf9LOb",
        "outputId": "28df5dbc-4f28-4b5c-b908-890d11e7edb0"
      },
      "outputs": [
        {
          "data": {
            "text/plain": [
              "array([[11, 19, 18],\n",
              "       [24, 61, 69],\n",
              "       [61, 86, 95]])"
            ]
          },
          "execution_count": 48,
          "metadata": {},
          "output_type": "execute_result"
        }
      ],
      "source": [
        "# iki boyutlu arraylerde sıralama yaparken axis mutlaka belirtilmelidir.\n",
        "\n",
        "np.sort(twoD, axis=0)  # axis=0 verince satırlar boyunca sıralama yapar."
      ]
    },
    {
      "cell_type": "code",
      "execution_count": null,
      "metadata": {
        "id": "FTg8zXm-9LOb",
        "outputId": "13e70f95-0fd9-4814-dc96-b75ad73ec440"
      },
      "outputs": [
        {
          "data": {
            "text/plain": [
              "array([[24, 69, 86],\n",
              "       [18, 61, 61],\n",
              "       [11, 19, 95]])"
            ]
          },
          "execution_count": 49,
          "metadata": {},
          "output_type": "execute_result"
        }
      ],
      "source": [
        "np.sort(twoD, axis=1)  # axis=1 verince sütunlar boyunca sıralama yapar."
      ]
    },
    {
      "cell_type": "markdown",
      "metadata": {
        "id": "SaJzF_GeEOrr"
      },
      "source": [
        "## <p style=\"background-color:#9d4f8c; font-family:newtimeroman; color:#FFF9ED; font-size:175%; text-align:center; border-radius:10px 10px;\">Numpy Indexing & Selection</p>\n",
        "\n",
        "<a id=\"1\"></a>\n",
        "<a href=\"#toc\" class=\"btn btn-primary btn-sm\" role=\"button\" aria-pressed=\"true\" \n",
        "style=\"color:blue; background-color:#dfa8e4\" data-toggle=\"popover\">Content</a>"
      ]
    },
    {
      "cell_type": "markdown",
      "metadata": {
        "id": "GOoTAx219LOb"
      },
      "source": [
        "In this part of the lecture we will discuss how to select elements or groups of elements from an array.\n",
        "\n",
        "Array indexing is the same as accessing an array element. You can access an array element by referring to its index number. The indexes in NumPy arrays start with 0, meaning that the first element has index 0, and the second has index 1 etc. [SOURCE](https://www.w3schools.com/python/numpy/numpy_array_indexing.asp)\n",
        "\n",
        "### ``Types of Indexing``\n",
        "\n",
        "There are **``two types of indexing:``**\n",
        "\n",
        "**``1 - Basic Slicing and indexing:``** Consider the syntax x[obj] where x is the array and obj is the index. Slice object is the index in case of basic slicing. Basic slicing occurs when obj is :\n",
        "- a slice object that is of the form start : stop : step\n",
        "- an integer\n",
        "- or a tuple of slice objects and integers\n",
        "\n",
        "**``2 - Advanced indexing:``** Advanced indexing is triggered when obj is –\n",
        "\n",
        "- an ndarray of type integer or Boolean\n",
        "- or a tuple with at least one sequence object\n",
        "- is a non tuple sequence object\n",
        "\n",
        "For more information, please visit [INDEXING SOURCE](https://www.geeksforgeeks.org/numpy-indexing/)\n",
        "\n",
        "\n",
        "[INDEXING & SLICING Source 01](https://jakevdp.github.io/PythonDataScienceHandbook/03.02-data-indexing-and-selection.html),\n",
        "[INDEXING & SLICING Source 02](https://www.kite.com/python/answers/how-to-select-an-element-by-index-from-a-numpy-array-in-python),\n",
        "[INDEXING & SLICING Source 03](https://numpy.org/doc/stable/reference/arrays.indexing.html),\n",
        "[INDEXING & SLICING Source 04](https://www.pluralsight.com/guides/working-numpy-arrays-indexing-slicing-guide),\n",
        "[INDEXING & SLICING Source 05](https://www.brainstobytes.com/hands-on-numpy-iii-indexing-and-slicing/),\n",
        "[INDEXING & SLICING Source 06](https://pandas.pydata.org/pandas-docs/version/1.2.4/user_guide/indexing.html),\n",
        "[INDEXING & SLICING Source 07](https://www.tutorialspoint.com/numpy/numpy_advanced_indexing.htm),\n",
        "[INDEXING & SLICING Source 08](https://towardsdatascience.com/numpy-indexing-explained-c376abb2440d),\n",
        "[INDEXING & SLICING Video Source 01](https://www.pythoninformer.com/python-libraries/numpy/index-and-slice/),\n",
        "[INDEXING & SLICING Video Source 02](https://www.youtube.com/watch?v=9nbBTaz2qXI),\n",
        "[INDEXING & SLICING Video Source 03](https://www.youtube.com/watch?v=9nbBTaz2qXI) &\n",
        "[INDEXING & SLICING Video Source 03](https://www.youtube.com/watch?v=E1OFcMnU40o)"
      ]
    },
    {
      "cell_type": "code",
      "execution_count": null,
      "metadata": {
        "id": "a7x4uUyB9LOc"
      },
      "outputs": [],
      "source": [
        "arr = np.arange(0,11)"
      ]
    },
    {
      "cell_type": "code",
      "execution_count": null,
      "metadata": {
        "id": "yyDJoVDv9LOc",
        "outputId": "124d184f-3d85-487e-ae60-cd2edc7e199d"
      },
      "outputs": [
        {
          "data": {
            "text/plain": [
              "array([ 0,  1,  2,  3,  4,  5,  6,  7,  8,  9, 10])"
            ]
          },
          "execution_count": 51,
          "metadata": {},
          "output_type": "execute_result"
        }
      ],
      "source": [
        "arr"
      ]
    },
    {
      "cell_type": "markdown",
      "metadata": {
        "id": "mNljteUtEOru"
      },
      "source": [
        "### <p style=\"background-color:#9d4f8c; font-family:newtimeroman; color:#FFF9ED; font-size:150%; text-align:LEFT; border-radius:10px 10px;\">Bracket Indexing & Selection</p>\n",
        "\n",
        "<a id=\"1.1\"></a>\n",
        "<a href=\"#toc\" class=\"btn btn-primary btn-sm\" role=\"button\" aria-pressed=\"true\" \n",
        "style=\"color:blue; background-color:#dfa8e4\" data-toggle=\"popover\">Content</a>\n",
        "\n",
        "The simplest way to pick one or some elements of an array looks very similar to python lists:"
      ]
    },
    {
      "cell_type": "code",
      "execution_count": null,
      "metadata": {
        "id": "5tQIE61s9LOc",
        "outputId": "1115dbfa-008a-461a-bf69-0a6729f1db85"
      },
      "outputs": [
        {
          "data": {
            "text/plain": [
              "8"
            ]
          },
          "execution_count": 52,
          "metadata": {},
          "output_type": "execute_result"
        }
      ],
      "source": [
        "arr[8]  # 8. indexteki elemanı verir."
      ]
    },
    {
      "cell_type": "code",
      "execution_count": null,
      "metadata": {
        "id": "lJV2YvUK9LOc",
        "outputId": "cd765d7a-3958-4cdd-cbdf-2f9fe46bbb6f"
      },
      "outputs": [
        {
          "data": {
            "text/plain": [
              "8"
            ]
          },
          "execution_count": 53,
          "metadata": {},
          "output_type": "execute_result"
        }
      ],
      "source": [
        "arr[-3]  # -3. index teki eleman"
      ]
    },
    {
      "cell_type": "code",
      "execution_count": null,
      "metadata": {
        "id": "rLB4vbe09LOc",
        "outputId": "66e0ba42-c1a0-4206-e239-328dd2452664"
      },
      "outputs": [
        {
          "data": {
            "text/plain": [
              "array([1, 2, 3, 4])"
            ]
          },
          "execution_count": 54,
          "metadata": {},
          "output_type": "execute_result"
        }
      ],
      "source": [
        "arr[1:5]  # 1-5 arasındaki indexte yer alan elemanlar"
      ]
    },
    {
      "cell_type": "code",
      "execution_count": null,
      "metadata": {
        "id": "KlPhaMYa9LOc",
        "outputId": "476cc93a-4e97-4b3b-dc69-227954bfa5f2"
      },
      "outputs": [
        {
          "data": {
            "text/plain": [
              "array([1, 3, 5, 7, 9])"
            ]
          },
          "execution_count": 55,
          "metadata": {},
          "output_type": "execute_result"
        }
      ],
      "source": [
        "arr[1::2]  # 1'den başlayıp 2 adım aralığı ile tek indexlere karşılık gelen elemanlar"
      ]
    },
    {
      "cell_type": "code",
      "execution_count": null,
      "metadata": {
        "id": "six-QXak9LOc",
        "outputId": "042c6445-d159-4369-838a-ed55ee0d5edc"
      },
      "outputs": [
        {
          "data": {
            "text/plain": [
              "array([ 0,  2,  4,  6,  8, 10])"
            ]
          },
          "execution_count": 56,
          "metadata": {},
          "output_type": "execute_result"
        }
      ],
      "source": [
        "arr[::2]  # 0'den başlayıp 2 adım aralığı ile çift indexlere karşılık gelen elemanlar "
      ]
    },
    {
      "cell_type": "code",
      "execution_count": null,
      "metadata": {
        "id": "heomrALh9LOd"
      },
      "outputs": [],
      "source": [
        ""
      ]
    },
    {
      "cell_type": "markdown",
      "metadata": {
        "id": "VlEYvXtHEOr1"
      },
      "source": [
        "### <p style=\"background-color:#9d4f8c; font-family:newtimeroman; color:#FFF9ED; font-size:150%; text-align:LEFT; border-radius:10px 10px;\">Indexing a 2D Array (Matrices)</p>\n",
        "\n",
        "<a id=\"1.2\"></a>\n",
        "<a href=\"#toc\" class=\"btn btn-primary btn-sm\" role=\"button\" aria-pressed=\"true\" \n",
        "style=\"color:blue; background-color:#dfa8e4\" data-toggle=\"popover\">Content</a>\n",
        "\n",
        "<p>The general format is <b>arr_2d[row][col]</b> or <b>arr_2d[row, col]</b>.<br> \n",
        "It's usually recommended using the comma notation for clarity.</p>\n",
        "\n",
        "![image.png](https://i.ibb.co/pvdHbBm/numpy-index.png)\n",
        "\n",
        "![image-2.png](https://i.ibb.co/jJPp6hk/numpy-indexing2.png)\n",
        "\n",
        "[SOURCE01](https://www.google.com/url?sa=i&url=https%3A%2F%2Fmedium.com%2F%40msjahid%2Fnumpy-array-indexing-slicing-23b70abb8433&psig=AOvVaw2ETiXFpQ-F-d0CMV8jD1dJ&ust=1644053862804000&source=images&cd=vfe&ved=0CAwQjhxqFwoTCIDj5JXg5fUCFQAAAAAdAAAAABAk), [SOURCE02](https://www.google.com/url?sa=i&url=https%3A%2F%2Fiq.opengenus.org%2F2d-array-in-numpy%2F&psig=AOvVaw2ETiXFpQ-F-d0CMV8jD1dJ&ust=1644053862804000&source=images&cd=vfe&ved=0CAwQjhxqFwoTCIDj5JXg5fUCFQAAAAAdAAAAABAp)<br>"
      ]
    },
    {
      "cell_type": "code",
      "execution_count": null,
      "metadata": {
        "id": "7xsX7nmN9LOd",
        "outputId": "35afdd3a-69e9-4e0c-c303-a9d211b455ac"
      },
      "outputs": [
        {
          "data": {
            "text/plain": [
              "array([[ 5, 10, 15],\n",
              "       [20, 25, 30],\n",
              "       [35, 40, 45]])"
            ]
          },
          "execution_count": 58,
          "metadata": {},
          "output_type": "execute_result"
        }
      ],
      "source": [
        "arr_2d = np.array([[5, 10, 15], [20, 25, 30], [35, 40, 45]])\n",
        "arr_2d"
      ]
    },
    {
      "cell_type": "code",
      "execution_count": null,
      "metadata": {
        "id": "sFRKklrZ9LOd",
        "outputId": "fd44b7b6-0915-4705-bdeb-138122dde012"
      },
      "outputs": [
        {
          "data": {
            "text/plain": [
              "array([20, 25, 30])"
            ]
          },
          "execution_count": 60,
          "metadata": {},
          "output_type": "execute_result"
        }
      ],
      "source": [
        "# İki boyutlu arraylerde indexleme yapılırken önce satır, sonra sütun sayıları yazılır.\n",
        "\n",
        "arr_2d[1]  # sadece tek index değeri belirtirsek o indexe karşılık gelen satırı getirir. "
      ]
    },
    {
      "cell_type": "code",
      "execution_count": null,
      "metadata": {
        "id": "Jt4Bsoso9LOd",
        "outputId": "c6d7816c-74a6-43b6-adfe-c370ec6cadb6"
      },
      "outputs": [
        {
          "data": {
            "text/plain": [
              "25"
            ]
          },
          "execution_count": 62,
          "metadata": {},
          "output_type": "execute_result"
        }
      ],
      "source": [
        "arr_2d[1,1]  # veya arr_2d[1][1]   1. satır ve 1. sütundaki eleman"
      ]
    },
    {
      "cell_type": "code",
      "execution_count": null,
      "metadata": {
        "id": "wtGA8sG89LOd",
        "outputId": "395abf4e-24e6-4141-fcf7-c56170cf6d58"
      },
      "outputs": [
        {
          "data": {
            "text/plain": [
              "25"
            ]
          },
          "execution_count": 63,
          "metadata": {},
          "output_type": "execute_result"
        }
      ],
      "source": [
        "arr_2d[1][1]  # 1. satır ve 1. sütundaki eleman"
      ]
    },
    {
      "cell_type": "code",
      "execution_count": null,
      "metadata": {
        "id": "twnXRfdy9LOd"
      },
      "outputs": [],
      "source": [
        ""
      ]
    },
    {
      "cell_type": "markdown",
      "metadata": {
        "id": "HJQxqMrR9LOd"
      },
      "source": [
        "### <p style=\"background-color:#9d4f8c; font-family:newtimeroman; color:#FFF9ED; font-size:150%; text-align:LEFT; border-radius:10px 10px;\">Slicing a 2D Array (Matrices)</p>\n",
        "\n",
        "<a id=\"1.3\"></a>\n",
        "<a href=\"#toc\" class=\"btn btn-primary btn-sm\" role=\"button\" aria-pressed=\"true\" \n",
        "style=\"color:blue; background-color:#dfa8e4\" data-toggle=\"popover\">Content</a>\n",
        "\n",
        "If you know how to select subsets of Python lists, you know most of what you need to know about ndarray slicing. The elements of the array being indexed that correspond to the elements of the indexing object are returned in a new array. The most important aspect of indexing is to remember that there is more than one dimension, and the indexing method should be able to handle these other dimensions.\n",
        "\n",
        "![image-2.png](https://i.ibb.co/64DGhj7/Numpy-index.jpg)\n",
        "\n",
        "[SOURCE](https://www.google.com/url?sa=i&url=https%3A%2F%2Fstackoverflow.com%2Fquestions%2F16096753%2Fpython-array-slicing-how-can-2d-array-slicing-be-implemented&psig=AOvVaw0cHqeY-itYpRm19imsEBuR&ust=1644054927553000&source=images&cd=vfe&ved=0CAwQjhxqFwoTCNiUt4vk5fUCFQAAAAAdAAAAABAD)"
      ]
    },
    {
      "cell_type": "code",
      "execution_count": null,
      "metadata": {
        "id": "-QXWOV_Q9LOd",
        "outputId": "4c3e0cc5-14e5-47b7-f96c-31cf0fd93972"
      },
      "outputs": [
        {
          "data": {
            "text/plain": [
              "array([[ 5, 10, 15],\n",
              "       [20, 25, 30],\n",
              "       [35, 40, 45]])"
            ]
          },
          "execution_count": 64,
          "metadata": {},
          "output_type": "execute_result"
        }
      ],
      "source": [
        "arr_2d"
      ]
    },
    {
      "cell_type": "code",
      "execution_count": null,
      "metadata": {
        "id": "Ysa7extu9LOe",
        "outputId": "454ad4de-8813-420c-fb95-670b5a1b89af"
      },
      "outputs": [
        {
          "data": {
            "text/plain": [
              "array([[10, 15],\n",
              "       [25, 30]])"
            ]
          },
          "execution_count": 65,
          "metadata": {},
          "output_type": "execute_result"
        }
      ],
      "source": [
        "# İki boyutlu arraylerde slicelamada da önce satır, sonra sütun aralıkları yazılmalıdır.\n",
        "\n",
        "arr_2d[:2,1:]  # Baştan ikinci indexe kadar olan satırlar ile bu satırların baştan 2. indexine kadar olan sütunlarını verir."
      ]
    },
    {
      "cell_type": "code",
      "execution_count": null,
      "metadata": {
        "id": "_lPmQBFP9LOe",
        "outputId": "ede21300-70a3-4a6c-efd3-3d82c611a4e8"
      },
      "outputs": [
        {
          "data": {
            "text/plain": [
              "array([35, 40])"
            ]
          },
          "execution_count": 66,
          "metadata": {},
          "output_type": "execute_result"
        }
      ],
      "source": [
        "arr_2d[2,:2]  # Bikinci satırın baştan 2. indexine kadar olan kısmını verir."
      ]
    },
    {
      "cell_type": "code",
      "execution_count": null,
      "metadata": {
        "id": "OODI5xJs9LOe"
      },
      "outputs": [],
      "source": [
        "arr_2d[1,:1] = 55  # Bu şekilde slicelama ile aldığımız parçadaki değerleri kalıcı olarak başka bir değer ile değiştirebiliriz."
      ]
    },
    {
      "cell_type": "code",
      "execution_count": null,
      "metadata": {
        "id": "nJV5Z7qv9LOe",
        "outputId": "a0566a50-f56f-4594-ee92-2ec8f5e58433"
      },
      "outputs": [
        {
          "data": {
            "text/plain": [
              "array([[ 5, 10, 15],\n",
              "       [55, 25, 30],\n",
              "       [35, 40, 45]])"
            ]
          },
          "execution_count": 68,
          "metadata": {},
          "output_type": "execute_result"
        }
      ],
      "source": [
        "arr_2d"
      ]
    },
    {
      "cell_type": "code",
      "execution_count": null,
      "metadata": {
        "id": "PcYD2lQe9LOe"
      },
      "outputs": [],
      "source": [
        "arr_2d[1,:1] = 5.5  # float değer atadığınızda arrayin default değeri int olduğu için int'a çevirerek atar."
      ]
    },
    {
      "cell_type": "code",
      "execution_count": null,
      "metadata": {
        "id": "kcE5C5Y39LOe",
        "outputId": "fcd62b3b-6c0b-48a4-bcb5-5dec83322c22"
      },
      "outputs": [
        {
          "data": {
            "text/plain": [
              "array([[ 5, 10, 15],\n",
              "       [ 5, 25, 30],\n",
              "       [35, 40, 45]])"
            ]
          },
          "execution_count": 70,
          "metadata": {},
          "output_type": "execute_result"
        }
      ],
      "source": [
        "arr_2d"
      ]
    },
    {
      "cell_type": "code",
      "execution_count": null,
      "metadata": {
        "id": "77bqUKCl9LOe"
      },
      "outputs": [],
      "source": [
        ""
      ]
    },
    {
      "cell_type": "markdown",
      "metadata": {
        "id": "Hjyd3uo3EOr3"
      },
      "source": [
        "### <p style=\"background-color:#9d4f8c; font-family:newtimeroman; color:#FFF9ED; font-size:150%; text-align:LEFT; border-radius:10px 10px;\">Fancy Indexing</p>\n",
        "\n",
        "<a id=\"1.4\"></a>\n",
        "<a href=\"#toc\" class=\"btn btn-primary btn-sm\" role=\"button\" aria-pressed=\"true\" \n",
        "style=\"color:blue; background-color:#dfa8e4\" data-toggle=\"popover\">Content</a>\n",
        "\n",
        "Fancy indexing is conceptually simple: it means passing an array of indices to access multiple array elements at once [SOURCE](https://jakevdp.github.io/PythonDataScienceHandbook/02.07-fancy-indexing.html#:~:text=Fancy%20indexing%20is%20conceptually%20simple,random.). In Fancy Indexing, we pass array of indices instead of single scalar(numbers) to fetch elements at different index points. Remember that the shape of the output depends on the shape of the index arrays rather than the shape of the array being indexed. [SOURCE01](https://www.google.com/url?sa=i&url=https%3A%2F%2Ftahamaddam.com%2Fcoding%2Fnumpy%2Fnumpy-fancy-indexing%2F&psig=AOvVaw3D06ReHkWL4NNeBSEHNddn&ust=1644055555472000&source=images&cd=vfe&ved=0CAwQjhxqFwoTCPDY4bTm5fUCFQAAAAAdAAAAABAD), [SOURCE02](https://www.google.com/url?sa=i&url=https%3A%2F%2Fstackoverflow.com%2Fquestions%2F52485840%2Fnumpy-fancy-indexing-with-tuples%3Frq%3D1&psig=AOvVaw3D06ReHkWL4NNeBSEHNddn&ust=1644055555472000&source=images&cd=vfe&ved=0CAwQjhxqFwoTCPDY4bTm5fUCFQAAAAAdAAAAABAO), [VIDEO SOURCE](https://www.youtube.com/watch?v=WpXH4PzDtYA)\n",
        "\n",
        "Fancy indexing allows you to select entire rows or columns out of order, to show this, let's quickly build out a numpy array:"
      ]
    },
    {
      "cell_type": "code",
      "execution_count": null,
      "metadata": {
        "id": "pz63R07K9LOe",
        "outputId": "ef940601-936c-4c39-b7f4-65421f5514fb"
      },
      "outputs": [
        {
          "data": {
            "text/plain": [
              "array([ 0,  3,  6,  9, 12, 15, 18, 21, 24, 27])"
            ]
          },
          "execution_count": 72,
          "metadata": {},
          "output_type": "execute_result"
        }
      ],
      "source": [
        "v= np.arange(0,30,3)\n",
        "v"
      ]
    },
    {
      "cell_type": "code",
      "execution_count": null,
      "metadata": {
        "id": "pTi3GgT89LOe",
        "outputId": "3128d439-6d4a-4970-c81c-3d34f004714a"
      },
      "outputs": [
        {
          "data": {
            "text/plain": [
              "array([ 3,  9, 15])"
            ]
          },
          "execution_count": 73,
          "metadata": {},
          "output_type": "execute_result"
        }
      ],
      "source": [
        "# Aynı anda farklı kolon ve/veya sütunları/değerleri seçmek için fancy indexing kullanılır.\n",
        "\n",
        "v[[1, 3, 5]]  # Ör: tek boyutlu array de 1, 3 ve 5. indexteki değerleri getirir."
      ]
    },
    {
      "cell_type": "code",
      "execution_count": null,
      "metadata": {
        "id": "hqLZ8cUy9LOf",
        "outputId": "f6ef03fd-c9b4-413a-bd2c-325d0d47bdfd"
      },
      "outputs": [
        {
          "data": {
            "text/plain": [
              "array([[0, 0, 0, 0, 0, 0, 0, 0, 0, 0],\n",
              "       [0, 0, 0, 0, 0, 0, 0, 0, 0, 0],\n",
              "       [0, 0, 0, 0, 0, 0, 0, 0, 0, 0],\n",
              "       [0, 0, 0, 0, 0, 0, 0, 0, 0, 0],\n",
              "       [0, 0, 0, 0, 0, 0, 0, 0, 0, 0],\n",
              "       [0, 0, 0, 0, 0, 0, 0, 0, 0, 0],\n",
              "       [0, 0, 0, 0, 0, 0, 0, 0, 0, 0],\n",
              "       [0, 0, 0, 0, 0, 0, 0, 0, 0, 0],\n",
              "       [0, 0, 0, 0, 0, 0, 0, 0, 0, 0],\n",
              "       [0, 0, 0, 0, 0, 0, 0, 0, 0, 0]])"
            ]
          },
          "execution_count": 74,
          "metadata": {},
          "output_type": "execute_result"
        }
      ],
      "source": [
        "arr2d = np.zeros((10,10), dtype=int)\n",
        "arr2d"
      ]
    },
    {
      "cell_type": "code",
      "execution_count": null,
      "metadata": {
        "id": "iFqMDGEF9LOf",
        "outputId": "884213fd-50fb-46b8-d2bb-15713b05043f"
      },
      "outputs": [
        {
          "data": {
            "text/plain": [
              "array([[0, 0, 0, 0, 0, 0, 0, 0, 0, 0],\n",
              "       [1, 1, 1, 1, 1, 1, 1, 1, 1, 1],\n",
              "       [2, 2, 2, 2, 2, 2, 2, 2, 2, 2],\n",
              "       [3, 3, 3, 3, 3, 3, 3, 3, 3, 3],\n",
              "       [4, 4, 4, 4, 4, 4, 4, 4, 4, 4],\n",
              "       [5, 5, 5, 5, 5, 5, 5, 5, 5, 5],\n",
              "       [6, 6, 6, 6, 6, 6, 6, 6, 6, 6],\n",
              "       [7, 7, 7, 7, 7, 7, 7, 7, 7, 7],\n",
              "       [8, 8, 8, 8, 8, 8, 8, 8, 8, 8],\n",
              "       [9, 9, 9, 9, 9, 9, 9, 9, 9, 9]])"
            ]
          },
          "execution_count": 76,
          "metadata": {},
          "output_type": "execute_result"
        }
      ],
      "source": [
        "for i in range(len(arr2d)):\n",
        "    arr2d[i]=i\n",
        "\n",
        "arr2d"
      ]
    },
    {
      "cell_type": "code",
      "execution_count": null,
      "metadata": {
        "id": "WT78jzzG9LOf",
        "outputId": "0ec83d2e-59c0-4ad0-f3d4-5752ac4de8c5"
      },
      "outputs": [
        {
          "data": {
            "text/plain": [
              "array([2, 2, 2, 2, 2, 2, 2, 2, 2, 2])"
            ]
          },
          "execution_count": 77,
          "metadata": {},
          "output_type": "execute_result"
        }
      ],
      "source": [
        "arr2d[2]  # arr2d arrayinin 2. satırı"
      ]
    },
    {
      "cell_type": "markdown",
      "metadata": {
        "id": "ZTDDLbAIEOr6"
      },
      "source": [
        "Fancy indexing allows the following"
      ]
    },
    {
      "cell_type": "code",
      "execution_count": null,
      "metadata": {
        "id": "AFQgols99LOf",
        "outputId": "a50d4e0d-b37f-4ed1-a2ee-17cd2ca3c491"
      },
      "outputs": [
        {
          "data": {
            "text/plain": [
              "array([[1, 1, 1, 1, 1, 1, 1, 1, 1, 1],\n",
              "       [3, 3, 3, 3, 3, 3, 3, 3, 3, 3],\n",
              "       [5, 5, 5, 5, 5, 5, 5, 5, 5, 5]])"
            ]
          },
          "execution_count": 78,
          "metadata": {},
          "output_type": "execute_result"
        }
      ],
      "source": [
        "arr2d[[1,3,5]]  # arr2d arrayinin 1, 3, 5. satırı "
      ]
    },
    {
      "cell_type": "code",
      "execution_count": null,
      "metadata": {
        "id": "HwMJ1Snl9LOf",
        "outputId": "2b6c0d5e-4715-4685-b5c7-cf0a39ab6154"
      },
      "outputs": [
        {
          "data": {
            "text/plain": [
              "array([[7, 7, 7, 7, 7, 7, 7, 7, 7, 7],\n",
              "       [5, 5, 5, 5, 5, 5, 5, 5, 5, 5],\n",
              "       [2, 2, 2, 2, 2, 2, 2, 2, 2, 2]])"
            ]
          },
          "execution_count": 79,
          "metadata": {},
          "output_type": "execute_result"
        }
      ],
      "source": [
        "arr2d[[7,5,2]]  # arr2d arrayinin 7, 5, 2. satırı (yazdığımız sırayla)"
      ]
    },
    {
      "cell_type": "code",
      "execution_count": null,
      "metadata": {
        "id": "V-NScvJa9LOf"
      },
      "outputs": [],
      "source": [
        ""
      ]
    },
    {
      "cell_type": "markdown",
      "metadata": {
        "id": "uF0orNo5EOr6"
      },
      "source": [
        "<h3>any_array[[row indices], [column indices]]</h3>"
      ]
    },
    {
      "cell_type": "code",
      "execution_count": null,
      "metadata": {
        "id": "A8VIAatC9LOf",
        "outputId": "d749d904-566d-4af7-efbb-54baafb2c65b"
      },
      "outputs": [
        {
          "data": {
            "text/plain": [
              "array([[ 1,  2,  3,  4],\n",
              "       [ 5,  6,  7,  8],\n",
              "       [ 9, 10, 11, 12],\n",
              "       [13, 14, 15, 16]])"
            ]
          },
          "execution_count": 83,
          "metadata": {},
          "output_type": "execute_result"
        }
      ],
      "source": [
        "jj = np.arange(1,17).reshape(4,4)\n",
        "jj"
      ]
    },
    {
      "cell_type": "code",
      "execution_count": null,
      "metadata": {
        "id": "teKpJits9LOf",
        "outputId": "b14dbb11-f647-4765-d681-90c8b55f16af"
      },
      "outputs": [
        {
          "data": {
            "text/plain": [
              "array([ 5, 12])"
            ]
          },
          "execution_count": 85,
          "metadata": {},
          "output_type": "execute_result"
        }
      ],
      "source": [
        "# İki boyutlu arraylerde fancy index yöntemiyle satır indexleri ve sütun indexleri de belirtilerek noktasal değerlere ulaşılabilir.\n",
        "\n",
        "jj[[1,2],[0,3]]  # 1. satırın 0. elemanı, 2. satırın 3. elemanı"
      ]
    },
    {
      "cell_type": "code",
      "execution_count": null,
      "metadata": {
        "id": "7FF6kvcQ9LOf",
        "outputId": "f93239a0-c810-40dd-966c-a1345852bd5a"
      },
      "outputs": [
        {
          "data": {
            "text/plain": [
              "array([ 5, 12,  3])"
            ]
          },
          "execution_count": 86,
          "metadata": {},
          "output_type": "execute_result"
        }
      ],
      "source": [
        "jj[[1,2,0],[0,3,2]]  # 1. satırın 0. elemanı, 2. satırın 3. elemanı, 0. satırın 2. elemanı"
      ]
    },
    {
      "cell_type": "code",
      "execution_count": null,
      "metadata": {
        "id": "nLB-4pgE9LOg"
      },
      "outputs": [],
      "source": [
        ""
      ]
    },
    {
      "cell_type": "markdown",
      "metadata": {
        "id": "nnT2nQpmEOr7"
      },
      "source": [
        "### <p style=\"background-color:#9d4f8c; font-family:newtimeroman; color:#FFF9ED; font-size:150%; text-align:LEFT; border-radius:10px 10px;\">Using ***Basic Index*** & ***Fancy Index*** Together</p>\n",
        "\n",
        "<a id=\"1.5\"></a>\n",
        "<a href=\"#toc\" class=\"btn btn-primary btn-sm\" role=\"button\" aria-pressed=\"true\" \n",
        "style=\"color:blue; background-color:#dfa8e4\" data-toggle=\"popover\">Content</a>\n",
        "\n"
      ]
    },
    {
      "cell_type": "code",
      "execution_count": null,
      "metadata": {
        "id": "cw-J6Igc9LOg",
        "outputId": "eae04b4d-d1e3-4e32-a6cb-8a0e7543ece8"
      },
      "outputs": [
        {
          "data": {
            "text/plain": [
              "array([[ 1,  2,  3,  4],\n",
              "       [ 5,  6,  7,  8],\n",
              "       [ 9, 10, 11, 12],\n",
              "       [13, 14, 15, 16]])"
            ]
          },
          "execution_count": 87,
          "metadata": {},
          "output_type": "execute_result"
        }
      ],
      "source": [
        "jj"
      ]
    },
    {
      "cell_type": "code",
      "execution_count": null,
      "metadata": {
        "id": "sadCa9SV9LOg",
        "outputId": "52a732f9-c455-43f8-9fdf-800109e79c74"
      },
      "outputs": [
        {
          "data": {
            "text/plain": [
              "array([6, 8])"
            ]
          },
          "execution_count": 88,
          "metadata": {},
          "output_type": "execute_result"
        }
      ],
      "source": [
        "# Bazen bascin index ile fancy index metodu birlikte kullanılabilir.\n",
        "\n",
        "jj[1,[1,3]]  # 1. satırın 1. elemanı, 1. satırın 3. elemanı    "
      ]
    },
    {
      "cell_type": "code",
      "execution_count": null,
      "metadata": {
        "id": "OakCeTGp9LOg",
        "outputId": "d9f11c6e-1986-4ab2-a249-582de805ed2f"
      },
      "outputs": [
        {
          "data": {
            "text/plain": [
              "array([6, 8])"
            ]
          },
          "execution_count": 183,
          "metadata": {},
          "output_type": "execute_result"
        }
      ],
      "source": [
        "# veya \n",
        "\n",
        "jj[[1],[1,3]]  # satır indexi köşeli parantez içinde de yazılabilir."
      ]
    },
    {
      "cell_type": "markdown",
      "metadata": {
        "id": "V9EwT91qEOr8"
      },
      "source": [
        "### <p style=\"background-color:#9d4f8c; font-family:newtimeroman; color:#FFF9ED; font-size:150%; text-align:LEFT; border-radius:10px 10px;\">Using ***Basic Slicing*** & ***Fancy Index*** Together</p>\n",
        "\n",
        "<a id=\"1.6\"></a>\n",
        "<a href=\"#toc\" class=\"btn btn-primary btn-sm\" role=\"button\" aria-pressed=\"true\" \n",
        "style=\"color:blue; background-color:#dfa8e4\" data-toggle=\"popover\">Content</a>\n"
      ]
    },
    {
      "cell_type": "code",
      "execution_count": null,
      "metadata": {
        "id": "oxYw4R229LOg",
        "outputId": "01c0b908-1635-4f0d-cba9-a95006327bc0"
      },
      "outputs": [
        {
          "data": {
            "text/plain": [
              "array([[ 1,  2,  3,  4],\n",
              "       [ 5,  6,  7,  8],\n",
              "       [ 9, 10, 11, 12],\n",
              "       [13, 14, 15, 16]])"
            ]
          },
          "execution_count": 89,
          "metadata": {},
          "output_type": "execute_result"
        }
      ],
      "source": [
        "jj"
      ]
    },
    {
      "cell_type": "code",
      "execution_count": null,
      "metadata": {
        "id": "N2h2362G9LOg",
        "outputId": "e22b2784-45fb-46fd-e887-478d97b7ac8e"
      },
      "outputs": [
        {
          "data": {
            "text/plain": [
              "array([[ 2,  4],\n",
              "       [ 6,  8],\n",
              "       [10, 12],\n",
              "       [14, 16]])"
            ]
          },
          "execution_count": 92,
          "metadata": {},
          "output_type": "execute_result"
        }
      ],
      "source": [
        "# Basic slicing ve fancy index te birlikte kullanılabilir.\n",
        "\n",
        "jj[:,[1,3]]  # tüm satırların 1. ve 3. sütunları"
      ]
    },
    {
      "cell_type": "code",
      "execution_count": null,
      "metadata": {
        "id": "tWMHYiyE9LOg",
        "outputId": "93396700-d761-462a-d7f7-54ef5cb5d8ee"
      },
      "outputs": [
        {
          "data": {
            "text/plain": [
              "array([[ 6,  8],\n",
              "       [10, 12]])"
            ]
          },
          "execution_count": 93,
          "metadata": {},
          "output_type": "execute_result"
        }
      ],
      "source": [
        "jj[1:3,[1,3]]  # 1-3. satırların 1. ve 3. sütunları"
      ]
    },
    {
      "cell_type": "code",
      "execution_count": null,
      "metadata": {
        "id": "whPLtAni9LOg",
        "outputId": "2caeefa0-b47a-4438-a45d-25612083ac6a"
      },
      "outputs": [
        {
          "data": {
            "text/plain": [
              "array([[ 6,  7],\n",
              "       [10, 11]])"
            ]
          },
          "execution_count": 94,
          "metadata": {},
          "output_type": "execute_result"
        }
      ],
      "source": [
        "jj[1:3,1:3]  # 1-3. satırların 1-3. sütunları"
      ]
    },
    {
      "cell_type": "code",
      "execution_count": null,
      "metadata": {
        "id": "vvEN42Lv9LOh",
        "outputId": "7a730175-8246-49aa-e678-30789efc9e63"
      },
      "outputs": [
        {
          "data": {
            "text/plain": [
              "array([[ 6,  7],\n",
              "       [10, 11],\n",
              "       [14, 15]])"
            ]
          },
          "execution_count": 96,
          "metadata": {},
          "output_type": "execute_result"
        }
      ],
      "source": [
        "jj[1:,1:3]  # 1. satır ve sonrasının 1-3. sütunları"
      ]
    },
    {
      "cell_type": "code",
      "execution_count": null,
      "metadata": {
        "id": "J2fgaEoF9LOh"
      },
      "outputs": [],
      "source": [
        ""
      ]
    },
    {
      "cell_type": "markdown",
      "metadata": {
        "id": "StVz_DG2EOr8"
      },
      "source": [
        "### <p style=\"background-color:#9d4f8c; font-family:newtimeroman; color:#FFF9ED; font-size:150%; text-align:LEFT; border-radius:10px 10px;\">More Indexing Help</p>\n",
        "\n",
        "<a id=\"1.7\"></a>\n",
        "<a href=\"#toc\" class=\"btn btn-primary btn-sm\" role=\"button\" aria-pressed=\"true\" \n",
        "style=\"color:blue; background-color:#dfa8e4\" data-toggle=\"popover\">Content</a>\n",
        "\n",
        "\n",
        "Indexing a 2d matrix can be a bit confusing at first, especially when you start to add in step size. Try google image searching NumPy indexing to find useful images.\n",
        "\n",
        "![image.png](https://i.ibb.co/xmcGm9C/numpy-index1.png)\n",
        "\n",
        "[SOURCE](https://www.google.com/url?sa=i&url=https%3A%2F%2Fscipy-lectures.org%2Fintro%2Fnumpy%2Farray_object.html&psig=AOvVaw21eb1iMrmWndUhejWXLkY-&ust=1644056657663000&source=images&cd=vfe&ved=0CAwQjhxqFwoTCICAqr_q5fUCFQAAAAAdAAAAABAD)\n",
        "\n",
        "Numpy arrays can be indexed with slices, but also with boolean or integer arrays (masks). This method is called fancy indexing. It creates copies not views. [SOURCE](http://cs-tklab.na-inet.jp/~tkouya/python/scipy-lectures/intro/numpy/array_object.html)\n",
        "\n",
        "![image-2.png](https://i.ibb.co/bHYsGLb/numpy-indexing-1.png)"
      ]
    },
    {
      "cell_type": "markdown",
      "metadata": {
        "id": "PuAMbPrhEOr8"
      },
      "source": [
        "## <p style=\"background-color:#9d4f8c; font-family:newtimeroman; color:#FFF9ED; font-size:175%; text-align:center; border-radius:10px 10px;\">Selection on a Condition</p>\n",
        "\n",
        "<a id=\"2\"></a>\n",
        "<a href=\"#toc\" class=\"btn btn-primary btn-sm\" role=\"button\" aria-pressed=\"true\" \n",
        "style=\"color:blue; background-color:#dfa8e4\" data-toggle=\"popover\">Content</a>\n",
        "\n",
        "Let's briefly go over how to use brackets for selection based off of comparison operators."
      ]
    },
    {
      "cell_type": "code",
      "execution_count": null,
      "metadata": {
        "id": "2YvVrQtV9LOj",
        "outputId": "13188086-9e68-4489-adcf-1fbcb145070a"
      },
      "outputs": [
        {
          "data": {
            "text/plain": [
              "array([ 0,  1,  2,  3,  4,  5,  6,  7,  8,  9, 10])"
            ]
          },
          "execution_count": 100,
          "metadata": {},
          "output_type": "execute_result"
        }
      ],
      "source": [
        "arr"
      ]
    },
    {
      "cell_type": "code",
      "execution_count": null,
      "metadata": {
        "id": "UcWKDCzF9LOk",
        "outputId": "20f00dbb-a3bd-4b36-b317-8a8777d5c14d"
      },
      "outputs": [
        {
          "data": {
            "text/plain": [
              "array([False, False, False, False, False,  True,  True,  True,  True,\n",
              "        True,  True])"
            ]
          },
          "execution_count": 101,
          "metadata": {},
          "output_type": "execute_result"
        }
      ],
      "source": [
        "# bir array'e bir condition uygulandığında arrayin elemanlarının teker teker bu koşulu sağlayıp sağlamadığı\n",
        "# kontrol edilerek array sayısı kadar boolean değer içeren bir array oluşturulur.\n",
        "# Ör:\n",
        "\n",
        "arr > 4  # arr nin elamanları için bu koşul kontrol edilerek uyanlar için True, uymayanlar için False değer içeren bir array elde ettik."
      ]
    },
    {
      "cell_type": "code",
      "execution_count": null,
      "metadata": {
        "id": "v4g7sQCw9LOk",
        "outputId": "2b7b6add-5699-4ce2-c0e6-cf896e3c27b6"
      },
      "outputs": [
        {
          "data": {
            "text/plain": [
              "array([ 5,  6,  7,  8,  9, 10])"
            ]
          },
          "execution_count": 102,
          "metadata": {},
          "output_type": "execute_result"
        }
      ],
      "source": [
        "arr[arr > 4]  # bu koşulu [] içinde arr'nin yanına yazdığımızda bu koşulu sağlayan elemanlarını içeren bir array elde ederiz."
      ]
    },
    {
      "cell_type": "code",
      "execution_count": null,
      "metadata": {
        "id": "uCdz_P4E9LOk",
        "outputId": "2ee9e049-cdab-4119-a16e-d8b129f8f315"
      },
      "outputs": [
        {
          "data": {
            "text/plain": [
              "array([ 0,  1,  2,  8,  9, 10])"
            ]
          },
          "execution_count": 103,
          "metadata": {},
          "output_type": "execute_result"
        }
      ],
      "source": [
        "arr[(arr < 3) | (arr > 7)]  # bazen birden fazla condition da uygulamak gerekebilir."
      ]
    },
    {
      "cell_type": "code",
      "execution_count": null,
      "metadata": {
        "id": "0YWWym019LOk",
        "outputId": "4e21fd7b-77d3-4e59-9174-52ceae415fec"
      },
      "outputs": [
        {
          "data": {
            "text/plain": [
              "array([ 0,  1,  2,  8, 10])"
            ]
          },
          "execution_count": 104,
          "metadata": {},
          "output_type": "execute_result"
        }
      ],
      "source": [
        "arr[(arr < 3) | (arr > 7) & (arr!=9)]"
      ]
    },
    {
      "cell_type": "code",
      "execution_count": null,
      "metadata": {
        "id": "8pEPd7Z89LOk"
      },
      "outputs": [],
      "source": [
        ""
      ]
    },
    {
      "cell_type": "markdown",
      "metadata": {
        "id": "q2LJLRlxEOrx"
      },
      "source": [
        "## <p style=\"background-color:#9d4f8c; font-family:newtimeroman; color:#FFF9ED; font-size:175%; text-align:center; border-radius:10px 10px;\">Broadcasting</p>\n",
        "\n",
        "<a id=\"3\"></a>\n",
        "<a href=\"#toc\" class=\"btn btn-primary btn-sm\" role=\"button\" aria-pressed=\"true\" \n",
        "style=\"color:blue; background-color:#dfa8e4\" data-toggle=\"popover\">Content</a>\n",
        "\n",
        "Numpy arrays differ from a normal Python list because of their ability to broadcast [SOURCE](https://numpy.org/doc/stable/user/theory.broadcasting.html).<br>\n",
        "\n",
        "**``Broadcasting``** is the name given to the method that NumPy uses to allow array arithmetic between arrays with a different shape or size [SOURCE](https://machinelearningmastery.com/broadcasting-with-numpy-arrays/#:~:text=Broadcasting%20is%20the%20name%20given,a%20different%20shape%20or%20size.&text=Subject%20to%20certain%20constraints%2C%20the,that%20they%20have%20compatible%20shapes.).<br>\n",
        "\n",
        "The term broadcasting describes how numpy treats arrays with different shapes during arithmetic operations. Subject to certain constraints, the smaller array is **``broadcast``** across the larger array so that they have compatible shapes. Broadcasting provides a means of vectorizing array operations so that looping occurs in C instead of Python. It does this without making needless copies of data and usually leads to efficient algorithm implementations. There are, however, cases where broadcasting is a bad idea because it leads to inefficient use of memory that slows computation [SOURCE](https://docs.scipy.org/doc/numpy-1.13.0/user/basics.broadcasting.html).<br> \n",
        "\n",
        "Broadcasting is an operation of matching the dimensions of differently shaped arrays in order to be able to perform further operations on those arrays (eg per-element aritmetic) [SOURCE01](https://towardsdatascience.com/broadcasting-in-numpy-58856f926d73), [SOURCE02](https://towardsdatascience.com/a-numpy-affair-broadcasting-ead20d9661f).<br>\n",
        "\n",
        "**NumPy Broadcasting Limitations**<br>\n",
        "Broadcasting is a very easy and handy tool when working with Numpy arrays. Although, there are many rules and restrictions to perform the operations.\n",
        "\n",
        "There are constraints on the dimension and shape of the arrays. We can perform broadcasting in cases where both the arrays have the same shape or only if either of the two has a size of 1. Also, we have to consider the dimensions in reverse order. We count it from the trailing dimension [SOURCE](https://data-flair.training/blogs/numpy-broadcasting/).<br>\n",
        "\n",
        "Be informed about the discussion on [When broadcasting is a bad idea? (numpy)](https://stackoverflow.com/questions/47309818/when-broadcasting-is-a-bad-idea-numpy) at Stackoverflow.\n",
        "\n",
        "More Sources: [SOURCE01](https://inblog.in/Broadcasting-in-Numpy-A-Complete-Guide-jfKy2vzHiY), [SOURCE02](https://www.pluralsight.com/guides/broadcasting-numpy-arrays-arithmeetic-operations), [SOURCE03](https://www.geeksforgeeks.org/python-broadcasting-with-numpy-arrays/), [SOURCE04](https://www.askpython.com/python-modules/numpy/numpy-broadcasting), [SOURCE05](https://stackoverflow.com/questions/32832923/numpy-what-is-broadcasting), [SOURCE06](https://stackoverflow.com/questions/61090539/how-can-i-use-broadcasting-with-numpy-to-speed-up-this-correlation-calculation), [SOURCE07](https://stackoverflow.com/questions/68185016/numpy-broadcasting-two-arrays-of-different-shape-to-matrix), [SOURCE08](https://stackoverflow.com/questions/50569344/broadcasting-using-numpys-sum-function)"
      ]
    },
    {
      "cell_type": "code",
      "execution_count": null,
      "metadata": {
        "id": "OvU0QXDc9LOk",
        "outputId": "197437c2-7485-410a-fbb3-f69e622ca2a4"
      },
      "outputs": [
        {
          "data": {
            "text/plain": [
              "array([ 0,  1,  2,  3,  4,  5,  6,  7,  8,  9, 10])"
            ]
          },
          "execution_count": 105,
          "metadata": {},
          "output_type": "execute_result"
        }
      ],
      "source": [
        "arr"
      ]
    },
    {
      "cell_type": "code",
      "execution_count": null,
      "metadata": {
        "id": "2i8yoqC19LOl"
      },
      "outputs": [],
      "source": [
        "arr[:5] = 77  # arrayin belirli bir bölümünü alıp değerlerini değiştirebiliriz."
      ]
    },
    {
      "cell_type": "code",
      "execution_count": null,
      "metadata": {
        "id": "iej8BsPF9LOl",
        "outputId": "8124e501-5dfd-4082-c53e-7ed61654adc3"
      },
      "outputs": [
        {
          "data": {
            "text/plain": [
              "array([77, 77, 77, 77, 77,  5,  6,  7,  8,  9, 10])"
            ]
          },
          "execution_count": 107,
          "metadata": {},
          "output_type": "execute_result"
        }
      ],
      "source": [
        "arr"
      ]
    },
    {
      "cell_type": "code",
      "execution_count": null,
      "metadata": {
        "id": "rZtBnf9X9LOl"
      },
      "outputs": [],
      "source": [
        ""
      ]
    },
    {
      "cell_type": "markdown",
      "metadata": {
        "id": "DRMk8hpoEOr0"
      },
      "source": [
        "Now **``note``** that the changes also occur in our original array!"
      ]
    },
    {
      "cell_type": "code",
      "execution_count": null,
      "metadata": {
        "id": "5ROT3YRV9LOl"
      },
      "outputs": [],
      "source": [
        "arr = np.arange(11)"
      ]
    },
    {
      "cell_type": "code",
      "execution_count": null,
      "metadata": {
        "id": "iJnRcPXb9LOl",
        "outputId": "f857916e-82c0-4dc0-db36-bdee9a699296"
      },
      "outputs": [
        {
          "data": {
            "text/plain": [
              "array([ 0,  1,  2,  3,  4,  5,  6,  7,  8,  9, 10])"
            ]
          },
          "execution_count": 110,
          "metadata": {},
          "output_type": "execute_result"
        }
      ],
      "source": [
        "arr"
      ]
    },
    {
      "cell_type": "code",
      "execution_count": null,
      "metadata": {
        "id": "2C7hUhar9LOl",
        "outputId": "4fafc9af-cc6a-46a3-d9bf-6881dc52a327"
      },
      "outputs": [
        {
          "data": {
            "text/plain": [
              "array([0, 1, 2, 3, 4, 5])"
            ]
          },
          "execution_count": 112,
          "metadata": {},
          "output_type": "execute_result"
        }
      ],
      "source": [
        "arr_slice = arr[:6]\n",
        "\n",
        "arr_slice"
      ]
    },
    {
      "cell_type": "code",
      "execution_count": null,
      "metadata": {
        "id": "C24x1doK9LOl",
        "outputId": "f0f65244-05be-4481-a93f-5c4b440e3fc4"
      },
      "outputs": [
        {
          "data": {
            "text/plain": [
              "array([55, 55, 55, 55, 55, 55])"
            ]
          },
          "execution_count": 114,
          "metadata": {},
          "output_type": "execute_result"
        }
      ],
      "source": [
        "arr_slice[:] = 55\n",
        "arr_slice"
      ]
    },
    {
      "cell_type": "code",
      "execution_count": null,
      "metadata": {
        "id": "bE7QHjUm9LOl",
        "outputId": "84bea1a7-e159-4bbe-896b-d25d7154bd00"
      },
      "outputs": [
        {
          "data": {
            "text/plain": [
              "array([55, 55, 55, 55, 55, 55,  6,  7,  8,  9, 10])"
            ]
          },
          "execution_count": 115,
          "metadata": {},
          "output_type": "execute_result"
        }
      ],
      "source": [
        "arr  # arr den kopyaladığım arrayde yaptığım değişiklikler orjinal arrayi de değiştirir."
      ]
    },
    {
      "cell_type": "code",
      "execution_count": null,
      "metadata": {
        "id": "5Wy0Uq3b9LOm",
        "outputId": "db5057bf-5d49-4552-a104-6d06fd7bed9e"
      },
      "outputs": [
        {
          "data": {
            "text/plain": [
              "array([55, 55, 55, 55, 55, 55,  6,  7,  8,  9, 10])"
            ]
          },
          "execution_count": 116,
          "metadata": {},
          "output_type": "execute_result"
        }
      ],
      "source": [
        "# Bunu engellemek için copy() fonksiyonu ile arrayin kopyasını alarak çalışmalıyız."
      ]
    },
    {
      "cell_type": "code",
      "execution_count": null,
      "metadata": {
        "id": "Cc3sPAmg9LOm"
      },
      "outputs": [],
      "source": [
        ""
      ]
    },
    {
      "cell_type": "markdown",
      "metadata": {
        "id": "erHJLMDVEOr0"
      },
      "source": [
        "Data is not copied, it's a view of the original array! This avoids memory problems!"
      ]
    },
    {
      "cell_type": "code",
      "execution_count": null,
      "metadata": {
        "id": "M_hUzaMS9LOm",
        "outputId": "0fde9c07-0ad6-41ba-ea50-5a60af97cd7f"
      },
      "outputs": [
        {
          "data": {
            "text/plain": [
              "array([55, 55, 55, 55, 55, 55,  6,  7,  8,  9, 10])"
            ]
          },
          "execution_count": 117,
          "metadata": {},
          "output_type": "execute_result"
        }
      ],
      "source": [
        "#  arrayin kopyasını alarak kopyası üzerinden işlem yaparsanız orjinal arrayde yaptığınız değişiklikler gerçekleşmez.\n",
        "\n",
        "arr_copy=arr.copy()\n",
        "arr_copy"
      ]
    },
    {
      "cell_type": "code",
      "execution_count": null,
      "metadata": {
        "id": "mDCjbEV79LOm",
        "outputId": "09832d63-516b-47a5-d606-3429ac20ce6a"
      },
      "outputs": [
        {
          "data": {
            "text/plain": [
              "array([ 0,  1,  2,  3,  4,  5,  6,  7,  8,  9, 10])"
            ]
          },
          "execution_count": 120,
          "metadata": {},
          "output_type": "execute_result"
        }
      ],
      "source": [
        "arr_copy[:6] = [0,1, 2, 3, 4, 5]\n",
        "arr_copy"
      ]
    },
    {
      "cell_type": "code",
      "execution_count": null,
      "metadata": {
        "id": "Lz2Cilzv9LOm",
        "outputId": "b47aea91-b05f-4876-da06-0a60d0f5b086"
      },
      "outputs": [
        {
          "data": {
            "text/plain": [
              "array([55, 55, 55, 55, 55, 55,  6,  7,  8,  9, 10])"
            ]
          },
          "execution_count": 121,
          "metadata": {},
          "output_type": "execute_result"
        }
      ],
      "source": [
        "arr"
      ]
    },
    {
      "cell_type": "code",
      "execution_count": null,
      "metadata": {
        "id": "U4_Q7UYS9LOm"
      },
      "outputs": [],
      "source": [
        ""
      ]
    },
    {
      "cell_type": "markdown",
      "metadata": {
        "id": "5ZSc-mkWEOr9"
      },
      "source": [
        "## <p style=\"background-color:#9d4f8c; font-family:newtimeroman; color:#FFF9ED; font-size:175%; text-align:center; border-radius:10px 10px;\">Numpy Operations</p>\n",
        "\n",
        "<a id=\"4\"></a>\n",
        "<a href=\"#toc\" class=\"btn btn-primary btn-sm\" role=\"button\" aria-pressed=\"true\" \n",
        "style=\"color:blue; background-color:#dfa8e4\" data-toggle=\"popover\">Content</a>\n",
        "\n",
        "![image.png](https://i.ibb.co/n65mpTL/numpy-operations.png)"
      ]
    },
    {
      "cell_type": "markdown",
      "metadata": {
        "id": "W9C14mPVEOr-"
      },
      "source": [
        "### <p style=\"background-color:#9d4f8c; font-family:newtimeroman; color:#FFF9ED; font-size:150%; text-align:LEFT; border-radius:10px 10px;\">Arithmetic Operations</p>\n",
        "\n",
        "<a id=\"4.1\"></a>\n",
        "<a href=\"#toc\" class=\"btn btn-primary btn-sm\" role=\"button\" aria-pressed=\"true\" \n",
        "style=\"color:blue; background-color:#dfa8e4\" data-toggle=\"popover\">Content</a>\n",
        "\n",
        "#### You can easily perform array with array arithmetic, or scalar with array arithmetic."
      ]
    },
    {
      "cell_type": "code",
      "execution_count": null,
      "metadata": {
        "id": "PjPkTwPE9LOn",
        "outputId": "132c8eda-22b4-4b2a-ce3a-0dacaa3b5a55"
      },
      "outputs": [
        {
          "data": {
            "text/plain": [
              "array([0, 1, 2, 3, 4, 5, 6, 7, 8, 9])"
            ]
          },
          "execution_count": 124,
          "metadata": {},
          "output_type": "execute_result"
        }
      ],
      "source": [
        "arr = np.arange(0,10)\n",
        "arr"
      ]
    },
    {
      "cell_type": "code",
      "execution_count": null,
      "metadata": {
        "id": "tDy4xmKa9LOn",
        "outputId": "131d43f8-3509-4278-8cf0-b9696193940a"
      },
      "outputs": [
        {
          "data": {
            "text/plain": [
              "array([ 0,  2,  4,  6,  8, 10, 12, 14, 16, 18])"
            ]
          },
          "execution_count": 125,
          "metadata": {},
          "output_type": "execute_result"
        }
      ],
      "source": [
        "arr + arr  # bir array başka bir array ile toplanabilir. Bu durumda arraylerin shape leri uyumlu olmalı. element-wise işlem yapar."
      ]
    },
    {
      "cell_type": "code",
      "execution_count": null,
      "metadata": {
        "id": "pJ3E2wCm9LOn",
        "outputId": "5601ad78-5ab0-4811-ef14-9ab36b337789"
      },
      "outputs": [
        {
          "data": {
            "text/plain": [
              "array([0, 0, 0, 0, 0, 0, 0, 0, 0, 0])"
            ]
          },
          "execution_count": 127,
          "metadata": {},
          "output_type": "execute_result"
        }
      ],
      "source": [
        "arr - arr  # bir array başka bir arrayden çıkarılabilir."
      ]
    },
    {
      "cell_type": "code",
      "execution_count": null,
      "metadata": {
        "id": "xFH6wleS9LOn",
        "outputId": "423d3929-6f86-40f0-d0ea-338e2ffd3d07"
      },
      "outputs": [
        {
          "data": {
            "text/plain": [
              "array([ 0,  1,  4,  9, 16, 25, 36, 49, 64, 81])"
            ]
          },
          "execution_count": 128,
          "metadata": {},
          "output_type": "execute_result"
        }
      ],
      "source": [
        "arr * arr # bir array başka bir array ile çarpılabilir."
      ]
    },
    {
      "cell_type": "code",
      "execution_count": null,
      "metadata": {
        "id": "4YSl7WSQ9LOn",
        "outputId": "5cd37055-bf6b-4f04-cdae-2881d5006e52"
      },
      "outputs": [
        {
          "data": {
            "text/plain": [
              "array([nan,  1.,  1.,  1.,  1.,  1.,  1.,  1.,  1.,  1.])"
            ]
          },
          "execution_count": 130,
          "metadata": {},
          "output_type": "execute_result"
        }
      ],
      "source": [
        "arr / arr # bir array başka bir arraye bölünebilir."
      ]
    },
    {
      "cell_type": "code",
      "execution_count": null,
      "metadata": {
        "id": "ImXap5KG9LOn"
      },
      "outputs": [],
      "source": [
        "import warnings\n",
        "warnings.filterwarnings('ignore')"
      ]
    },
    {
      "cell_type": "code",
      "execution_count": null,
      "metadata": {
        "id": "RCkbWZeS9LOo",
        "outputId": "9ea07b0c-fb80-41cc-c193-d4d9d84fb776"
      },
      "outputs": [
        {
          "data": {
            "text/plain": [
              "array([nan,  1.,  1.,  1.,  1.,  1.,  1.,  1.,  1.,  1.])"
            ]
          },
          "execution_count": 131,
          "metadata": {},
          "output_type": "execute_result"
        }
      ],
      "source": [
        "arr / arr"
      ]
    },
    {
      "cell_type": "code",
      "execution_count": null,
      "metadata": {
        "id": "65zZaAUQ9LOo",
        "outputId": "be09c6dc-b7c0-4f37-9125-5f4c6ad16d36"
      },
      "outputs": [
        {
          "data": {
            "text/plain": [
              "array([       inf, 1.        , 0.5       , 0.33333333, 0.25      ,\n",
              "       0.2       , 0.16666667, 0.14285714, 0.125     , 0.11111111])"
            ]
          },
          "execution_count": 132,
          "metadata": {},
          "output_type": "execute_result"
        }
      ],
      "source": [
        "1 / arr  # bir sayıyı bir arraye bölebilirsiniz."
      ]
    },
    {
      "cell_type": "code",
      "execution_count": null,
      "metadata": {
        "id": "NbzKL0mr9LOo",
        "outputId": "749adaee-117a-4eb5-bf1d-0201440092ed"
      },
      "outputs": [
        {
          "data": {
            "text/plain": [
              "array([ 0,  1,  4,  9, 16, 25, 36, 49, 64, 81], dtype=int32)"
            ]
          },
          "execution_count": 133,
          "metadata": {},
          "output_type": "execute_result"
        }
      ],
      "source": [
        "arr ** 2  # bir arrayin istediğiniz kuvvetini alabilirsiniz. "
      ]
    },
    {
      "cell_type": "code",
      "execution_count": null,
      "metadata": {
        "id": "IPsdMi3l9LOo",
        "outputId": "a517976b-bfd7-4d8b-e996-1c7f1cf1ebf8"
      },
      "outputs": [
        {
          "data": {
            "text/plain": [
              "array([ 1,  2,  3,  4,  5,  6,  7,  8,  9, 10])"
            ]
          },
          "execution_count": 134,
          "metadata": {},
          "output_type": "execute_result"
        }
      ],
      "source": [
        "arr + 1  # bir arrayi başka bir sayı ile toplayabilirsiniz."
      ]
    },
    {
      "cell_type": "code",
      "execution_count": null,
      "metadata": {
        "id": "P1QdsuT39LOo",
        "outputId": "4084479b-b432-409b-a805-137c8c199568"
      },
      "outputs": [
        {
          "data": {
            "text/plain": [
              "array([-5, -4, -3, -2, -1,  0,  1,  2,  3,  4])"
            ]
          },
          "execution_count": 135,
          "metadata": {},
          "output_type": "execute_result"
        }
      ],
      "source": [
        "arr -5  # bir arrayden başka bir sayıyı çıkartabilirsiniz."
      ]
    },
    {
      "cell_type": "code",
      "execution_count": null,
      "metadata": {
        "id": "ybbaKQxY9LOo",
        "outputId": "32854913-855b-4ed7-8c53-539c4cdf4d2d"
      },
      "outputs": [
        {
          "data": {
            "text/plain": [
              "array([ 0,  7, 14, 21, 28, 35, 42, 49, 56, 63])"
            ]
          },
          "execution_count": 137,
          "metadata": {},
          "output_type": "execute_result"
        }
      ],
      "source": [
        "arr * 7  # bir arrayi başka bir sayı ile çarpabilirsiniz."
      ]
    },
    {
      "cell_type": "code",
      "execution_count": null,
      "metadata": {
        "id": "7Wk6D_-69LOo",
        "outputId": "592b8b16-b194-4e94-8e7f-984e23f32e17"
      },
      "outputs": [
        {
          "data": {
            "text/plain": [
              "array([        1,         1,         4,        27,       256,      3125,\n",
              "           46656,    823543,  16777216, 387420489], dtype=int32)"
            ]
          },
          "execution_count": 141,
          "metadata": {},
          "output_type": "execute_result"
        }
      ],
      "source": [
        "arr ** arr  # bir arrayin başka bir array ile kuvvetini alabilirsiniz."
      ]
    },
    {
      "cell_type": "code",
      "execution_count": null,
      "metadata": {
        "id": "jTk1-vMV9LOo",
        "outputId": "fa1e2179-efb3-429b-d736-72584b6eabb1"
      },
      "outputs": [
        {
          "data": {
            "text/plain": [
              "array([-1,  0,  1,  2,  3,  4,  5,  6,  7,  8])"
            ]
          },
          "execution_count": 148,
          "metadata": {},
          "output_type": "execute_result"
        }
      ],
      "source": [
        "np.subtract(arr, 1)  # np.subtract()  fonksiyonu içine yazılan arrayleri birbirinden çıkarır. Veya bir array'den bir sayıyı da çıkarabilirsiniz."
      ]
    },
    {
      "cell_type": "code",
      "execution_count": null,
      "metadata": {
        "id": "H2NueZdX9LOp",
        "outputId": "ce97d104-4142-4ad9-d050-5ca0d7955b2f"
      },
      "outputs": [
        {
          "data": {
            "text/plain": [
              "array([ 1,  0, -1, -2, -3, -4, -5, -6, -7, -8])"
            ]
          },
          "execution_count": 149,
          "metadata": {},
          "output_type": "execute_result"
        }
      ],
      "source": [
        "np.subtract(1, arr)  # np.subtract()  fonksiyonu bir sayıdan bi arrayi de çıkarabilirsiniz."
      ]
    },
    {
      "cell_type": "code",
      "execution_count": null,
      "metadata": {
        "id": "ruMoKQ4l9LOp",
        "outputId": "33f7ddc7-efa9-4602-f134-ee0f21f756e4"
      },
      "outputs": [
        {
          "data": {
            "text/plain": [
              "array([ 2,  3,  4,  5,  6,  7,  8,  9, 10, 11])"
            ]
          },
          "execution_count": 150,
          "metadata": {},
          "output_type": "execute_result"
        }
      ],
      "source": [
        "np.add(2, arr)  # np.add() fonksiyonu ile bir array ile bir sayı/arrayi toplayabilirsiniz."
      ]
    },
    {
      "cell_type": "code",
      "execution_count": null,
      "metadata": {
        "id": "jOxh1mNf9LOp",
        "outputId": "97600171-54f9-483c-97b4-8fa66e23b987"
      },
      "outputs": [
        {
          "data": {
            "text/plain": [
              "array([0. , 0.5, 1. , 1.5, 2. , 2.5, 3. , 3.5, 4. , 4.5])"
            ]
          },
          "execution_count": 151,
          "metadata": {},
          "output_type": "execute_result"
        }
      ],
      "source": [
        "np.divide(arr, 2)  # np.divide() fonksiyonu ile bir arrayi  bir sayı/arraye bölebilirsiniz."
      ]
    },
    {
      "cell_type": "code",
      "execution_count": null,
      "metadata": {
        "id": "x39RLXJI9LOp",
        "outputId": "f650758b-888e-4a5a-e391-971e614f65f2"
      },
      "outputs": [
        {
          "data": {
            "text/plain": [
              "array([       inf, 2.        , 1.        , 0.66666667, 0.5       ,\n",
              "       0.4       , 0.33333333, 0.28571429, 0.25      , 0.22222222])"
            ]
          },
          "execution_count": 152,
          "metadata": {},
          "output_type": "execute_result"
        }
      ],
      "source": [
        "np.divide(2, arr)"
      ]
    },
    {
      "cell_type": "code",
      "execution_count": null,
      "metadata": {
        "id": "370iRGVI9LOp",
        "outputId": "3f5f1d9e-5850-4381-a809-af7dd5daedc8"
      },
      "outputs": [
        {
          "data": {
            "text/plain": [
              "array([ 0,  3,  6,  9, 12, 15, 18, 21, 24, 27])"
            ]
          },
          "execution_count": 153,
          "metadata": {},
          "output_type": "execute_result"
        }
      ],
      "source": [
        "np.multiply(arr, 3)  # np.multiply() fonksiyonu ile bir array ile bir sayı/arrayi çarpabilirsiniz."
      ]
    },
    {
      "cell_type": "code",
      "execution_count": null,
      "metadata": {
        "id": "aP7UTu4y9LOp",
        "outputId": "a1530533-f570-4a5c-b9b5-0831e32e9aae"
      },
      "outputs": [
        {
          "data": {
            "text/plain": [
              "array([   0,    1,   16,   81,  256,  625, 1296, 2401, 4096, 6561],\n",
              "      dtype=int32)"
            ]
          },
          "execution_count": 154,
          "metadata": {},
          "output_type": "execute_result"
        }
      ],
      "source": [
        "np.power(arr,4)  # np.power() fonksiyonu ile bir arrayin bir sayı/array kuvvetini alabilirsiniz."
      ]
    },
    {
      "cell_type": "code",
      "execution_count": null,
      "metadata": {
        "id": "cV4lWfzP9LOp",
        "outputId": "2a0fa06a-8c59-4798-a416-85b7d3a4a924"
      },
      "outputs": [
        {
          "data": {
            "text/plain": [
              "array([0, 1, 0, 1, 0, 1, 0, 1, 0, 1], dtype=int32)"
            ]
          },
          "execution_count": 155,
          "metadata": {},
          "output_type": "execute_result"
        }
      ],
      "source": [
        "np.mod(arr, 2)  # np.mod() fonksiyonu ile bir array ile bir sayı/arrayin modulus(kalan değer) bulabilirsiniz."
      ]
    },
    {
      "cell_type": "code",
      "execution_count": null,
      "metadata": {
        "id": "YKVUAgc89LOq",
        "outputId": "c81171a7-191a-40d1-9b72-f5f8a739b791"
      },
      "outputs": [
        {
          "data": {
            "text/plain": [
              "0"
            ]
          },
          "execution_count": 156,
          "metadata": {},
          "output_type": "execute_result"
        }
      ],
      "source": [
        "np.mod(arr[6], 2)  # arrayin sadece tek bir elemanı için veya bir bölümü için de bu fonksiyonları kullanabilirisiniz."
      ]
    },
    {
      "cell_type": "code",
      "execution_count": null,
      "metadata": {
        "id": "6o609gey9LOq",
        "outputId": "1aec78d9-60b0-465f-c951-bd674aa04665"
      },
      "outputs": [
        {
          "data": {
            "text/plain": [
              "9"
            ]
          },
          "execution_count": 157,
          "metadata": {},
          "output_type": "execute_result"
        }
      ],
      "source": [
        "np.absolute(-9)  # negatif bir sayının mutlak değerini almak için"
      ]
    },
    {
      "cell_type": "code",
      "execution_count": null,
      "metadata": {
        "id": "puptBcBZ9LOq",
        "outputId": "5a434fc5-7b69-4381-d8c3-2c2090e7a95a"
      },
      "outputs": [
        {
          "data": {
            "text/plain": [
              "9"
            ]
          },
          "execution_count": 158,
          "metadata": {},
          "output_type": "execute_result"
        }
      ],
      "source": [
        "np.abs(-9)  # negatif bir sayının mutlak değerini almak için"
      ]
    },
    {
      "cell_type": "code",
      "execution_count": null,
      "metadata": {
        "id": "GjhJJkWs9LOq",
        "outputId": "1acbae49-c3ad-4032-c757-3f124ff05f78"
      },
      "outputs": [
        {
          "data": {
            "text/plain": [
              "array([10,  9,  8,  7,  6,  5,  4,  3,  2,  1])"
            ]
          },
          "execution_count": 159,
          "metadata": {},
          "output_type": "execute_result"
        }
      ],
      "source": [
        "np.abs(10-arr)  # bir arrayin elemanlarının mutlak değerini almak için"
      ]
    },
    {
      "cell_type": "code",
      "execution_count": null,
      "metadata": {
        "id": "Eq6jFGKU9LOq",
        "outputId": "9c95d6e8-7bb2-4118-a9ce-102548ab49e3"
      },
      "outputs": [
        {
          "data": {
            "text/plain": [
              "array([0, 1, 2, 3, 4, 5, 6, 7, 8, 9])"
            ]
          },
          "execution_count": 138,
          "metadata": {},
          "output_type": "execute_result"
        }
      ],
      "source": [
        "arr"
      ]
    },
    {
      "cell_type": "code",
      "execution_count": null,
      "metadata": {
        "id": "zTFkUnXO9LOq",
        "outputId": "a7422818-3a0f-43cb-b0eb-a515f14921f8"
      },
      "outputs": [
        {
          "data": {
            "text/plain": [
              "array([0.        , 1.        , 1.41421356, 1.73205081, 2.        ,\n",
              "       2.23606798, 2.44948974, 2.64575131, 2.82842712, 3.        ])"
            ]
          },
          "execution_count": 139,
          "metadata": {},
          "output_type": "execute_result"
        }
      ],
      "source": [
        "np.sqrt(arr)  # bir arrayin elemanlarının karekökünü almak için"
      ]
    },
    {
      "cell_type": "code",
      "execution_count": null,
      "metadata": {
        "id": "9E8d9kGE9LOq",
        "outputId": "1ff4bcdf-f83b-4452-bfc8-337698a3eec7"
      },
      "outputs": [
        {
          "data": {
            "text/plain": [
              "array([1.00000000e+00, 2.71828183e+00, 7.38905610e+00, 2.00855369e+01,\n",
              "       5.45981500e+01, 1.48413159e+02, 4.03428793e+02, 1.09663316e+03,\n",
              "       2.98095799e+03, 8.10308393e+03])"
            ]
          },
          "execution_count": 140,
          "metadata": {},
          "output_type": "execute_result"
        }
      ],
      "source": [
        "np.exp(arr)  # bir arrayin elemanlarının exponansiylini almak için"
      ]
    },
    {
      "cell_type": "code",
      "execution_count": null,
      "metadata": {
        "id": "ucoJAFKR9LOr",
        "outputId": "933f93e3-1f1a-46df-8806-17c448a8cbd6"
      },
      "outputs": [
        {
          "data": {
            "text/plain": [
              "array([ 0.        ,  0.84147098,  0.90929743,  0.14112001, -0.7568025 ,\n",
              "       -0.95892427, -0.2794155 ,  0.6569866 ,  0.98935825,  0.41211849])"
            ]
          },
          "execution_count": 142,
          "metadata": {},
          "output_type": "execute_result"
        }
      ],
      "source": [
        "np.sin(arr)  # bir arrayin elemanlarının sinusunu almak için"
      ]
    },
    {
      "cell_type": "code",
      "execution_count": null,
      "metadata": {
        "id": "_xguRUlS9LOr",
        "outputId": "88b1bfd5-c236-497f-e6e8-d9ece7b33d95"
      },
      "outputs": [
        {
          "data": {
            "text/plain": [
              "1.0"
            ]
          },
          "execution_count": 143,
          "metadata": {},
          "output_type": "execute_result"
        }
      ],
      "source": [
        "np.sin(np.pi/2)"
      ]
    },
    {
      "cell_type": "code",
      "execution_count": null,
      "metadata": {
        "id": "6AZj5mnu9LOr",
        "outputId": "a289a240-1b3b-4f31-e499-6768bd1120c4"
      },
      "outputs": [
        {
          "data": {
            "text/plain": [
              "0.9999999999999999"
            ]
          },
          "execution_count": 144,
          "metadata": {},
          "output_type": "execute_result"
        }
      ],
      "source": [
        "np.tan(np.pi/4)"
      ]
    },
    {
      "cell_type": "code",
      "execution_count": null,
      "metadata": {
        "id": "iKRniFEH9LOr",
        "outputId": "7ac3ee04-2aed-4146-e656-a57955bea34d"
      },
      "outputs": [
        {
          "data": {
            "text/plain": [
              "array([      -inf, 0.        , 0.69314718, 1.09861229, 1.38629436,\n",
              "       1.60943791, 1.79175947, 1.94591015, 2.07944154, 2.19722458])"
            ]
          },
          "execution_count": 145,
          "metadata": {},
          "output_type": "execute_result"
        }
      ],
      "source": [
        "np.log(arr)  # bir arrayin elemanlarının logaritmasını almak için"
      ]
    },
    {
      "cell_type": "code",
      "execution_count": null,
      "metadata": {
        "id": "5ylPsXEp9LOr",
        "outputId": "67a14394-6b64-47e2-844a-0537b24571a3"
      },
      "outputs": [
        {
          "data": {
            "text/plain": [
              "array([      -inf, 0.        , 0.30103   , 0.47712125, 0.60205999,\n",
              "       0.69897   , 0.77815125, 0.84509804, 0.90308999, 0.95424251])"
            ]
          },
          "execution_count": 146,
          "metadata": {},
          "output_type": "execute_result"
        }
      ],
      "source": [
        "np.log10(arr)  # bir arrayin elemanlarının log10'unu almak için"
      ]
    },
    {
      "cell_type": "code",
      "execution_count": null,
      "metadata": {
        "id": "fqOVcNQ49LOs",
        "outputId": "691918c0-384d-47e5-d995-66579af93e73"
      },
      "outputs": [
        {
          "data": {
            "text/plain": [
              "array([0, 1, 2, 3, 4, 5, 6, 7, 8, 9])"
            ]
          },
          "execution_count": 147,
          "metadata": {},
          "output_type": "execute_result"
        }
      ],
      "source": [
        "arr"
      ]
    },
    {
      "cell_type": "code",
      "execution_count": null,
      "metadata": {
        "id": "tng4DlSQ9LOs"
      },
      "outputs": [],
      "source": [
        ""
      ]
    },
    {
      "cell_type": "markdown",
      "metadata": {
        "id": "dAJYKy1REOsA"
      },
      "source": [
        "### <p style=\"background-color:#9d4f8c; font-family:newtimeroman; color:#FFF9ED; font-size:150%; text-align:LEFT; border-radius:10px 10px;\">Universal Array Functions</p>\n",
        "\n",
        "<a id=\"4.2\"></a>\n",
        "<a href=\"#toc\" class=\"btn btn-primary btn-sm\" role=\"button\" aria-pressed=\"true\" \n",
        "style=\"color:blue; background-color:#dfa8e4\" data-toggle=\"popover\">Content</a>\n",
        "\n",
        "![image.png](https://i.ibb.co/QYWBrtK/numpy-operations1.png)\n",
        "\n",
        "[SOURCE01](https://medium.com/swlh/universal-functions-ufuncs-a-weapon-of-numpy-b8d0145a3808), \n",
        "[SOURCE02](https://www.brainstobytes.com/hands-on-numpy-universal-functions-and-array-oriented-programming/)\n",
        "\n",
        "\n"
      ]
    },
    {
      "cell_type": "markdown",
      "metadata": {
        "id": "JEPmWEIqEOsA"
      },
      "source": [
        "#### Numpy comes with many [universal array functions](http://docs.scipy.org/doc/numpy/reference/ufuncs.html), which are essentially just mathematical operations you can use to perform the operation across the array. Let's show some common ones:"
      ]
    },
    {
      "cell_type": "code",
      "execution_count": null,
      "metadata": {
        "id": "rvlc88YH9LOs",
        "outputId": "96498cf4-b1db-4f79-919c-978e4d89f630"
      },
      "outputs": [
        {
          "data": {
            "text/plain": [
              "array([1, 1, 2, 2, 3, 3, 3])"
            ]
          },
          "execution_count": 161,
          "metadata": {},
          "output_type": "execute_result"
        }
      ],
      "source": [
        "v = np.array([1, 1, 2, 2, 3, 3, 3])\n",
        "v"
      ]
    },
    {
      "cell_type": "code",
      "execution_count": null,
      "metadata": {
        "id": "eaG6tudR9LOt",
        "outputId": "088b2d1c-c83a-4d34-886a-a2fcd2ca134d"
      },
      "outputs": [
        {
          "data": {
            "text/plain": [
              "2.142857142857143"
            ]
          },
          "execution_count": 162,
          "metadata": {},
          "output_type": "execute_result"
        }
      ],
      "source": [
        "np.mean(v)  # arrayin ortalaması"
      ]
    },
    {
      "cell_type": "code",
      "execution_count": null,
      "metadata": {
        "id": "Axrx_daV9LOt",
        "outputId": "8344ab17-4445-4a76-c094-71ee0ed60c8b"
      },
      "outputs": [
        {
          "data": {
            "text/plain": [
              "2.142857142857143"
            ]
          },
          "execution_count": 164,
          "metadata": {},
          "output_type": "execute_result"
        }
      ],
      "source": [
        "v.mean() # arrayin ortalaması"
      ]
    },
    {
      "cell_type": "code",
      "execution_count": null,
      "metadata": {
        "id": "8TUhYJha9LOt",
        "outputId": "f90101c3-91b6-48c5-cfe7-de86fbc2142b"
      },
      "outputs": [
        {
          "data": {
            "text/plain": [
              "2.0"
            ]
          },
          "execution_count": 167,
          "metadata": {},
          "output_type": "execute_result"
        }
      ],
      "source": [
        "np.median(v)  # veya np.percentile(v, 50)  # arrayin medyanı"
      ]
    },
    {
      "cell_type": "code",
      "execution_count": null,
      "metadata": {
        "id": "9DO1buLL9LOt",
        "outputId": "c6deecf8-7cfb-4e08-a913-abe63afab77c"
      },
      "outputs": [
        {
          "data": {
            "text/plain": [
              "2.0"
            ]
          },
          "execution_count": 168,
          "metadata": {},
          "output_type": "execute_result"
        }
      ],
      "source": [
        "np.percentile(v, 50)  # arrayin medyanı "
      ]
    },
    {
      "cell_type": "code",
      "execution_count": null,
      "metadata": {
        "id": "-sV1Cnwy9LOt",
        "outputId": "0e57933f-6cdb-479b-e22c-18f3fbf98712"
      },
      "outputs": [
        {
          "ename": "AttributeError",
          "evalue": "'numpy.ndarray' object has no attribute 'median'",
          "output_type": "error",
          "traceback": [
            "\u001b[1;31m---------------------------------------------------------------------------\u001b[0m",
            "\u001b[1;31mAttributeError\u001b[0m                            Traceback (most recent call last)",
            "\u001b[1;32m~\\AppData\\Local\\Temp/ipykernel_14668/3316976843.py\u001b[0m in \u001b[0;36m<module>\u001b[1;34m\u001b[0m\n\u001b[1;32m----> 1\u001b[1;33m \u001b[0mv\u001b[0m\u001b[1;33m.\u001b[0m\u001b[0mmedian\u001b[0m\u001b[1;33m(\u001b[0m\u001b[1;33m)\u001b[0m\u001b[1;33m\u001b[0m\u001b[1;33m\u001b[0m\u001b[0m\n\u001b[0m",
            "\u001b[1;31mAttributeError\u001b[0m: 'numpy.ndarray' object has no attribute 'median'"
          ]
        }
      ],
      "source": [
        "v.median()  # bu şekilde çalışmaz. sadece np.median() olarak çalışır."
      ]
    },
    {
      "cell_type": "code",
      "execution_count": null,
      "metadata": {
        "id": "9v8RaYv29LOt",
        "outputId": "bd130746-afe2-4c95-9e91-ddaec3bbfaf3"
      },
      "outputs": [
        {
          "data": {
            "text/plain": [
              "0.8329931278350429"
            ]
          },
          "execution_count": 170,
          "metadata": {},
          "output_type": "execute_result"
        }
      ],
      "source": [
        "v.std()  # arrayin standart sapması"
      ]
    },
    {
      "cell_type": "code",
      "execution_count": null,
      "metadata": {
        "id": "M1I7MdaX9LOu",
        "outputId": "a317a95c-db85-4bd2-d318-16892ee7ced1"
      },
      "outputs": [
        {
          "data": {
            "text/plain": [
              "0.6938775510204082"
            ]
          },
          "execution_count": 171,
          "metadata": {},
          "output_type": "execute_result"
        }
      ],
      "source": [
        "v.var()  # arrayin varyasyonu"
      ]
    },
    {
      "cell_type": "code",
      "execution_count": null,
      "metadata": {
        "id": "9I7Yw1iv9LOu",
        "outputId": "5dc93dde-1c90-43e2-ec91-bdd522fcd67c"
      },
      "outputs": [
        {
          "data": {
            "text/plain": [
              "15"
            ]
          },
          "execution_count": 172,
          "metadata": {},
          "output_type": "execute_result"
        }
      ],
      "source": [
        "v.sum()  # arrayin toplamı"
      ]
    },
    {
      "cell_type": "code",
      "execution_count": null,
      "metadata": {
        "id": "1AckV-CB9LOu",
        "outputId": "2153ecb1-f9af-4711-de77-2f1f2a5626f1"
      },
      "outputs": [
        {
          "data": {
            "text/plain": [
              "array([[-1.74976547,  0.3426804 ,  1.1530358 , -0.25243604,  0.98132079],\n",
              "       [ 0.51421884,  0.22117967, -1.07004333, -0.18949583,  0.25500144],\n",
              "       [-0.45802699,  0.43516349, -0.58359505,  0.81684707,  0.67272081]])"
            ]
          },
          "execution_count": 176,
          "metadata": {},
          "output_type": "execute_result"
        }
      ],
      "source": [
        "# random olarak üretilen değerlerle tekrar çalışmak istediğinizde aynı değerlere ulaşmak için bu yöntem kullanılır.\n",
        "\n",
        "np.random.seed(100)\n",
        "arr= np.random.randn(3,5)\n",
        "arr"
      ]
    },
    {
      "cell_type": "code",
      "execution_count": null,
      "metadata": {
        "id": "OHhoWngo9LOu",
        "outputId": "44cdf6a2-8582-4dea-edb1-f157aa82e74e"
      },
      "outputs": [
        {
          "data": {
            "text/plain": [
              "array([[ 1.        , -0.59546206,  0.21180175],\n",
              "       [-0.59546206,  1.        ,  0.33872371],\n",
              "       [ 0.21180175,  0.33872371,  1.        ]])"
            ]
          },
          "execution_count": 177,
          "metadata": {},
          "output_type": "execute_result"
        }
      ],
      "source": [
        "np.corrcoef(arr)  # bir arrayin correlation coefficient ının bulmak için"
      ]
    },
    {
      "cell_type": "code",
      "execution_count": null,
      "metadata": {
        "id": "VkevBnhh9LOu",
        "outputId": "d5989968-cf34-41a4-bc5d-10a7949b5912"
      },
      "outputs": [
        {
          "data": {
            "text/plain": [
              "1"
            ]
          },
          "execution_count": 185,
          "metadata": {},
          "output_type": "execute_result"
        }
      ],
      "source": [
        "v. min()  # arraydeki min. değeri bulmak için"
      ]
    },
    {
      "cell_type": "code",
      "execution_count": null,
      "metadata": {
        "id": "7AfcdhAg9LOu",
        "outputId": "663c1c49-914d-494d-e43a-dffffe46f769"
      },
      "outputs": [
        {
          "data": {
            "text/plain": [
              "3"
            ]
          },
          "execution_count": 186,
          "metadata": {},
          "output_type": "execute_result"
        }
      ],
      "source": [
        "v. max()  # arraydeki max. değeri bulmak için"
      ]
    },
    {
      "cell_type": "code",
      "execution_count": null,
      "metadata": {
        "id": "9flz4uM-9LOu"
      },
      "outputs": [],
      "source": [
        ""
      ]
    },
    {
      "cell_type": "markdown",
      "metadata": {
        "id": "WpQVMB3xEOsF"
      },
      "source": [
        "### <p style=\"background-color:#9d4f8c; font-family:newtimeroman; color:#FFF9ED; font-size:150%; text-align:LEFT; border-radius:10px 10px;\">Statistical Calculations</p>\n",
        "\n",
        "<a id=\"4.3\"></a>\n",
        "<a href=\"#toc\" class=\"btn btn-primary btn-sm\" role=\"button\" aria-pressed=\"true\" \n",
        "style=\"color:blue; background-color:#dfa8e4\" data-toggle=\"popover\">Content</a>\n",
        "\n",
        "Statistics is concerned with collecting and then analyzing that data. It includes methods for collecting the samples, describing the data, and then concluding that data. NumPy is the fundamental package for scientific calculations and hence goes hand-in-hand for NumPy statistical Functions.\n",
        "\n",
        "NumPy contains various statistical functions that are used to perform statistical data analysis. These statistical functions are useful when finding a maximum or minimum of elements. It is also used to find basic statistical concepts like standard deviation, variance, etc.\n",
        "\n",
        "NumPy is equipped with the following statistical functions:\n",
        "\n",
        "**``np.amin(arr)``** This function determines the minimum value of the element along a specified axis.<br>\n",
        "**``np.amax(arr)``** This function determines the maximum value of the element along a specified axis.<br>\n",
        "**``arr.min()``** Returns minimum value of arr<br>\n",
        "**``arr.max(axis=0)``** Returns maximum value of specific axis<br>\n",
        "**``np.mean(arr, axis=0)``** It determines the mean value of the data set.<br>\n",
        "**``np.median(arr)``** It determines the median value of the data set.<br>\n",
        "**``np.std(arr, axis=1)``** It determines the standard deviation.<br>\n",
        "**``np.var(arr)``** It determines the variance.<br>\n",
        "**``np.ptp(arr)``** It returns a range of values (maximum - minimum) along an axis.<br>\n",
        "**``np.average(arr)``** It determines the weighted average.<br>\n",
        "**``np.percentile(arr)``** It determines the nth percentile of data along the specified axis.<br>\n",
        "**``np.corrcoef(arr)``** Returns correlation coefficient of array\n",
        "\n",
        "More Sources: [SOURCE01](https://data-flair.training/blogs/numpy-statistical-functions/), [SOURCE02](https://python-tricks.com/statistical-functions-in-numpy/), [SOURCE03](https://numpy.org/doc/stable/reference/routines.statistics.html), [SOURCE04](https://www.tutorialspoint.com/numpy/numpy_statistical_functions.htm), [SOURCE05](https://www.i2tutorials.com/numpy-tutorial/numpy-statistical-functions/), [SOURCE06](https://towardsdatascience.com/use-numpy-for-statistics-and-arithmetic-operations-in-2020-2e157b784df4), [SOURCE07](https://cloudxlab.com/assessment/displayslide/2509/numpy-mathematical-and-statistical-functions-on-numpy-arrays), [SOURCE08](https://stackoverflow.com/questions/63888139/calculating-some-statistics-for-each-column-of-a-numpy-ndarray), [SOURCE09](https://www.codecademy.com/learn/intro-statistics-numpy)"
      ]
    },
    {
      "cell_type": "code",
      "execution_count": null,
      "metadata": {
        "id": "_P9LY_a09LOv",
        "outputId": "3a1913de-44d6-4ccd-f018-fb96aae192a3"
      },
      "outputs": [
        {
          "data": {
            "text/plain": [
              "array([[ 0,  1,  2,  3,  4],\n",
              "       [ 5,  6,  7,  8,  9],\n",
              "       [10, 11, 12, 13, 14]])"
            ]
          },
          "execution_count": 190,
          "metadata": {},
          "output_type": "execute_result"
        }
      ],
      "source": [
        "arr = np.arange(15).reshape(3,5)\n",
        "arr"
      ]
    },
    {
      "cell_type": "code",
      "execution_count": null,
      "metadata": {
        "id": "CDlX2vYz9LOv",
        "outputId": "fe7a47af-bea1-4210-fbf4-7db5e54bd14b"
      },
      "outputs": [
        {
          "data": {
            "text/plain": [
              "array([0, 1, 2, 3, 4])"
            ]
          },
          "execution_count": 191,
          "metadata": {},
          "output_type": "execute_result"
        }
      ],
      "source": [
        "np.amin(arr, axis=0)  # axis=0 boyunca min değerleri döndürür"
      ]
    },
    {
      "cell_type": "code",
      "execution_count": null,
      "metadata": {
        "id": "HyC3G8Od9LOv",
        "outputId": "ba252557-ac1c-406c-ba3d-c9415b8496a8"
      },
      "outputs": [
        {
          "data": {
            "text/plain": [
              "array([0, 1, 2, 3, 4])"
            ]
          },
          "execution_count": 192,
          "metadata": {},
          "output_type": "execute_result"
        }
      ],
      "source": [
        "np.min(arr, axis=0) # axis=0 boyunca min değerleri döndürür"
      ]
    },
    {
      "cell_type": "code",
      "execution_count": null,
      "metadata": {
        "id": "hNaewjEv9LOv",
        "outputId": "9e5db39b-851a-404d-9ca8-d94733acbd52"
      },
      "outputs": [
        {
          "data": {
            "text/plain": [
              "array([ 4,  9, 14])"
            ]
          },
          "execution_count": 193,
          "metadata": {},
          "output_type": "execute_result"
        }
      ],
      "source": [
        "np.amax(arr, axis=1)  # axis=1 boyunca max değerleri döndürür"
      ]
    },
    {
      "cell_type": "code",
      "execution_count": null,
      "metadata": {
        "id": "1ukAb5wN9LOv",
        "outputId": "93cb7d6f-cec3-4267-939c-4ca6ab64973f"
      },
      "outputs": [
        {
          "data": {
            "text/plain": [
              "array([5., 6., 7., 8., 9.])"
            ]
          },
          "execution_count": 194,
          "metadata": {},
          "output_type": "execute_result"
        }
      ],
      "source": [
        "np.mean(arr, axis=0)  # axis=0 boyunca meam değerleri döndürür"
      ]
    },
    {
      "cell_type": "code",
      "execution_count": null,
      "metadata": {
        "id": "4j2Y4tY79LOv",
        "outputId": "9e0d75cf-3447-411d-ceda-b373ee841b34"
      },
      "outputs": [
        {
          "data": {
            "text/plain": [
              "array([1.41421356, 1.41421356, 1.41421356])"
            ]
          },
          "execution_count": 195,
          "metadata": {},
          "output_type": "execute_result"
        }
      ],
      "source": [
        "np.std(arr, axis=1)  # axis=1 boyunca std değerleri döndürür"
      ]
    },
    {
      "cell_type": "code",
      "execution_count": null,
      "metadata": {
        "id": "qFrKKvKK9LOv",
        "outputId": "5ad4cfb4-2672-4e77-ce43-5e72fbab6a09"
      },
      "outputs": [
        {
          "data": {
            "text/plain": [
              "array([16.66666667, 16.66666667, 16.66666667, 16.66666667, 16.66666667])"
            ]
          },
          "execution_count": 196,
          "metadata": {},
          "output_type": "execute_result"
        }
      ],
      "source": [
        "np.var(arr, axis=0)  # axis=1 boyunca var değerleri döndürür"
      ]
    },
    {
      "cell_type": "code",
      "execution_count": null,
      "metadata": {
        "id": "F0-T8Zwx9LOw",
        "outputId": "74644ad5-f903-4136-adc8-506c3b485586"
      },
      "outputs": [
        {
          "data": {
            "text/plain": [
              "array([2.5, 3.5, 4.5, 5.5, 6.5])"
            ]
          },
          "execution_count": 197,
          "metadata": {},
          "output_type": "execute_result"
        }
      ],
      "source": [
        "np.percentile(arr, 25, axis=0)  # # axis=0 boyunca q1(%25) değerleri döndürür"
      ]
    },
    {
      "cell_type": "code",
      "execution_count": null,
      "metadata": {
        "id": "op7rWe0o9LOw",
        "outputId": "8f7b706f-33e5-4bb4-96d4-caf279e18093"
      },
      "outputs": [
        {
          "data": {
            "text/plain": [
              "array([[1., 1., 1.],\n",
              "       [1., 1., 1.],\n",
              "       [1., 1., 1.]])"
            ]
          },
          "execution_count": 199,
          "metadata": {},
          "output_type": "execute_result"
        }
      ],
      "source": [
        "np.corrcoef(arr)"
      ]
    },
    {
      "cell_type": "markdown",
      "metadata": {
        "id": "65Hu1Gtz9LOw"
      },
      "source": [
        "## <p style=\"background-color:#9d4f8c; font-family:newtimeroman; color:#FFF9ED; font-size:175%; text-align:center; border-radius:10px 10px;\">Official Tutorial</p>\n",
        "\n",
        "<a id=\"5\"></a>\n",
        "<a href=\"#toc\" class=\"btn btn-primary btn-sm\" role=\"button\" aria-pressed=\"true\" \n",
        "style=\"color:blue; background-color:#dfa8e4\" data-toggle=\"popover\">Content</a>"
      ]
    },
    {
      "cell_type": "markdown",
      "metadata": {
        "id": "ZRaDLo8tEOsK"
      },
      "source": [
        "## You can take a look at an attractive [official tutorial](https://numpy.org/devdocs/user/absolute_beginners.html) for beginners of NumPy."
      ]
    },
    {
      "cell_type": "markdown",
      "metadata": {
        "id": "2j7VSJzLEOsJ"
      },
      "source": [
        "## <p style=\"background-color:#FDFEFE; font-family:newtimeroman; color:#9d4f8c; font-size:150%; text-align:center; border-radius:10px 10px;\">The End of the NumPy Session - 02</p>\n",
        "\n",
        "<a id=\"6\"></a>\n",
        "<a href=\"#toc\" class=\"btn btn-primary btn-sm\" role=\"button\" aria-pressed=\"true\" \n",
        "style=\"color:blue; background-color:#dfa8e4\" data-toggle=\"popover\">Content</a>"
      ]
    },
    {
      "cell_type": "markdown",
      "metadata": {
        "id": "l_NHv4a9EOsK"
      },
      "source": [
        "<p style=\"text-align: center;\"><img src=\"https://docs.google.com/uc?id=1lY0Uj5R04yMY3-ZppPWxqCr5pvBLYPnV\" class=\"img-fluid\" \n",
        "alt=\"CLRSWY\"></p>\n",
        "\n",
        "## <p style=\"background-color:#FDFEFE; font-family:newtimeroman; color:#9d4f8c; font-size:100%; text-align:center; border-radius:10px 10px;\">WAY TO REINVENT YOURSELF</p>\n",
        "___"
      ]
    }
  ],
  "metadata": {
    "colab": {
      "name": "DAwPy_S2_(Numpy_Concat_Split_Indexing_Selection_Operations)-İlknur.ipynb",
      "provenance": [],
      "include_colab_link": true
    },
    "kernelspec": {
      "display_name": "Python 3 (ipykernel)",
      "language": "python",
      "name": "python3"
    },
    "language_info": {
      "codemirror_mode": {
        "name": "ipython",
        "version": 3
      },
      "file_extension": ".py",
      "mimetype": "text/x-python",
      "name": "python",
      "nbconvert_exporter": "python",
      "pygments_lexer": "ipython3",
      "version": "3.9.7"
    },
    "toc": {
      "base_numbering": 1,
      "nav_menu": {},
      "number_sections": false,
      "sideBar": true,
      "skip_h1_title": false,
      "title_cell": "Table of Contents",
      "title_sidebar": "Contents",
      "toc_cell": false,
      "toc_position": {
        "height": "calc(100% - 180px)",
        "left": "10px",
        "top": "150px",
        "width": "194.091px"
      },
      "toc_section_display": true,
      "toc_window_display": true
    }
  },
  "nbformat": 4,
  "nbformat_minor": 0
}