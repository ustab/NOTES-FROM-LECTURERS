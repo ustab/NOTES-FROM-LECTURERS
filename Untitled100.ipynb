{
  "nbformat": 4,
  "nbformat_minor": 0,
  "metadata": {
    "colab": {
      "name": "Untitled100.ipynb",
      "provenance": [],
      "authorship_tag": "ABX9TyPiVOwdjqvgXRcFcXX/3Qnv",
      "include_colab_link": true
    },
    "kernelspec": {
      "name": "python3",
      "display_name": "Python 3"
    },
    "language_info": {
      "name": "python"
    }
  },
  "cells": [
    {
      "cell_type": "markdown",
      "metadata": {
        "id": "view-in-github",
        "colab_type": "text"
      },
      "source": [
        "<a href=\"https://colab.research.google.com/github/ustab/NOTES-FROM-LECTURERS/blob/main/Untitled100.ipynb\" target=\"_parent\"><img src=\"https://colab.research.google.com/assets/colab-badge.svg\" alt=\"Open In Colab\"/></a>"
      ]
    },
    {
      "cell_type": "code",
      "execution_count": 1,
      "metadata": {
        "colab": {
          "base_uri": "https://localhost:8080/"
        },
        "id": "LT7lDVcHn5GP",
        "outputId": "acde3bb0-7369-4e1d-9e63-95ce373fb5eb"
      },
      "outputs": [
        {
          "output_type": "stream",
          "name": "stdout",
          "text": [
            "['sinema', 'konser', 'yazilim']\n",
            "male\n",
            "ali\n",
            "20\n",
            "soyleyemem yok bu kardesim\n",
            "ali\n",
            "{'isim': 'ahmet', 'yas': 20, 'cinsiyet': 'male', 'hobiler': ['sinema', 'konser', 'yazilim']}\n",
            "{'isim': 'ahmet', 'yas': 35, 'cinsiyet': 'male', 'hobiler': ['sinema', 'konser', 'yazilim']}\n"
          ]
        }
      ],
      "source": [
        "#DICTIONARY\n",
        "#1\n",
        "kisi= {\"isim\":\"ali\", \"yas\":20, \"cinsiyet\":\"male\", \"hobiler\":[\"sinema\",\"konser\",\"yazilim\"]}\n",
        "print(kisi[\"hobiler\"])\n",
        "print(kisi[\"cinsiyet\"])\n",
        "print(kisi[\"isim\"])\n",
        "print(kisi[\"yas\"])\n",
        "print(kisi.get(\"id\", \"soyleyemem yok bu kardesim\"))\n",
        "print(kisi.get(\"isim\"))\n",
        "#2\n",
        "kisi= {\"isim\":\"ali\", \"yas\":20, \"cinsiyet\":\"male\", \"hobiler\":[\"sinema\",\"konser\",\"yazilim\"]}\n",
        "kisi[\"isim\"] =\"ahmet\"\n",
        "print(kisi)\n",
        "kisi[\"yas\"]=35\n",
        "print(kisi)\n",
        "kisi[\"bos vakit\"]=2\n",
        "#print(kisi)\n",
        "#3\n",
        "#del kisi[\"cinsiyet\"]\n",
        "#print(kisi)\n",
        "#for i in kisi:\n",
        "   # print(kisi[i])\n",
        "#kisi= {\"isim\":\"ali\", \"yas\":20, \"cinsiyet\":\"male\", \"hobiler\":[\"sinema\",\"konser\",\"yazilim\"]}"
      ]
    }
  ]
}