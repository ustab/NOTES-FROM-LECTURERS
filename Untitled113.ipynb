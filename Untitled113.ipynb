{
  "nbformat": 4,
  "nbformat_minor": 0,
  "metadata": {
    "colab": {
      "name": "Untitled113.ipynb",
      "provenance": [],
      "authorship_tag": "ABX9TyPumU4cOH5al40T9D2e7D6D",
      "include_colab_link": true
    },
    "kernelspec": {
      "name": "python3",
      "display_name": "Python 3"
    },
    "language_info": {
      "name": "python"
    }
  },
  "cells": [
    {
      "cell_type": "markdown",
      "metadata": {
        "id": "view-in-github",
        "colab_type": "text"
      },
      "source": [
        "<a href=\"https://colab.research.google.com/github/ustab/NOTES-FROM-LECTURERS/blob/main/Untitled113.ipynb\" target=\"_parent\"><img src=\"https://colab.research.google.com/assets/colab-badge.svg\" alt=\"Open In Colab\"/></a>"
      ]
    },
    {
      "cell_type": "code",
      "execution_count": 8,
      "metadata": {
        "colab": {
          "base_uri": "https://localhost:8080/"
        },
        "id": "0oSJbcTfUEQY",
        "outputId": "de678a9a-c833-4687-8d93-a1775ec4e849"
      },
      "outputs": [
        {
          "output_type": "stream",
          "name": "stdout",
          "text": [
            "Element at odd-index positions from list one\n",
            "[6, 12, 18]\n",
            "Element at even-index positions from list two\n",
            "[4, 12, 20, 28]\n",
            "Printing Final third list\n",
            "[6, 12, 18, 4, 12, 20, 28]\n"
          ]
        }
      ],
      "source": [
        "#ercise 1: Create a list by picking an odd-index items \n",
        "#from the first\n",
        " #list and even index items from the second\n",
        "#Given two lists, l1 and l2, write a program to create\n",
        " #a third list l3 by picking an odd-index element \n",
        "#from the list l1 and even index elements from the list l2\n",
        "\"\"\"\n",
        "lodd1=[]\n",
        "leven2=[]\n",
        "l1 = [3, 6, 9, 12, 15, 18, 21]\n",
        "l2 = [4, 8, 12, 16, 20, 24, 28]\n",
        "#lodd= list(range(1,22,2)) \n",
        "#leven=list(range(0,28,2)) \n",
        "#print(lodd, leven)\n",
        "#print(zip(lodd,leven))\n",
        "for i in l1:\n",
        "  if i%2!=0:\n",
        "  lodd1.append(i)\n",
        "for i in l2:\n",
        "  if i%2==0:\n",
        "    print(leven2.append(i))\n",
        " \"\"\" \n",
        "list1 = [3, 6, 9, 12, 15, 18, 21]\n",
        "list2 = [4, 8, 12, 16, 20, 24, 28]\n",
        "res = list()\n",
        "\n",
        "odd_elements = list1[1::2]#1 den baslayip ikiser artinca hep tek sayilar toplanir\n",
        "print(\"Element at odd-index positions from list one\")\n",
        "print(odd_elements)\n",
        "\n",
        "even_elements = list2[0::2]#0 dan basliyor ve ikiser artiyor dolaysiyla cift sayilar toplanir\n",
        "print(\"Element at even-index positions from list two\")\n",
        "print(even_elements)\n",
        "\n",
        "print(\"Printing Final third list\")\n",
        "res.extend(odd_elements)\n",
        "res.extend(even_elements)\n",
        "print(res)\n",
        "\n"
      ]
    },
    {
      "cell_type": "code",
      "source": [
        "#Exercise 2: Remove and add item in a list\n",
        "#Write a program to remove the item present at index 4 and add it to the 2nd position and at the end of the list.\n",
        "\n",
        "\"\"\"\n",
        "list1 = [54, 44, 27, 79, 91, 41]\n",
        "listnew=list1.pop(4)\n",
        "print(listnew)\n",
        "listnew2=listnew.insert(2)\n",
        "print(listnew2)\n",
        "\"\"\"\n",
        "#pop(index): Removes and returns the item at the given index from the list.\n",
        "#insert(index, item): Add the item at the specified position(index) in the list\n",
        "#append(item): Add item at the end of the list.\n",
        "\n",
        "sample_list = [34, 54, 67, 89, 11, 43, 94]\n",
        "\n",
        "print(\"Original list \", sample_list)\n",
        "element = sample_list.pop(4)\n",
        "print(\"List After removing element at index 4 \", sample_list)\n",
        "\n",
        "sample_list.insert(2, element)\n",
        "print(\"List after Adding element at index 2 \", sample_list)\n",
        "\n",
        "sample_list.append(element)\n",
        "print(\"List after Adding element at last \", sample_list)\n"
      ],
      "metadata": {
        "colab": {
          "base_uri": "https://localhost:8080/"
        },
        "id": "tSDOtw4_d4Ve",
        "outputId": "0b34eea4-ebe7-4dc6-a0e2-cf100d2c1696"
      },
      "execution_count": 10,
      "outputs": [
        {
          "output_type": "stream",
          "name": "stdout",
          "text": [
            "Original list  [34, 54, 67, 89, 11, 43, 94]\n",
            "List After removing element at index 4  [34, 54, 67, 89, 43, 94]\n",
            "List after Adding element at index 2  [34, 54, 11, 67, 89, 43, 94]\n",
            "List after Adding element at last  [34, 54, 11, 67, 89, 43, 94, 11]\n"
          ]
        }
      ]
    },
    {
      "cell_type": "code",
      "source": [
        "#Exercise 3: Slice list into 3 equal chunks and reverse each chunk\n",
        "#Given:\n",
        "\n",
        "#sample_list = [11, 45, 8, 23, 14, 12, 78, 45, 89]\n",
        "#sample_listchunk=len(sample_list)/3\n",
        "#sample_list_chunk1=[0:3]\n",
        "#sample_list_chunk2=[3:6]\n",
        "#sample_list_chunk3=[6:9]\n",
        "                    \n",
        "  #cozum  #\n",
        "  #Divide the length of a list by 3 to get the each chunk size\n",
        "#Run loop three times and use the slice() function to get the chunk and reverse it                \n",
        "#Get the length of a list using a len() function\n",
        "#Divide the length by 3 to get the chunk size\n",
        "#Run loop three times\n",
        "#In each iteration, get a chunk using a slice(start, end, step) function and reverse it using the reversed() function\n",
        "#In each iteration, start and end value will change\n",
        "sample_list = [11, 45, 8, 23, 14, 12, 78, 45, 89]\n",
        "print(\"Original list \", sample_list)\n",
        "\n",
        "length = len(sample_list)\n",
        "chunk_size = int(length / 3)\n",
        "start = 0\n",
        "end = chunk_size\n",
        "\n",
        "# run loop 3 times\n",
        "for i in range(3):\n",
        "    # get indexes\n",
        "    indexes = slice(start, end)\n",
        "    \n",
        "    # get chunk\n",
        "    list_chunk = sample_list[indexes]\n",
        "    print(\"Chunk \", i, list_chunk)\n",
        "    \n",
        "    # reverse chunk\n",
        "    print(\"After reversing it \", list(reversed(list_chunk)))\n",
        "\n",
        "    start = end\n",
        "    end += chunk_size                              \n",
        "                    "
      ],
      "metadata": {
        "colab": {
          "base_uri": "https://localhost:8080/"
        },
        "id": "w3cxHkGkhpOG",
        "outputId": "790c6718-091f-48da-b444-24e50d2c2fbe"
      },
      "execution_count": 14,
      "outputs": [
        {
          "output_type": "stream",
          "name": "stdout",
          "text": [
            "Original list  [11, 45, 8, 23, 14, 12, 78, 45, 89]\n",
            "Chunk  0 [11, 45, 8]\n",
            "After reversing it  [8, 45, 11]\n",
            "Chunk  1 [23, 14, 12]\n",
            "After reversing it  [12, 14, 23]\n",
            "Chunk  2 [78, 45, 89]\n",
            "After reversing it  [89, 45, 78]\n"
          ]
        }
      ]
    },
    {
      "cell_type": "code",
      "source": [
        "#Exercise 4: Count the occurrence of each element from a list\n",
        "#Write a program to iterate a given list and count the occurrence of each element and create a dictionary to show the count of each element.\n",
        "\n",
        "#Given:\n",
        "\n",
        "sample_list = [11, 45, 8, 11, 23, 45, 23, 45, 89]\n",
        "print(\"Original list \", sample_list)\n",
        "\n",
        "count_dict = dict()\n",
        "for item in sample_list:\n",
        "    if item in count_dict:\n",
        "        count_dict[item] += 1\n",
        "    else:\n",
        "        count_dict[item] = 1\n",
        "\n",
        "print(\"Printing count of each item  \", count_dict)\n"
      ],
      "metadata": {
        "colab": {
          "base_uri": "https://localhost:8080/"
        },
        "id": "GFTli7phmfJ-",
        "outputId": "4c061839-66ab-4512-e82e-172633bfad09"
      },
      "execution_count": 15,
      "outputs": [
        {
          "output_type": "stream",
          "name": "stdout",
          "text": [
            "Original list  [11, 45, 8, 11, 23, 45, 23, 45, 89]\n",
            "Printing count of each item   {11: 2, 45: 3, 8: 1, 23: 2, 89: 1}\n"
          ]
        }
      ]
    },
    {
      "cell_type": "code",
      "source": [
        "#Exercise 5: Create a Python set such that it shows the element from both lists in a pair\n",
        "\n",
        "#Given:\n",
        "\n",
        "first_list = [2, 3, 4, 5, 6, 7, 8]\n",
        "second_list = [4, 9, 16, 25, 36, 49, 64]\n",
        "#first_set=set(first_list)\n",
        "#second_set=set(second_list)\n",
        "#first_set.extend(second_set)\n",
        "\n",
        "first_list = [2, 3, 4, 5, 6, 7, 8]\n",
        "print(\"First List \", first_list)\n",
        "\n",
        "second_list = [4, 9, 16, 25, 36, 49, 64]\n",
        "print(\"Second List \", second_list)\n",
        "\n",
        "result = tuple(list(dict(set(zip(first_list, second_list)))))#iki listeyi zip ile birlestir ve sonra set e donustur.istenirse ayni satirda dict haline de gelebilir.\n",
        "print(result)\n",
        "#result_set = set(result)\n",
        "#print(result_set)\n",
        "\n"
      ],
      "metadata": {
        "colab": {
          "base_uri": "https://localhost:8080/"
        },
        "id": "NmtsmY7ponWn",
        "outputId": "06583425-0e94-4569-838a-f039c55c7791"
      },
      "execution_count": 23,
      "outputs": [
        {
          "output_type": "stream",
          "name": "stdout",
          "text": [
            "First List  [2, 3, 4, 5, 6, 7, 8]\n",
            "Second List  [4, 9, 16, 25, 36, 49, 64]\n",
            "(6, 8, 4, 5, 3, 7, 2)\n"
          ]
        }
      ]
    }
  ]
}