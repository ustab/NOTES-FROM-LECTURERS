{
  "nbformat": 4,
  "nbformat_minor": 0,
  "metadata": {
    "colab": {
      "name": "practice14.ipynb",
      "private_outputs": true,
      "provenance": [],
      "authorship_tag": "ABX9TyOZcenR3vB3jCj7G3J9Fy/V",
      "include_colab_link": true
    },
    "kernelspec": {
      "name": "python3",
      "display_name": "Python 3"
    },
    "language_info": {
      "name": "python"
    }
  },
  "cells": [
    {
      "cell_type": "markdown",
      "metadata": {
        "id": "view-in-github",
        "colab_type": "text"
      },
      "source": [
        "<a href=\"https://colab.research.google.com/github/ustab/NOTES-FROM-LECTURERS/blob/main/DATAFRAME.ipynb\" target=\"_parent\"><img src=\"https://colab.research.google.com/assets/colab-badge.svg\" alt=\"Open In Colab\"/></a>"
      ]
    },
    {
      "cell_type": "markdown",
      "source": [
        ""
      ],
      "metadata": {
        "id": "ph6ZX0taer8h"
      }
    },
    {
      "cell_type": "code",
      "source": [
        "import pandas as pd\n",
        "\n",
        "student = {'isim': ['Jo', 'Na', 'Har','Jac','Jos','Ji','Ros'],\n",
        "                'yas': [20, 21, 19,17,18,19,17],\n",
        "                'notlar': [85.10, 77.80, 91.54,72,87.9,90,72]}\n",
        "\n",
        "# create DataFrame from dict\n",
        "student_df = pd.DataFrame(student)\n",
        "\n",
        "# display first 5 rows\n",
        "topRows = student_df.head(15)\n",
        "print(topRows)"
      ],
      "metadata": {
        "id": "ZRyKyQMHheTw"
      },
      "execution_count": null,
      "outputs": []
    },
    {
      "cell_type": "code",
      "source": [
        "import pandas as pd\n",
        "\n",
        "index = pd.MultiIndex.from_tuples([('Standard 1', 'Class A'), ('Standard 1', 'Class B'),\n",
        "                                   ('Standard 2', 'Class A'), ('Standard 2', 'Class B'),\n",
        "                                   ('Standard 3', 'Class A'), ('Standard 3', 'Class B')],\n",
        "                                  names=['Standard', 'Class'])\n",
        "\n",
        "columns = pd.MultiIndex.from_tuples([('Name', 'Surname'),\n",
        "('Marks', 'Percentage')])\n",
        "\n",
        "# create multi-index dataframe\n",
        "student_df = pd.DataFrame([('Joe', 91.56), ('Nat', 87.90),('Harry', 70.10), \n",
        "                           ('Sam', 65.48), (\"Jill\", 72), (\"Jane\", 80)],\n",
        "                          index=index, columns=columns)\n",
        "\n",
        "topRows = student_df.head()\n",
        "print(topRows)"
      ],
      "metadata": {
        "id": "IFMokAyriDgU"
      },
      "execution_count": null,
      "outputs": []
    },
    {
      "cell_type": "code",
      "source": [
        "Home » Python » Pandas » Pandas DataFrame head, tail, at, iat\n",
        "Pandas DataFrame head, tail, at, iat\n",
        "Updated on: April 5, 2021 | Leave a Comment\n",
        "\n",
        "In this article, we learn how to use DataFrame.head() and DataFrame.tail() functions to select top and bottom rows of the Pandas DataFrame respectively. Also, learn DataFrame.at() and DataFrame.iat() functions to access a specific value in the DataFrame.\n",
        "\n",
        "Table of contents\n",
        "How to use DataFrame.head() function\n",
        "Select top n rows in pandas DataFrame\n",
        "Select top rows except for last n rows\n",
        "Select top rows from multi-index DataFrames\n",
        "How to use DataFrame.tail() function\n",
        "Select bottom n rows in pandas DataFrame\n",
        "Select bottom rows except for first n rows\n",
        "Select bottom rows from the multi index DataFrame\n",
        "Select value using row and column labels using DataFrame.at\n",
        "Set specific value in pandas DataFrame\n",
        "Select value using row and column position using DataFrame.iat\n",
        "Set specific value in pandas DataFrame\n",
        "How to use DataFrame.head() function\n",
        "This function is used to see the first n rows in the DataFrame. It is beneficial when we have massive datasets, and it is not possible to see the entire dataset at once.\n",
        "\n",
        "\n",
        "It takes input as the number of rows to be displayed from the top. The default value is 5.\n",
        "\n",
        "Syntax\n",
        "\n",
        "DataFrame.head(n=5)\n",
        "Example\n",
        "\n",
        "In the below Student DataFrame with columns like Name, Age, and Marks. If we apply DataFrame.head() function, we can see that only the first five rows are displayed.\n",
        "\n",
        "\n",
        "\n",
        "import pandas as pd\n",
        "\n",
        "student_dict = {'Name': ['Joe', 'Nat', 'Harry','Jack','Jose','Jill','Rose'],\n",
        "                'Age': [20, 21, 19,17,18,19,17],\n",
        "                'Marks': [85.10, 77.80, 91.54,72,87.9,90,72]}\n",
        "\n",
        "# create DataFrame from dict\n",
        "student_df = pd.DataFrame(student_dict)\n",
        "\n",
        "# display first 5 rows\n",
        "topRows = student_df.head()\n",
        "print(topRows)\n",
        " Run\n",
        "Output\n",
        "\n",
        "\n",
        "     Name  Age  Marks\n",
        " 0    Joe   20  85.10\n",
        " 1    Nat   21  77.80\n",
        " 2  Harry   19  91.54\n",
        " 3   Jack   17  72.00\n",
        " 4   Jose   18  87.90\n",
        "Select top n rows in pandas DataFrame\n",
        "When we want to see a smaller section of data, we can use the function DataFrame.head() and pass a parameter as the number of rows to display from the top.\n",
        "\n",
        "\n",
        "Example\n",
        "\n",
        "In the below example, after we apply the DataFrame.head(3) function, only the first three rows of the DataFrame are displayed.\n",
        "\n",
        "# display first 3 rows\n",
        "topRows = student_df.head(3)\n",
        "print(topRows)\n",
        "Output\n",
        "\n",
        "     Name  Age  Marks\n",
        " 0    Joe   20  85.10\n",
        " 1    Nat   21  77.80\n",
        " 2  Harry   19  91.54\n",
        "\n",
        "Select top rows except for last n rows\n",
        "When we have a vast DataFrame, and we want to see all the rows except for the last n rows, we can pass the negative value as a parameter to DataFrame.head().\n",
        "\n",
        "Example\n",
        "\n",
        "In the below example, if we want to display all the rows except the bottom two rows, we can use DataFrame.head(-2) function.\n",
        "\n",
        "import pandas as pd\n",
        "\n",
        "student_dict = {'Name': ['Joe', 'Nat', 'Harry','Jack','Jose',\"Jill\",\"Rose\"],\n",
        "                'Age': [20, 21, 19,17,18,19,17],\n",
        "                'Marks': [85.10, 77.80, 91.54,72,87.9,90,72]}\n",
        "\n",
        "# create DataFrame from dict\n",
        "student_df = pd.DataFrame(student_dict)\n",
        "\n",
        "# display rows except bottom 2 rows\n",
        "topRows = student_df.head(-2)\n",
        "print(topRows)\n",
        " Run\n",
        "\n",
        "Output\n",
        "\n",
        "     Name  Age  Marks\n",
        " 0    Joe   20  85.10\n",
        " 1    Nat   21  77.80\n",
        " 2  Harry   19  91.54\n",
        " 3   Jack   17  72.00\n",
        " 4   Jose   18  87.90\n",
        "Select top rows from multi-index DataFrames\n",
        "When Python pandas DataFrame has multiple row index or column headers, then are called multi-level or hierarchical DataFrame. As we have discussed in the above section, we can use the DataFrame.head() function on multi-index DataFrames to display the top rows.\n",
        "\n",
        "\n",
        "The below diagram shows hierarchical DataFrame of Student data with two-column headers where column labels ‘Name‘ and ‘Marks‘ are at level 0 and ‘Surname‘ and ‘Percentage‘ at level 1. Similarly, two-row indexes are index ‘Standard‘ at level 0 and ‘Class‘ at level 1 of the DataFrame.\n",
        "\n",
        "Example\n",
        "\n",
        "The below example shows how to create such DataFrame and display top rows rather than the whole DataFrame.\n",
        "\n",
        "\n",
        "\n",
        "import pandas as pd\n",
        "\n",
        "index = pd.MultiIndex.from_tuples([('Standard 1', 'Class A'), ('Standard 1', 'Class B'),\n",
        "                                   ('Standard 2', 'Class A'), ('Standard 2', 'Class B'),\n",
        "                                   ('Standard 3', 'Class A'), ('Standard 3', 'Class B')],\n",
        "                                  names=['Standard', 'Class'])\n",
        "\n",
        "columns = pd.MultiIndex.from_tuples([('Name', 'Surname'),\n",
        "('Marks', 'Percentage')])\n",
        "\n",
        "# create multi-index dataframe\n",
        "student_df = pd.DataFrame([('Joe', 91.56), ('Nat', 87.90),('Harry', 70.10), \n",
        "                           ('Sam', 65.48), (\"Jill\", 72), (\"Jane\", 80)],\n",
        "                          index=index, columns=columns)\n",
        "\n",
        "topRows = student_df.head()\n",
        "print(topRows)\n",
        " Run\n",
        "\n",
        "Output\n",
        "\n",
        "                       Name      Marks\n",
        "                    Surname Percentage\n",
        " Standard   Class                     \n",
        " Standard 1 Class A     Joe      91.56\n",
        "            Class B     Nat      87.90\n",
        " Standard 2 Class A   Harry      70.10\n",
        "            Class B     Sam      65.48\n",
        " Standard 3 Class A    Jill      72.00\n",
        "How to use DataFrame.tail() function\n",
        "\n",
        "We can use the DataFrame.tail() function to display the last n rows of the DataFrame. Like the head function, this function is used when we want to view a smaller section of the entire DataFrame.\n",
        "\n",
        "It takes input as the number of rows to be displayed from the bottom. The default value is 5.\n",
        "\n",
        "Syntax\n",
        "\n",
        "DataFrame.tail(n=5)\n",
        "Example\n",
        "\n",
        "In the below Student DataFrame with columns like Name, Age, and Marks. If we apply DataFrame.tail() function, we can see that only the bottom five rows are displayed in the output.\n",
        "\n",
        "\n",
        "\n",
        "\n",
        "import pandas as pd\n",
        "\n",
        "student_dict = {'Name': ['Joe', 'Nat', 'Harry','Jack','Jose',\"Jill\",\"Rose\"],\n",
        "                'Age': [20, 21, 19,17,18,19,17],\n",
        "                'Marks': [85.10, 77.80, 91.54,72,87.9,90,72]}\n",
        "\n",
        "# create DataFrame from dict\n",
        "student_df = pd.DataFrame(student_dict)\n",
        "\n",
        "# display the bottom 5 rows\n",
        "bottomRows = student_df.tail()\n",
        "print(bottomRows)\n",
        " Run\n",
        "Output\n",
        "\n",
        "\n",
        "     Name  Age  Marks\n",
        " 2  Harry   19  91.54\n",
        " 3   Jack   17  72.00\n",
        " 4   Jose   18  87.90\n",
        " 5   Jill   19  90.00\n",
        " 6   Rose   17  72.00\n",
        "Select bottom n rows in pandas DataFrame\n",
        "When we want to see a smaller section of data from the bottom of the DataFrame, we can use the function DataFrame.tail() and pass a parameter as the number of rows to display from the bottom.\n",
        "\n",
        "\n",
        "Example\n",
        "\n",
        "In the below example, after we apply the DataFrame.tail(3) function, we see that only the last 3 rows of the DataFrame are displayed.\n",
        "\n",
        "bottomRows = student_df.tail(3)\n",
        "print(bottomRows)\n",
        "Output\n",
        "\n",
        "    Name  Age  Marks\n",
        " 4  Jose   18   87.9\n",
        " 5  Jill   19   90.0\n",
        " 6  Rose   17   72.0\n",
        "\n",
        "Select bottom rows except for first n rows\n",
        "When we want to see our entire dataset except for the first few rows, we can use DataFrame.tail() function and pass the negative value as a parameter to it.\n",
        "\n",
        "Example\n",
        "\n",
        "In the below example, if we display all the rows except the top 2 rows using DataFrame.tail(2).\n",
        "\n",
        "import pandas as pd\n",
        "\n",
        "student_dict = {'Name': ['Joe', 'Nat', 'Harry','Jack','Jose',\"Jill\",\"Rose\"],\n",
        "                'Age': [20, 21, 19,17,18,19,17],\n",
        "                'Marks': [85.10, 77.80, 91.54,72,87.9,90,72]}\n",
        "\n",
        "# create DataFrame from dict\n",
        "student_df = pd.DataFrame(student_dict)\n",
        "\n",
        "# display top rows except the last 2 rows\n",
        "bottomRows = student_df.tail(-2)\n",
        "print(bottomRows)\n",
        " Run\n",
        "\n",
        "Output\n",
        "\n",
        "     Name  Age  Marks\n",
        " 2  Harry   19  91.54\n",
        " 3   Jack   17  72.00\n",
        " 4   Jose   18  87.90\n",
        " 5   Jill   19  90.00\n",
        " 6   Rose   17  72.00\n",
        "Select bottom rows from the multi index DataFrame\n",
        "We can apply the DataFrame.tail() function on multi-index DataFrames as well. It works in the same way as normal DataFrames.\n",
        "\n",
        "\n",
        "Example\n",
        "\n",
        "In our example, after we have applied the DataFrame.tail() function, only the bottom 5 row are displayed.\n",
        "\n",
        "\n",
        "import pandas as pd\n",
        "\n",
        "index = pd.MultiIndex.from_tuples([('Standard 1', 'Class A'), ('Standard 1', 'Class B'),\n",
        "                                   ('Standard 2', 'Class A'), ('Standard 2', 'Class B'),\n",
        "                                   ('Standard 3', 'Class A'), ('Standard 3', 'Class B')],\n",
        "                                  names=['Standard', 'Class'])\n",
        "\n",
        "columns = pd.MultiIndex.from_tuples([('Name', 'Surname'),\n",
        "('Marks', 'Percentage')])\n",
        "\n",
        "# create multi-index dataframe\n",
        "student_df = pd.DataFrame([('Joe', 91.56), ('Nat', 87.90), ('Harry', 70.10), \n",
        "                           ('Sam', 65.48), (\"Jill\", 72), (\"Jane\", 80)],\n",
        "                          index=index, columns=columns)\n",
        "\n",
        "bottomRows = student_df.tail()\n",
        "print(bottomRows)\n",
        " Run\n",
        "Output\n",
        "\n",
        "                       Name      Marks\n",
        "                    Surname Percentage\n",
        " Standard   Class                     \n",
        " Standard 1 Class B     Nat      87.90\n",
        " Standard 2 Class A   Harry      70.10\n",
        "            Class B     Sam      65.48\n",
        " Standard 3 Class A    Jill      72.00\n",
        "            Class B    Jane      80.00\n",
        "Select value using row and column labels using DataFrame.at\n",
        "There are cases in the field of Data Science that we need to access a specific element of the DataFrame using its column label and row index. In such cases, we can use the DataFrame.at property and pass the row index and column labels of the value to access as parameters. This property can be used with Multi-index DataFrame as well.\n",
        "\n",
        "Note: It throws KeyError if the label does not exist in DataFrame.\n",
        "\n",
        "Example\n",
        "\n",
        "In the below example, after we use the DataFrame.at[2,\"Age\"] function, we get 19 as the output because 19 is the value present at row 2 and column Age.\n",
        "\n",
        "\n",
        "import pandas as pd\n",
        "\n",
        "student_dict = {'Name': ['Joe', 'Nat', 'Harry',], 'Age': [20, 21, 19], \n",
        "                'Marks': [85.10, 77.80, 91.54]}\n",
        "\n",
        "# create DataFrame from dict\n",
        "student_df = pd.DataFrame(student_dict)\n",
        "\n",
        "value = student_df.at[2,\"Age\"]\n",
        "print(value)  // --> Output: 19\n",
        " Run\n",
        "\n",
        "\n",
        "\n"
      ],
      "metadata": {
        "id": "b5zjsnJ2m5Lc"
      },
      "execution_count": null,
      "outputs": []
    },
    {
      "cell_type": "code",
      "source": [
        "from pandas.core.frame import DataFrame\n",
        "import pandas as pd\n",
        "\n",
        "student_dict = {'Name': ['Joe', 'Nat', 'Harry',], 'Age': [20, 21, 19],\n",
        "                'Marks': [815.10, 727.80, 941.54]}\n",
        "student_df = pd.DataFrame(student_dict)\n",
        "student_df\n",
        "student_df.at[2,\"Age\"] = 560\n",
        "student_df.at[3,\"Age\"]=85\n",
        "student_df\n",
        "#print(student_df.at[2,\"Age\"])"
      ],
      "metadata": {
        "id": "vMmN431pnHzi"
      },
      "execution_count": null,
      "outputs": []
    },
    {
      "cell_type": "code",
      "source": [
        "import pandas as pd\n",
        "\n",
        "# Create DataFrame from dict\n",
        "student_dict = {'Name': ['Joe', 'Nat', 'Harry'], 'Age': [20, 21, 19], 'Marks': [85.10, 77.80, 91.54]}\n",
        "\n",
        "student_df = pd.DataFrame(student_dict)\n",
        "\n",
        "# display dataframe\n",
        "print(\"DataFrame : \", student_df)\n",
        "\n",
        "# select top 2 rows\n",
        "print(student_df.head(2))\n",
        "\n",
        "# select bottom 2 rows\n",
        "print(student_df.tail(2))\n",
        "\n",
        "# select value at row index 0 and column 'Name'\n",
        "print(student_df.at[0, 'Name'])\n",
        "\n",
        "# select value at first row and first column\n",
        "print(student_df.iat[0, 0])\n",
        "\n",
        "# select values of 'Name' column\n",
        "print(student_df.get('Name'))\n",
        "\n",
        "# select values from row index 0 to 2 and 'Name' column\n",
        "print(student_df.loc[0:2, ['Name']])\n",
        "\n",
        "# select values from row index 0 to 2(exclusive) and column position 0 to 2(exclusive)\n",
        "print(student_df.iloc[0:2, 0:2])"
      ],
      "metadata": {
        "id": "rAw1vKy0o3ph"
      },
      "execution_count": null,
      "outputs": []
    },
    {
      "cell_type": "code",
      "source": [
        "import pandas as pd\n",
        "\n",
        "# Create DataFrame from dict\n",
        "student_dict = {'Name': ['Joe', 'Nat', 'Harry'], 'Age': [20, 21, 19], 'Marks': [85.10, 77.80, 91.54]}\n",
        "student_df = pd.DataFrame(student_dict)\n",
        "print(student_df)\n",
        "\n",
        "# insert new column in dataframe and display\n",
        "student_df.insert(loc=2, column=\"Class\", value='A')\n",
        "print(student_df)"
      ],
      "metadata": {
        "id": "6JaR2YUJVt_D"
      },
      "execution_count": null,
      "outputs": []
    },
    {
      "cell_type": "code",
      "source": [
        "import pandas as pd\n",
        "# Create DataFrame from dict\n",
        "student_dict = {'Name': ['Joe', 'Nat', 'Harry'], 'Age': [20, 21, 19], 'Marks': [85.10, 77.80, 91.54]}\n",
        "student_df = pd.DataFrame(student_dict)\n",
        "print(student_df)\n",
        "\n",
        "# insert new column in dataframe and display\n",
        "student_df.insert(loc=2, column=\"Class\", value='A')\n",
        "print(student_df)"
      ],
      "metadata": {
        "id": "_8Ac-pAhZMXy"
      },
      "execution_count": null,
      "outputs": []
    },
    {
      "cell_type": "code",
      "source": [
        "import pandas as pd\n",
        "\n",
        "# Create DataFrame from dict\n",
        "student_dict = {'Name': ['Joe', 'Nat', 'Harry'], 'Age': [20, 21, 19], 'Marks': [85.10, 77.80, 91.54]}\n",
        "\n",
        "student_df = pd.DataFrame(student_dict)\n",
        "print(student_df)\n",
        "\n",
        "# Define filter condition\n",
        "filter = student_df['Marks'] > 80\n",
        "student_df['Marks'].where(filter, other=0, inplace=True)\n",
        "print(student_df)"
      ],
      "metadata": {
        "id": "ykGcKXaLZbKZ"
      },
      "execution_count": null,
      "outputs": []
    },
    {
      "cell_type": "code",
      "source": [
        "df.filter(like = filter_cond, axis = 'columns' or 'index')"
      ],
      "metadata": {
        "id": "T_5s6Q9DcLN8"
      },
      "execution_count": null,
      "outputs": []
    },
    {
      "cell_type": "code",
      "source": [
        "import pandas as pd\n",
        "\n",
        "# Create DataFrame from dict\n",
        "student_dict = {'Name': ['Joe', 'Nat', 'Harry'], 'Age': [20, 21, 19], 'Marks': [85.10, 77.80, 91.54]}\n",
        "\n",
        "student_df = pd.DataFrame(student_dict)\n",
        "print(student_df)\n",
        "\n",
        "# apply filter on dataframe\n",
        "student_df = student_df.filter(like='N', axis='columns')\n",
        "print(student_df)"
      ],
      "metadata": {
        "id": "0eni29WVcWdU"
      },
      "execution_count": null,
      "outputs": []
    },
    {
      "cell_type": "code",
      "source": [
        "#df.rename(columns = {'old':'new'})\n",
        "import pandas as pd\n",
        "# Create DataFrame from dict\n",
        "student_dict = {'Name': ['ali','veli','selami'], 'Age': [20, 21, 19], 'Marks': [85.10, 77.80, 91.54]}\n",
        "\n",
        "student_df = pd.DataFrame(student_dict, index=['ali','veli', 'selami'])\n",
        "print(student_df)\n",
        "# rename column\n",
        "student_df = student_df.rename(columns={'Name': 'Isimler','Age':'Yas','Marks':'Notlar'})\n",
        "print(student_df)"
      ],
      "metadata": {
        "id": "-NDVPl4nfdsM"
      },
      "execution_count": null,
      "outputs": []
    },
    {
      "cell_type": "code",
      "source": [
        "import pandas as pd\n",
        "\n",
        "# create dataframe from dict \n",
        "student_dict = {'Name': ['Joe', 'Nat'], 'Age': [20, 21]}\n",
        "student_df = pd.DataFrame(student_dict)\n",
        "print(student_df)\n",
        "\n",
        "# create dataframe from dict \n",
        "marks_dict = {'Marks': [85.10, 77.80]}\n",
        "marks_df = pd.DataFrame(marks_dict)\n",
        "print(marks_df)\n",
        "\n",
        "# join dfs\n",
        "joined_df = student_df.join(marks_df)\n",
        "print(joined_df)"
      ],
      "metadata": {
        "id": "ZUGiY7GBiLoY"
      },
      "execution_count": null,
      "outputs": []
    },
    {
      "cell_type": "code",
      "source": [
        "import pandas as pd\n",
        "\n",
        "# create dataframe from dict \n",
        "student_dict = {'Name': ['Joe', 'Nat'], 'Age': [20, 21]}\n",
        "student_df = pd.DataFrame(student_dict)\n",
        "print(student_df)\n",
        "\n",
        "# create dataframe from dict \n",
        "marks_dict = {'Marks': [85.10, 77.80]}\n",
        "marks_df = pd.DataFrame(marks_dict)\n",
        "print(marks_df)\n",
        "\n",
        "# join dfs\n",
        "joined_df = student_df.join(marks_df)             \n",
        "print(joined_df)"
      ],
      "metadata": {
        "id": "VPv1Zf3kiaSr"
      },
      "execution_count": null,
      "outputs": []
    },
    {
      "cell_type": "code",
      "source": [
        "from numpy.ma.core import concatenate\n",
        "import pandas as pd\n",
        "\n",
        "# create dataframe from dict \n",
        "student_dict = {'Name': ['Joe', 'Nat'], 'Age': [20, 21]}\n",
        "student_df = pd.DataFrame(student_dict)\n",
        "print(student_df)\n",
        "\n",
        "# create dataframe from dict \n",
        "marks_dict = {'Marks': [85.10, 77.80]}\n",
        "marks_df = pd.DataFrame(marks_dict)\n",
        "print(marks_df)\n",
        "joined_df = student_df.join(marks_df)             \n",
        "print(joined_df)"
      ],
      "metadata": {
        "id": "tawd90-RjMP0"
      },
      "execution_count": null,
      "outputs": []
    },
    {
      "cell_type": "code",
      "source": [
        "import pandas as pd\n",
        "# Create DataFrame from dict\n",
        "student_dict = {'Name': ['Joe', 'Nat', 'Harry'], 'Class': ['A', 'B', 'A'], 'Marks': [85.10, 77.80, 91.54]}\n",
        "student_df = pd.DataFrame(student_dict)\n",
        "print(student_df)\n",
        "# apply group by \n",
        "student_df = student_df.groupby('Name').mean()\n",
        "print(student_df)"
      ],
      "metadata": {
        "id": "evWZK1gqlZKN"
      },
      "execution_count": null,
      "outputs": []
    },
    {
      "cell_type": "code",
      "source": [
        "import pandas as pd\n",
        "\n",
        "# Create DataFrame from dict\n",
        "student_dict = {'Name': ['Joe', 'Nat'], 'Age': [20, 21], 'Marks': [85, 77]}\n",
        "student_df = pd.DataFrame(student_dict)\n",
        "\n",
        "# Iterate all the rows of DataFrame\n",
        "for index, row in student_df.iterrows():\n",
        "    print(index, row)"
      ],
      "metadata": {
        "id": "qwoweTQRnzs9"
      },
      "execution_count": null,
      "outputs": []
    },
    {
      "cell_type": "code",
      "source": [
        "import pandas as pd\n",
        "\n",
        "# Create DataFrame from dict\n",
        "student_dict = {'Name': ['Joe', 'Nat', 'Harry'], 'Age': [20, 21, 19], 'Marks': [85.10, 77.80, 91.54]}\n",
        "student_df = pd.DataFrame(student_dict)\n",
        "print(student_df)\n",
        "\n",
        "# rename column\n",
        "student_df = student_df.sort_values(by=['Marks'])\n",
        "print(student_df)"
      ],
      "metadata": {
        "id": "hA2sz-FroxJN"
      },
      "execution_count": null,
      "outputs": []
    },
    {
      "cell_type": "code",
      "source": [
        ""
      ],
      "metadata": {
        "id": "t4ddOpynpuRS"
      },
      "execution_count": null,
      "outputs": []
    },
    {
      "cell_type": "code",
      "source": [
        ""
      ],
      "metadata": {
        "id": "Zt4MaRZ1pwdb"
      },
      "execution_count": null,
      "outputs": []
    },
    {
      "cell_type": "code",
      "source": [
        "import pandas as pd\n",
        "\n",
        "# Create DataFrame from dict\n",
        "student_dict = {'Name': ['Joe', 'Nat', 'Harry'], 'Age': [20, 22, 18], 'Marks': [85.10, 77.80, 91.54]}\n",
        "student_df = pd.DataFrame(student_dict)\n",
        "print(student_df)\n",
        "# rename column\n",
        "student_df = student_df.sort_values(by=['Age'])\n",
        "print(student_df)"
      ],
      "metadata": {
        "id": "OIWq69Omo9_C"
      },
      "execution_count": null,
      "outputs": []
    },
    {
      "cell_type": "code",
      "source": [
        "    Name Class  Marks\n",
        "0    Joe     A  85.10\n",
        "1    Nat     B  77.80\n",
        "2  Harry     A  91.54\n",
        "\n",
        "# convert dataframe to dict\n",
        "dict = student_df.to_dict()"
      ],
      "metadata": {
        "id": "qiOLpcbRpzL7"
      },
      "execution_count": null,
      "outputs": []
    },
    {
      "cell_type": "code",
      "source": [
        "data=read_csv()"
      ],
      "metadata": {
        "id": "lzt1qq4mqytb"
      },
      "execution_count": null,
      "outputs": []
    }
  ]
}