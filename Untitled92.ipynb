{
  "nbformat": 4,
  "nbformat_minor": 0,
  "metadata": {
    "colab": {
      "name": "Untitled92.ipynb",
      "provenance": [],
      "authorship_tag": "ABX9TyOJoI6u0Fk8tCnqbFqxnbVl",
      "include_colab_link": true
    },
    "kernelspec": {
      "name": "python3",
      "display_name": "Python 3"
    },
    "language_info": {
      "name": "python"
    }
  },
  "cells": [
    {
      "cell_type": "markdown",
      "metadata": {
        "id": "view-in-github",
        "colab_type": "text"
      },
      "source": [
        "<a href=\"https://colab.research.google.com/github/ustab/NOTES-FROM-LECTURERS/blob/main/Untitled92.ipynb\" target=\"_parent\"><img src=\"https://colab.research.google.com/assets/colab-badge.svg\" alt=\"Open In Colab\"/></a>"
      ]
    },
    {
      "cell_type": "code",
      "execution_count": 7,
      "metadata": {
        "id": "QSQqne2WrAIg"
      },
      "outputs": [],
      "source": [
        "#LAMBDA FONKSIYONU ILE ORNEKLER\n",
        "\n",
        "kurs_al=lambda x : x*x\n",
        "kup_al=lambda x :x**3\n",
        "toplam=lambda x, y,: x+y\n",
        "\n",
        "\n",
        " "
      ]
    },
    {
      "cell_type": "markdown",
      "source": [
        ""
      ],
      "metadata": {
        "id": "dXobvc-QwHub"
      }
    },
    {
      "cell_type": "code",
      "source": [
        "genel_toplam=lambda *args:sum(args)\n",
        "print((lambda x,y,z:x*y+z)(314,53,66))"
      ],
      "metadata": {
        "colab": {
          "base_uri": "https://localhost:8080/"
        },
        "id": "pQMKYmmHukXT",
        "outputId": "d4ddb3c0-73e0-4d3e-ed54-68debb84795b"
      },
      "execution_count": 8,
      "outputs": [
        {
          "output_type": "stream",
          "name": "stdout",
          "text": [
            "16708\n"
          ]
        }
      ]
    },
    {
      "cell_type": "code",
      "source": [
        "print((lambda*args:sum(args)/len(args)) (992,3,4,5,66,77,88))"
      ],
      "metadata": {
        "colab": {
          "base_uri": "https://localhost:8080/"
        },
        "id": "yefVrLpwuLFi",
        "outputId": "94fb1878-043d-469c-f456-6e61fec1dfc1"
      },
      "execution_count": 9,
      "outputs": [
        {
          "output_type": "stream",
          "name": "stdout",
          "text": [
            "176.42857142857142\n"
          ]
        }
      ]
    },
    {
      "cell_type": "markdown",
      "source": [
        ""
      ],
      "metadata": {
        "id": "qyVYGGwFwGap"
      }
    },
    {
      "cell_type": "code",
      "source": [
        "#burda ozel bir siralama istendigi icin lambda ile onu tanimlamaliyim\n",
        "\n",
        "list= [(\"ali\",21),(\"veli\",58),(\"selami\",53),(\"necati\",43),(\"huriye\", 35)]\n",
        "list.sort(key=lambda x: x[1])\n",
        "\n",
        "# bu ifade su demek:list' in  birinci elemaninin birinci indexini alicam, cunku yasa gore siralama gerekiyor.\n",
        "#buradaki x ilk dongude birinci liste elemanini aldi, ikinci dongude list in ikinci elemanini alacak ve ....\n",
        "print(list)\n",
        "# simdi listemizin icindeki yaslara gore siralama yapacak\n"
      ],
      "metadata": {
        "colab": {
          "base_uri": "https://localhost:8080/"
        },
        "id": "y7DM6rKc1vBF",
        "outputId": "def06ea2-80d0-4588-9868-8861aeecddd7"
      },
      "execution_count": 29,
      "outputs": [
        {
          "output_type": "stream",
          "name": "stdout",
          "text": [
            "[('ali', 21), ('huriye', 35), ('necati', 43), ('selami', 53), ('veli', 58)]\n"
          ]
        }
      ]
    },
    {
      "cell_type": "code",
      "source": [
        "#burda ozel bir siralama istendigi icin lambda ile onu tanimlamaliyi\n",
        "list= [(\"ali\",21, 28),(\"veli\",58, 56),(\"selami\",53, 13),(\"necati\",43, 5),(\"huriye\", 35,3)]\n",
        "list.sort(key=lambda x: x[2])# burda sunu dedim siralamayilistenin elemani icinde ki 3. elemana gore yap\n",
        "print(*list)"
      ],
      "metadata": {
        "colab": {
          "base_uri": "https://localhost:8080/"
        },
        "id": "Tfr8gIlo5hBc",
        "outputId": "5e89406e-2fa6-4988-e855-93e5b7dd33c1"
      },
      "execution_count": 40,
      "outputs": [
        {
          "output_type": "stream",
          "name": "stdout",
          "text": [
            "('huriye', 35, 3) ('necati', 43, 5) ('selami', 53, 13) ('ali', 21, 28) ('veli', 58, 56)\n"
          ]
        }
      ]
    },
    {
      "cell_type": "code",
      "source": [
        "list= [(\"ali\",21),(\"veli\",18),(\"selami\",34),(\"necati\",43),(\"huriye\", 35)]\n",
        "list.sort()\n",
        "print(list)\n",
        "#bu siralama harf sirasina gore olur, cunku siralama seklini tarif etmedik bu tarifi lamda fonksiyonu ile yapacagiz."
      ],
      "metadata": {
        "colab": {
          "base_uri": "https://localhost:8080/"
        },
        "id": "s3kTXctJwcfN",
        "outputId": "c5145d8b-b3b3-47df-faa9-50bab812ffbc"
      },
      "execution_count": 21,
      "outputs": [
        {
          "output_type": "stream",
          "name": "stdout",
          "text": [
            "[('ali', 21), ('huriye', 35), ('necati', 43), ('selami', 34), ('veli', 18)]\n"
          ]
        }
      ]
    },
    {
      "cell_type": "markdown",
      "source": [
        ""
      ],
      "metadata": {
        "id": "mSCXpJ7t0XMD"
      }
    },
    {
      "cell_type": "code",
      "source": [
        "#ayni sonucu fonksiyon olustur ile de yapabilirim\n",
        "def yaslara_gore(x):\n",
        "  return x [-1]\n",
        "list= [(\"ali\",21),(\"veli\",58),(\"selami\",53),(\"necati\",43),(\"huriye\", 35)]\n",
        "list.sort(key=yaslara_gore)\n",
        "print(list)"
      ],
      "metadata": {
        "colab": {
          "base_uri": "https://localhost:8080/"
        },
        "id": "UAu7Kgjj7SLV",
        "outputId": "aeac963b-a6bc-4970-9fdf-045cbbc46a71"
      },
      "execution_count": 45,
      "outputs": [
        {
          "output_type": "stream",
          "name": "stdout",
          "text": [
            "[('ali', 21), ('huriye', 35), ('necati', 43), ('selami', 53), ('veli', 58)]\n"
          ]
        }
      ]
    },
    {
      "cell_type": "code",
      "source": [
        "#liste ikiyi siralayacagiz ama neye gore?\n",
        "list2=[{\"ad\": \"ahmet\", \"soyad\": \"caliskan\", \"yas\": 25},{\"ad\": \"duruhsen\", \"soyad\": \"kan\", \"yas\": 15},{\"ad\": \"velihimmmet\", \"soyad\": \"cali\", \"yas\": 55},{\"ad\": \"ceyhan\", \"soyad\": \"alisik\", \"yas\": 12}]\n",
        "list2.sort(key=lambda x:x[\"ad\"])# buradaki verdigim komut sozluk ifadesinin \"key\"elemani yani ad  a gore siralanmasi.\n",
        "print(list2)"
      ],
      "metadata": {
        "colab": {
          "base_uri": "https://localhost:8080/"
        },
        "id": "jWD6Njcg9qPq",
        "outputId": "c061b38d-fdb3-4e7e-b748-3b0894319883"
      },
      "execution_count": 47,
      "outputs": [
        {
          "output_type": "stream",
          "name": "stdout",
          "text": [
            "[{'ad': 'ahmet', 'soyad': 'caliskan', 'yas': 25}, {'ad': 'ahsen', 'soyad': 'kan', 'yas': 15}, {'ad': 'hakan', 'soyad': 'alisik', 'yas': 12}, {'ad': 'himmmet', 'soyad': 'cali', 'yas': 55}]\n"
          ]
        }
      ]
    },
    {
      "cell_type": "code",
      "source": [
        "#liste ikiyi siralayacagiz ama neye gore?\n",
        "list2=[{\"ad\": \"ahmet\", \"soyad\": \"caliskan\", \"yas\": 25},{\"ad\": \"duruhsen\", \"soyad\": \"kan\", \"yas\": 15},{\"ad\": \"velihimmmet\", \"soyad\": \"cali\", \"yas\": 55},{\"ad\": \"ceyhan\", \"soyad\": \"alisik\", \"yas\": 12}]\n",
        "list2.sort(key=lambda x:x[\"ad\"])# buradaki verdigim komut sozluk ifadesinin \"key\"elemani yani ad  a gore siralanmasi.\n",
        "print(list2)"
      ],
      "metadata": {
        "colab": {
          "base_uri": "https://localhost:8080/"
        },
        "id": "7LxPE4NiAjIy",
        "outputId": "e1a87dc6-22c7-42e5-da59-b0a29f163ff4"
      },
      "execution_count": 50,
      "outputs": [
        {
          "output_type": "stream",
          "name": "stdout",
          "text": [
            "[{'ad': 'ahmet', 'soyad': 'caliskan', 'yas': 25}, {'ad': 'ceyhan', 'soyad': 'alisik', 'yas': 12}, {'ad': 'duruhsen', 'soyad': 'kan', 'yas': 15}, {'ad': 'velihimmmet', 'soyad': 'cali', 'yas': 55}]\n"
          ]
        }
      ]
    },
    {
      "cell_type": "code",
      "source": [
        "#liste ikiyi siralayacagiz ama neye gore?\n",
        "list2=[{\"ad\": \"ahmet\", \"soyad\": \"caliskan\", \"yas\": 25},{\"ad\": \"duruhsen\", \"soyad\": \"kan\", \"yas\": 15},{\"ad\": \"velihimmmet\", \"soyad\": \"sedal\", \"yas\": 55},{\"ad\": \"ceyhan\", \"soyad\": \"alisik\", \"yas\": 12}]\n",
        "list2.sort(key=lambda x:x[\"soyad\"])# buradaki verdigim komut sozluk ifadesinin \"key\"elemani yani soyad  a gore siralanmasi.\n",
        "print(list2)"
      ],
      "metadata": {
        "colab": {
          "base_uri": "https://localhost:8080/"
        },
        "id": "JtfwHlDN9Nv_",
        "outputId": "4c5bfb5d-582c-4241-d397-527c8d7e3c22"
      },
      "execution_count": 52,
      "outputs": [
        {
          "output_type": "stream",
          "name": "stdout",
          "text": [
            "[{'ad': 'ceyhan', 'soyad': 'alisik', 'yas': 12}, {'ad': 'ahmet', 'soyad': 'caliskan', 'yas': 25}, {'ad': 'duruhsen', 'soyad': 'kan', 'yas': 15}, {'ad': 'velihimmmet', 'soyad': 'sedal', 'yas': 55}]\n"
          ]
        }
      ]
    },
    {
      "cell_type": "code",
      "source": [
        "#liste ikiyi siralayacagiz ama neye gore?\n",
        "list2=[{\"ad\": \"ahmet\", \"soyad\": \"caliskan\", \"yas\": 25},{\"ad\": \"duruhsen\", \"soyad\": \"kan\", \"yas\": 15},{\"ad\": \"velihimmmet\", \"soyad\": \"cali\", \"yas\": 55},{\"ad\": \"ceyhan\", \"soyad\": \"alisik\", \"yas\": 12}]\n",
        "list2.sort(key=lambda x:x[\"yas\"])# buradaki verdigim komut sozluk ifadesinin \"key\"elemani yani yas a gore siralanmasi.\n",
        "print(list2)"
      ],
      "metadata": {
        "colab": {
          "base_uri": "https://localhost:8080/"
        },
        "id": "r8rDhQGRBbe4",
        "outputId": "11debf27-b48d-4350-ecc6-8207dca15bef"
      },
      "execution_count": 54,
      "outputs": [
        {
          "output_type": "stream",
          "name": "stdout",
          "text": [
            "[{'ad': 'ceyhan', 'soyad': 'alisik', 'yas': 12}, {'ad': 'duruhsen', 'soyad': 'kan', 'yas': 15}, {'ad': 'ahmet', 'soyad': 'caliskan', 'yas': 25}, {'ad': 'velihimmmet', 'soyad': 'cali', 'yas': 55}]\n"
          ]
        }
      ]
    },
    {
      "cell_type": "code",
      "source": [
        "#liste ikiyi siralayacagiz ama neye gore?\n",
        "list2=[{\"ad\": \"ahmet\", \"soyad\": \"caliskan\", \"yas\": 25},{\"ad\": \"duruhsen\", \"soyad\": \"kan\", \"yas\": 15},{\"ad\": \"velihimmmet\", \"soyad\": \"cali\", \"yas\": 55},{\"ad\": \"ceyhan\", \"soyad\": \"alisik\", \"yas\": 12}]\n",
        "list2=lambda x:sum(x[\"yas\"])# buradaki verdigim komut sozluk ifadesinin yas elemanlarinin toplamini istiyorum.buraya calismam lazim.\n",
        "print(lambda x:sum(x[\"yas\"]))"
      ],
      "metadata": {
        "colab": {
          "base_uri": "https://localhost:8080/"
        },
        "id": "qt7mhT9GCfJP",
        "outputId": "92f884b8-1ef8-465e-e2b4-c4cec6712b0d"
      },
      "execution_count": 58,
      "outputs": [
        {
          "output_type": "stream",
          "name": "stdout",
          "text": [
            "<function <lambda> at 0x7f52d0ee6cb0>\n"
          ]
        }
      ]
    },
    {
      "cell_type": "code",
      "source": [
        ""
      ],
      "metadata": {
        "id": "gxGbYkM2Dxzh"
      },
      "execution_count": null,
      "outputs": []
    }
  ]
}