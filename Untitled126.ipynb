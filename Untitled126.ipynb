{
  "nbformat": 4,
  "nbformat_minor": 0,
  "metadata": {
    "colab": {
      "name": "Untitled126.ipynb",
      "provenance": [],
      "authorship_tag": "ABX9TyOaUqHeT9FmHnDuQzsUxWXQ",
      "include_colab_link": true
    },
    "kernelspec": {
      "name": "python3",
      "display_name": "Python 3"
    },
    "language_info": {
      "name": "python"
    }
  },
  "cells": [
    {
      "cell_type": "markdown",
      "metadata": {
        "id": "view-in-github",
        "colab_type": "text"
      },
      "source": [
        "<a href=\"https://colab.research.google.com/github/ustab/NOTES-FROM-LECTURERS/blob/main/Untitled126.ipynb\" target=\"_parent\"><img src=\"https://colab.research.google.com/assets/colab-badge.svg\" alt=\"Open In Colab\"/></a>"
      ]
    },
    {
      "cell_type": "code",
      "execution_count": null,
      "metadata": {
        "colab": {
          "base_uri": "https://localhost:8080/"
        },
        "id": "vueLAFcu-Nm3",
        "outputId": "390fda01-7f6e-46c7-c0fd-821f9051bef0"
      },
      "outputs": [
        {
          "output_type": "stream",
          "name": "stdout",
          "text": [
            "Jack\n",
            "Kack\n",
            "Lack\n",
            "Mack\n",
            "Nack\n",
            "Oack\n",
            "Pack\n",
            "Qack\n"
          ]
        }
      ],
      "source": [
        "prefixes = 'JKLMNOPQ'\n",
        "suffix = 'ack'\n",
        "for letter in prefixes:\n",
        "  print (letter + suffix\n"
      ]
    },
    {
      "cell_type": "code",
      "source": [
        "ali=\"MER\"\n",
        "Veli=\"aZ\"\n",
        "can=\"TI\"\n",
        "selami=\"sekerat\"\n",
        "for i in ali:\n",
        "  print(i+Veli)\n",
        "for i in (i+Veli):\n",
        "  print(i+can)\n",
        "for i in (i+can):\n",
        "  print(i+selami)\n",
        "   "
      ],
      "metadata": {
        "colab": {
          "base_uri": "https://localhost:8080/"
        },
        "id": "Fu_cuiWS-shk",
        "outputId": "55697d5c-9c7a-4ad7-d059-d4da0ce4748a"
      },
      "execution_count": null,
      "outputs": [
        {
          "output_type": "stream",
          "name": "stdout",
          "text": [
            "MaZ\n",
            "EaZ\n",
            "RaZ\n",
            "RTI\n",
            "aTI\n",
            "ZTI\n",
            "Zsekerat\n",
            "Tsekerat\n",
            "Isekerat\n"
          ]
        }
      ]
    },
    {
      "cell_type": "code",
      "source": [
        "greeting = 'Hello, world!'\n",
        "new_greeting = 'Jo' + greeting[4:]\n",
        "print(new_greeting)"
      ],
      "metadata": {
        "colab": {
          "base_uri": "https://localhost:8080/"
        },
        "id": "RE5QhkokIy3s",
        "outputId": "0eefe4f4-4e29-4bf1-9931-76ca70030c33"
      },
      "execution_count": null,
      "outputs": [
        {
          "output_type": "stream",
          "name": "stdout",
          "text": [
            "Joo, world!\n"
          ]
        }
      ]
    },
    {
      "cell_type": "code",
      "source": [
        "#What does the following function do?\n",
        "def find(word, letter):\n",
        " index = 0\n",
        "while index < len(word): \n",
        " if word[index] == letter:\n",
        " index = index + 1\n",
        "return -1"
      ],
      "metadata": {
        "id": "_94hWXY1nL_g"
      },
      "execution_count": null,
      "outputs": []
    },
    {
      "cell_type": "code",
      "source": [
        "word = 'banana'\n",
        "count = 0\n",
        "for letter in word:\n",
        "  if letter == 'a':\n",
        "     count = count + 1\n",
        "print (count)"
      ],
      "metadata": {
        "colab": {
          "base_uri": "https://localhost:8080/"
        },
        "id": "SB0FM5U0qWW9",
        "outputId": "206dcbb9-54b5-46d3-8adc-e19fe3048868"
      },
      "execution_count": null,
      "outputs": [
        {
          "output_type": "stream",
          "name": "stdout",
          "text": [
            "3\n"
          ]
        }
      ]
    },
    {
      "cell_type": "code",
      "source": [
        "def word_count(word, letter):\n",
        "  count=0\n",
        "  for letter in word:\n",
        "   if letter ==letter:    \n",
        "      count==count+1\n",
        "  print(count)\n",
        "\n",
        "word_count(\"kelimeler\",\"e\")\n"
      ],
      "metadata": {
        "id": "qG1FuG4bs-NH",
        "colab": {
          "base_uri": "https://localhost:8080/"
        },
        "outputId": "a64a1f2a-feff-4ed3-9ff0-d98ec9270d63"
      },
      "execution_count": null,
      "outputs": [
        {
          "output_type": "stream",
          "name": "stdout",
          "text": [
            "0\n"
          ]
        }
      ]
    },
    {
      "cell_type": "code",
      "source": [
        "\n",
        "word = 'banana'\n",
        "index = word.find('a')\n",
        "print(index)\n"
      ],
      "metadata": {
        "id": "PmvCzuWdw23J",
        "colab": {
          "base_uri": "https://localhost:8080/"
        },
        "outputId": "23ad22e3-1942-48f6-983c-1264ae3a7553"
      },
      "execution_count": 7,
      "outputs": [
        {
          "output_type": "stream",
          "name": "stdout",
          "text": [
            "1\n"
          ]
        }
      ]
    },
    {
      "cell_type": "code",
      "source": [
        ""
      ],
      "metadata": {
        "id": "N3Ck_1bTBZwd"
      },
      "execution_count": null,
      "outputs": []
    }
  ]
}