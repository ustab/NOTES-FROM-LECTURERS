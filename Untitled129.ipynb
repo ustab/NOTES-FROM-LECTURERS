{
  "nbformat": 4,
  "nbformat_minor": 0,
  "metadata": {
    "colab": {
      "name": "Untitled129.ipynb",
      "provenance": [],
      "authorship_tag": "ABX9TyOfXzY4EyWGQpsSbTjZR+9n",
      "include_colab_link": true
    },
    "kernelspec": {
      "name": "python3",
      "display_name": "Python 3"
    },
    "language_info": {
      "name": "python"
    }
  },
  "cells": [
    {
      "cell_type": "markdown",
      "metadata": {
        "id": "view-in-github",
        "colab_type": "text"
      },
      "source": [
        "<a href=\"https://colab.research.google.com/github/ustab/NOTES-FROM-LECTURERS/blob/main/Untitled129.ipynb\" target=\"_parent\"><img src=\"https://colab.research.google.com/assets/colab-badge.svg\" alt=\"Open In Colab\"/></a>"
      ]
    },
    {
      "cell_type": "code",
      "execution_count": 2,
      "metadata": {
        "colab": {
          "base_uri": "https://localhost:8080/"
        },
        "id": "xVnAxpgs2mZU",
        "outputId": "c8844a5e-1484-4a31-8a94-ff9a1771b33b"
      },
      "outputs": [
        {
          "output_type": "execute_result",
          "data": {
            "text/plain": [
              "8.0"
            ]
          },
          "metadata": {},
          "execution_count": 2
        }
      ],
      "source": [
        "import math\n",
        "#math.pow(a,b) a uzeri b nin degerini dondurur\n",
        "math.pow(2,3)"
      ]
    },
    {
      "cell_type": "code",
      "source": [
        "math.sqrt(8)"
      ],
      "metadata": {
        "colab": {
          "base_uri": "https://localhost:8080/"
        },
        "id": "PweUFzBa3XRn",
        "outputId": "2ed80ff3-d756-4541-fa25-aa113a9c1d89"
      },
      "execution_count": 3,
      "outputs": [
        {
          "output_type": "execute_result",
          "data": {
            "text/plain": [
              "2.8284271247461903"
            ]
          },
          "metadata": {},
          "execution_count": 3
        }
      ]
    },
    {
      "cell_type": "code",
      "source": [
        "math.factorial(5)"
      ],
      "metadata": {
        "colab": {
          "base_uri": "https://localhost:8080/"
        },
        "id": "aqA2-LeV30Dn",
        "outputId": "a63d04b0-8f2d-423b-ad74-553637872d80"
      },
      "execution_count": 4,
      "outputs": [
        {
          "output_type": "execute_result",
          "data": {
            "text/plain": [
              "120"
            ]
          },
          "metadata": {},
          "execution_count": 4
        }
      ]
    },
    {
      "cell_type": "code",
      "source": [
        "math.fsum([1,2,3,4,5,6,7,])"
      ],
      "metadata": {
        "colab": {
          "base_uri": "https://localhost:8080/"
        },
        "id": "1sqYip2C3X3G",
        "outputId": "5fd9c4d4-35ff-4880-d9fc-ff164d7b610c"
      },
      "execution_count": 20,
      "outputs": [
        {
          "output_type": "execute_result",
          "data": {
            "text/plain": [
              "28.0"
            ]
          },
          "metadata": {},
          "execution_count": 20
        }
      ]
    },
    {
      "cell_type": "code",
      "source": [
        "math.fsum([8,7])"
      ],
      "metadata": {
        "colab": {
          "base_uri": "https://localhost:8080/"
        },
        "id": "i6zka38-48L3",
        "outputId": "63d12235-f9e7-4415-82f9-20848c768151"
      },
      "execution_count": 19,
      "outputs": [
        {
          "output_type": "execute_result",
          "data": {
            "text/plain": [
              "15.0"
            ]
          },
          "metadata": {},
          "execution_count": 19
        }
      ]
    },
    {
      "cell_type": "code",
      "source": [
        "import math\n",
        "a=[1,2,3,4,5,6,7,8]\n",
        "print(math.prod(a))"
      ],
      "metadata": {
        "id": "W3_MdSfz5WsA"
      },
      "execution_count": null,
      "outputs": []
    },
    {
      "cell_type": "code",
      "source": [
        ""
      ],
      "metadata": {
        "id": "JomqOMaZ8gQj"
      },
      "execution_count": null,
      "outputs": []
    },
    {
      "cell_type": "code",
      "source": [
        "print(math.prod(1,2))"
      ],
      "metadata": {
        "id": "AYdgnhAT2nyx"
      },
      "execution_count": null,
      "outputs": []
    },
    {
      "cell_type": "code",
      "source": [
        "print(math.exp(1))"
      ],
      "metadata": {
        "colab": {
          "base_uri": "https://localhost:8080/"
        },
        "id": "Lc34AwPY9VDR",
        "outputId": "76d649da-2540-42c6-d831-38572f025dce"
      },
      "execution_count": 26,
      "outputs": [
        {
          "output_type": "stream",
          "name": "stdout",
          "text": [
            "2.718281828459045\n"
          ]
        }
      ]
    },
    {
      "cell_type": "code",
      "source": [
        "print(math.exp(5))"
      ],
      "metadata": {
        "colab": {
          "base_uri": "https://localhost:8080/"
        },
        "id": "HVJDEO1I9Q2V",
        "outputId": "64b2fe8d-7575-49c2-a7be-f66ec249e311"
      },
      "execution_count": 27,
      "outputs": [
        {
          "output_type": "stream",
          "name": "stdout",
          "text": [
            "148.4131591025766\n"
          ]
        }
      ]
    },
    {
      "cell_type": "code",
      "source": [
        "print(math.log10(5))"
      ],
      "metadata": {
        "colab": {
          "base_uri": "https://localhost:8080/"
        },
        "id": "0HpiJvE1-HSH",
        "outputId": "a390ca2c-bdb6-446b-bcc4-13eaf8913eb3"
      },
      "execution_count": 28,
      "outputs": [
        {
          "output_type": "stream",
          "name": "stdout",
          "text": [
            "0.6989700043360189\n"
          ]
        }
      ]
    },
    {
      "cell_type": "code",
      "source": [
        "math.log10(50)"
      ],
      "metadata": {
        "colab": {
          "base_uri": "https://localhost:8080/"
        },
        "id": "-R-GPrrZ-ely",
        "outputId": "57f1ef36-8bb5-470c-f693-e68d8ab4c7f6"
      },
      "execution_count": 31,
      "outputs": [
        {
          "output_type": "execute_result",
          "data": {
            "text/plain": [
              "1.6989700043360187"
            ]
          },
          "metadata": {},
          "execution_count": 31
        }
      ]
    },
    {
      "cell_type": "code",
      "source": [
        "math.ceil(6.3)"
      ],
      "metadata": {
        "colab": {
          "base_uri": "https://localhost:8080/"
        },
        "id": "Q41dxKo3-tNy",
        "outputId": "5f85b3ef-7ab6-4f19-efe6-3d9d48d4d466"
      },
      "execution_count": 32,
      "outputs": [
        {
          "output_type": "execute_result",
          "data": {
            "text/plain": [
              "7"
            ]
          },
          "metadata": {},
          "execution_count": 32
        }
      ]
    },
    {
      "cell_type": "code",
      "source": [
        "math.floor(7.9)"
      ],
      "metadata": {
        "colab": {
          "base_uri": "https://localhost:8080/"
        },
        "id": "ANYlPtXf-9ED",
        "outputId": "bfaf9072-969e-4601-f1d3-74d3f46b9ce5"
      },
      "execution_count": 35,
      "outputs": [
        {
          "output_type": "execute_result",
          "data": {
            "text/plain": [
              "7"
            ]
          },
          "metadata": {},
          "execution_count": 35
        }
      ]
    },
    {
      "cell_type": "code",
      "source": [
        "math.gcd(6,24)#ebob en buyuk ortak bolen"
      ],
      "metadata": {
        "colab": {
          "base_uri": "https://localhost:8080/"
        },
        "id": "vJb4OasD_QFN",
        "outputId": "92a12cbf-2df9-43a4-8086-6934388d5573"
      },
      "execution_count": 42,
      "outputs": [
        {
          "output_type": "execute_result",
          "data": {
            "text/plain": [
              "6"
            ]
          },
          "metadata": {},
          "execution_count": 42
        }
      ]
    },
    {
      "cell_type": "code",
      "source": [
        "math.comb(a,b)# a nin b li kombinasyonlu sayilari\n",
        "\n"
      ],
      "metadata": {
        "id": "RrSUKGQT_72e"
      },
      "execution_count": null,
      "outputs": []
    },
    {
      "cell_type": "code",
      "source": [
        "#print(math.comb(3,1))\n",
        "import math\n",
        "a=[2,3,4]\n",
        "print(math.perm(3,2))"
      ],
      "metadata": {
        "id": "W9vfjU7GA1i3"
      },
      "execution_count": null,
      "outputs": []
    },
    {
      "cell_type": "code",
      "source": [
        ""
      ],
      "metadata": {
        "id": "y1o_ttpEAek0"
      },
      "execution_count": 45,
      "outputs": []
    }
  ]
}