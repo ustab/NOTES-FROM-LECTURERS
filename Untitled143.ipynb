{
  "nbformat": 4,
  "nbformat_minor": 0,
  "metadata": {
    "colab": {
      "name": "Untitled143.ipynb",
      "private_outputs": true,
      "provenance": [],
      "authorship_tag": "ABX9TyO+m2sg1641rD3x2CzX89Fe",
      "include_colab_link": true
    },
    "kernelspec": {
      "name": "python3",
      "display_name": "Python 3"
    },
    "language_info": {
      "name": "python"
    }
  },
  "cells": [
    {
      "cell_type": "markdown",
      "metadata": {
        "id": "view-in-github",
        "colab_type": "text"
      },
      "source": [
        "<a href=\"https://colab.research.google.com/github/ustab/NOTES-FROM-LECTURERS/blob/main/Untitled143.ipynb\" target=\"_parent\"><img src=\"https://colab.research.google.com/assets/colab-badge.svg\" alt=\"Open In Colab\"/></a>"
      ]
    },
    {
      "cell_type": "code",
      "execution_count": null,
      "metadata": {
        "id": "QXODPkIZCKHI"
      },
      "outputs": [],
      "source": [
        " import numpy as np\n",
        "arr_2d = np.array(([5,10,15],[20,25,30],[35,40,50]))\n",
        "#arr_2d\n",
        "arr_2d[:1,1:]"
      ]
    },
    {
      "cell_type": "code",
      "source": [
        "import numpy as np\n",
        "arr=np.arange(1,37)\n",
        "arr.shape\n",
        "\n"
      ],
      "metadata": {
        "id": "GCZB4hb-DW_j"
      },
      "execution_count": null,
      "outputs": []
    }
  ]
}