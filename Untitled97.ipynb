{
  "nbformat": 4,
  "nbformat_minor": 0,
  "metadata": {
    "colab": {
      "name": "Untitled97.ipynb",
      "provenance": [],
      "authorship_tag": "ABX9TyNFs6ZYjLZ37m+AexQM6XP1",
      "include_colab_link": true
    },
    "kernelspec": {
      "name": "python3",
      "display_name": "Python 3"
    },
    "language_info": {
      "name": "python"
    }
  },
  "cells": [
    {
      "cell_type": "markdown",
      "metadata": {
        "id": "view-in-github",
        "colab_type": "text"
      },
      "source": [
        "<a href=\"https://colab.research.google.com/github/ustab/NOTES-FROM-LECTURERS/blob/main/Untitled97.ipynb\" target=\"_parent\"><img src=\"https://colab.research.google.com/assets/colab-badge.svg\" alt=\"Open In Colab\"/></a>"
      ]
    },
    {
      "cell_type": "code",
      "execution_count": 5,
      "metadata": {
        "colab": {
          "base_uri": "https://localhost:8080/"
        },
        "id": "2E9-eX7szeyZ",
        "outputId": "04184bff-164b-49ee-aa6e-01481ae27a08"
      },
      "outputs": [
        {
          "output_type": "stream",
          "name": "stdout",
          "text": [
            "<class 'tuple'>\n"
          ]
        }
      ],
      "source": [
        "tuple_=(\"zaiyah\",\"eyzaz\",\"kari\",\"zavi\",\"esil\",\"siyah\",\"beyaz\",\"sari\",\"mavi\",\"yesil\")\n",
        "print(type(tuple_))"
      ]
    },
    {
      "cell_type": "code",
      "source": [
        "tup=(\"zaiyah\",\"eyzaz\",\"kari\",\"zavi\",\"esil\",\"siyah\",\"beyaz\",\"sari\",\"mavi\",\"yesil\")\n",
        "print(len(tup))\n",
        "print(tup)\n",
        "for i in tup:\n",
        "  print(i, end=\"  ANANAS  \")"
      ],
      "metadata": {
        "colab": {
          "base_uri": "https://localhost:8080/"
        },
        "id": "OEEbN9qR0Tab",
        "outputId": "241a3363-261b-4fa1-e13f-a997936e461f"
      },
      "execution_count": 20,
      "outputs": [
        {
          "output_type": "stream",
          "name": "stdout",
          "text": [
            "10\n",
            "('zaiyah', 'eyzaz', 'kari', 'zavi', 'esil', 'siyah', 'beyaz', 'sari', 'mavi', 'yesil')\n",
            "zaiyah  ANANAS  eyzaz  ANANAS  kari  ANANAS  zavi  ANANAS  esil  ANANAS  siyah  ANANAS  beyaz  ANANAS  sari  ANANAS  mavi  ANANAS  yesil  ANANAS  "
          ]
        }
      ]
    },
    {
      "cell_type": "code",
      "source": [
        "#KONUMUZ SET; her printte degisik bir sirayla basar, yani sira devamli degisir\n",
        "sup={\"iyah\",\"eyza\",\"kari\",\"avi\",\"esi\",\"siy\"}\n",
        "for i in sup:\n",
        "  print(sup)\n",
        "\n",
        "\n"
      ],
      "metadata": {
        "colab": {
          "base_uri": "https://localhost:8080/"
        },
        "id": "2CX_ZT1e1vFi",
        "outputId": "648f6e49-63cb-4f30-9a35-79a7f10391ad"
      },
      "execution_count": 30,
      "outputs": [
        {
          "output_type": "stream",
          "name": "stdout",
          "text": [
            "{'eyza', 'siy', 'iyah', 'avi', 'esi', 'kari'}\n",
            "{'eyza', 'siy', 'iyah', 'avi', 'esi', 'kari'}\n",
            "{'eyza', 'siy', 'iyah', 'avi', 'esi', 'kari'}\n",
            "{'eyza', 'siy', 'iyah', 'avi', 'esi', 'kari'}\n",
            "{'eyza', 'siy', 'iyah', 'avi', 'esi', 'kari'}\n",
            "{'eyza', 'siy', 'iyah', 'avi', 'esi', 'kari'}\n"
          ]
        }
      ]
    },
    {
      "cell_type": "code",
      "source": [
        "#set print edilirse, ayni eleman te sefer basilir. asagida 12 elemanin 6 i digeriyle ayni. set oldugundan \n",
        "#tek sefer islem gordu. ayni yapi liste olsaydi farkli olurdu\n",
        "supe = [\"iyah\",\"eyza\",\"kari\",\"avi\",\"esi\",\"siy\",\"iyah\",\"eyza\",\"kari\",\"avi\",\"esi\",\"siy\"]\n",
        "for i in supe:\n",
        "  print(supe)\n",
        "sup = {\"iyah\",\"eyza\",\"kari\",\"avi\",\"esi\",\"siy\",\"iyah\",\"eyza\",\"kari\",\"avi\",\"esi\",\"siy\"}\n",
        "for i in sup:\n",
        "  print(sup)  \n",
        "super =(\"iyah\",\"eyza\",\"kari\",\"avi\",\"esi\",\"siy\",\"iyah\",\"eyza\",\"kari\",\"avi\",\"esi\",\"siy\")\n",
        "for i in super:\n",
        "  print(super)\n"
      ],
      "metadata": {
        "colab": {
          "base_uri": "https://localhost:8080/"
        },
        "id": "6g9Fo8fA3itY",
        "outputId": "242a4774-a24b-4d17-b76d-00869e6066ed"
      },
      "execution_count": 38,
      "outputs": [
        {
          "output_type": "stream",
          "name": "stdout",
          "text": [
            "['iyah', 'eyza', 'kari', 'avi', 'esi', 'siy', 'iyah', 'eyza', 'kari', 'avi', 'esi', 'siy']\n",
            "['iyah', 'eyza', 'kari', 'avi', 'esi', 'siy', 'iyah', 'eyza', 'kari', 'avi', 'esi', 'siy']\n",
            "['iyah', 'eyza', 'kari', 'avi', 'esi', 'siy', 'iyah', 'eyza', 'kari', 'avi', 'esi', 'siy']\n",
            "['iyah', 'eyza', 'kari', 'avi', 'esi', 'siy', 'iyah', 'eyza', 'kari', 'avi', 'esi', 'siy']\n",
            "['iyah', 'eyza', 'kari', 'avi', 'esi', 'siy', 'iyah', 'eyza', 'kari', 'avi', 'esi', 'siy']\n",
            "['iyah', 'eyza', 'kari', 'avi', 'esi', 'siy', 'iyah', 'eyza', 'kari', 'avi', 'esi', 'siy']\n",
            "['iyah', 'eyza', 'kari', 'avi', 'esi', 'siy', 'iyah', 'eyza', 'kari', 'avi', 'esi', 'siy']\n",
            "['iyah', 'eyza', 'kari', 'avi', 'esi', 'siy', 'iyah', 'eyza', 'kari', 'avi', 'esi', 'siy']\n",
            "['iyah', 'eyza', 'kari', 'avi', 'esi', 'siy', 'iyah', 'eyza', 'kari', 'avi', 'esi', 'siy']\n",
            "['iyah', 'eyza', 'kari', 'avi', 'esi', 'siy', 'iyah', 'eyza', 'kari', 'avi', 'esi', 'siy']\n",
            "['iyah', 'eyza', 'kari', 'avi', 'esi', 'siy', 'iyah', 'eyza', 'kari', 'avi', 'esi', 'siy']\n",
            "['iyah', 'eyza', 'kari', 'avi', 'esi', 'siy', 'iyah', 'eyza', 'kari', 'avi', 'esi', 'siy']\n",
            "{'eyza', 'siy', 'iyah', 'avi', 'esi', 'kari'}\n",
            "{'eyza', 'siy', 'iyah', 'avi', 'esi', 'kari'}\n",
            "{'eyza', 'siy', 'iyah', 'avi', 'esi', 'kari'}\n",
            "{'eyza', 'siy', 'iyah', 'avi', 'esi', 'kari'}\n",
            "{'eyza', 'siy', 'iyah', 'avi', 'esi', 'kari'}\n",
            "{'eyza', 'siy', 'iyah', 'avi', 'esi', 'kari'}\n",
            "('iyah', 'eyza', 'kari', 'avi', 'esi', 'siy', 'iyah', 'eyza', 'kari', 'avi', 'esi', 'siy')\n",
            "('iyah', 'eyza', 'kari', 'avi', 'esi', 'siy', 'iyah', 'eyza', 'kari', 'avi', 'esi', 'siy')\n",
            "('iyah', 'eyza', 'kari', 'avi', 'esi', 'siy', 'iyah', 'eyza', 'kari', 'avi', 'esi', 'siy')\n",
            "('iyah', 'eyza', 'kari', 'avi', 'esi', 'siy', 'iyah', 'eyza', 'kari', 'avi', 'esi', 'siy')\n",
            "('iyah', 'eyza', 'kari', 'avi', 'esi', 'siy', 'iyah', 'eyza', 'kari', 'avi', 'esi', 'siy')\n",
            "('iyah', 'eyza', 'kari', 'avi', 'esi', 'siy', 'iyah', 'eyza', 'kari', 'avi', 'esi', 'siy')\n",
            "('iyah', 'eyza', 'kari', 'avi', 'esi', 'siy', 'iyah', 'eyza', 'kari', 'avi', 'esi', 'siy')\n",
            "('iyah', 'eyza', 'kari', 'avi', 'esi', 'siy', 'iyah', 'eyza', 'kari', 'avi', 'esi', 'siy')\n",
            "('iyah', 'eyza', 'kari', 'avi', 'esi', 'siy', 'iyah', 'eyza', 'kari', 'avi', 'esi', 'siy')\n",
            "('iyah', 'eyza', 'kari', 'avi', 'esi', 'siy', 'iyah', 'eyza', 'kari', 'avi', 'esi', 'siy')\n",
            "('iyah', 'eyza', 'kari', 'avi', 'esi', 'siy', 'iyah', 'eyza', 'kari', 'avi', 'esi', 'siy')\n",
            "('iyah', 'eyza', 'kari', 'avi', 'esi', 'siy', 'iyah', 'eyza', 'kari', 'avi', 'esi', 'siy')\n"
          ]
        }
      ]
    },
    {
      "cell_type": "code",
      "source": [
        "sete = {\"iyah\",\"eyza\",\"kari\",\"avi\",\"esi\",\"siy\",\"iyah\",\"eyza\",\"kari\",\"avi\",\"esi\",\"siy\"}\n",
        "sete.add(\"limoni\")\n",
        "print(sete)\n",
        "sete.remove(\"eyza\")# remove yerine discard da fonksiyon olarak kullanilabilir\n",
        "print(sete)"
      ],
      "metadata": {
        "colab": {
          "base_uri": "https://localhost:8080/"
        },
        "id": "3OAUm2Di7qUh",
        "outputId": "fa8a3fe6-5559-44bb-c7c1-37674b9b0c57"
      },
      "execution_count": 45,
      "outputs": [
        {
          "output_type": "stream",
          "name": "stdout",
          "text": [
            "{'eyza', 'siy', 'limoni', 'iyah', 'avi', 'esi', 'kari'}\n",
            "{'siy', 'limoni', 'iyah', 'avi', 'esi', 'kari'}\n"
          ]
        }
      ]
    },
    {
      "cell_type": "code",
      "source": [
        "#listeden birden fazla olan elemandan sadece ilk rasladigini cikarir digerine dokunmaz.\n",
        "sete =[\"iyah\",\"eyza\",\"kari\",\"avi\",\"esi\",\"siy\",\"iyah\",\"eyza\",\"kari\",\"avi\",\"esi\",\"siy\"]\n",
        "#sete.add(\"limoni\")\n",
        "#print(sete)\n",
        "sete.remove(\"eyza\")\n",
        "print(sete)"
      ],
      "metadata": {
        "colab": {
          "base_uri": "https://localhost:8080/"
        },
        "id": "jAQ5OoSS8McE",
        "outputId": "95d8404f-8d9d-40fc-e3ba-dcad77c33e5d"
      },
      "execution_count": 48,
      "outputs": [
        {
          "output_type": "stream",
          "name": "stdout",
          "text": [
            "['iyah', 'kari', 'avi', 'esi', 'siy', 'iyah', 'eyza', 'kari', 'avi', 'esi', 'siy']\n"
          ]
        }
      ]
    },
    {
      "cell_type": "code",
      "source": [
        "sete =(\"iyah\",\"eyza\",\"kari\",\"avi\",\"esi\",\"siy\",\"iyah\",\"eyza\",\"kari\",\"avi\",\"esi\",\"siy\")\n",
        "#tupil.add(\"limoni\")\n",
        "#print(sete)\n",
        "sete.remove(\"eyza\")# remove fonksiyonu tupple da calismiyor cunku tuple a eleman ekleyip cikaramayiz.\n",
        "print(sete)"
      ],
      "metadata": {
        "colab": {
          "base_uri": "https://localhost:8080/",
          "height": 229
        },
        "id": "u62pzwDe8-fF",
        "outputId": "84d7a399-9faa-4af7-dcee-628b755b01bf"
      },
      "execution_count": 50,
      "outputs": [
        {
          "output_type": "error",
          "ename": "AttributeError",
          "evalue": "ignored",
          "traceback": [
            "\u001b[0;31m---------------------------------------------------------------------------\u001b[0m",
            "\u001b[0;31mAttributeError\u001b[0m                            Traceback (most recent call last)",
            "\u001b[0;32m<ipython-input-50-6fff4a47bfab>\u001b[0m in \u001b[0;36m<module>\u001b[0;34m()\u001b[0m\n\u001b[1;32m      2\u001b[0m \u001b[0;31m#tupil.add(\"limoni\")\u001b[0m\u001b[0;34m\u001b[0m\u001b[0;34m\u001b[0m\u001b[0;34m\u001b[0m\u001b[0m\n\u001b[1;32m      3\u001b[0m \u001b[0;31m#print(sete)\u001b[0m\u001b[0;34m\u001b[0m\u001b[0;34m\u001b[0m\u001b[0;34m\u001b[0m\u001b[0m\n\u001b[0;32m----> 4\u001b[0;31m \u001b[0msete\u001b[0m\u001b[0;34m.\u001b[0m\u001b[0mremove\u001b[0m\u001b[0;34m(\u001b[0m\u001b[0;34m\"eyza\"\u001b[0m\u001b[0;34m)\u001b[0m\u001b[0;34m\u001b[0m\u001b[0;34m\u001b[0m\u001b[0m\n\u001b[0m\u001b[1;32m      5\u001b[0m \u001b[0mprint\u001b[0m\u001b[0;34m(\u001b[0m\u001b[0msete\u001b[0m\u001b[0;34m)\u001b[0m\u001b[0;34m\u001b[0m\u001b[0;34m\u001b[0m\u001b[0m\n",
            "\u001b[0;31mAttributeError\u001b[0m: 'tuple' object has no attribute 'remove'"
          ]
        }
      ]
    },
    {
      "cell_type": "code",
      "source": [
        ""
      ],
      "metadata": {
        "id": "0Zbj0MnG8eoL"
      },
      "execution_count": null,
      "outputs": []
    }
  ]
}