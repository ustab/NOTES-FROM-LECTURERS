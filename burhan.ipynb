{
  "cells": [
    {
      "cell_type": "markdown",
      "metadata": {
        "id": "view-in-github",
        "colab_type": "text"
      },
      "source": [
        "<a href=\"https://colab.research.google.com/github/ustab/NOTES-FROM-LECTURERS/blob/main/burhan.ipynb\" target=\"_parent\"><img src=\"https://colab.research.google.com/assets/colab-badge.svg\" alt=\"Open In Colab\"/></a>"
      ]
    },
    {
      "cell_type": "code",
      "execution_count": null,
      "metadata": {
        "colab": {
          "base_uri": "https://localhost:8080/"
        },
        "id": "Gvn2AzE5wNTo",
        "outputId": "2d385c84-571a-4812-c60c-b0c46f655d87"
      },
      "outputs": [
        {
          "output_type": "stream",
          "name": "stdout",
          "text": [
            "hello world\n"
          ]
        }
      ],
      "source": [
        "print(\"hello world\")\n"
      ]
    },
    {
      "cell_type": "code",
      "source": [
        "isim=['ahmet','ali','meryem','zeynep']\n",
        "yas=['18','21','23','25']\n",
        "il=['istanbul','ankara','izmir','adana']\n",
        "\n",
        "dosya=open(\"tablo.csv\",\"a\", encoding=\"UTF-8\")\n",
        "for i in range(4):\n",
        "    dosya.write(isim[i] + \"  \" +yas[i]+ \"  \" +il[i]+\"\\n\")\n",
        "dosya.close()\n"
      ],
      "metadata": {
        "id": "UHmtVPvm0BFz"
      },
      "execution_count": 1,
      "outputs": []
    },
    {
      "cell_type": "markdown",
      "metadata": {
        "id": "44HRNaJn3L2y"
      },
      "source": [
        ""
      ]
    },
    {
      "cell_type": "code",
      "execution_count": null,
      "metadata": {
        "colab": {
          "base_uri": "https://localhost:8080/"
        },
        "id": "TJ_f5H5x3qZu",
        "outputId": "4f6fb13a-1868-4259-ee8f-56a6a05ab739"
      },
      "outputs": [
        {
          "output_type": "stream",
          "name": "stdout",
          "text": [
            "hello world!\n"
          ]
        }
      ],
      "source": [
        "print ('hello world!')"
      ]
    },
    {
      "cell_type": "code",
      "execution_count": null,
      "metadata": {
        "id": "2t3-jjlK3NJ2",
        "colab": {
          "base_uri": "https://localhost:8080/"
        },
        "outputId": "4d75fee7-ae82-4a6f-8851-5d68d8b7fcb2"
      },
      "outputs": [
        {
          "output_type": "stream",
          "name": "stdout",
          "text": [
            "benim adim josef ben sizi cok sevdim sizde huzur var ve daha neler neler var\n",
            "bbbbbbbbbbbbbbbbbbbbbbb\n"
          ]
        }
      ],
      "source": [
        "print(\"\"\"benim adim josef ben sizi cok sevdim sizde huzur var ve daha neler neler var\n",
        "bbbbbbbbbbbbbbbbbbbbbbb\"\"\")"
      ]
    },
    {
      "cell_type": "code",
      "source": [
        "print(41)"
      ],
      "metadata": {
        "colab": {
          "base_uri": "https://localhost:8080/"
        },
        "id": "zV6LTwro5-nz",
        "outputId": "0ba39a41-4545-4bbb-8e29-d73a32609dd0"
      },
      "execution_count": null,
      "outputs": [
        {
          "output_type": "stream",
          "name": "stdout",
          "text": [
            "41\n"
          ]
        }
      ]
    },
    {
      "cell_type": "code",
      "source": [
        "print('''')\n"
      ],
      "metadata": {
        "id": "JjDmW1j27O13"
      },
      "execution_count": null,
      "outputs": []
    },
    {
      "cell_type": "code",
      "source": [
        "print(\"41\")\n",
        "print('\"')\n"
      ],
      "metadata": {
        "id": "WzrMo5In7VhA"
      },
      "execution_count": null,
      "outputs": []
    },
    {
      "cell_type": "code",
      "source": [
        "prin(üyarsan//////////neler)"
      ],
      "metadata": {
        "id": "FXwKv7F_-jSz"
      },
      "execution_count": null,
      "outputs": []
    },
    {
      "cell_type": "code",
      "source": [
        "# bur bir aciklama satiridir"
      ],
      "metadata": {
        "id": "Xd6qyWT1GbkC"
      },
      "execution_count": null,
      "outputs": []
    },
    {
      "cell_type": "code",
      "source": [
        "print('hello world') # bu bir aciklama"
      ],
      "metadata": {
        "colab": {
          "base_uri": "https://localhost:8080/"
        },
        "id": "f7l0NiAEJSVC",
        "outputId": "145e6df0-607d-4873-b1cc-b02c6daf9956"
      },
      "execution_count": null,
      "outputs": [
        {
          "output_type": "stream",
          "name": "stdout",
          "text": [
            "hello world\n"
          ]
        }
      ]
    },
    {
      "cell_type": "code",
      "source": [
        "3+5 # 3 ile besi toplami"
      ],
      "metadata": {
        "colab": {
          "base_uri": "https://localhost:8080/"
        },
        "id": "ieAPL22_JcBD",
        "outputId": "4e5ec599-449b-42c6-f018-e1079e9c0b5d"
      },
      "execution_count": null,
      "outputs": [
        {
          "output_type": "execute_result",
          "data": {
            "text/plain": [
              "8"
            ]
          },
          "metadata": {},
          "execution_count": 31
        }
      ]
    },
    {
      "cell_type": "code",
      "source": [
        "kapi=3\n",
        "masa=3.20\n",
        "bilgisayar=45\n",
        "print(kapi, masa, bilgisayar)"
      ],
      "metadata": {
        "colab": {
          "base_uri": "https://localhost:8080/"
        },
        "id": "wvb5EcPSKY9i",
        "outputId": "604a6b59-41b0-47d8-a58c-4935639590e7"
      },
      "execution_count": null,
      "outputs": [
        {
          "output_type": "stream",
          "name": "stdout",
          "text": [
            "3 3.2 45\n"
          ]
        }
      ]
    },
    {
      "cell_type": "markdown",
      "source": [
        ""
      ],
      "metadata": {
        "id": "BAI5zP1k0W0U"
      }
    },
    {
      "cell_type": "code",
      "source": [
        "\"\"\"DOSYAYA YAZMA\"\"\"\n",
        "dosya=open(\"metin.csv\", \"a\")\n",
        "a=\"BIR METIN DAHA\"\n",
        "dosya.write(\"yeni bir metin\"+\" \"+a)\n",
        "dosya.close()"
      ],
      "metadata": {
        "id": "Apx0qgn1PPn1"
      },
      "execution_count": 3,
      "outputs": []
    },
    {
      "cell_type": "markdown",
      "source": [
        "TABLO YAPMA"
      ],
      "metadata": {
        "id": "vlfY6gns1Rsd"
      }
    },
    {
      "cell_type": "code",
      "source": [
        "isim=['ahmet','ali','meryem','zeynep']\n",
        "yas=['18','21','23','25']\n",
        "il=['istanbul','ankara','izmir','adana']\n",
        "\n",
        "dosya=open(\"tablo.csv\",\"a\", encoding=\"UTF-8\")\n",
        "for i in range(4):\n",
        "    dosya.write(isim[i] + \"  \" +yas[i]+ \"  \" +il[i]+\"\\n\")\n",
        "dosya.close()"
      ],
      "metadata": {
        "id": "pJXqHTqJ1VMN"
      },
      "execution_count": 6,
      "outputs": []
    },
    {
      "cell_type": "markdown",
      "source": [
        "TABLO OKUMA"
      ],
      "metadata": {
        "id": "vgV73uuv1aqL"
      }
    },
    {
      "cell_type": "code",
      "source": [
        "dosya=open(\"tablo.csv\",encoding=\"UTF-8\")\n",
        "tablo=[]\n",
        "satir=[]\n",
        "for satir in dosya:\n",
        "  satir=satir.split()\n",
        "  print(satir)\n",
        "dosya.close()"
      ],
      "metadata": {
        "colab": {
          "base_uri": "https://localhost:8080/"
        },
        "id": "gBeUgQlp1PbW",
        "outputId": "a8be41f2-adea-45fd-f144-ef5f8266745f"
      },
      "execution_count": 18,
      "outputs": [
        {
          "output_type": "stream",
          "name": "stdout",
          "text": [
            "['ahmet', '18', 'istanbul']\n",
            "['ali', '21', 'ankara']\n",
            "['meryem', '23', 'izmir']\n",
            "['zeynep', '25', 'adana']\n",
            "['ahmet', '18', 'istanbul']\n",
            "['ali', '21', 'ankara']\n",
            "['meryem', '23', 'izmir']\n",
            "['zeynep', '25', 'adana']\n",
            "['ahmet', '18', 'istanbul']\n",
            "['ali', '21', 'ankara']\n",
            "['meryem', '23', 'izmir']\n",
            "['zeynep', '25', 'adana']\n"
          ]
        }
      ]
    },
    {
      "cell_type": "markdown",
      "source": [
        "iki boyutlu liste yapalim"
      ],
      "metadata": {
        "id": "zx8vUx5S5UGQ"
      }
    },
    {
      "cell_type": "code",
      "source": [
        "dosya=open(\"tablo.csv\",encoding=\"UTF-8\")\n",
        "tablo=[]\n",
        "satir=[]\n",
        "for satir in dosya:\n",
        "  satir=satir.split()\n",
        "  tablo.append(satir)\n",
        "print(tablo)\n",
        "dosya.close()"
      ],
      "metadata": {
        "colab": {
          "base_uri": "https://localhost:8080/"
        },
        "id": "pKbbKwnj5RYc",
        "outputId": "0f19e823-b91d-409e-8872-f06cbcfa7efd"
      },
      "execution_count": 20,
      "outputs": [
        {
          "output_type": "stream",
          "name": "stdout",
          "text": [
            "[['ahmet', '18', 'istanbul'], ['ali', '21', 'ankara'], ['meryem', '23', 'izmir'], ['zeynep', '25', 'adana'], ['ahmet', '18', 'istanbul'], ['ali', '21', 'ankara'], ['meryem', '23', 'izmir'], ['zeynep', '25', 'adana'], ['ahmet', '18', 'istanbul'], ['ali', '21', 'ankara'], ['meryem', '23', 'izmir'], ['zeynep', '25', 'adana']]\n"
          ]
        }
      ]
    },
    {
      "cell_type": "markdown",
      "source": [
        "sadece yas bilgilerini okuyalim"
      ],
      "metadata": {
        "id": "QO8_RkiU6T_p"
      }
    },
    {
      "cell_type": "code",
      "source": [
        " dosya=open(\"tablo.csv\",encoding=\"UTF-8\")\n",
        "tablo=[]\n",
        "satir=[]\n",
        "for satir in dosya:\n",
        "  satir=satir.split()\n",
        "  tablo.append(satir)\n",
        "yas=[]\n",
        "for i in tablo:\n",
        "     yas.append(i[1])\n",
        "print(yas)\n",
        "dosya.close()"
      ],
      "metadata": {
        "colab": {
          "base_uri": "https://localhost:8080/"
        },
        "id": "p2eS6XD16ED8",
        "outputId": "b9dc6b4d-a863-4596-a236-6a6025dcb7e3"
      },
      "execution_count": 35,
      "outputs": [
        {
          "output_type": "stream",
          "name": "stdout",
          "text": [
            "['18', '21', '23', '25', '18', '21', '23', '25', '18', '21', '23', '25', '18', '21', '23', '25', '18', '21', '23', '25', '18', '21', '23', '25']\n"
          ]
        }
      ]
    },
    {
      "cell_type": "markdown",
      "source": [
        "illeri okumak istersek"
      ],
      "metadata": {
        "id": "lXQGe34b8X1v"
      }
    },
    {
      "cell_type": "code",
      "source": [
        "dosya=open(\"tablo.csv\",encoding=\"UTF-8\")\n",
        "tablo=[]\n",
        "satir=[]\n",
        "for satir in dosya:\n",
        "  satir=satir.split()\n",
        "  tablo.append(satir)\n",
        "#il=[]\n",
        "for i in tablo:\n",
        "     il.append(i[2])#buradaki ikinci index il demek,1 yazarsak yas gelir,\n",
        "     # 0 yazarsak ta isimler gelir. burda yapilan her donguden 2.indexi istiyorum demek yani\n",
        "print(il)\n",
        "dosya.close()"
      ],
      "metadata": {
        "colab": {
          "base_uri": "https://localhost:8080/"
        },
        "id": "MD8nAcYA6Yox",
        "outputId": "efd53a41-9faa-4009-ebdc-6c2cd67344e6"
      },
      "execution_count": 33,
      "outputs": [
        {
          "output_type": "stream",
          "name": "stdout",
          "text": [
            "['istanbul', 'ankara', 'izmir', 'adana', 'istanbul', 'ankara', 'izmir', 'adana', 'istanbul', 'ankara', 'izmir', 'adana', 'istanbul', 'ankara', 'izmir', 'adana', 'istanbul', 'ankara', 'izmir', 'adana', 'istanbul', 'ankara', 'izmir', 'adana', 'istanbul', 'ankara', 'izmir', 'adana', 'istanbul', 'ankara', 'izmir', 'adana', 'istanbul', 'ankara', 'izmir', 'adana']\n"
          ]
        }
      ]
    },
    {
      "cell_type": "code",
      "source": [
        "dosya=open(\"tablo.csv\",encoding=\"UTF-8\")\n",
        "tablo=[]\n",
        "satir=[]\n",
        "for satir in dosya:\n",
        "  satir=satir.split()\n",
        "  tablo.append(satir)\n",
        "il=[]\n",
        "for i in tablo:\n",
        "     il.append(i[2])#buradaki ikinci index il demek,1 yazarsak yas gelir,\n",
        "     # 0 yazarsak ta isimler gelir. burda yapilan her donguden 2.indexi istiyorum demek yani\n",
        "print(il)\n",
        "dosya.close()"
      ],
      "metadata": {
        "colab": {
          "base_uri": "https://localhost:8080/"
        },
        "id": "Iz5OVtRm-AQd",
        "outputId": "0bf76120-6ff7-4e92-ad29-4dc76c9b5181"
      },
      "execution_count": 34,
      "outputs": [
        {
          "output_type": "stream",
          "name": "stdout",
          "text": [
            "['istanbul', 'ankara', 'izmir', 'adana', 'istanbul', 'ankara', 'izmir', 'adana', 'istanbul', 'ankara', 'izmir', 'adana', 'istanbul', 'ankara', 'izmir', 'adana', 'istanbul', 'ankara', 'izmir', 'adana', 'istanbul', 'ankara', 'izmir', 'adana', 'istanbul', 'ankara', 'izmir', 'adana', 'istanbul', 'ankara', 'izmir', 'adana', 'istanbul', 'ankara', 'izmir', 'adana', 'istanbul', 'ankara', 'izmir', 'adana', 'istanbul', 'ankara', 'izmir', 'adana', 'istanbul', 'ankara', 'izmir', 'adana']\n"
          ]
        }
      ]
    },
    {
      "cell_type": "code",
      "source": [
        "dosya=open(\"tablo.csv\",encoding=\"UTF-8\")\n",
        "tablo=[]\n",
        "satir=[]\n",
        "for satir in dosya:\n",
        "  satir=satir.split()\n",
        "  tablo.append(satir)\n",
        "print(tablo)\n",
        "dosya.close()"
      ],
      "metadata": {
        "colab": {
          "base_uri": "https://localhost:8080/"
        },
        "id": "TBOm4i_79zcP",
        "outputId": "7c59c1c2-089d-4f66-d179-7d13c83e7a54"
      },
      "execution_count": 50,
      "outputs": [
        {
          "output_type": "stream",
          "name": "stdout",
          "text": [
            "[['ahmet', '18', 'istanbul'], ['ali', '21', 'ankara'], ['meryem', '23', 'izmir'], ['zeynep', '25', 'adana'], ['ahmet', '18', 'istanbul'], ['ali', '21', 'ankara'], ['meryem', '23', 'izmir'], ['zeynep', '25', 'adana'], ['ahmet', '18', 'istanbul'], ['ali', '21', 'ankara'], ['meryem', '23', 'izmir'], ['zeynep', '25', 'adana']]\n"
          ]
        }
      ]
    },
    {
      "cell_type": "code",
      "source": [
        "dosya=open(\"tablo.csv\",encoding=\"UTF-8\")\n",
        "tablo=[]\n",
        "satir=[]\n",
        "for satir in dosya:\n",
        "  satir=satir.split()\n",
        "  tablo.append(satir)\n",
        "print(tablo)\n",
        "dosya.close()"
      ],
      "metadata": {
        "colab": {
          "base_uri": "https://localhost:8080/"
        },
        "id": "Pb9fUXvO_9U7",
        "outputId": "b256d2a5-a5e9-4a07-ae04-1c7d3050468e"
      },
      "execution_count": 42,
      "outputs": [
        {
          "output_type": "stream",
          "name": "stdout",
          "text": [
            "[['ahmet', '18', 'istanbul'], ['ali', '21', 'ankara'], ['meryem', '23', 'izmir'], ['zeynep', '25', 'adana'], ['ahmet', '18', 'istanbul'], ['ali', '21', 'ankara'], ['meryem', '23', 'izmir'], ['zeynep', '25', 'adana'], ['ahmet', '18', 'istanbul'], ['ali', '21', 'ankara'], ['meryem', '23', 'izmir'], ['zeynep', '25', 'adana']]\n"
          ]
        }
      ]
    }
  ],
  "metadata": {
    "colab": {
      "name": "burhan.ipynb",
      "provenance": [],
      "authorship_tag": "ABX9TyPPqoe4oEpTJFMLrVtZK8F+",
      "include_colab_link": true
    },
    "kernelspec": {
      "display_name": "Python 3",
      "name": "python3"
    },
    "language_info": {
      "name": "python"
    }
  },
  "nbformat": 4,
  "nbformat_minor": 0
}